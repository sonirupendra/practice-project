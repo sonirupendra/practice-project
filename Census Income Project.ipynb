{
 "cells": [
  {
   "cell_type": "markdown",
   "id": "74cc10de",
   "metadata": {},
   "source": [
    "#                                Census Income Project"
   ]
  },
  {
   "cell_type": "code",
   "execution_count": 148,
   "id": "803936a5",
   "metadata": {},
   "outputs": [],
   "source": [
    "import pandas as pd\n",
    "import numpy as np\n",
    "import matplotlib.pyplot as plt\n",
    "import seaborn as sns\n",
    "import warnings\n",
    "warnings.filterwarnings('ignore')\n",
    "from sklearn.preprocessing import PowerTransformer"
   ]
  },
  {
   "cell_type": "code",
   "execution_count": 149,
   "id": "5db8fd16",
   "metadata": {},
   "outputs": [
    {
     "data": {
      "text/html": [
       "<div>\n",
       "<style scoped>\n",
       "    .dataframe tbody tr th:only-of-type {\n",
       "        vertical-align: middle;\n",
       "    }\n",
       "\n",
       "    .dataframe tbody tr th {\n",
       "        vertical-align: top;\n",
       "    }\n",
       "\n",
       "    .dataframe thead th {\n",
       "        text-align: right;\n",
       "    }\n",
       "</style>\n",
       "<table border=\"1\" class=\"dataframe\">\n",
       "  <thead>\n",
       "    <tr style=\"text-align: right;\">\n",
       "      <th></th>\n",
       "      <th>Age</th>\n",
       "      <th>Workclass</th>\n",
       "      <th>Fnlwgt</th>\n",
       "      <th>Education</th>\n",
       "      <th>Education_num</th>\n",
       "      <th>Marital_status</th>\n",
       "      <th>Occupation</th>\n",
       "      <th>Relationship</th>\n",
       "      <th>Race</th>\n",
       "      <th>Sex</th>\n",
       "      <th>Capital_gain</th>\n",
       "      <th>Capital_loss</th>\n",
       "      <th>Hours_per_week</th>\n",
       "      <th>Native_country</th>\n",
       "      <th>Income</th>\n",
       "    </tr>\n",
       "  </thead>\n",
       "  <tbody>\n",
       "    <tr>\n",
       "      <th>0</th>\n",
       "      <td>50</td>\n",
       "      <td>Self-emp-not-inc</td>\n",
       "      <td>83311</td>\n",
       "      <td>Bachelors</td>\n",
       "      <td>13</td>\n",
       "      <td>Married-civ-spouse</td>\n",
       "      <td>Exec-managerial</td>\n",
       "      <td>Husband</td>\n",
       "      <td>White</td>\n",
       "      <td>Male</td>\n",
       "      <td>0</td>\n",
       "      <td>0</td>\n",
       "      <td>13</td>\n",
       "      <td>United-States</td>\n",
       "      <td>&lt;=50K</td>\n",
       "    </tr>\n",
       "    <tr>\n",
       "      <th>1</th>\n",
       "      <td>38</td>\n",
       "      <td>Private</td>\n",
       "      <td>215646</td>\n",
       "      <td>HS-grad</td>\n",
       "      <td>9</td>\n",
       "      <td>Divorced</td>\n",
       "      <td>Handlers-cleaners</td>\n",
       "      <td>Not-in-family</td>\n",
       "      <td>White</td>\n",
       "      <td>Male</td>\n",
       "      <td>0</td>\n",
       "      <td>0</td>\n",
       "      <td>40</td>\n",
       "      <td>United-States</td>\n",
       "      <td>&lt;=50K</td>\n",
       "    </tr>\n",
       "    <tr>\n",
       "      <th>2</th>\n",
       "      <td>53</td>\n",
       "      <td>Private</td>\n",
       "      <td>234721</td>\n",
       "      <td>11th</td>\n",
       "      <td>7</td>\n",
       "      <td>Married-civ-spouse</td>\n",
       "      <td>Handlers-cleaners</td>\n",
       "      <td>Husband</td>\n",
       "      <td>Black</td>\n",
       "      <td>Male</td>\n",
       "      <td>0</td>\n",
       "      <td>0</td>\n",
       "      <td>40</td>\n",
       "      <td>United-States</td>\n",
       "      <td>&lt;=50K</td>\n",
       "    </tr>\n",
       "    <tr>\n",
       "      <th>3</th>\n",
       "      <td>28</td>\n",
       "      <td>Private</td>\n",
       "      <td>338409</td>\n",
       "      <td>Bachelors</td>\n",
       "      <td>13</td>\n",
       "      <td>Married-civ-spouse</td>\n",
       "      <td>Prof-specialty</td>\n",
       "      <td>Wife</td>\n",
       "      <td>Black</td>\n",
       "      <td>Female</td>\n",
       "      <td>0</td>\n",
       "      <td>0</td>\n",
       "      <td>40</td>\n",
       "      <td>Cuba</td>\n",
       "      <td>&lt;=50K</td>\n",
       "    </tr>\n",
       "    <tr>\n",
       "      <th>4</th>\n",
       "      <td>37</td>\n",
       "      <td>Private</td>\n",
       "      <td>284582</td>\n",
       "      <td>Masters</td>\n",
       "      <td>14</td>\n",
       "      <td>Married-civ-spouse</td>\n",
       "      <td>Exec-managerial</td>\n",
       "      <td>Wife</td>\n",
       "      <td>White</td>\n",
       "      <td>Female</td>\n",
       "      <td>0</td>\n",
       "      <td>0</td>\n",
       "      <td>40</td>\n",
       "      <td>United-States</td>\n",
       "      <td>&lt;=50K</td>\n",
       "    </tr>\n",
       "    <tr>\n",
       "      <th>5</th>\n",
       "      <td>49</td>\n",
       "      <td>Private</td>\n",
       "      <td>160187</td>\n",
       "      <td>9th</td>\n",
       "      <td>5</td>\n",
       "      <td>Married-spouse-absent</td>\n",
       "      <td>Other-service</td>\n",
       "      <td>Not-in-family</td>\n",
       "      <td>Black</td>\n",
       "      <td>Female</td>\n",
       "      <td>0</td>\n",
       "      <td>0</td>\n",
       "      <td>16</td>\n",
       "      <td>Jamaica</td>\n",
       "      <td>&lt;=50K</td>\n",
       "    </tr>\n",
       "    <tr>\n",
       "      <th>6</th>\n",
       "      <td>52</td>\n",
       "      <td>Self-emp-not-inc</td>\n",
       "      <td>209642</td>\n",
       "      <td>HS-grad</td>\n",
       "      <td>9</td>\n",
       "      <td>Married-civ-spouse</td>\n",
       "      <td>Exec-managerial</td>\n",
       "      <td>Husband</td>\n",
       "      <td>White</td>\n",
       "      <td>Male</td>\n",
       "      <td>0</td>\n",
       "      <td>0</td>\n",
       "      <td>45</td>\n",
       "      <td>United-States</td>\n",
       "      <td>&gt;50K</td>\n",
       "    </tr>\n",
       "    <tr>\n",
       "      <th>7</th>\n",
       "      <td>31</td>\n",
       "      <td>Private</td>\n",
       "      <td>45781</td>\n",
       "      <td>Masters</td>\n",
       "      <td>14</td>\n",
       "      <td>Never-married</td>\n",
       "      <td>Prof-specialty</td>\n",
       "      <td>Not-in-family</td>\n",
       "      <td>White</td>\n",
       "      <td>Female</td>\n",
       "      <td>14084</td>\n",
       "      <td>0</td>\n",
       "      <td>50</td>\n",
       "      <td>United-States</td>\n",
       "      <td>&gt;50K</td>\n",
       "    </tr>\n",
       "    <tr>\n",
       "      <th>8</th>\n",
       "      <td>42</td>\n",
       "      <td>Private</td>\n",
       "      <td>159449</td>\n",
       "      <td>Bachelors</td>\n",
       "      <td>13</td>\n",
       "      <td>Married-civ-spouse</td>\n",
       "      <td>Exec-managerial</td>\n",
       "      <td>Husband</td>\n",
       "      <td>White</td>\n",
       "      <td>Male</td>\n",
       "      <td>5178</td>\n",
       "      <td>0</td>\n",
       "      <td>40</td>\n",
       "      <td>United-States</td>\n",
       "      <td>&gt;50K</td>\n",
       "    </tr>\n",
       "    <tr>\n",
       "      <th>9</th>\n",
       "      <td>37</td>\n",
       "      <td>Private</td>\n",
       "      <td>280464</td>\n",
       "      <td>Some-college</td>\n",
       "      <td>10</td>\n",
       "      <td>Married-civ-spouse</td>\n",
       "      <td>Exec-managerial</td>\n",
       "      <td>Husband</td>\n",
       "      <td>Black</td>\n",
       "      <td>Male</td>\n",
       "      <td>0</td>\n",
       "      <td>0</td>\n",
       "      <td>80</td>\n",
       "      <td>United-States</td>\n",
       "      <td>&gt;50K</td>\n",
       "    </tr>\n",
       "    <tr>\n",
       "      <th>10</th>\n",
       "      <td>30</td>\n",
       "      <td>State-gov</td>\n",
       "      <td>141297</td>\n",
       "      <td>Bachelors</td>\n",
       "      <td>13</td>\n",
       "      <td>Married-civ-spouse</td>\n",
       "      <td>Prof-specialty</td>\n",
       "      <td>Husband</td>\n",
       "      <td>Asian-Pac-Islander</td>\n",
       "      <td>Male</td>\n",
       "      <td>0</td>\n",
       "      <td>0</td>\n",
       "      <td>40</td>\n",
       "      <td>India</td>\n",
       "      <td>&gt;50K</td>\n",
       "    </tr>\n",
       "    <tr>\n",
       "      <th>11</th>\n",
       "      <td>23</td>\n",
       "      <td>Private</td>\n",
       "      <td>122272</td>\n",
       "      <td>Bachelors</td>\n",
       "      <td>13</td>\n",
       "      <td>Never-married</td>\n",
       "      <td>Adm-clerical</td>\n",
       "      <td>Own-child</td>\n",
       "      <td>White</td>\n",
       "      <td>Female</td>\n",
       "      <td>0</td>\n",
       "      <td>0</td>\n",
       "      <td>30</td>\n",
       "      <td>United-States</td>\n",
       "      <td>&lt;=50K</td>\n",
       "    </tr>\n",
       "    <tr>\n",
       "      <th>12</th>\n",
       "      <td>32</td>\n",
       "      <td>Private</td>\n",
       "      <td>205019</td>\n",
       "      <td>Assoc-acdm</td>\n",
       "      <td>12</td>\n",
       "      <td>Never-married</td>\n",
       "      <td>Sales</td>\n",
       "      <td>Not-in-family</td>\n",
       "      <td>Black</td>\n",
       "      <td>Male</td>\n",
       "      <td>0</td>\n",
       "      <td>0</td>\n",
       "      <td>50</td>\n",
       "      <td>United-States</td>\n",
       "      <td>&lt;=50K</td>\n",
       "    </tr>\n",
       "    <tr>\n",
       "      <th>13</th>\n",
       "      <td>40</td>\n",
       "      <td>Private</td>\n",
       "      <td>121772</td>\n",
       "      <td>Assoc-voc</td>\n",
       "      <td>11</td>\n",
       "      <td>Married-civ-spouse</td>\n",
       "      <td>Craft-repair</td>\n",
       "      <td>Husband</td>\n",
       "      <td>Asian-Pac-Islander</td>\n",
       "      <td>Male</td>\n",
       "      <td>0</td>\n",
       "      <td>0</td>\n",
       "      <td>40</td>\n",
       "      <td>?</td>\n",
       "      <td>&gt;50K</td>\n",
       "    </tr>\n",
       "    <tr>\n",
       "      <th>14</th>\n",
       "      <td>34</td>\n",
       "      <td>Private</td>\n",
       "      <td>245487</td>\n",
       "      <td>7th-8th</td>\n",
       "      <td>4</td>\n",
       "      <td>Married-civ-spouse</td>\n",
       "      <td>Transport-moving</td>\n",
       "      <td>Husband</td>\n",
       "      <td>Amer-Indian-Eskimo</td>\n",
       "      <td>Male</td>\n",
       "      <td>0</td>\n",
       "      <td>0</td>\n",
       "      <td>45</td>\n",
       "      <td>Mexico</td>\n",
       "      <td>&lt;=50K</td>\n",
       "    </tr>\n",
       "  </tbody>\n",
       "</table>\n",
       "</div>"
      ],
      "text/plain": [
       "    Age          Workclass  Fnlwgt      Education  Education_num  \\\n",
       "0    50   Self-emp-not-inc   83311      Bachelors             13   \n",
       "1    38            Private  215646        HS-grad              9   \n",
       "2    53            Private  234721           11th              7   \n",
       "3    28            Private  338409      Bachelors             13   \n",
       "4    37            Private  284582        Masters             14   \n",
       "5    49            Private  160187            9th              5   \n",
       "6    52   Self-emp-not-inc  209642        HS-grad              9   \n",
       "7    31            Private   45781        Masters             14   \n",
       "8    42            Private  159449      Bachelors             13   \n",
       "9    37            Private  280464   Some-college             10   \n",
       "10   30          State-gov  141297      Bachelors             13   \n",
       "11   23            Private  122272      Bachelors             13   \n",
       "12   32            Private  205019     Assoc-acdm             12   \n",
       "13   40            Private  121772      Assoc-voc             11   \n",
       "14   34            Private  245487        7th-8th              4   \n",
       "\n",
       "            Marital_status          Occupation    Relationship  \\\n",
       "0       Married-civ-spouse     Exec-managerial         Husband   \n",
       "1                 Divorced   Handlers-cleaners   Not-in-family   \n",
       "2       Married-civ-spouse   Handlers-cleaners         Husband   \n",
       "3       Married-civ-spouse      Prof-specialty            Wife   \n",
       "4       Married-civ-spouse     Exec-managerial            Wife   \n",
       "5    Married-spouse-absent       Other-service   Not-in-family   \n",
       "6       Married-civ-spouse     Exec-managerial         Husband   \n",
       "7            Never-married      Prof-specialty   Not-in-family   \n",
       "8       Married-civ-spouse     Exec-managerial         Husband   \n",
       "9       Married-civ-spouse     Exec-managerial         Husband   \n",
       "10      Married-civ-spouse      Prof-specialty         Husband   \n",
       "11           Never-married        Adm-clerical       Own-child   \n",
       "12           Never-married               Sales   Not-in-family   \n",
       "13      Married-civ-spouse        Craft-repair         Husband   \n",
       "14      Married-civ-spouse    Transport-moving         Husband   \n",
       "\n",
       "                   Race      Sex  Capital_gain  Capital_loss  Hours_per_week  \\\n",
       "0                 White     Male             0             0              13   \n",
       "1                 White     Male             0             0              40   \n",
       "2                 Black     Male             0             0              40   \n",
       "3                 Black   Female             0             0              40   \n",
       "4                 White   Female             0             0              40   \n",
       "5                 Black   Female             0             0              16   \n",
       "6                 White     Male             0             0              45   \n",
       "7                 White   Female         14084             0              50   \n",
       "8                 White     Male          5178             0              40   \n",
       "9                 Black     Male             0             0              80   \n",
       "10   Asian-Pac-Islander     Male             0             0              40   \n",
       "11                White   Female             0             0              30   \n",
       "12                Black     Male             0             0              50   \n",
       "13   Asian-Pac-Islander     Male             0             0              40   \n",
       "14   Amer-Indian-Eskimo     Male             0             0              45   \n",
       "\n",
       "    Native_country  Income  \n",
       "0    United-States   <=50K  \n",
       "1    United-States   <=50K  \n",
       "2    United-States   <=50K  \n",
       "3             Cuba   <=50K  \n",
       "4    United-States   <=50K  \n",
       "5          Jamaica   <=50K  \n",
       "6    United-States    >50K  \n",
       "7    United-States    >50K  \n",
       "8    United-States    >50K  \n",
       "9    United-States    >50K  \n",
       "10           India    >50K  \n",
       "11   United-States   <=50K  \n",
       "12   United-States   <=50K  \n",
       "13               ?    >50K  \n",
       "14          Mexico   <=50K  "
      ]
     },
     "execution_count": 149,
     "metadata": {},
     "output_type": "execute_result"
    }
   ],
   "source": [
    "#dala uploadig\n",
    "\n",
    "\n",
    "\n",
    "census_income_df = pd.read_csv('census_income.csv')\n",
    "census_income_df.head(15)"
   ]
  },
  {
   "cell_type": "code",
   "execution_count": 150,
   "id": "46153eac",
   "metadata": {},
   "outputs": [
    {
     "data": {
      "text/html": [
       "<div>\n",
       "<style scoped>\n",
       "    .dataframe tbody tr th:only-of-type {\n",
       "        vertical-align: middle;\n",
       "    }\n",
       "\n",
       "    .dataframe tbody tr th {\n",
       "        vertical-align: top;\n",
       "    }\n",
       "\n",
       "    .dataframe thead th {\n",
       "        text-align: right;\n",
       "    }\n",
       "</style>\n",
       "<table border=\"1\" class=\"dataframe\">\n",
       "  <thead>\n",
       "    <tr style=\"text-align: right;\">\n",
       "      <th></th>\n",
       "      <th>Age</th>\n",
       "      <th>Fnlwgt</th>\n",
       "      <th>Education_num</th>\n",
       "      <th>Capital_gain</th>\n",
       "      <th>Capital_loss</th>\n",
       "      <th>Hours_per_week</th>\n",
       "    </tr>\n",
       "  </thead>\n",
       "  <tbody>\n",
       "    <tr>\n",
       "      <th>count</th>\n",
       "      <td>32560.000000</td>\n",
       "      <td>3.256000e+04</td>\n",
       "      <td>32560.000000</td>\n",
       "      <td>32560.000000</td>\n",
       "      <td>32560.000000</td>\n",
       "      <td>32560.000000</td>\n",
       "    </tr>\n",
       "    <tr>\n",
       "      <th>mean</th>\n",
       "      <td>38.581634</td>\n",
       "      <td>1.897818e+05</td>\n",
       "      <td>10.080590</td>\n",
       "      <td>1077.615172</td>\n",
       "      <td>87.306511</td>\n",
       "      <td>40.437469</td>\n",
       "    </tr>\n",
       "    <tr>\n",
       "      <th>std</th>\n",
       "      <td>13.640642</td>\n",
       "      <td>1.055498e+05</td>\n",
       "      <td>2.572709</td>\n",
       "      <td>7385.402999</td>\n",
       "      <td>402.966116</td>\n",
       "      <td>12.347618</td>\n",
       "    </tr>\n",
       "    <tr>\n",
       "      <th>min</th>\n",
       "      <td>17.000000</td>\n",
       "      <td>1.228500e+04</td>\n",
       "      <td>1.000000</td>\n",
       "      <td>0.000000</td>\n",
       "      <td>0.000000</td>\n",
       "      <td>1.000000</td>\n",
       "    </tr>\n",
       "    <tr>\n",
       "      <th>25%</th>\n",
       "      <td>28.000000</td>\n",
       "      <td>1.178315e+05</td>\n",
       "      <td>9.000000</td>\n",
       "      <td>0.000000</td>\n",
       "      <td>0.000000</td>\n",
       "      <td>40.000000</td>\n",
       "    </tr>\n",
       "    <tr>\n",
       "      <th>50%</th>\n",
       "      <td>37.000000</td>\n",
       "      <td>1.783630e+05</td>\n",
       "      <td>10.000000</td>\n",
       "      <td>0.000000</td>\n",
       "      <td>0.000000</td>\n",
       "      <td>40.000000</td>\n",
       "    </tr>\n",
       "    <tr>\n",
       "      <th>75%</th>\n",
       "      <td>48.000000</td>\n",
       "      <td>2.370545e+05</td>\n",
       "      <td>12.000000</td>\n",
       "      <td>0.000000</td>\n",
       "      <td>0.000000</td>\n",
       "      <td>45.000000</td>\n",
       "    </tr>\n",
       "    <tr>\n",
       "      <th>max</th>\n",
       "      <td>90.000000</td>\n",
       "      <td>1.484705e+06</td>\n",
       "      <td>16.000000</td>\n",
       "      <td>99999.000000</td>\n",
       "      <td>4356.000000</td>\n",
       "      <td>99.000000</td>\n",
       "    </tr>\n",
       "  </tbody>\n",
       "</table>\n",
       "</div>"
      ],
      "text/plain": [
       "                Age        Fnlwgt  Education_num  Capital_gain  Capital_loss  \\\n",
       "count  32560.000000  3.256000e+04   32560.000000  32560.000000  32560.000000   \n",
       "mean      38.581634  1.897818e+05      10.080590   1077.615172     87.306511   \n",
       "std       13.640642  1.055498e+05       2.572709   7385.402999    402.966116   \n",
       "min       17.000000  1.228500e+04       1.000000      0.000000      0.000000   \n",
       "25%       28.000000  1.178315e+05       9.000000      0.000000      0.000000   \n",
       "50%       37.000000  1.783630e+05      10.000000      0.000000      0.000000   \n",
       "75%       48.000000  2.370545e+05      12.000000      0.000000      0.000000   \n",
       "max       90.000000  1.484705e+06      16.000000  99999.000000   4356.000000   \n",
       "\n",
       "       Hours_per_week  \n",
       "count    32560.000000  \n",
       "mean        40.437469  \n",
       "std         12.347618  \n",
       "min          1.000000  \n",
       "25%         40.000000  \n",
       "50%         40.000000  \n",
       "75%         45.000000  \n",
       "max         99.000000  "
      ]
     },
     "execution_count": 150,
     "metadata": {},
     "output_type": "execute_result"
    }
   ],
   "source": [
    "#data describtions\n",
    "\n",
    "census_income_df.describe()"
   ]
  },
  {
   "cell_type": "code",
   "execution_count": 151,
   "id": "c5cfb25b",
   "metadata": {},
   "outputs": [
    {
     "name": "stdout",
     "output_type": "stream",
     "text": [
      "Shape of this data is :\n",
      " (32560, 15)\n"
     ]
    }
   ],
   "source": [
    "print(\"Shape of this data is :\\n\",census_income_df.shape)"
   ]
  },
  {
   "cell_type": "code",
   "execution_count": 152,
   "id": "bf58ce24",
   "metadata": {},
   "outputs": [
    {
     "data": {
      "text/plain": [
       "Age               0\n",
       "Workclass         0\n",
       "Fnlwgt            0\n",
       "Education         0\n",
       "Education_num     0\n",
       "Marital_status    0\n",
       "Occupation        0\n",
       "Relationship      0\n",
       "Race              0\n",
       "Sex               0\n",
       "Capital_gain      0\n",
       "Capital_loss      0\n",
       "Hours_per_week    0\n",
       "Native_country    0\n",
       "Income            0\n",
       "dtype: int64"
      ]
     },
     "execution_count": 152,
     "metadata": {},
     "output_type": "execute_result"
    }
   ],
   "source": [
    "#chacking null values.\n",
    "\n",
    "\n",
    "census_income_df.isna().sum()"
   ]
  },
  {
   "cell_type": "markdown",
   "id": "231311cf",
   "metadata": {},
   "source": [
    "#### Information about all columns."
   ]
  },
  {
   "cell_type": "code",
   "execution_count": 153,
   "id": "49030f3f",
   "metadata": {},
   "outputs": [
    {
     "data": {
      "image/png": "[encoded data removed]",
      "text/plain": [
       "<Figure size 1800x1080 with 1 Axes>"
      ]
     },
     "metadata": {},
     "output_type": "display_data"
    }
   ],
   "source": [
    "#age\n",
    "\n",
    "plt.figure(figsize=(25,15),facecolor='white')\n",
    "sns.countplot(data=census_income_df,x='Age',hue='Income')\n",
    "plt.show()"
   ]
  },
  {
   "cell_type": "code",
   "execution_count": 154,
   "id": "e6224f9a",
   "metadata": {},
   "outputs": [
    {
     "data": {
      "image/png": "[encoded data removed]",
      "text/plain": [
       "<Figure size 1800x1080 with 1 Axes>"
      ]
     },
     "metadata": {},
     "output_type": "display_data"
    }
   ],
   "source": [
    "#Workclass\n",
    "\n",
    "plt.figure(figsize=(25,15),facecolor='white')\n",
    "sns.countplot(data=census_income_df,x='Workclass',hue='Income')\n",
    "plt.show()"
   ]
  },
  {
   "cell_type": "code",
   "execution_count": 155,
   "id": "9a2ac8f2",
   "metadata": {},
   "outputs": [
    {
     "data": {
      "image/png": "[encoded data removed]",
      "text/plain": [
       "<Figure size 1080x720 with 1 Axes>"
      ]
     },
     "metadata": {},
     "output_type": "display_data"
    }
   ],
   "source": [
    "#Education\n",
    "\n",
    "plt.figure(figsize=(15,10),facecolor='white')\n",
    "sns.countplot(data=census_income_df,x='Education',hue='Income')\n",
    "plt.tight_layout()"
   ]
  },
  {
   "cell_type": "code",
   "execution_count": 156,
   "id": "104c2654",
   "metadata": {},
   "outputs": [
    {
     "data": {
      "image/png": "[encoded data removed]",
      "text/plain": [
       "<Figure size 1080x720 with 1 Axes>"
      ]
     },
     "metadata": {},
     "output_type": "display_data"
    }
   ],
   "source": [
    "#Marital_status\n",
    "\n",
    "plt.figure(figsize=(15,10),facecolor='white')\n",
    "sns.countplot(data=census_income_df,x='Marital_status',hue='Income')\n",
    "plt.tight_layout()"
   ]
  },
  {
   "cell_type": "code",
   "execution_count": 157,
   "id": "82df6d90",
   "metadata": {},
   "outputs": [
    {
     "data": {
      "image/png": "[encoded data removed]",
      "text/plain": [
       "<Figure size 1800x1080 with 1 Axes>"
      ]
     },
     "metadata": {},
     "output_type": "display_data"
    }
   ],
   "source": [
    "#Occupation\n",
    "\n",
    "\n",
    "plt.figure(figsize=(25,15),facecolor='white')\n",
    "sns.countplot(data=census_income_df,x='Occupation',hue='Income')\n",
    "plt.tight_layout()"
   ]
  },
  {
   "cell_type": "code",
   "execution_count": 158,
   "id": "436d977a",
   "metadata": {},
   "outputs": [
    {
     "data": {
      "image/png": "[encoded data removed]",
      "text/plain": [
       "<Figure size 1800x1080 with 1 Axes>"
      ]
     },
     "metadata": {},
     "output_type": "display_data"
    }
   ],
   "source": [
    "#Relationship\n",
    "\n",
    "\n",
    "plt.figure(figsize=(25,15),facecolor='white')\n",
    "sns.countplot(data=census_income_df,x='Relationship',hue='Income')\n",
    "plt.tight_layout()"
   ]
  },
  {
   "cell_type": "code",
   "execution_count": 159,
   "id": "7d10f355",
   "metadata": {},
   "outputs": [
    {
     "data": {
      "image/png": "[encoded data removed]",
      "text/plain": [
       "<Figure size 1800x1080 with 1 Axes>"
      ]
     },
     "metadata": {},
     "output_type": "display_data"
    }
   ],
   "source": [
    "#Race\n",
    "\n",
    "plt.figure(figsize=(25,15),facecolor='white')\n",
    "sns.countplot(data=census_income_df,x=\"Race\",hue='Income')\n",
    "plt.tight_layout()"
   ]
  },
  {
   "cell_type": "code",
   "execution_count": 160,
   "id": "2bbf2d50",
   "metadata": {},
   "outputs": [
    {
     "data": {
      "image/png": "[encoded data removed]",
      "text/plain": [
       "<Figure size 1800x1080 with 1 Axes>"
      ]
     },
     "metadata": {},
     "output_type": "display_data"
    }
   ],
   "source": [
    "#Sex\n",
    "\n",
    "plt.figure(figsize=(25,15),facecolor='white')\n",
    "sns.countplot(data=census_income_df,x=\"Sex\",hue='Income')\n",
    "plt.tight_layout()"
   ]
  },
  {
   "cell_type": "code",
   "execution_count": 161,
   "id": "b514a09d",
   "metadata": {},
   "outputs": [
    {
     "data": {
      "text/plain": [
       " United-States                 29169\n",
       " Mexico                          643\n",
       " ?                               583\n",
       " Philippines                     198\n",
       " Germany                         137\n",
       " Canada                          121\n",
       " Puerto-Rico                     114\n",
       " El-Salvador                     106\n",
       " India                           100\n",
       " Cuba                             95\n",
       " England                          90\n",
       " Jamaica                          81\n",
       " South                            80\n",
       " China                            75\n",
       " Italy                            73\n",
       " Dominican-Republic               70\n",
       " Vietnam                          67\n",
       " Guatemala                        64\n",
       " Japan                            62\n",
       " Poland                           60\n",
       " Columbia                         59\n",
       " Taiwan                           51\n",
       " Haiti                            44\n",
       " Iran                             43\n",
       " Portugal                         37\n",
       " Nicaragua                        34\n",
       " Peru                             31\n",
       " France                           29\n",
       " Greece                           29\n",
       " Ecuador                          28\n",
       " Ireland                          24\n",
       " Hong                             20\n",
       " Cambodia                         19\n",
       " Trinadad&Tobago                  19\n",
       " Laos                             18\n",
       " Thailand                         18\n",
       " Yugoslavia                       16\n",
       " Outlying-US(Guam-USVI-etc)       14\n",
       " Honduras                         13\n",
       " Hungary                          13\n",
       " Scotland                         12\n",
       " Holand-Netherlands                1\n",
       "Name: Native_country, dtype: int64"
      ]
     },
     "execution_count": 161,
     "metadata": {},
     "output_type": "execute_result"
    }
   ],
   "source": [
    "#Native_country\n",
    "\n",
    "census_income_df['Native_country'].value_counts()"
   ]
  },
  {
   "cell_type": "markdown",
   "id": "8359185a",
   "metadata": {},
   "source": [
    "#### we can see that in this column (?) is value. which is not define. so i think that. this type of person native-country not define. so we have to replace ? to Not_ Define."
   ]
  },
  {
   "cell_type": "code",
   "execution_count": 162,
   "id": "eb2198bc",
   "metadata": {},
   "outputs": [],
   "source": [
    "census_income_df['Native_country']=census_income_df['Native_country'].replace({\" ?\":\"NoT_Define\"})"
   ]
  },
  {
   "cell_type": "code",
   "execution_count": 163,
   "id": "943cc285",
   "metadata": {},
   "outputs": [
    {
     "data": {
      "image/png": "[encoded data removed]",
      "text/plain": [
       "<Figure size 720x576 with 1 Axes>"
      ]
     },
     "metadata": {},
     "output_type": "display_data"
    }
   ],
   "source": [
    "plt.figure(figsize=(10,8),facecolor='white')\n",
    "sns.countplot(data=census_income_df,x=\"Income\")\n",
    "plt.tight_layout()"
   ]
  },
  {
   "cell_type": "markdown",
   "id": "2720e830",
   "metadata": {},
   "source": [
    "#### Our target column is Income and in income column has only 2 values.\n",
    "1. <=50K = less then or equal to 50K.\n",
    "\n",
    "2. >50k  = Greater then 50k.\n",
    "\n",
    "So we have to convert these values to 0 and 1 form."
   ]
  },
  {
   "cell_type": "code",
   "execution_count": 164,
   "id": "0e772920",
   "metadata": {},
   "outputs": [],
   "source": [
    "\n",
    "\n",
    "census_income_df['Income'] = census_income_df['Income'].replace({\" <=50K\":0,\" >50K\":1})"
   ]
  },
  {
   "cell_type": "code",
   "execution_count": 165,
   "id": "996f00fc",
   "metadata": {},
   "outputs": [
    {
     "data": {
      "text/plain": [
       "(32560, 12)"
      ]
     },
     "execution_count": 165,
     "metadata": {},
     "output_type": "execute_result"
    }
   ],
   "source": [
    "#lets drop columns which is not importent\n",
    "\n",
    "\n",
    "census_income_df = census_income_df.drop(columns=['Education_num','Capital_gain','Capital_loss'])\n",
    "\n",
    "census_income_df.shape"
   ]
  },
  {
   "cell_type": "markdown",
   "id": "aef4589a",
   "metadata": {},
   "source": [
    "# Chacking correlationship"
   ]
  },
  {
   "cell_type": "code",
   "execution_count": 166,
   "id": "494fcc3f",
   "metadata": {},
   "outputs": [],
   "source": [
    "#before chacking correlationship we have to saparte values into catagorical, continues and target .\n",
    "\n",
    "\n",
    "\n",
    "feature_continues = census_income_df[['Age','Fnlwgt','Hours_per_week']].copy()\n",
    "\n",
    "feature_catagorical = census_income_df.drop(columns=['Age','Fnlwgt','Hours_per_week','Income'])\n",
    "\n",
    "target = census_income_df['Income']"
   ]
  },
  {
   "cell_type": "code",
   "execution_count": 167,
   "id": "4eee7fd9",
   "metadata": {},
   "outputs": [
    {
     "name": "stdout",
     "output_type": "stream",
     "text": [
      "Shape of continues df is :\n",
      " (32560, 3)\n",
      "Shape of catagorical df is :\n",
      "  (32560, 8)\n",
      "Shape  of target df is :\n",
      " (32560,)\n"
     ]
    }
   ],
   "source": [
    "#chacking shape of all dataframe\n",
    "\n",
    "\n",
    "print(\"Shape of continues df is :\\n\",feature_continues.shape)\n",
    "\n",
    "print(\"Shape of catagorical df is :\\n \",feature_catagorical.shape)\n",
    "\n",
    "print(\"Shape  of target df is :\\n\",target.shape)"
   ]
  },
  {
   "cell_type": "code",
   "execution_count": 168,
   "id": "ee96b614",
   "metadata": {},
   "outputs": [
    {
     "data": {
      "image/png": "[encoded data removed]",
      "text/plain": [
       "<Figure size 720x720 with 2 Axes>"
      ]
     },
     "metadata": {},
     "output_type": "display_data"
    }
   ],
   "source": [
    "#now chacking co relation on continues df\n",
    "\n",
    "# heat map\n",
    "\n",
    "plt.figure(figsize=(10,10),facecolor='white')\n",
    "sns.heatmap(feature_continues.corr(),annot=True)\n",
    "plt.show()"
   ]
  },
  {
   "cell_type": "markdown",
   "id": "b25d317c",
   "metadata": {},
   "source": [
    "# Skewness"
   ]
  },
  {
   "cell_type": "code",
   "execution_count": 169,
   "id": "6a81f23c",
   "metadata": {},
   "outputs": [
    {
     "data": {
      "text/plain": [
       "Fnlwgt            1.446972\n",
       "Age               0.558738\n",
       "Hours_per_week    0.227636\n",
       "dtype: float64"
      ]
     },
     "execution_count": 169,
     "metadata": {},
     "output_type": "execute_result"
    }
   ],
   "source": [
    "#chacking skewness\n",
    "\n",
    "feature_continues.skew().sort_values(ascending=False)"
   ]
  },
  {
   "cell_type": "code",
   "execution_count": 170,
   "id": "9664950d",
   "metadata": {},
   "outputs": [
    {
     "data": {
      "text/plain": [
       "Hours_per_week    0.227636\n",
       "Age               0.204335\n",
       "Fnlwgt            0.189066\n",
       "dtype: float64"
      ]
     },
     "execution_count": 170,
     "metadata": {},
     "output_type": "execute_result"
    }
   ],
   "source": [
    "#lets remove skewness.\n",
    "\n",
    "for index in feature_continues.skew().index:\n",
    "    if feature_continues.skew().loc[index]>0.5:\n",
    "        feature_continues[index] = np.sqrt(feature_continues[index])\n",
    "    if feature_continues.skew().loc[index]<-0.5:\n",
    "        feature_continues[index] = np.square(feature_continues[index])\n",
    "        \n",
    "feature_continues.skew().sort_values(ascending=False)\n"
   ]
  },
  {
   "cell_type": "markdown",
   "id": "7fe2db83",
   "metadata": {},
   "source": [
    "#### Skewness  has been gone."
   ]
  },
  {
   "cell_type": "code",
   "execution_count": 171,
   "id": "eca02898",
   "metadata": {},
   "outputs": [
    {
     "data": {
      "image/png": "[encoded data removed]",
      "text/plain": [
       "<Figure size 720x360 with 3 Axes>"
      ]
     },
     "metadata": {},
     "output_type": "display_data"
    }
   ],
   "source": [
    "#boxenplot\n",
    "\n",
    "plt.figure(figsize=(10,5),facecolor='white')\n",
    "plot=1\n",
    "for column in feature_continues:\n",
    "    if plot<=4:\n",
    "        plt.subplot(2,2,plot)\n",
    "        sns.boxenplot(feature_continues[column])\n",
    "        plt.xlabel(column)\n",
    "    plot+=1\n",
    "plt.tight_layout()\n"
   ]
  },
  {
   "cell_type": "code",
   "execution_count": 172,
   "id": "d41f1aab",
   "metadata": {},
   "outputs": [
    {
     "data": {
      "image/png": "[encoded data removed]",
      "text/plain": [
       "<Figure size 720x360 with 3 Axes>"
      ]
     },
     "metadata": {},
     "output_type": "display_data"
    }
   ],
   "source": [
    "#Data distribution (distplot)\n",
    "\n",
    "plt.figure(figsize=(10,5),facecolor='white')\n",
    "plot=1\n",
    "for column in feature_continues:\n",
    "    if plot<=4:\n",
    "        plt.subplot(2,2,plot)\n",
    "        sns.distplot(feature_continues[column])\n",
    "    plot+=1\n",
    "plt.tight_layout()"
   ]
  },
  {
   "cell_type": "code",
   "execution_count": 173,
   "id": "d9f12a76",
   "metadata": {},
   "outputs": [],
   "source": [
    "#power transformation for removing some of skewness.\n",
    "\n",
    "from sklearn.preprocessing import PowerTransformer\n",
    "power_transfer = PowerTransformer()\n",
    "\n",
    "\n",
    "feature_continues = power_transfer.fit_transform(feature_continues)"
   ]
  },
  {
   "cell_type": "code",
   "execution_count": 174,
   "id": "4ba608f5",
   "metadata": {},
   "outputs": [],
   "source": [
    "#make new data frame\n",
    "\n",
    "feature_continues = pd.DataFrame(feature_continues,columns=['Age','Fnlwgt','Hours_per_week'])"
   ]
  },
  {
   "cell_type": "code",
   "execution_count": 175,
   "id": "ee879791",
   "metadata": {},
   "outputs": [
    {
     "data": {
      "image/png": "[encoded data removed]",
      "text/plain": [
       "<Figure size 720x360 with 3 Axes>"
      ]
     },
     "metadata": {},
     "output_type": "display_data"
    }
   ],
   "source": [
    "#again chack skewness\n",
    "\n",
    "plt.figure(figsize=(10,5),facecolor='white')\n",
    "plot=1\n",
    "for column in feature_continues:\n",
    "    if plot<=4:\n",
    "        plt.subplot(2,2,plot)\n",
    "        sns.distplot(feature_continues[column])\n",
    "    plot+=1\n",
    "plt.tight_layout()"
   ]
  },
  {
   "cell_type": "code",
   "execution_count": 176,
   "id": "2fb78f6f",
   "metadata": {},
   "outputs": [
    {
     "data": {
      "text/html": [
       "<div>\n",
       "<style scoped>\n",
       "    .dataframe tbody tr th:only-of-type {\n",
       "        vertical-align: middle;\n",
       "    }\n",
       "\n",
       "    .dataframe tbody tr th {\n",
       "        vertical-align: top;\n",
       "    }\n",
       "\n",
       "    .dataframe thead th {\n",
       "        text-align: right;\n",
       "    }\n",
       "</style>\n",
       "<table border=\"1\" class=\"dataframe\">\n",
       "  <thead>\n",
       "    <tr style=\"text-align: right;\">\n",
       "      <th></th>\n",
       "      <th>Workclass_ Federal-gov</th>\n",
       "      <th>Workclass_ Local-gov</th>\n",
       "      <th>Workclass_ Never-worked</th>\n",
       "      <th>Workclass_ Private</th>\n",
       "      <th>Workclass_ Self-emp-inc</th>\n",
       "      <th>Workclass_ Self-emp-not-inc</th>\n",
       "      <th>Workclass_ State-gov</th>\n",
       "      <th>Workclass_ Without-pay</th>\n",
       "      <th>Education_ 11th</th>\n",
       "      <th>Education_ 12th</th>\n",
       "      <th>...</th>\n",
       "      <th>Native_country_ Puerto-Rico</th>\n",
       "      <th>Native_country_ Scotland</th>\n",
       "      <th>Native_country_ South</th>\n",
       "      <th>Native_country_ Taiwan</th>\n",
       "      <th>Native_country_ Thailand</th>\n",
       "      <th>Native_country_ Trinadad&amp;Tobago</th>\n",
       "      <th>Native_country_ United-States</th>\n",
       "      <th>Native_country_ Vietnam</th>\n",
       "      <th>Native_country_ Yugoslavia</th>\n",
       "      <th>Native_country_NoT_Define</th>\n",
       "    </tr>\n",
       "  </thead>\n",
       "  <tbody>\n",
       "    <tr>\n",
       "      <th>0</th>\n",
       "      <td>0</td>\n",
       "      <td>0</td>\n",
       "      <td>0</td>\n",
       "      <td>0</td>\n",
       "      <td>0</td>\n",
       "      <td>1</td>\n",
       "      <td>0</td>\n",
       "      <td>0</td>\n",
       "      <td>0</td>\n",
       "      <td>0</td>\n",
       "      <td>...</td>\n",
       "      <td>0</td>\n",
       "      <td>0</td>\n",
       "      <td>0</td>\n",
       "      <td>0</td>\n",
       "      <td>0</td>\n",
       "      <td>0</td>\n",
       "      <td>1</td>\n",
       "      <td>0</td>\n",
       "      <td>0</td>\n",
       "      <td>0</td>\n",
       "    </tr>\n",
       "    <tr>\n",
       "      <th>1</th>\n",
       "      <td>0</td>\n",
       "      <td>0</td>\n",
       "      <td>0</td>\n",
       "      <td>1</td>\n",
       "      <td>0</td>\n",
       "      <td>0</td>\n",
       "      <td>0</td>\n",
       "      <td>0</td>\n",
       "      <td>0</td>\n",
       "      <td>0</td>\n",
       "      <td>...</td>\n",
       "      <td>0</td>\n",
       "      <td>0</td>\n",
       "      <td>0</td>\n",
       "      <td>0</td>\n",
       "      <td>0</td>\n",
       "      <td>0</td>\n",
       "      <td>1</td>\n",
       "      <td>0</td>\n",
       "      <td>0</td>\n",
       "      <td>0</td>\n",
       "    </tr>\n",
       "    <tr>\n",
       "      <th>2</th>\n",
       "      <td>0</td>\n",
       "      <td>0</td>\n",
       "      <td>0</td>\n",
       "      <td>1</td>\n",
       "      <td>0</td>\n",
       "      <td>0</td>\n",
       "      <td>0</td>\n",
       "      <td>0</td>\n",
       "      <td>1</td>\n",
       "      <td>0</td>\n",
       "      <td>...</td>\n",
       "      <td>0</td>\n",
       "      <td>0</td>\n",
       "      <td>0</td>\n",
       "      <td>0</td>\n",
       "      <td>0</td>\n",
       "      <td>0</td>\n",
       "      <td>1</td>\n",
       "      <td>0</td>\n",
       "      <td>0</td>\n",
       "      <td>0</td>\n",
       "    </tr>\n",
       "    <tr>\n",
       "      <th>3</th>\n",
       "      <td>0</td>\n",
       "      <td>0</td>\n",
       "      <td>0</td>\n",
       "      <td>1</td>\n",
       "      <td>0</td>\n",
       "      <td>0</td>\n",
       "      <td>0</td>\n",
       "      <td>0</td>\n",
       "      <td>0</td>\n",
       "      <td>0</td>\n",
       "      <td>...</td>\n",
       "      <td>0</td>\n",
       "      <td>0</td>\n",
       "      <td>0</td>\n",
       "      <td>0</td>\n",
       "      <td>0</td>\n",
       "      <td>0</td>\n",
       "      <td>0</td>\n",
       "      <td>0</td>\n",
       "      <td>0</td>\n",
       "      <td>0</td>\n",
       "    </tr>\n",
       "    <tr>\n",
       "      <th>4</th>\n",
       "      <td>0</td>\n",
       "      <td>0</td>\n",
       "      <td>0</td>\n",
       "      <td>1</td>\n",
       "      <td>0</td>\n",
       "      <td>0</td>\n",
       "      <td>0</td>\n",
       "      <td>0</td>\n",
       "      <td>0</td>\n",
       "      <td>0</td>\n",
       "      <td>...</td>\n",
       "      <td>0</td>\n",
       "      <td>0</td>\n",
       "      <td>0</td>\n",
       "      <td>0</td>\n",
       "      <td>0</td>\n",
       "      <td>0</td>\n",
       "      <td>1</td>\n",
       "      <td>0</td>\n",
       "      <td>0</td>\n",
       "      <td>0</td>\n",
       "    </tr>\n",
       "    <tr>\n",
       "      <th>5</th>\n",
       "      <td>0</td>\n",
       "      <td>0</td>\n",
       "      <td>0</td>\n",
       "      <td>1</td>\n",
       "      <td>0</td>\n",
       "      <td>0</td>\n",
       "      <td>0</td>\n",
       "      <td>0</td>\n",
       "      <td>0</td>\n",
       "      <td>0</td>\n",
       "      <td>...</td>\n",
       "      <td>0</td>\n",
       "      <td>0</td>\n",
       "      <td>0</td>\n",
       "      <td>0</td>\n",
       "      <td>0</td>\n",
       "      <td>0</td>\n",
       "      <td>0</td>\n",
       "      <td>0</td>\n",
       "      <td>0</td>\n",
       "      <td>0</td>\n",
       "    </tr>\n",
       "    <tr>\n",
       "      <th>6</th>\n",
       "      <td>0</td>\n",
       "      <td>0</td>\n",
       "      <td>0</td>\n",
       "      <td>0</td>\n",
       "      <td>0</td>\n",
       "      <td>1</td>\n",
       "      <td>0</td>\n",
       "      <td>0</td>\n",
       "      <td>0</td>\n",
       "      <td>0</td>\n",
       "      <td>...</td>\n",
       "      <td>0</td>\n",
       "      <td>0</td>\n",
       "      <td>0</td>\n",
       "      <td>0</td>\n",
       "      <td>0</td>\n",
       "      <td>0</td>\n",
       "      <td>1</td>\n",
       "      <td>0</td>\n",
       "      <td>0</td>\n",
       "      <td>0</td>\n",
       "    </tr>\n",
       "    <tr>\n",
       "      <th>7</th>\n",
       "      <td>0</td>\n",
       "      <td>0</td>\n",
       "      <td>0</td>\n",
       "      <td>1</td>\n",
       "      <td>0</td>\n",
       "      <td>0</td>\n",
       "      <td>0</td>\n",
       "      <td>0</td>\n",
       "      <td>0</td>\n",
       "      <td>0</td>\n",
       "      <td>...</td>\n",
       "      <td>0</td>\n",
       "      <td>0</td>\n",
       "      <td>0</td>\n",
       "      <td>0</td>\n",
       "      <td>0</td>\n",
       "      <td>0</td>\n",
       "      <td>1</td>\n",
       "      <td>0</td>\n",
       "      <td>0</td>\n",
       "      <td>0</td>\n",
       "    </tr>\n",
       "    <tr>\n",
       "      <th>8</th>\n",
       "      <td>0</td>\n",
       "      <td>0</td>\n",
       "      <td>0</td>\n",
       "      <td>1</td>\n",
       "      <td>0</td>\n",
       "      <td>0</td>\n",
       "      <td>0</td>\n",
       "      <td>0</td>\n",
       "      <td>0</td>\n",
       "      <td>0</td>\n",
       "      <td>...</td>\n",
       "      <td>0</td>\n",
       "      <td>0</td>\n",
       "      <td>0</td>\n",
       "      <td>0</td>\n",
       "      <td>0</td>\n",
       "      <td>0</td>\n",
       "      <td>1</td>\n",
       "      <td>0</td>\n",
       "      <td>0</td>\n",
       "      <td>0</td>\n",
       "    </tr>\n",
       "    <tr>\n",
       "      <th>9</th>\n",
       "      <td>0</td>\n",
       "      <td>0</td>\n",
       "      <td>0</td>\n",
       "      <td>1</td>\n",
       "      <td>0</td>\n",
       "      <td>0</td>\n",
       "      <td>0</td>\n",
       "      <td>0</td>\n",
       "      <td>0</td>\n",
       "      <td>0</td>\n",
       "      <td>...</td>\n",
       "      <td>0</td>\n",
       "      <td>0</td>\n",
       "      <td>0</td>\n",
       "      <td>0</td>\n",
       "      <td>0</td>\n",
       "      <td>0</td>\n",
       "      <td>1</td>\n",
       "      <td>0</td>\n",
       "      <td>0</td>\n",
       "      <td>0</td>\n",
       "    </tr>\n",
       "  </tbody>\n",
       "</table>\n",
       "<p>10 rows × 94 columns</p>\n",
       "</div>"
      ],
      "text/plain": [
       "   Workclass_ Federal-gov  Workclass_ Local-gov  Workclass_ Never-worked  \\\n",
       "0                       0                     0                        0   \n",
       "1                       0                     0                        0   \n",
       "2                       0                     0                        0   \n",
       "3                       0                     0                        0   \n",
       "4                       0                     0                        0   \n",
       "5                       0                     0                        0   \n",
       "6                       0                     0                        0   \n",
       "7                       0                     0                        0   \n",
       "8                       0                     0                        0   \n",
       "9                       0                     0                        0   \n",
       "\n",
       "   Workclass_ Private  Workclass_ Self-emp-inc  Workclass_ Self-emp-not-inc  \\\n",
       "0                   0                        0                            1   \n",
       "1                   1                        0                            0   \n",
       "2                   1                        0                            0   \n",
       "3                   1                        0                            0   \n",
       "4                   1                        0                            0   \n",
       "5                   1                        0                            0   \n",
       "6                   0                        0                            1   \n",
       "7                   1                        0                            0   \n",
       "8                   1                        0                            0   \n",
       "9                   1                        0                            0   \n",
       "\n",
       "   Workclass_ State-gov  Workclass_ Without-pay  Education_ 11th  \\\n",
       "0                     0                       0                0   \n",
       "1                     0                       0                0   \n",
       "2                     0                       0                1   \n",
       "3                     0                       0                0   \n",
       "4                     0                       0                0   \n",
       "5                     0                       0                0   \n",
       "6                     0                       0                0   \n",
       "7                     0                       0                0   \n",
       "8                     0                       0                0   \n",
       "9                     0                       0                0   \n",
       "\n",
       "   Education_ 12th  ...  Native_country_ Puerto-Rico  \\\n",
       "0                0  ...                            0   \n",
       "1                0  ...                            0   \n",
       "2                0  ...                            0   \n",
       "3                0  ...                            0   \n",
       "4                0  ...                            0   \n",
       "5                0  ...                            0   \n",
       "6                0  ...                            0   \n",
       "7                0  ...                            0   \n",
       "8                0  ...                            0   \n",
       "9                0  ...                            0   \n",
       "\n",
       "   Native_country_ Scotland  Native_country_ South  Native_country_ Taiwan  \\\n",
       "0                         0                      0                       0   \n",
       "1                         0                      0                       0   \n",
       "2                         0                      0                       0   \n",
       "3                         0                      0                       0   \n",
       "4                         0                      0                       0   \n",
       "5                         0                      0                       0   \n",
       "6                         0                      0                       0   \n",
       "7                         0                      0                       0   \n",
       "8                         0                      0                       0   \n",
       "9                         0                      0                       0   \n",
       "\n",
       "   Native_country_ Thailand  Native_country_ Trinadad&Tobago  \\\n",
       "0                         0                                0   \n",
       "1                         0                                0   \n",
       "2                         0                                0   \n",
       "3                         0                                0   \n",
       "4                         0                                0   \n",
       "5                         0                                0   \n",
       "6                         0                                0   \n",
       "7                         0                                0   \n",
       "8                         0                                0   \n",
       "9                         0                                0   \n",
       "\n",
       "   Native_country_ United-States  Native_country_ Vietnam  \\\n",
       "0                              1                        0   \n",
       "1                              1                        0   \n",
       "2                              1                        0   \n",
       "3                              0                        0   \n",
       "4                              1                        0   \n",
       "5                              0                        0   \n",
       "6                              1                        0   \n",
       "7                              1                        0   \n",
       "8                              1                        0   \n",
       "9                              1                        0   \n",
       "\n",
       "   Native_country_ Yugoslavia  Native_country_NoT_Define  \n",
       "0                           0                          0  \n",
       "1                           0                          0  \n",
       "2                           0                          0  \n",
       "3                           0                          0  \n",
       "4                           0                          0  \n",
       "5                           0                          0  \n",
       "6                           0                          0  \n",
       "7                           0                          0  \n",
       "8                           0                          0  \n",
       "9                           0                          0  \n",
       "\n",
       "[10 rows x 94 columns]"
      ]
     },
     "execution_count": 176,
     "metadata": {},
     "output_type": "execute_result"
    }
   ],
   "source": [
    "#lets deal with catagorical dataset\n",
    "\n",
    "\n",
    "feature_catagorical = pd.get_dummies(data=feature_catagorical,drop_first=True)\n",
    "feature_catagorical.head(10)"
   ]
  },
  {
   "cell_type": "code",
   "execution_count": 177,
   "id": "d8e0ff47",
   "metadata": {},
   "outputs": [],
   "source": [
    "#Final df\n",
    "\n",
    "feature=feature_continues.join(feature_catagorical)"
   ]
  },
  {
   "cell_type": "code",
   "execution_count": 178,
   "id": "d81b7cdf",
   "metadata": {},
   "outputs": [
    {
     "data": {
      "text/html": [
       "<div>\n",
       "<style scoped>\n",
       "    .dataframe tbody tr th:only-of-type {\n",
       "        vertical-align: middle;\n",
       "    }\n",
       "\n",
       "    .dataframe tbody tr th {\n",
       "        vertical-align: top;\n",
       "    }\n",
       "\n",
       "    .dataframe thead th {\n",
       "        text-align: right;\n",
       "    }\n",
       "</style>\n",
       "<table border=\"1\" class=\"dataframe\">\n",
       "  <thead>\n",
       "    <tr style=\"text-align: right;\">\n",
       "      <th></th>\n",
       "      <th>Age</th>\n",
       "      <th>Fnlwgt</th>\n",
       "      <th>Hours_per_week</th>\n",
       "      <th>Workclass_ Federal-gov</th>\n",
       "      <th>Workclass_ Local-gov</th>\n",
       "      <th>Workclass_ Never-worked</th>\n",
       "      <th>Workclass_ Private</th>\n",
       "      <th>Workclass_ Self-emp-inc</th>\n",
       "      <th>Workclass_ Self-emp-not-inc</th>\n",
       "      <th>Workclass_ State-gov</th>\n",
       "      <th>...</th>\n",
       "      <th>Native_country_ Puerto-Rico</th>\n",
       "      <th>Native_country_ Scotland</th>\n",
       "      <th>Native_country_ South</th>\n",
       "      <th>Native_country_ Taiwan</th>\n",
       "      <th>Native_country_ Thailand</th>\n",
       "      <th>Native_country_ Trinadad&amp;Tobago</th>\n",
       "      <th>Native_country_ United-States</th>\n",
       "      <th>Native_country_ Vietnam</th>\n",
       "      <th>Native_country_ Yugoslavia</th>\n",
       "      <th>Native_country_NoT_Define</th>\n",
       "    </tr>\n",
       "  </thead>\n",
       "  <tbody>\n",
       "    <tr>\n",
       "      <th>count</th>\n",
       "      <td>3.256000e+04</td>\n",
       "      <td>3.256000e+04</td>\n",
       "      <td>3.256000e+04</td>\n",
       "      <td>32560.000000</td>\n",
       "      <td>32560.000000</td>\n",
       "      <td>32560.000000</td>\n",
       "      <td>32560.000000</td>\n",
       "      <td>32560.000000</td>\n",
       "      <td>32560.000000</td>\n",
       "      <td>32560.000000</td>\n",
       "      <td>...</td>\n",
       "      <td>32560.000000</td>\n",
       "      <td>32560.000000</td>\n",
       "      <td>32560.000000</td>\n",
       "      <td>32560.000000</td>\n",
       "      <td>32560.000000</td>\n",
       "      <td>32560.000000</td>\n",
       "      <td>32560.000000</td>\n",
       "      <td>32560.000000</td>\n",
       "      <td>32560.000000</td>\n",
       "      <td>32560.000000</td>\n",
       "    </tr>\n",
       "    <tr>\n",
       "      <th>mean</th>\n",
       "      <td>-7.879992e-16</td>\n",
       "      <td>4.855555e-16</td>\n",
       "      <td>4.982812e-16</td>\n",
       "      <td>0.029484</td>\n",
       "      <td>0.064281</td>\n",
       "      <td>0.000215</td>\n",
       "      <td>0.697052</td>\n",
       "      <td>0.034275</td>\n",
       "      <td>0.078041</td>\n",
       "      <td>0.039834</td>\n",
       "      <td>...</td>\n",
       "      <td>0.003501</td>\n",
       "      <td>0.000369</td>\n",
       "      <td>0.002457</td>\n",
       "      <td>0.001566</td>\n",
       "      <td>0.000553</td>\n",
       "      <td>0.000584</td>\n",
       "      <td>0.895854</td>\n",
       "      <td>0.002058</td>\n",
       "      <td>0.000491</td>\n",
       "      <td>0.017905</td>\n",
       "    </tr>\n",
       "    <tr>\n",
       "      <th>std</th>\n",
       "      <td>1.000015e+00</td>\n",
       "      <td>1.000015e+00</td>\n",
       "      <td>1.000015e+00</td>\n",
       "      <td>0.169161</td>\n",
       "      <td>0.245257</td>\n",
       "      <td>0.014661</td>\n",
       "      <td>0.459540</td>\n",
       "      <td>0.181938</td>\n",
       "      <td>0.268239</td>\n",
       "      <td>0.195572</td>\n",
       "      <td>...</td>\n",
       "      <td>0.059068</td>\n",
       "      <td>0.019194</td>\n",
       "      <td>0.049508</td>\n",
       "      <td>0.039547</td>\n",
       "      <td>0.023506</td>\n",
       "      <td>0.024150</td>\n",
       "      <td>0.305455</td>\n",
       "      <td>0.045316</td>\n",
       "      <td>0.022162</td>\n",
       "      <td>0.132610</td>\n",
       "    </tr>\n",
       "    <tr>\n",
       "      <th>min</th>\n",
       "      <td>-1.994206e+00</td>\n",
       "      <td>-2.765329e+00</td>\n",
       "      <td>-3.191951e+00</td>\n",
       "      <td>0.000000</td>\n",
       "      <td>0.000000</td>\n",
       "      <td>0.000000</td>\n",
       "      <td>0.000000</td>\n",
       "      <td>0.000000</td>\n",
       "      <td>0.000000</td>\n",
       "      <td>0.000000</td>\n",
       "      <td>...</td>\n",
       "      <td>0.000000</td>\n",
       "      <td>0.000000</td>\n",
       "      <td>0.000000</td>\n",
       "      <td>0.000000</td>\n",
       "      <td>0.000000</td>\n",
       "      <td>0.000000</td>\n",
       "      <td>0.000000</td>\n",
       "      <td>0.000000</td>\n",
       "      <td>0.000000</td>\n",
       "      <td>0.000000</td>\n",
       "    </tr>\n",
       "    <tr>\n",
       "      <th>25%</th>\n",
       "      <td>-7.321470e-01</td>\n",
       "      <td>-6.146464e-01</td>\n",
       "      <td>-3.557001e-02</td>\n",
       "      <td>0.000000</td>\n",
       "      <td>0.000000</td>\n",
       "      <td>0.000000</td>\n",
       "      <td>0.000000</td>\n",
       "      <td>0.000000</td>\n",
       "      <td>0.000000</td>\n",
       "      <td>0.000000</td>\n",
       "      <td>...</td>\n",
       "      <td>0.000000</td>\n",
       "      <td>0.000000</td>\n",
       "      <td>0.000000</td>\n",
       "      <td>0.000000</td>\n",
       "      <td>0.000000</td>\n",
       "      <td>0.000000</td>\n",
       "      <td>1.000000</td>\n",
       "      <td>0.000000</td>\n",
       "      <td>0.000000</td>\n",
       "      <td>0.000000</td>\n",
       "    </tr>\n",
       "    <tr>\n",
       "      <th>50%</th>\n",
       "      <td>2.701875e-02</td>\n",
       "      <td>5.238311e-02</td>\n",
       "      <td>-3.557001e-02</td>\n",
       "      <td>0.000000</td>\n",
       "      <td>0.000000</td>\n",
       "      <td>0.000000</td>\n",
       "      <td>1.000000</td>\n",
       "      <td>0.000000</td>\n",
       "      <td>0.000000</td>\n",
       "      <td>0.000000</td>\n",
       "      <td>...</td>\n",
       "      <td>0.000000</td>\n",
       "      <td>0.000000</td>\n",
       "      <td>0.000000</td>\n",
       "      <td>0.000000</td>\n",
       "      <td>0.000000</td>\n",
       "      <td>0.000000</td>\n",
       "      <td>1.000000</td>\n",
       "      <td>0.000000</td>\n",
       "      <td>0.000000</td>\n",
       "      <td>0.000000</td>\n",
       "    </tr>\n",
       "    <tr>\n",
       "      <th>75%</th>\n",
       "      <td>7.718184e-01</td>\n",
       "      <td>5.820473e-01</td>\n",
       "      <td>3.694100e-01</td>\n",
       "      <td>0.000000</td>\n",
       "      <td>0.000000</td>\n",
       "      <td>0.000000</td>\n",
       "      <td>1.000000</td>\n",
       "      <td>0.000000</td>\n",
       "      <td>0.000000</td>\n",
       "      <td>0.000000</td>\n",
       "      <td>...</td>\n",
       "      <td>0.000000</td>\n",
       "      <td>0.000000</td>\n",
       "      <td>0.000000</td>\n",
       "      <td>0.000000</td>\n",
       "      <td>0.000000</td>\n",
       "      <td>0.000000</td>\n",
       "      <td>1.000000</td>\n",
       "      <td>0.000000</td>\n",
       "      <td>0.000000</td>\n",
       "      <td>0.000000</td>\n",
       "    </tr>\n",
       "    <tr>\n",
       "      <th>max</th>\n",
       "      <td>2.716817e+00</td>\n",
       "      <td>6.039964e+00</td>\n",
       "      <td>4.745062e+00</td>\n",
       "      <td>1.000000</td>\n",
       "      <td>1.000000</td>\n",
       "      <td>1.000000</td>\n",
       "      <td>1.000000</td>\n",
       "      <td>1.000000</td>\n",
       "      <td>1.000000</td>\n",
       "      <td>1.000000</td>\n",
       "      <td>...</td>\n",
       "      <td>1.000000</td>\n",
       "      <td>1.000000</td>\n",
       "      <td>1.000000</td>\n",
       "      <td>1.000000</td>\n",
       "      <td>1.000000</td>\n",
       "      <td>1.000000</td>\n",
       "      <td>1.000000</td>\n",
       "      <td>1.000000</td>\n",
       "      <td>1.000000</td>\n",
       "      <td>1.000000</td>\n",
       "    </tr>\n",
       "  </tbody>\n",
       "</table>\n",
       "<p>8 rows × 97 columns</p>\n",
       "</div>"
      ],
      "text/plain": [
       "                Age        Fnlwgt  Hours_per_week  Workclass_ Federal-gov  \\\n",
       "count  3.256000e+04  3.256000e+04    3.256000e+04            32560.000000   \n",
       "mean  -7.879992e-16  4.855555e-16    4.982812e-16                0.029484   \n",
       "std    1.000015e+00  1.000015e+00    1.000015e+00                0.169161   \n",
       "min   -1.994206e+00 -2.765329e+00   -3.191951e+00                0.000000   \n",
       "25%   -7.321470e-01 -6.146464e-01   -3.557001e-02                0.000000   \n",
       "50%    2.701875e-02  5.238311e-02   -3.557001e-02                0.000000   \n",
       "75%    7.718184e-01  5.820473e-01    3.694100e-01                0.000000   \n",
       "max    2.716817e+00  6.039964e+00    4.745062e+00                1.000000   \n",
       "\n",
       "       Workclass_ Local-gov  Workclass_ Never-worked  Workclass_ Private  \\\n",
       "count          32560.000000             32560.000000        32560.000000   \n",
       "mean               0.064281                 0.000215            0.697052   \n",
       "std                0.245257                 0.014661            0.459540   \n",
       "min                0.000000                 0.000000            0.000000   \n",
       "25%                0.000000                 0.000000            0.000000   \n",
       "50%                0.000000                 0.000000            1.000000   \n",
       "75%                0.000000                 0.000000            1.000000   \n",
       "max                1.000000                 1.000000            1.000000   \n",
       "\n",
       "       Workclass_ Self-emp-inc  Workclass_ Self-emp-not-inc  \\\n",
       "count             32560.000000                 32560.000000   \n",
       "mean                  0.034275                     0.078041   \n",
       "std                   0.181938                     0.268239   \n",
       "min                   0.000000                     0.000000   \n",
       "25%                   0.000000                     0.000000   \n",
       "50%                   0.000000                     0.000000   \n",
       "75%                   0.000000                     0.000000   \n",
       "max                   1.000000                     1.000000   \n",
       "\n",
       "       Workclass_ State-gov  ...  Native_country_ Puerto-Rico  \\\n",
       "count          32560.000000  ...                 32560.000000   \n",
       "mean               0.039834  ...                     0.003501   \n",
       "std                0.195572  ...                     0.059068   \n",
       "min                0.000000  ...                     0.000000   \n",
       "25%                0.000000  ...                     0.000000   \n",
       "50%                0.000000  ...                     0.000000   \n",
       "75%                0.000000  ...                     0.000000   \n",
       "max                1.000000  ...                     1.000000   \n",
       "\n",
       "       Native_country_ Scotland  Native_country_ South  \\\n",
       "count              32560.000000           32560.000000   \n",
       "mean                   0.000369               0.002457   \n",
       "std                    0.019194               0.049508   \n",
       "min                    0.000000               0.000000   \n",
       "25%                    0.000000               0.000000   \n",
       "50%                    0.000000               0.000000   \n",
       "75%                    0.000000               0.000000   \n",
       "max                    1.000000               1.000000   \n",
       "\n",
       "       Native_country_ Taiwan  Native_country_ Thailand  \\\n",
       "count            32560.000000              32560.000000   \n",
       "mean                 0.001566                  0.000553   \n",
       "std                  0.039547                  0.023506   \n",
       "min                  0.000000                  0.000000   \n",
       "25%                  0.000000                  0.000000   \n",
       "50%                  0.000000                  0.000000   \n",
       "75%                  0.000000                  0.000000   \n",
       "max                  1.000000                  1.000000   \n",
       "\n",
       "       Native_country_ Trinadad&Tobago  Native_country_ United-States  \\\n",
       "count                     32560.000000                   32560.000000   \n",
       "mean                          0.000584                       0.895854   \n",
       "std                           0.024150                       0.305455   \n",
       "min                           0.000000                       0.000000   \n",
       "25%                           0.000000                       1.000000   \n",
       "50%                           0.000000                       1.000000   \n",
       "75%                           0.000000                       1.000000   \n",
       "max                           1.000000                       1.000000   \n",
       "\n",
       "       Native_country_ Vietnam  Native_country_ Yugoslavia  \\\n",
       "count             32560.000000                32560.000000   \n",
       "mean                  0.002058                    0.000491   \n",
       "std                   0.045316                    0.022162   \n",
       "min                   0.000000                    0.000000   \n",
       "25%                   0.000000                    0.000000   \n",
       "50%                   0.000000                    0.000000   \n",
       "75%                   0.000000                    0.000000   \n",
       "max                   1.000000                    1.000000   \n",
       "\n",
       "       Native_country_NoT_Define  \n",
       "count               32560.000000  \n",
       "mean                    0.017905  \n",
       "std                     0.132610  \n",
       "min                     0.000000  \n",
       "25%                     0.000000  \n",
       "50%                     0.000000  \n",
       "75%                     0.000000  \n",
       "max                     1.000000  \n",
       "\n",
       "[8 rows x 97 columns]"
      ]
     },
     "execution_count": 178,
     "metadata": {},
     "output_type": "execute_result"
    }
   ],
   "source": [
    "feature.describe()"
   ]
  },
  {
   "cell_type": "code",
   "execution_count": 179,
   "id": "e58ded44",
   "metadata": {},
   "outputs": [
    {
     "data": {
      "text/plain": [
       "array([[ 0.89180728, -1.08990772, -2.22151541, ..., -0.04540906,\n",
       "        -0.022173  , -0.13502538],\n",
       "       [ 0.10172873,  0.3987473 , -0.03557001, ..., -0.04540906,\n",
       "        -0.022173  , -0.13502538],\n",
       "       [ 1.06458172,  0.56254733, -0.03557001, ..., -0.04540906,\n",
       "        -0.022173  , -0.13502538],\n",
       "       ...,\n",
       "       [ 1.33538872, -0.21976203, -0.03557001, ..., -0.04540906,\n",
       "        -0.022173  , -0.13502538],\n",
       "       [-1.35749918,  0.27167039, -1.65499204, ..., -0.04540906,\n",
       "        -0.022173  , -0.13502538],\n",
       "       [ 1.00790663,  0.98217614, -0.03557001, ..., -0.04540906,\n",
       "        -0.022173  , -0.13502538]])"
      ]
     },
     "execution_count": 179,
     "metadata": {},
     "output_type": "execute_result"
    }
   ],
   "source": [
    "#lets scale this df\n",
    "\n",
    "\n",
    "from sklearn.preprocessing import StandardScaler\n",
    "\n",
    "scaler = StandardScaler()\n",
    "\n",
    "feature_scaled = scaler.fit_transform(feature)\n",
    "\n",
    "feature_scaled"
   ]
  },
  {
   "cell_type": "code",
   "execution_count": 180,
   "id": "69a9cb15",
   "metadata": {},
   "outputs": [
    {
     "name": "stdout",
     "output_type": "stream",
     "text": [
      "Number of component explaining 98% variance :  85\n"
     ]
    },
    {
     "data": {
      "image/png": "[encoded data removed]",
      "text/plain": [
       "<Figure size 432x288 with 1 Axes>"
      ]
     },
     "metadata": {
      "needs_background": "light"
     },
     "output_type": "display_data"
    }
   ],
   "source": [
    "# we have to use pca for feature selection because there are too much features.\n",
    "\n",
    "\n",
    "from sklearn.decomposition import PCA\n",
    "\n",
    "\n",
    "pca = PCA()\n",
    "pca.fit(feature_scaled)\n",
    "\n",
    "var_cumu = np.cumsum(pca.explained_variance_ratio_)*100\n",
    "k = np.argmax(var_cumu>98)\n",
    "print(\"Number of component explaining 98% variance : \",k)\n",
    "\n",
    "plt.xlabel(\"Principle Components\", fontsize=15)\n",
    "plt.ylabel(\"Cumulative Explained Variance\", fontsize=14)\n",
    "plt.axvline(x=k, color='k', linestyle='--')\n",
    "plt.axhline(y=98, color='r', linestyle='--')\n",
    "plt.plot(var_cumu)\n",
    "plt.show()"
   ]
  },
  {
   "cell_type": "code",
   "execution_count": 181,
   "id": "4e325def",
   "metadata": {},
   "outputs": [
    {
     "data": {
      "text/plain": [
       "array([[-2.56901174, -0.37148997, -0.81432397, ...,  1.30126915,\n",
       "         0.48332166, -1.60799631],\n",
       "       [ 0.44402212, -0.85565092,  1.28075039, ...,  0.1083319 ,\n",
       "        -0.08447609, -0.30631556],\n",
       "       [ 0.39891874,  1.11433434,  0.92915694, ...,  0.92384699,\n",
       "         0.13777382,  0.1062793 ],\n",
       "       ...,\n",
       "       [ 0.70104147, -0.17173665, -1.71377938, ..., -0.28469892,\n",
       "         1.06415669,  1.32110889],\n",
       "       [ 2.66949992, -1.57488347,  0.76686097, ...,  1.06983351,\n",
       "         0.45925969, -0.20496459],\n",
       "       [-2.61780267, -0.00832293, -1.04591165, ..., -1.81402674,\n",
       "         0.50678734, -0.89053736]])"
      ]
     },
     "execution_count": 181,
     "metadata": {},
     "output_type": "execute_result"
    }
   ],
   "source": [
    "#lets use only 85 features\n",
    "\n",
    "pca = PCA(n_components=85)\n",
    "\n",
    "feature_scaled_pca = pca.fit_transform(feature_scaled)\n",
    "\n",
    "feature_scaled_pca"
   ]
  },
  {
   "cell_type": "code",
   "execution_count": 182,
   "id": "5b8fc128",
   "metadata": {},
   "outputs": [
    {
     "data": {
      "text/plain": [
       "0    24719\n",
       "1     7841\n",
       "Name: Income, dtype: int64"
      ]
     },
     "execution_count": 182,
     "metadata": {},
     "output_type": "execute_result"
    }
   ],
   "source": [
    "#now deal with target column\n",
    "\n",
    "\n",
    "target.value_counts()"
   ]
  },
  {
   "cell_type": "code",
   "execution_count": 183,
   "id": "1f35393b",
   "metadata": {},
   "outputs": [
    {
     "data": {
      "text/plain": [
       "<AxesSubplot:xlabel='Income', ylabel='count'>"
      ]
     },
     "execution_count": 183,
     "metadata": {},
     "output_type": "execute_result"
    },
    {
     "data": {
      "image/png": "[encoded data removed]",
      "text/plain": [
       "<Figure size 432x288 with 1 Axes>"
      ]
     },
     "metadata": {
      "needs_background": "light"
     },
     "output_type": "display_data"
    }
   ],
   "source": [
    "from imblearn.over_sampling import SMOTE\n",
    "\n",
    "\n",
    "\n",
    "SMT = SMOTE()\n",
    "feature_scaled_pca, target = SMT.fit_resample(feature_scaled_pca, target)\n",
    "\n",
    "\n",
    "\n",
    "sns.countplot(target)"
   ]
  },
  {
   "cell_type": "markdown",
   "id": "da9dd532",
   "metadata": {},
   "source": [
    "# Modal Building"
   ]
  },
  {
   "cell_type": "code",
   "execution_count": 184,
   "id": "e8f6f5ff",
   "metadata": {},
   "outputs": [],
   "source": [
    "from sklearn.model_selection import train_test_split,cross_val_score,GridSearchCV\n",
    "from sklearn.metrics import accuracy_score,classification_report,confusion_matrix,roc_auc_score,plot_roc_curve"
   ]
  },
  {
   "cell_type": "code",
   "execution_count": 185,
   "id": "da6e786e",
   "metadata": {},
   "outputs": [],
   "source": [
    "def model(mod):\n",
    "    max_auc = 0\n",
    "    max_state = 0\n",
    "    for i in range(1,201):\n",
    "        x_train,x_test,y_train,y_test = train_test_split(feature_scaled_pca,target,test_size = 0.25, random_state =i)\n",
    "        mod.fit(x_train,y_train)\n",
    "        y_pred = mod.predict(x_test)\n",
    "        auc_scor = accuracy_score(y_test,y_pred)\n",
    "        if auc_scor>max_auc:\n",
    "            max_auc=auc_scor\n",
    "            max_state=i\n",
    "    print(\"Best Accuracy Score corresponding to \",max_state,\"is \",auc_scor)\n",
    "    print(\"Classifiation Report-->\\n\\n\",classification_report(y_test,y_pred))\n"
   ]
  },
  {
   "cell_type": "code",
   "execution_count": 186,
   "id": "cfe8dab0",
   "metadata": {},
   "outputs": [
    {
     "name": "stdout",
     "output_type": "stream",
     "text": [
      "Best Accuracy Score corresponding to  102 is  0.8113268608414239\n",
      "Classifiation Report-->\n",
      "\n",
      "               precision    recall  f1-score   support\n",
      "\n",
      "           0       0.84      0.77      0.80      6189\n",
      "           1       0.78      0.86      0.82      6171\n",
      "\n",
      "    accuracy                           0.81     12360\n",
      "   macro avg       0.81      0.81      0.81     12360\n",
      "weighted avg       0.81      0.81      0.81     12360\n",
      "\n"
     ]
    }
   ],
   "source": [
    "from sklearn.linear_model import LogisticRegression\n",
    "log_reg = LogisticRegression()\n",
    "model(log_reg)"
   ]
  },
  {
   "cell_type": "markdown",
   "id": "260d4873",
   "metadata": {},
   "source": [
    "### Modal building"
   ]
  },
  {
   "cell_type": "code",
   "execution_count": 187,
   "id": "6ad5da5f",
   "metadata": {},
   "outputs": [],
   "source": [
    "def Modal_all(mob):\n",
    "    x_train,x_test,y_train,y_test = train_test_split(feature_scaled_pca,target,random_state=102,test_size=0.25)\n",
    "    mob.fit(x_train,y_train)\n",
    "    y_pre = mob.predict(x_test)\n",
    "    \n",
    "    print(\"Accuracy score of this modal is :\\n\",accuracy_score(y_test,y_pre))\n",
    "    \n",
    "    print(\"Confusion matrix of this modal is :\\n\",confusion_matrix(y_test,y_pre))\n",
    "    \n",
    "    print(\"Classification report of this modal is :\\n\",classification_report(y_test,y_pre))\n",
    "    "
   ]
  },
  {
   "cell_type": "markdown",
   "id": "33777cbb",
   "metadata": {},
   "source": [
    "# Logistic Regression"
   ]
  },
  {
   "cell_type": "code",
   "execution_count": 188,
   "id": "0db2d5e5",
   "metadata": {},
   "outputs": [
    {
     "name": "stdout",
     "output_type": "stream",
     "text": [
      "Accuracy score of this modal is :\n",
      " 0.8225728155339805\n",
      "Confusion matrix of this modal is :\n",
      " [[4894 1340]\n",
      " [ 853 5273]]\n",
      "Classification report of this modal is :\n",
      "               precision    recall  f1-score   support\n",
      "\n",
      "           0       0.85      0.79      0.82      6234\n",
      "           1       0.80      0.86      0.83      6126\n",
      "\n",
      "    accuracy                           0.82     12360\n",
      "   macro avg       0.82      0.82      0.82     12360\n",
      "weighted avg       0.82      0.82      0.82     12360\n",
      "\n"
     ]
    }
   ],
   "source": [
    "from sklearn.linear_model import LogisticRegression\n",
    "log_reg = LogisticRegression()\n",
    "Modal_all(log_reg)"
   ]
  },
  {
   "cell_type": "markdown",
   "id": "828962c4",
   "metadata": {},
   "source": [
    "# DecisionTreeClassifier"
   ]
  },
  {
   "cell_type": "code",
   "execution_count": 189,
   "id": "f71bd496",
   "metadata": {},
   "outputs": [
    {
     "name": "stdout",
     "output_type": "stream",
     "text": [
      "Accuracy score of this modal is :\n",
      " 0.8175566343042071\n",
      "Confusion matrix of this modal is :\n",
      " [[5000 1234]\n",
      " [1021 5105]]\n",
      "Classification report of this modal is :\n",
      "               precision    recall  f1-score   support\n",
      "\n",
      "           0       0.83      0.80      0.82      6234\n",
      "           1       0.81      0.83      0.82      6126\n",
      "\n",
      "    accuracy                           0.82     12360\n",
      "   macro avg       0.82      0.82      0.82     12360\n",
      "weighted avg       0.82      0.82      0.82     12360\n",
      "\n"
     ]
    }
   ],
   "source": [
    "from sklearn.tree import DecisionTreeClassifier\n",
    "d_tree = DecisionTreeClassifier()\n",
    "Modal_all(d_tree)"
   ]
  },
  {
   "cell_type": "markdown",
   "id": "f34a734d",
   "metadata": {},
   "source": [
    "# RandomForestClassifier"
   ]
  },
  {
   "cell_type": "code",
   "execution_count": 190,
   "id": "d755ad58",
   "metadata": {},
   "outputs": [
    {
     "name": "stdout",
     "output_type": "stream",
     "text": [
      "Accuracy score of this modal is :\n",
      " 0.8785598705501618\n",
      "Confusion matrix of this modal is :\n",
      " [[5348  886]\n",
      " [ 615 5511]]\n",
      "Classification report of this modal is :\n",
      "               precision    recall  f1-score   support\n",
      "\n",
      "           0       0.90      0.86      0.88      6234\n",
      "           1       0.86      0.90      0.88      6126\n",
      "\n",
      "    accuracy                           0.88     12360\n",
      "   macro avg       0.88      0.88      0.88     12360\n",
      "weighted avg       0.88      0.88      0.88     12360\n",
      "\n"
     ]
    }
   ],
   "source": [
    "from sklearn.ensemble import RandomForestClassifier\n",
    "rand_class = RandomForestClassifier()\n",
    "Modal_all(rand_class)"
   ]
  },
  {
   "cell_type": "markdown",
   "id": "837d8372",
   "metadata": {},
   "source": [
    "# BaggingClassifier"
   ]
  },
  {
   "cell_type": "code",
   "execution_count": 191,
   "id": "53aa8ae2",
   "metadata": {},
   "outputs": [
    {
     "name": "stdout",
     "output_type": "stream",
     "text": [
      "Accuracy score of this modal is :\n",
      " 0.8598705501618124\n",
      "Confusion matrix of this modal is :\n",
      " [[5352  882]\n",
      " [ 850 5276]]\n",
      "Classification report of this modal is :\n",
      "               precision    recall  f1-score   support\n",
      "\n",
      "           0       0.86      0.86      0.86      6234\n",
      "           1       0.86      0.86      0.86      6126\n",
      "\n",
      "    accuracy                           0.86     12360\n",
      "   macro avg       0.86      0.86      0.86     12360\n",
      "weighted avg       0.86      0.86      0.86     12360\n",
      "\n"
     ]
    }
   ],
   "source": [
    "from sklearn.ensemble import BaggingClassifier\n",
    "beg_class = BaggingClassifier()\n",
    "Modal_all(beg_class)"
   ]
  },
  {
   "cell_type": "markdown",
   "id": "a9a716db",
   "metadata": {},
   "source": [
    "# AdaBoostClassifier"
   ]
  },
  {
   "cell_type": "code",
   "execution_count": 192,
   "id": "9fded2f9",
   "metadata": {},
   "outputs": [
    {
     "name": "stdout",
     "output_type": "stream",
     "text": [
      "Accuracy score of this modal is :\n",
      " 0.8148058252427185\n",
      "Confusion matrix of this modal is :\n",
      " [[4813 1421]\n",
      " [ 868 5258]]\n",
      "Classification report of this modal is :\n",
      "               precision    recall  f1-score   support\n",
      "\n",
      "           0       0.85      0.77      0.81      6234\n",
      "           1       0.79      0.86      0.82      6126\n",
      "\n",
      "    accuracy                           0.81     12360\n",
      "   macro avg       0.82      0.82      0.81     12360\n",
      "weighted avg       0.82      0.81      0.81     12360\n",
      "\n"
     ]
    }
   ],
   "source": [
    "from sklearn.ensemble import AdaBoostClassifier\n",
    "ada_class = AdaBoostClassifier()\n",
    "Modal_all(ada_class)"
   ]
  },
  {
   "cell_type": "code",
   "execution_count": 193,
   "id": "7f2da647",
   "metadata": {},
   "outputs": [
    {
     "name": "stdout",
     "output_type": "stream",
     "text": [
      "Accuracy score of this modal is :\n",
      " 0.8391585760517799\n",
      "Confusion matrix of this modal is :\n",
      " [[4770 1464]\n",
      " [ 524 5602]]\n",
      "Classification report of this modal is :\n",
      "               precision    recall  f1-score   support\n",
      "\n",
      "           0       0.90      0.77      0.83      6234\n",
      "           1       0.79      0.91      0.85      6126\n",
      "\n",
      "    accuracy                           0.84     12360\n",
      "   macro avg       0.85      0.84      0.84     12360\n",
      "weighted avg       0.85      0.84      0.84     12360\n",
      "\n"
     ]
    }
   ],
   "source": [
    "from sklearn.neighbors import KNeighborsClassifier\n",
    "knn_class = KNeighborsClassifier()\n",
    "Modal_all(knn_class)"
   ]
  },
  {
   "cell_type": "code",
   "execution_count": 194,
   "id": "5647409f",
   "metadata": {},
   "outputs": [
    {
     "data": {
      "text/plain": [
       "0.8779282598270113"
      ]
     },
     "execution_count": 194,
     "metadata": {},
     "output_type": "execute_result"
    }
   ],
   "source": [
    "#chacking cross-values-score\n",
    "\n",
    "x_train,x_test,y_train,y_test = train_test_split(feature_scaled_pca,target,test_size=0.25,random_state=102)\n",
    "\n",
    "rand_class.fit(x_train,y_train)\n",
    "cross_val_score(rand_class,feature_scaled_pca,target,cv=3).mean()"
   ]
  },
  {
   "cell_type": "code",
   "execution_count": 195,
   "id": "f8aa8e57",
   "metadata": {},
   "outputs": [
    {
     "data": {
      "image/png": "[encoded data removed]",
      "text/plain": [
       "<Figure size 432x288 with 1 Axes>"
      ]
     },
     "metadata": {
      "needs_background": "light"
     },
     "output_type": "display_data"
    }
   ],
   "source": [
    "#Auc_curve ploting\n",
    "\n",
    "\n",
    "disp = plot_roc_curve(log_reg, x_test, y_test)\n",
    "plot_roc_curve(d_tree, x_test, y_test, ax=disp.ax_)\n",
    "plot_roc_curve(knn_class, x_test, y_test, ax=disp.ax_)\n",
    "plot_roc_curve(rand_class, x_test, y_test, ax=disp.ax_)\n",
    "plot_roc_curve(ada_class,x_test,y_test,ax=disp.ax_)\n",
    "plot_roc_curve(beg_class,x_test,y_test,ax=disp.ax_)\n",
    "\n",
    "plt.legend(prop={\"size\" : 10}, loc=\"lower right\")\n",
    "plt.show()"
   ]
  },
  {
   "cell_type": "markdown",
   "id": "5e23336e",
   "metadata": {},
   "source": [
    "# Final Modal "
   ]
  },
  {
   "cell_type": "code",
   "execution_count": 200,
   "id": "72e78aaf",
   "metadata": {},
   "outputs": [
    {
     "name": "stdout",
     "output_type": "stream",
     "text": [
      "Accuracy score of this modal is :\n",
      " 0.8785598705501618\n",
      "Confusion matrix of this modal is :\n",
      " [[5346  888]\n",
      " [ 613 5513]]\n",
      "Classification report of this modal is :\n",
      "               precision    recall  f1-score   support\n",
      "\n",
      "           0       0.90      0.86      0.88      6234\n",
      "           1       0.86      0.90      0.88      6126\n",
      "\n",
      "    accuracy                           0.88     12360\n",
      "   macro avg       0.88      0.88      0.88     12360\n",
      "weighted avg       0.88      0.88      0.88     12360\n",
      "\n"
     ]
    }
   ],
   "source": [
    "#random forest classifier is final modal.\n",
    "\n",
    "rand_class = RandomForestClassifier()\n",
    "Modal_all(rand_class)"
   ]
  },
  {
   "cell_type": "markdown",
   "id": "432b9f2f",
   "metadata": {},
   "source": [
    "# Saving Modal "
   ]
  },
  {
   "cell_type": "code",
   "execution_count": 202,
   "id": "188663c8",
   "metadata": {},
   "outputs": [
    {
     "data": {
      "text/plain": [
       "['Census_Income.pkl']"
      ]
     },
     "execution_count": 202,
     "metadata": {},
     "output_type": "execute_result"
    }
   ],
   "source": [
    "import joblib\n",
    "joblib.dump(rand_class,'Census_Income.pkl')"
   ]
  },
  {
   "cell_type": "code",
   "execution_count": null,
   "id": "a32cfcb0",
   "metadata": {},
   "outputs": [],
   "source": []
  }
 ],
 "metadata": {
  "kernelspec": {
   "display_name": "Python 3 (ipykernel)",
   "language": "python",
   "name": "python3"
  },
  "language_info": {
   "codemirror_mode": {
    "name": "ipython",
    "version": 3
   },
   "file_extension": ".py",
   "mimetype": "text/x-python",
   "name": "python",
   "nbconvert_exporter": "python",
   "pygments_lexer": "ipython3",
   "version": "3.9.7"
  }
 },
 "nbformat": 4,
 "nbformat_minor": 5
}
