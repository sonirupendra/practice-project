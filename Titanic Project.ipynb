{
 "cells": [
  {
   "cell_type": "markdown",
   "id": "e07cc17c",
   "metadata": {},
   "source": [
    "# Data Loading "
   ]
  },
  {
   "cell_type": "code",
   "execution_count": 209,
   "id": "44aac2cf",
   "metadata": {},
   "outputs": [],
   "source": [
    "import pandas as pd\n",
    "import numpy as np\n",
    "import matplotlib.pyplot as plt\n",
    "import seaborn as sns\n",
    "import warnings\n",
    "warnings.filterwarnings(\"ignore\")"
   ]
  },
  {
   "cell_type": "code",
   "execution_count": 210,
   "id": "c3eadde6",
   "metadata": {},
   "outputs": [
    {
     "data": {
      "text/html": [
       "<div>\n",
       "<style scoped>\n",
       "    .dataframe tbody tr th:only-of-type {\n",
       "        vertical-align: middle;\n",
       "    }\n",
       "\n",
       "    .dataframe tbody tr th {\n",
       "        vertical-align: top;\n",
       "    }\n",
       "\n",
       "    .dataframe thead th {\n",
       "        text-align: right;\n",
       "    }\n",
       "</style>\n",
       "<table border=\"1\" class=\"dataframe\">\n",
       "  <thead>\n",
       "    <tr style=\"text-align: right;\">\n",
       "      <th></th>\n",
       "      <th>Unnamed: 0</th>\n",
       "      <th>PassengerId</th>\n",
       "      <th>Survived</th>\n",
       "      <th>Pclass</th>\n",
       "      <th>Name</th>\n",
       "      <th>Sex</th>\n",
       "      <th>Age</th>\n",
       "      <th>SibSp</th>\n",
       "      <th>Parch</th>\n",
       "      <th>Ticket</th>\n",
       "      <th>Fare</th>\n",
       "      <th>Cabin</th>\n",
       "      <th>Embarked</th>\n",
       "    </tr>\n",
       "  </thead>\n",
       "  <tbody>\n",
       "    <tr>\n",
       "      <th>0</th>\n",
       "      <td>0</td>\n",
       "      <td>1</td>\n",
       "      <td>0</td>\n",
       "      <td>3</td>\n",
       "      <td>Braund, Mr. Owen Harris</td>\n",
       "      <td>male</td>\n",
       "      <td>22.0</td>\n",
       "      <td>1</td>\n",
       "      <td>0</td>\n",
       "      <td>A/5 21171</td>\n",
       "      <td>7.2500</td>\n",
       "      <td>NaN</td>\n",
       "      <td>S</td>\n",
       "    </tr>\n",
       "    <tr>\n",
       "      <th>1</th>\n",
       "      <td>1</td>\n",
       "      <td>2</td>\n",
       "      <td>1</td>\n",
       "      <td>1</td>\n",
       "      <td>Cumings, Mrs. John Bradley (Florence Briggs Th...</td>\n",
       "      <td>female</td>\n",
       "      <td>38.0</td>\n",
       "      <td>1</td>\n",
       "      <td>0</td>\n",
       "      <td>PC 17599</td>\n",
       "      <td>71.2833</td>\n",
       "      <td>C85</td>\n",
       "      <td>C</td>\n",
       "    </tr>\n",
       "    <tr>\n",
       "      <th>2</th>\n",
       "      <td>2</td>\n",
       "      <td>3</td>\n",
       "      <td>1</td>\n",
       "      <td>3</td>\n",
       "      <td>Heikkinen, Miss. Laina</td>\n",
       "      <td>female</td>\n",
       "      <td>26.0</td>\n",
       "      <td>0</td>\n",
       "      <td>0</td>\n",
       "      <td>STON/O2. 3101282</td>\n",
       "      <td>7.9250</td>\n",
       "      <td>NaN</td>\n",
       "      <td>S</td>\n",
       "    </tr>\n",
       "    <tr>\n",
       "      <th>3</th>\n",
       "      <td>3</td>\n",
       "      <td>4</td>\n",
       "      <td>1</td>\n",
       "      <td>1</td>\n",
       "      <td>Futrelle, Mrs. Jacques Heath (Lily May Peel)</td>\n",
       "      <td>female</td>\n",
       "      <td>35.0</td>\n",
       "      <td>1</td>\n",
       "      <td>0</td>\n",
       "      <td>113803</td>\n",
       "      <td>53.1000</td>\n",
       "      <td>C123</td>\n",
       "      <td>S</td>\n",
       "    </tr>\n",
       "    <tr>\n",
       "      <th>4</th>\n",
       "      <td>4</td>\n",
       "      <td>5</td>\n",
       "      <td>0</td>\n",
       "      <td>3</td>\n",
       "      <td>Allen, Mr. William Henry</td>\n",
       "      <td>male</td>\n",
       "      <td>35.0</td>\n",
       "      <td>0</td>\n",
       "      <td>0</td>\n",
       "      <td>373450</td>\n",
       "      <td>8.0500</td>\n",
       "      <td>NaN</td>\n",
       "      <td>S</td>\n",
       "    </tr>\n",
       "  </tbody>\n",
       "</table>\n",
       "</div>"
      ],
      "text/plain": [
       "   Unnamed: 0  PassengerId  Survived  Pclass  \\\n",
       "0           0            1         0       3   \n",
       "1           1            2         1       1   \n",
       "2           2            3         1       3   \n",
       "3           3            4         1       1   \n",
       "4           4            5         0       3   \n",
       "\n",
       "                                                Name     Sex   Age  SibSp  \\\n",
       "0                            Braund, Mr. Owen Harris    male  22.0      1   \n",
       "1  Cumings, Mrs. John Bradley (Florence Briggs Th...  female  38.0      1   \n",
       "2                             Heikkinen, Miss. Laina  female  26.0      0   \n",
       "3       Futrelle, Mrs. Jacques Heath (Lily May Peel)  female  35.0      1   \n",
       "4                           Allen, Mr. William Henry    male  35.0      0   \n",
       "\n",
       "   Parch            Ticket     Fare Cabin Embarked  \n",
       "0      0         A/5 21171   7.2500   NaN        S  \n",
       "1      0          PC 17599  71.2833   C85        C  \n",
       "2      0  STON/O2. 3101282   7.9250   NaN        S  \n",
       "3      0            113803  53.1000  C123        S  \n",
       "4      0            373450   8.0500   NaN        S  "
      ]
     },
     "execution_count": 210,
     "metadata": {},
     "output_type": "execute_result"
    }
   ],
   "source": [
    "#load data\n",
    "df = pd.read_csv('titanic_train.csv')\n",
    "df.head()"
   ]
  },
  {
   "cell_type": "markdown",
   "id": "c2e7d528",
   "metadata": {},
   "source": [
    "some of columns is not importent for modal building. so have to drop that columns"
   ]
  },
  {
   "cell_type": "code",
   "execution_count": 211,
   "id": "a3b24d75",
   "metadata": {},
   "outputs": [],
   "source": [
    "#droping not importent columns\n",
    "df = df.drop(columns=['Name','Unnamed: 0','Ticket','PassengerId'])"
   ]
  },
  {
   "cell_type": "code",
   "execution_count": 212,
   "id": "87b554f7",
   "metadata": {},
   "outputs": [
    {
     "data": {
      "text/plain": [
       "(891, 9)"
      ]
     },
     "execution_count": 212,
     "metadata": {},
     "output_type": "execute_result"
    }
   ],
   "source": [
    "df.shape"
   ]
  },
  {
   "cell_type": "code",
   "execution_count": 213,
   "id": "f9bca2ae",
   "metadata": {},
   "outputs": [
    {
     "data": {
      "text/plain": [
       "Survived      0\n",
       "Pclass        0\n",
       "Sex           0\n",
       "Age         177\n",
       "SibSp         0\n",
       "Parch         0\n",
       "Fare          0\n",
       "Cabin       687\n",
       "Embarked      2\n",
       "dtype: int64"
      ]
     },
     "execution_count": 213,
     "metadata": {},
     "output_type": "execute_result"
    }
   ],
   "source": [
    "#chacking null values\n",
    "df.isna().sum()"
   ]
  },
  {
   "cell_type": "markdown",
   "id": "e5f848a7",
   "metadata": {},
   "source": [
    "Null values are present in this dataset."
   ]
  },
  {
   "cell_type": "code",
   "execution_count": 214,
   "id": "678a0bca",
   "metadata": {},
   "outputs": [
    {
     "data": {
      "text/plain": [
       "count         204\n",
       "unique        147\n",
       "top       B96 B98\n",
       "freq            4\n",
       "Name: Cabin, dtype: object"
      ]
     },
     "execution_count": 214,
     "metadata": {},
     "output_type": "execute_result"
    }
   ],
   "source": [
    "df['Cabin'].describe()"
   ]
  },
  {
   "cell_type": "markdown",
   "id": "721a1167",
   "metadata": {},
   "source": [
    "We can see that some columns like Age, Cabin and Embarked has null values.\n",
    "we will drop it but as we know that cabin has more null values. if i drop cabin's null values it will drop most of tha data part."
   ]
  },
  {
   "cell_type": "code",
   "execution_count": 215,
   "id": "ec622e13",
   "metadata": {},
   "outputs": [],
   "source": [
    "df['Age'] = df['Age'].fillna(df['Age'].mean())\n",
    "df['Cabin'] = df['Cabin'].fillna('B96')\n",
    "df=df.dropna(subset=['Embarked'])"
   ]
  },
  {
   "cell_type": "code",
   "execution_count": 216,
   "id": "dbc13563",
   "metadata": {},
   "outputs": [
    {
     "data": {
      "text/plain": [
       "Survived    0\n",
       "Pclass      0\n",
       "Sex         0\n",
       "Age         0\n",
       "SibSp       0\n",
       "Parch       0\n",
       "Fare        0\n",
       "Cabin       0\n",
       "Embarked    0\n",
       "dtype: int64"
      ]
     },
     "execution_count": 216,
     "metadata": {},
     "output_type": "execute_result"
    }
   ],
   "source": [
    "df.isna().sum()"
   ]
  },
  {
   "cell_type": "markdown",
   "id": "e83164e4",
   "metadata": {},
   "source": [
    "# Data information"
   ]
  },
  {
   "cell_type": "code",
   "execution_count": 217,
   "id": "f863dc67",
   "metadata": {},
   "outputs": [
    {
     "data": {
      "text/html": [
       "<div>\n",
       "<style scoped>\n",
       "    .dataframe tbody tr th:only-of-type {\n",
       "        vertical-align: middle;\n",
       "    }\n",
       "\n",
       "    .dataframe tbody tr th {\n",
       "        vertical-align: top;\n",
       "    }\n",
       "\n",
       "    .dataframe thead th {\n",
       "        text-align: right;\n",
       "    }\n",
       "</style>\n",
       "<table border=\"1\" class=\"dataframe\">\n",
       "  <thead>\n",
       "    <tr style=\"text-align: right;\">\n",
       "      <th></th>\n",
       "      <th>Survived</th>\n",
       "      <th>Pclass</th>\n",
       "      <th>Age</th>\n",
       "      <th>SibSp</th>\n",
       "      <th>Parch</th>\n",
       "      <th>Fare</th>\n",
       "    </tr>\n",
       "  </thead>\n",
       "  <tbody>\n",
       "    <tr>\n",
       "      <th>count</th>\n",
       "      <td>889.000000</td>\n",
       "      <td>889.000000</td>\n",
       "      <td>889.000000</td>\n",
       "      <td>889.000000</td>\n",
       "      <td>889.000000</td>\n",
       "      <td>889.000000</td>\n",
       "    </tr>\n",
       "    <tr>\n",
       "      <th>mean</th>\n",
       "      <td>0.382452</td>\n",
       "      <td>2.311586</td>\n",
       "      <td>29.653446</td>\n",
       "      <td>0.524184</td>\n",
       "      <td>0.382452</td>\n",
       "      <td>32.096681</td>\n",
       "    </tr>\n",
       "    <tr>\n",
       "      <th>std</th>\n",
       "      <td>0.486260</td>\n",
       "      <td>0.834700</td>\n",
       "      <td>12.968366</td>\n",
       "      <td>1.103705</td>\n",
       "      <td>0.806761</td>\n",
       "      <td>49.697504</td>\n",
       "    </tr>\n",
       "    <tr>\n",
       "      <th>min</th>\n",
       "      <td>0.000000</td>\n",
       "      <td>1.000000</td>\n",
       "      <td>0.420000</td>\n",
       "      <td>0.000000</td>\n",
       "      <td>0.000000</td>\n",
       "      <td>0.000000</td>\n",
       "    </tr>\n",
       "    <tr>\n",
       "      <th>25%</th>\n",
       "      <td>0.000000</td>\n",
       "      <td>2.000000</td>\n",
       "      <td>22.000000</td>\n",
       "      <td>0.000000</td>\n",
       "      <td>0.000000</td>\n",
       "      <td>7.895800</td>\n",
       "    </tr>\n",
       "    <tr>\n",
       "      <th>50%</th>\n",
       "      <td>0.000000</td>\n",
       "      <td>3.000000</td>\n",
       "      <td>29.699118</td>\n",
       "      <td>0.000000</td>\n",
       "      <td>0.000000</td>\n",
       "      <td>14.454200</td>\n",
       "    </tr>\n",
       "    <tr>\n",
       "      <th>75%</th>\n",
       "      <td>1.000000</td>\n",
       "      <td>3.000000</td>\n",
       "      <td>35.000000</td>\n",
       "      <td>1.000000</td>\n",
       "      <td>0.000000</td>\n",
       "      <td>31.000000</td>\n",
       "    </tr>\n",
       "    <tr>\n",
       "      <th>max</th>\n",
       "      <td>1.000000</td>\n",
       "      <td>3.000000</td>\n",
       "      <td>80.000000</td>\n",
       "      <td>8.000000</td>\n",
       "      <td>6.000000</td>\n",
       "      <td>512.329200</td>\n",
       "    </tr>\n",
       "  </tbody>\n",
       "</table>\n",
       "</div>"
      ],
      "text/plain": [
       "         Survived      Pclass         Age       SibSp       Parch        Fare\n",
       "count  889.000000  889.000000  889.000000  889.000000  889.000000  889.000000\n",
       "mean     0.382452    2.311586   29.653446    0.524184    0.382452   32.096681\n",
       "std      0.486260    0.834700   12.968366    1.103705    0.806761   49.697504\n",
       "min      0.000000    1.000000    0.420000    0.000000    0.000000    0.000000\n",
       "25%      0.000000    2.000000   22.000000    0.000000    0.000000    7.895800\n",
       "50%      0.000000    3.000000   29.699118    0.000000    0.000000   14.454200\n",
       "75%      1.000000    3.000000   35.000000    1.000000    0.000000   31.000000\n",
       "max      1.000000    3.000000   80.000000    8.000000    6.000000  512.329200"
      ]
     },
     "execution_count": 217,
     "metadata": {},
     "output_type": "execute_result"
    }
   ],
   "source": [
    "df.describe()"
   ]
  },
  {
   "cell_type": "code",
   "execution_count": 218,
   "id": "eb0667a8",
   "metadata": {},
   "outputs": [
    {
     "name": "stdout",
     "output_type": "stream",
     "text": [
      "<class 'pandas.core.frame.DataFrame'>\n",
      "Int64Index: 889 entries, 0 to 890\n",
      "Data columns (total 9 columns):\n",
      " #   Column    Non-Null Count  Dtype  \n",
      "---  ------    --------------  -----  \n",
      " 0   Survived  889 non-null    int64  \n",
      " 1   Pclass    889 non-null    int64  \n",
      " 2   Sex       889 non-null    object \n",
      " 3   Age       889 non-null    float64\n",
      " 4   SibSp     889 non-null    int64  \n",
      " 5   Parch     889 non-null    int64  \n",
      " 6   Fare      889 non-null    float64\n",
      " 7   Cabin     889 non-null    object \n",
      " 8   Embarked  889 non-null    object \n",
      "dtypes: float64(2), int64(4), object(3)\n",
      "memory usage: 69.5+ KB\n"
     ]
    }
   ],
   "source": [
    "#now data information about which type of data is present.\n",
    "df.info()"
   ]
  },
  {
   "cell_type": "markdown",
   "id": "fd5f774a",
   "metadata": {},
   "source": [
    "1. Int       => Survived, Pclass, Age, Sibsp, Parch, Fare.\n",
    "2. Objective => Sex, Cabin.\n",
    "3. Targte column => Survived"
   ]
  },
  {
   "cell_type": "code",
   "execution_count": 219,
   "id": "34d19f14",
   "metadata": {},
   "outputs": [],
   "source": [
    "#lets saprate  objective and numerical data\n",
    "numerical_data = df[['Pclass','Age','SibSp','Parch','Fare']].copy()\n",
    "objective_data = df[['Sex','Cabin','Embarked']].copy()\n",
    "target_column = df[['Survived']].copy()"
   ]
  },
  {
   "cell_type": "code",
   "execution_count": 220,
   "id": "f6589c19",
   "metadata": {},
   "outputs": [
    {
     "data": {
      "text/html": [
       "<div>\n",
       "<style scoped>\n",
       "    .dataframe tbody tr th:only-of-type {\n",
       "        vertical-align: middle;\n",
       "    }\n",
       "\n",
       "    .dataframe tbody tr th {\n",
       "        vertical-align: top;\n",
       "    }\n",
       "\n",
       "    .dataframe thead th {\n",
       "        text-align: right;\n",
       "    }\n",
       "</style>\n",
       "<table border=\"1\" class=\"dataframe\">\n",
       "  <thead>\n",
       "    <tr style=\"text-align: right;\">\n",
       "      <th></th>\n",
       "      <th>Pclass</th>\n",
       "      <th>Age</th>\n",
       "      <th>SibSp</th>\n",
       "      <th>Parch</th>\n",
       "      <th>Fare</th>\n",
       "    </tr>\n",
       "  </thead>\n",
       "  <tbody>\n",
       "    <tr>\n",
       "      <th>count</th>\n",
       "      <td>889.000000</td>\n",
       "      <td>889.000000</td>\n",
       "      <td>889.000000</td>\n",
       "      <td>889.000000</td>\n",
       "      <td>889.000000</td>\n",
       "    </tr>\n",
       "    <tr>\n",
       "      <th>mean</th>\n",
       "      <td>2.311586</td>\n",
       "      <td>29.653446</td>\n",
       "      <td>0.524184</td>\n",
       "      <td>0.382452</td>\n",
       "      <td>32.096681</td>\n",
       "    </tr>\n",
       "    <tr>\n",
       "      <th>std</th>\n",
       "      <td>0.834700</td>\n",
       "      <td>12.968366</td>\n",
       "      <td>1.103705</td>\n",
       "      <td>0.806761</td>\n",
       "      <td>49.697504</td>\n",
       "    </tr>\n",
       "    <tr>\n",
       "      <th>min</th>\n",
       "      <td>1.000000</td>\n",
       "      <td>0.420000</td>\n",
       "      <td>0.000000</td>\n",
       "      <td>0.000000</td>\n",
       "      <td>0.000000</td>\n",
       "    </tr>\n",
       "    <tr>\n",
       "      <th>25%</th>\n",
       "      <td>2.000000</td>\n",
       "      <td>22.000000</td>\n",
       "      <td>0.000000</td>\n",
       "      <td>0.000000</td>\n",
       "      <td>7.895800</td>\n",
       "    </tr>\n",
       "    <tr>\n",
       "      <th>50%</th>\n",
       "      <td>3.000000</td>\n",
       "      <td>29.699118</td>\n",
       "      <td>0.000000</td>\n",
       "      <td>0.000000</td>\n",
       "      <td>14.454200</td>\n",
       "    </tr>\n",
       "    <tr>\n",
       "      <th>75%</th>\n",
       "      <td>3.000000</td>\n",
       "      <td>35.000000</td>\n",
       "      <td>1.000000</td>\n",
       "      <td>0.000000</td>\n",
       "      <td>31.000000</td>\n",
       "    </tr>\n",
       "    <tr>\n",
       "      <th>max</th>\n",
       "      <td>3.000000</td>\n",
       "      <td>80.000000</td>\n",
       "      <td>8.000000</td>\n",
       "      <td>6.000000</td>\n",
       "      <td>512.329200</td>\n",
       "    </tr>\n",
       "  </tbody>\n",
       "</table>\n",
       "</div>"
      ],
      "text/plain": [
       "           Pclass         Age       SibSp       Parch        Fare\n",
       "count  889.000000  889.000000  889.000000  889.000000  889.000000\n",
       "mean     2.311586   29.653446    0.524184    0.382452   32.096681\n",
       "std      0.834700   12.968366    1.103705    0.806761   49.697504\n",
       "min      1.000000    0.420000    0.000000    0.000000    0.000000\n",
       "25%      2.000000   22.000000    0.000000    0.000000    7.895800\n",
       "50%      3.000000   29.699118    0.000000    0.000000   14.454200\n",
       "75%      3.000000   35.000000    1.000000    0.000000   31.000000\n",
       "max      3.000000   80.000000    8.000000    6.000000  512.329200"
      ]
     },
     "execution_count": 220,
     "metadata": {},
     "output_type": "execute_result"
    }
   ],
   "source": [
    "#deal with numerical data\n",
    "numerical_data.describe()"
   ]
  },
  {
   "cell_type": "code",
   "execution_count": 221,
   "id": "8f1c8bb6",
   "metadata": {},
   "outputs": [
    {
     "data": {
      "text/plain": [
       "Pclass   -0.636998\n",
       "Age       0.431720\n",
       "Parch     2.745160\n",
       "SibSp     3.691058\n",
       "Fare      4.801440\n",
       "dtype: float64"
      ]
     },
     "execution_count": 221,
     "metadata": {},
     "output_type": "execute_result"
    }
   ],
   "source": [
    "#chacking skewness\n",
    "numerical_data.skew().sort_values()"
   ]
  },
  {
   "cell_type": "markdown",
   "id": "44057ae8",
   "metadata": {},
   "source": [
    "As we know that Only Fare and Age column are continues. and only fare column has skewness. so we can remove skewness by using power transform"
   ]
  },
  {
   "cell_type": "code",
   "execution_count": 222,
   "id": "c0427441",
   "metadata": {},
   "outputs": [],
   "source": [
    "#we can only deal with Fare because that has high skewness\n",
    "from sklearn.preprocessing import PowerTransformer\n",
    "pt= PowerTransformer(method='yeo-johnson')"
   ]
  },
  {
   "cell_type": "code",
   "execution_count": 223,
   "id": "5867ace5",
   "metadata": {},
   "outputs": [],
   "source": [
    "numerical_data_pt = pt.fit_transform(numerical_data)"
   ]
  },
  {
   "cell_type": "code",
   "execution_count": 224,
   "id": "60e1e035",
   "metadata": {},
   "outputs": [
    {
     "data": {
      "text/html": [
       "<div>\n",
       "<style scoped>\n",
       "    .dataframe tbody tr th:only-of-type {\n",
       "        vertical-align: middle;\n",
       "    }\n",
       "\n",
       "    .dataframe tbody tr th {\n",
       "        vertical-align: top;\n",
       "    }\n",
       "\n",
       "    .dataframe thead th {\n",
       "        text-align: right;\n",
       "    }\n",
       "</style>\n",
       "<table border=\"1\" class=\"dataframe\">\n",
       "  <thead>\n",
       "    <tr style=\"text-align: right;\">\n",
       "      <th></th>\n",
       "      <th>Pclass</th>\n",
       "      <th>Age</th>\n",
       "      <th>SibSp</th>\n",
       "      <th>Parch</th>\n",
       "      <th>Fare</th>\n",
       "    </tr>\n",
       "  </thead>\n",
       "  <tbody>\n",
       "    <tr>\n",
       "      <th>0</th>\n",
       "      <td>0.862195</td>\n",
       "      <td>-0.554560</td>\n",
       "      <td>1.370604</td>\n",
       "      <td>-0.561077</td>\n",
       "      <td>-0.876580</td>\n",
       "    </tr>\n",
       "    <tr>\n",
       "      <th>1</th>\n",
       "      <td>-1.462715</td>\n",
       "      <td>0.661897</td>\n",
       "      <td>1.370604</td>\n",
       "      <td>-0.561077</td>\n",
       "      <td>1.341242</td>\n",
       "    </tr>\n",
       "    <tr>\n",
       "      <th>2</th>\n",
       "      <td>0.862195</td>\n",
       "      <td>-0.239235</td>\n",
       "      <td>-0.680934</td>\n",
       "      <td>-0.561077</td>\n",
       "      <td>-0.787660</td>\n",
       "    </tr>\n",
       "    <tr>\n",
       "      <th>3</th>\n",
       "      <td>-1.462715</td>\n",
       "      <td>0.441937</td>\n",
       "      <td>1.370604</td>\n",
       "      <td>-0.561077</td>\n",
       "      <td>1.071865</td>\n",
       "    </tr>\n",
       "    <tr>\n",
       "      <th>4</th>\n",
       "      <td>0.862195</td>\n",
       "      <td>0.441937</td>\n",
       "      <td>-0.680934</td>\n",
       "      <td>-0.561077</td>\n",
       "      <td>-0.772006</td>\n",
       "    </tr>\n",
       "  </tbody>\n",
       "</table>\n",
       "</div>"
      ],
      "text/plain": [
       "     Pclass       Age     SibSp     Parch      Fare\n",
       "0  0.862195 -0.554560  1.370604 -0.561077 -0.876580\n",
       "1 -1.462715  0.661897  1.370604 -0.561077  1.341242\n",
       "2  0.862195 -0.239235 -0.680934 -0.561077 -0.787660\n",
       "3 -1.462715  0.441937  1.370604 -0.561077  1.071865\n",
       "4  0.862195  0.441937 -0.680934 -0.561077 -0.772006"
      ]
     },
     "execution_count": 224,
     "metadata": {},
     "output_type": "execute_result"
    }
   ],
   "source": [
    "numerical_data_pt = pd.DataFrame(numerical_data_pt,columns=['Pclass','Age','SibSp','Parch','Fare'])\n",
    "numerical_data_pt.head()"
   ]
  },
  {
   "cell_type": "code",
   "execution_count": 225,
   "id": "f4c54f9e",
   "metadata": {},
   "outputs": [
    {
     "data": {
      "text/plain": [
       "Parch     1.225383\n",
       "SibSp     0.805424\n",
       "Age       0.064775\n",
       "Fare     -0.041424\n",
       "Pclass   -0.444702\n",
       "dtype: float64"
      ]
     },
     "execution_count": 225,
     "metadata": {},
     "output_type": "execute_result"
    }
   ],
   "source": [
    "#again chack skewness\n",
    "numerical_data_pt.skew().sort_values(ascending=False)"
   ]
  },
  {
   "cell_type": "code",
   "execution_count": 226,
   "id": "37923b28",
   "metadata": {},
   "outputs": [
    {
     "data": {
      "image/png": "[encoded data removed]",
      "text/plain": [
       "<Figure size 1296x720 with 5 Axes>"
      ]
     },
     "metadata": {},
     "output_type": "display_data"
    }
   ],
   "source": [
    "#skewness has gone now deal with oullier\n",
    "plt.figure(figsize=(18,10),facecolor='white')\n",
    "plot = 1\n",
    "for column in numerical_data_pt:\n",
    "    if plot<=6:\n",
    "        plt.subplot(3,2,plot)\n",
    "        sns.boxplot(numerical_data_pt[column])\n",
    "        plt.title(\"Chacking Outliers\")\n",
    "    plot+=1\n",
    "plt.tight_layout()\n"
   ]
  },
  {
   "cell_type": "code",
   "execution_count": 227,
   "id": "ae4bfc74",
   "metadata": {},
   "outputs": [
    {
     "data": {
      "image/png": "[encoded data removed]",
      "text/plain": [
       "<Figure size 1296x720 with 5 Axes>"
      ]
     },
     "metadata": {},
     "output_type": "display_data"
    }
   ],
   "source": [
    "plt.figure(figsize=(18,10),facecolor='white')\n",
    "plot = 1\n",
    "for column in numerical_data_pt:\n",
    "    if plot<=6:\n",
    "        plt.subplot(3,2,plot)\n",
    "        sns.distplot(numerical_data_pt[column])\n",
    "        plt.title(\"Chacking Outliers\")\n",
    "    plot+=1\n",
    "plt.tight_layout()\n"
   ]
  },
  {
   "cell_type": "markdown",
   "id": "d3b53acd",
   "metadata": {},
   "source": [
    "Outliers are present in data set so we can deal with by using zscore method"
   ]
  },
  {
   "cell_type": "code",
   "execution_count": 228,
   "id": "30709ef3",
   "metadata": {},
   "outputs": [
    {
     "data": {
      "text/plain": [
       "(array([178, 262, 270, 276, 301, 412, 465, 480, 596, 629, 632, 673, 731,\n",
       "        805, 814, 821, 849], dtype=int64),\n",
       " array([4, 4, 4, 4, 4, 4, 4, 4, 4, 1, 4, 4, 4, 4, 4, 4, 1], dtype=int64))"
      ]
     },
     "execution_count": 228,
     "metadata": {},
     "output_type": "execute_result"
    }
   ],
   "source": [
    "#remove outlier\n",
    "from scipy.stats import zscore\n",
    "\n",
    "z = np.abs(zscore(numerical_data_pt))\n",
    "thereshold = 3\n",
    "np.where(z>3)"
   ]
  },
  {
   "cell_type": "code",
   "execution_count": 229,
   "id": "f12904e0",
   "metadata": {},
   "outputs": [
    {
     "data": {
      "text/plain": [
       "(872, 5)"
      ]
     },
     "execution_count": 229,
     "metadata": {},
     "output_type": "execute_result"
    }
   ],
   "source": [
    "#removing that data\n",
    "numerical_data_pt = numerical_data_pt[(z<3).all(axis=1)]\n",
    "numerical_data_pt.shape"
   ]
  },
  {
   "cell_type": "code",
   "execution_count": 230,
   "id": "fa2a4455",
   "metadata": {},
   "outputs": [],
   "source": [
    "#remove from other dataset\n",
    "objective_data = objective_data.drop(index=[178, 262, 270, 276, 301, 412, 465, 480, 596, 629, 632, 673, 731, 805, 814, 821, 849])"
   ]
  },
  {
   "cell_type": "code",
   "execution_count": 231,
   "id": "edc29ca9",
   "metadata": {},
   "outputs": [
    {
     "data": {
      "text/plain": [
       "(872, 3)"
      ]
     },
     "execution_count": 231,
     "metadata": {},
     "output_type": "execute_result"
    }
   ],
   "source": [
    "objective_data.shape"
   ]
  },
  {
   "cell_type": "code",
   "execution_count": 232,
   "id": "755a0653",
   "metadata": {},
   "outputs": [
    {
     "data": {
      "text/plain": [
       "(872, 1)"
      ]
     },
     "execution_count": 232,
     "metadata": {},
     "output_type": "execute_result"
    }
   ],
   "source": [
    "target_column = target_column.drop(index=[178, 262, 270, 276, 301, 412, 465, 480, 596, 629, 632, 673, 731,805, 814, 821, 849])\n",
    "target_column.shape"
   ]
  },
  {
   "cell_type": "code",
   "execution_count": 233,
   "id": "a454bd05",
   "metadata": {},
   "outputs": [
    {
     "data": {
      "image/png": "[encoded data removed]",
      "text/plain": [
       "<Figure size 1296x720 with 5 Axes>"
      ]
     },
     "metadata": {},
     "output_type": "display_data"
    }
   ],
   "source": [
    "plt.figure(figsize=(18,10),facecolor='white')\n",
    "plot = 1\n",
    "for column in numerical_data_pt:\n",
    "    if plot<=6:\n",
    "        plt.subplot(3,2,plot)\n",
    "        sns.boxplot(numerical_data_pt[column])\n",
    "        plt.title(\"Chacking Outliers\")\n",
    "    plot+=1\n",
    "plt.tight_layout()\n"
   ]
  },
  {
   "cell_type": "code",
   "execution_count": 234,
   "id": "ca4886b8",
   "metadata": {},
   "outputs": [
    {
     "data": {
      "image/png": "[encoded data removed]",
      "text/plain": [
       "<Figure size 1296x720 with 5 Axes>"
      ]
     },
     "metadata": {},
     "output_type": "display_data"
    }
   ],
   "source": [
    "plt.figure(figsize=(18,10),facecolor='white')\n",
    "plot = 1\n",
    "for column in numerical_data_pt:\n",
    "    if plot<=6:\n",
    "        plt.subplot(3,2,plot)\n",
    "        sns.distplot(numerical_data_pt[column])\n",
    "        plt.title(\"Chacking Outliers\")\n",
    "    plot+=1\n",
    "plt.tight_layout()"
   ]
  },
  {
   "cell_type": "code",
   "execution_count": 235,
   "id": "164cf0d8",
   "metadata": {},
   "outputs": [
    {
     "data": {
      "text/html": [
       "<div>\n",
       "<style scoped>\n",
       "    .dataframe tbody tr th:only-of-type {\n",
       "        vertical-align: middle;\n",
       "    }\n",
       "\n",
       "    .dataframe tbody tr th {\n",
       "        vertical-align: top;\n",
       "    }\n",
       "\n",
       "    .dataframe thead th {\n",
       "        text-align: right;\n",
       "    }\n",
       "</style>\n",
       "<table border=\"1\" class=\"dataframe\">\n",
       "  <thead>\n",
       "    <tr style=\"text-align: right;\">\n",
       "      <th></th>\n",
       "      <th>Pclass</th>\n",
       "      <th>Age</th>\n",
       "      <th>SibSp</th>\n",
       "      <th>Parch</th>\n",
       "      <th>Fare</th>\n",
       "      <th>Sex</th>\n",
       "      <th>Cabin</th>\n",
       "      <th>Embarked</th>\n",
       "    </tr>\n",
       "  </thead>\n",
       "  <tbody>\n",
       "    <tr>\n",
       "      <th>0</th>\n",
       "      <td>0.862195</td>\n",
       "      <td>-0.554560</td>\n",
       "      <td>1.370604</td>\n",
       "      <td>-0.561077</td>\n",
       "      <td>-0.876580</td>\n",
       "      <td>male</td>\n",
       "      <td>B96</td>\n",
       "      <td>S</td>\n",
       "    </tr>\n",
       "    <tr>\n",
       "      <th>1</th>\n",
       "      <td>-1.462715</td>\n",
       "      <td>0.661897</td>\n",
       "      <td>1.370604</td>\n",
       "      <td>-0.561077</td>\n",
       "      <td>1.341242</td>\n",
       "      <td>female</td>\n",
       "      <td>C85</td>\n",
       "      <td>C</td>\n",
       "    </tr>\n",
       "    <tr>\n",
       "      <th>2</th>\n",
       "      <td>0.862195</td>\n",
       "      <td>-0.239235</td>\n",
       "      <td>-0.680934</td>\n",
       "      <td>-0.561077</td>\n",
       "      <td>-0.787660</td>\n",
       "      <td>female</td>\n",
       "      <td>B96</td>\n",
       "      <td>S</td>\n",
       "    </tr>\n",
       "    <tr>\n",
       "      <th>3</th>\n",
       "      <td>-1.462715</td>\n",
       "      <td>0.441937</td>\n",
       "      <td>1.370604</td>\n",
       "      <td>-0.561077</td>\n",
       "      <td>1.071865</td>\n",
       "      <td>female</td>\n",
       "      <td>C123</td>\n",
       "      <td>S</td>\n",
       "    </tr>\n",
       "    <tr>\n",
       "      <th>4</th>\n",
       "      <td>0.862195</td>\n",
       "      <td>0.441937</td>\n",
       "      <td>-0.680934</td>\n",
       "      <td>-0.561077</td>\n",
       "      <td>-0.772006</td>\n",
       "      <td>male</td>\n",
       "      <td>B96</td>\n",
       "      <td>S</td>\n",
       "    </tr>\n",
       "  </tbody>\n",
       "</table>\n",
       "</div>"
      ],
      "text/plain": [
       "     Pclass       Age     SibSp     Parch      Fare     Sex Cabin Embarked\n",
       "0  0.862195 -0.554560  1.370604 -0.561077 -0.876580    male   B96        S\n",
       "1 -1.462715  0.661897  1.370604 -0.561077  1.341242  female   C85        C\n",
       "2  0.862195 -0.239235 -0.680934 -0.561077 -0.787660  female   B96        S\n",
       "3 -1.462715  0.441937  1.370604 -0.561077  1.071865  female  C123        S\n",
       "4  0.862195  0.441937 -0.680934 -0.561077 -0.772006    male   B96        S"
      ]
     },
     "execution_count": 235,
     "metadata": {},
     "output_type": "execute_result"
    }
   ],
   "source": [
    "#All data set join \n",
    "new_df = numerical_data_pt.join(objective_data)\n",
    "new_df.head()"
   ]
  },
  {
   "cell_type": "code",
   "execution_count": 236,
   "id": "841bdb4a",
   "metadata": {},
   "outputs": [
    {
     "data": {
      "text/html": [
       "<div>\n",
       "<style scoped>\n",
       "    .dataframe tbody tr th:only-of-type {\n",
       "        vertical-align: middle;\n",
       "    }\n",
       "\n",
       "    .dataframe tbody tr th {\n",
       "        vertical-align: top;\n",
       "    }\n",
       "\n",
       "    .dataframe thead th {\n",
       "        text-align: right;\n",
       "    }\n",
       "</style>\n",
       "<table border=\"1\" class=\"dataframe\">\n",
       "  <thead>\n",
       "    <tr style=\"text-align: right;\">\n",
       "      <th></th>\n",
       "      <th>Pclass</th>\n",
       "      <th>Age</th>\n",
       "      <th>SibSp</th>\n",
       "      <th>Parch</th>\n",
       "      <th>Fare</th>\n",
       "      <th>Sex</th>\n",
       "      <th>Cabin</th>\n",
       "      <th>Embarked</th>\n",
       "      <th>Survived</th>\n",
       "    </tr>\n",
       "  </thead>\n",
       "  <tbody>\n",
       "    <tr>\n",
       "      <th>0</th>\n",
       "      <td>0.862195</td>\n",
       "      <td>-0.554560</td>\n",
       "      <td>1.370604</td>\n",
       "      <td>-0.561077</td>\n",
       "      <td>-0.876580</td>\n",
       "      <td>male</td>\n",
       "      <td>B96</td>\n",
       "      <td>S</td>\n",
       "      <td>0.0</td>\n",
       "    </tr>\n",
       "    <tr>\n",
       "      <th>1</th>\n",
       "      <td>-1.462715</td>\n",
       "      <td>0.661897</td>\n",
       "      <td>1.370604</td>\n",
       "      <td>-0.561077</td>\n",
       "      <td>1.341242</td>\n",
       "      <td>female</td>\n",
       "      <td>C85</td>\n",
       "      <td>C</td>\n",
       "      <td>1.0</td>\n",
       "    </tr>\n",
       "    <tr>\n",
       "      <th>2</th>\n",
       "      <td>0.862195</td>\n",
       "      <td>-0.239235</td>\n",
       "      <td>-0.680934</td>\n",
       "      <td>-0.561077</td>\n",
       "      <td>-0.787660</td>\n",
       "      <td>female</td>\n",
       "      <td>B96</td>\n",
       "      <td>S</td>\n",
       "      <td>1.0</td>\n",
       "    </tr>\n",
       "    <tr>\n",
       "      <th>3</th>\n",
       "      <td>-1.462715</td>\n",
       "      <td>0.441937</td>\n",
       "      <td>1.370604</td>\n",
       "      <td>-0.561077</td>\n",
       "      <td>1.071865</td>\n",
       "      <td>female</td>\n",
       "      <td>C123</td>\n",
       "      <td>S</td>\n",
       "      <td>1.0</td>\n",
       "    </tr>\n",
       "    <tr>\n",
       "      <th>4</th>\n",
       "      <td>0.862195</td>\n",
       "      <td>0.441937</td>\n",
       "      <td>-0.680934</td>\n",
       "      <td>-0.561077</td>\n",
       "      <td>-0.772006</td>\n",
       "      <td>male</td>\n",
       "      <td>B96</td>\n",
       "      <td>S</td>\n",
       "      <td>0.0</td>\n",
       "    </tr>\n",
       "  </tbody>\n",
       "</table>\n",
       "</div>"
      ],
      "text/plain": [
       "     Pclass       Age     SibSp     Parch      Fare     Sex Cabin Embarked  \\\n",
       "0  0.862195 -0.554560  1.370604 -0.561077 -0.876580    male   B96        S   \n",
       "1 -1.462715  0.661897  1.370604 -0.561077  1.341242  female   C85        C   \n",
       "2  0.862195 -0.239235 -0.680934 -0.561077 -0.787660  female   B96        S   \n",
       "3 -1.462715  0.441937  1.370604 -0.561077  1.071865  female  C123        S   \n",
       "4  0.862195  0.441937 -0.680934 -0.561077 -0.772006    male   B96        S   \n",
       "\n",
       "   Survived  \n",
       "0       0.0  \n",
       "1       1.0  \n",
       "2       1.0  \n",
       "3       1.0  \n",
       "4       0.0  "
      ]
     },
     "execution_count": 236,
     "metadata": {},
     "output_type": "execute_result"
    }
   ],
   "source": [
    "new_df = new_df.join(target_column)\n",
    "new_df.head()"
   ]
  },
  {
   "cell_type": "code",
   "execution_count": 237,
   "id": "acdeaeb6",
   "metadata": {},
   "outputs": [
    {
     "data": {
      "text/plain": [
       "Pclass      0\n",
       "Age         0\n",
       "SibSp       0\n",
       "Parch       0\n",
       "Fare        0\n",
       "Sex         2\n",
       "Cabin       2\n",
       "Embarked    2\n",
       "Survived    2\n",
       "dtype: int64"
      ]
     },
     "execution_count": 237,
     "metadata": {},
     "output_type": "execute_result"
    }
   ],
   "source": [
    "new_df.isna().sum()"
   ]
  },
  {
   "cell_type": "code",
   "execution_count": 238,
   "id": "9a113a00",
   "metadata": {},
   "outputs": [],
   "source": [
    "new_df = new_df.dropna()"
   ]
  },
  {
   "cell_type": "code",
   "execution_count": 239,
   "id": "595931ac",
   "metadata": {},
   "outputs": [
    {
     "data": {
      "text/plain": [
       "Pclass      0\n",
       "Age         0\n",
       "SibSp       0\n",
       "Parch       0\n",
       "Fare        0\n",
       "Sex         0\n",
       "Cabin       0\n",
       "Embarked    0\n",
       "Survived    0\n",
       "dtype: int64"
      ]
     },
     "execution_count": 239,
     "metadata": {},
     "output_type": "execute_result"
    }
   ],
   "source": [
    "new_df.isna().sum()"
   ]
  },
  {
   "cell_type": "markdown",
   "id": "5f6e5821",
   "metadata": {},
   "source": [
    "Use get_dummies for objective data types"
   ]
  },
  {
   "cell_type": "code",
   "execution_count": 240,
   "id": "a05f5382",
   "metadata": {},
   "outputs": [],
   "source": [
    "#deal with objective data\n",
    "new_df = pd.get_dummies(data=new_df,columns=['Sex','Cabin','Embarked'])"
   ]
  },
  {
   "cell_type": "code",
   "execution_count": 241,
   "id": "a77d22c3",
   "metadata": {},
   "outputs": [
    {
     "data": {
      "text/html": [
       "<div>\n",
       "<style scoped>\n",
       "    .dataframe tbody tr th:only-of-type {\n",
       "        vertical-align: middle;\n",
       "    }\n",
       "\n",
       "    .dataframe tbody tr th {\n",
       "        vertical-align: top;\n",
       "    }\n",
       "\n",
       "    .dataframe thead th {\n",
       "        text-align: right;\n",
       "    }\n",
       "</style>\n",
       "<table border=\"1\" class=\"dataframe\">\n",
       "  <thead>\n",
       "    <tr style=\"text-align: right;\">\n",
       "      <th></th>\n",
       "      <th>Pclass</th>\n",
       "      <th>Age</th>\n",
       "      <th>SibSp</th>\n",
       "      <th>Parch</th>\n",
       "      <th>Fare</th>\n",
       "      <th>Survived</th>\n",
       "      <th>Sex_female</th>\n",
       "      <th>Sex_male</th>\n",
       "      <th>Cabin_A10</th>\n",
       "      <th>Cabin_A14</th>\n",
       "      <th>...</th>\n",
       "      <th>Cabin_F G73</th>\n",
       "      <th>Cabin_F2</th>\n",
       "      <th>Cabin_F33</th>\n",
       "      <th>Cabin_F38</th>\n",
       "      <th>Cabin_F4</th>\n",
       "      <th>Cabin_G6</th>\n",
       "      <th>Cabin_T</th>\n",
       "      <th>Embarked_C</th>\n",
       "      <th>Embarked_Q</th>\n",
       "      <th>Embarked_S</th>\n",
       "    </tr>\n",
       "  </thead>\n",
       "  <tbody>\n",
       "    <tr>\n",
       "      <th>0</th>\n",
       "      <td>0.862195</td>\n",
       "      <td>-0.554560</td>\n",
       "      <td>1.370604</td>\n",
       "      <td>-0.561077</td>\n",
       "      <td>-0.876580</td>\n",
       "      <td>0.0</td>\n",
       "      <td>0</td>\n",
       "      <td>1</td>\n",
       "      <td>0</td>\n",
       "      <td>0</td>\n",
       "      <td>...</td>\n",
       "      <td>0</td>\n",
       "      <td>0</td>\n",
       "      <td>0</td>\n",
       "      <td>0</td>\n",
       "      <td>0</td>\n",
       "      <td>0</td>\n",
       "      <td>0</td>\n",
       "      <td>0</td>\n",
       "      <td>0</td>\n",
       "      <td>1</td>\n",
       "    </tr>\n",
       "    <tr>\n",
       "      <th>1</th>\n",
       "      <td>-1.462715</td>\n",
       "      <td>0.661897</td>\n",
       "      <td>1.370604</td>\n",
       "      <td>-0.561077</td>\n",
       "      <td>1.341242</td>\n",
       "      <td>1.0</td>\n",
       "      <td>1</td>\n",
       "      <td>0</td>\n",
       "      <td>0</td>\n",
       "      <td>0</td>\n",
       "      <td>...</td>\n",
       "      <td>0</td>\n",
       "      <td>0</td>\n",
       "      <td>0</td>\n",
       "      <td>0</td>\n",
       "      <td>0</td>\n",
       "      <td>0</td>\n",
       "      <td>0</td>\n",
       "      <td>1</td>\n",
       "      <td>0</td>\n",
       "      <td>0</td>\n",
       "    </tr>\n",
       "    <tr>\n",
       "      <th>2</th>\n",
       "      <td>0.862195</td>\n",
       "      <td>-0.239235</td>\n",
       "      <td>-0.680934</td>\n",
       "      <td>-0.561077</td>\n",
       "      <td>-0.787660</td>\n",
       "      <td>1.0</td>\n",
       "      <td>1</td>\n",
       "      <td>0</td>\n",
       "      <td>0</td>\n",
       "      <td>0</td>\n",
       "      <td>...</td>\n",
       "      <td>0</td>\n",
       "      <td>0</td>\n",
       "      <td>0</td>\n",
       "      <td>0</td>\n",
       "      <td>0</td>\n",
       "      <td>0</td>\n",
       "      <td>0</td>\n",
       "      <td>0</td>\n",
       "      <td>0</td>\n",
       "      <td>1</td>\n",
       "    </tr>\n",
       "    <tr>\n",
       "      <th>3</th>\n",
       "      <td>-1.462715</td>\n",
       "      <td>0.441937</td>\n",
       "      <td>1.370604</td>\n",
       "      <td>-0.561077</td>\n",
       "      <td>1.071865</td>\n",
       "      <td>1.0</td>\n",
       "      <td>1</td>\n",
       "      <td>0</td>\n",
       "      <td>0</td>\n",
       "      <td>0</td>\n",
       "      <td>...</td>\n",
       "      <td>0</td>\n",
       "      <td>0</td>\n",
       "      <td>0</td>\n",
       "      <td>0</td>\n",
       "      <td>0</td>\n",
       "      <td>0</td>\n",
       "      <td>0</td>\n",
       "      <td>0</td>\n",
       "      <td>0</td>\n",
       "      <td>1</td>\n",
       "    </tr>\n",
       "    <tr>\n",
       "      <th>4</th>\n",
       "      <td>0.862195</td>\n",
       "      <td>0.441937</td>\n",
       "      <td>-0.680934</td>\n",
       "      <td>-0.561077</td>\n",
       "      <td>-0.772006</td>\n",
       "      <td>0.0</td>\n",
       "      <td>0</td>\n",
       "      <td>1</td>\n",
       "      <td>0</td>\n",
       "      <td>0</td>\n",
       "      <td>...</td>\n",
       "      <td>0</td>\n",
       "      <td>0</td>\n",
       "      <td>0</td>\n",
       "      <td>0</td>\n",
       "      <td>0</td>\n",
       "      <td>0</td>\n",
       "      <td>0</td>\n",
       "      <td>0</td>\n",
       "      <td>0</td>\n",
       "      <td>1</td>\n",
       "    </tr>\n",
       "  </tbody>\n",
       "</table>\n",
       "<p>5 rows × 156 columns</p>\n",
       "</div>"
      ],
      "text/plain": [
       "     Pclass       Age     SibSp     Parch      Fare  Survived  Sex_female  \\\n",
       "0  0.862195 -0.554560  1.370604 -0.561077 -0.876580       0.0           0   \n",
       "1 -1.462715  0.661897  1.370604 -0.561077  1.341242       1.0           1   \n",
       "2  0.862195 -0.239235 -0.680934 -0.561077 -0.787660       1.0           1   \n",
       "3 -1.462715  0.441937  1.370604 -0.561077  1.071865       1.0           1   \n",
       "4  0.862195  0.441937 -0.680934 -0.561077 -0.772006       0.0           0   \n",
       "\n",
       "   Sex_male  Cabin_A10  Cabin_A14  ...  Cabin_F G73  Cabin_F2  Cabin_F33  \\\n",
       "0         1          0          0  ...            0         0          0   \n",
       "1         0          0          0  ...            0         0          0   \n",
       "2         0          0          0  ...            0         0          0   \n",
       "3         0          0          0  ...            0         0          0   \n",
       "4         1          0          0  ...            0         0          0   \n",
       "\n",
       "   Cabin_F38  Cabin_F4  Cabin_G6  Cabin_T  Embarked_C  Embarked_Q  Embarked_S  \n",
       "0          0         0         0        0           0           0           1  \n",
       "1          0         0         0        0           1           0           0  \n",
       "2          0         0         0        0           0           0           1  \n",
       "3          0         0         0        0           0           0           1  \n",
       "4          0         0         0        0           0           0           1  \n",
       "\n",
       "[5 rows x 156 columns]"
      ]
     },
     "execution_count": 241,
     "metadata": {},
     "output_type": "execute_result"
    }
   ],
   "source": [
    "new_df.head()"
   ]
  },
  {
   "cell_type": "code",
   "execution_count": 242,
   "id": "69447902",
   "metadata": {},
   "outputs": [
    {
     "data": {
      "text/plain": [
       "(870, 156)"
      ]
     },
     "execution_count": 242,
     "metadata": {},
     "output_type": "execute_result"
    }
   ],
   "source": [
    "new_df.shape"
   ]
  },
  {
   "cell_type": "code",
   "execution_count": 243,
   "id": "cc2c51ee",
   "metadata": {},
   "outputs": [],
   "source": [
    "#now split data into feature and target\n",
    "target_df = new_df['Survived']\n",
    "feature_df = new_df.drop(columns=['Survived'])"
   ]
  },
  {
   "cell_type": "code",
   "execution_count": 244,
   "id": "188e6606",
   "metadata": {},
   "outputs": [
    {
     "data": {
      "text/plain": [
       "0"
      ]
     },
     "execution_count": 244,
     "metadata": {},
     "output_type": "execute_result"
    }
   ],
   "source": [
    "target_df.isna().sum()"
   ]
  },
  {
   "cell_type": "code",
   "execution_count": 245,
   "id": "5db26362",
   "metadata": {},
   "outputs": [
    {
     "data": {
      "text/plain": [
       "Pclass        0\n",
       "Age           0\n",
       "SibSp         0\n",
       "Parch         0\n",
       "Fare          0\n",
       "             ..\n",
       "Cabin_G6      0\n",
       "Cabin_T       0\n",
       "Embarked_C    0\n",
       "Embarked_Q    0\n",
       "Embarked_S    0\n",
       "Length: 155, dtype: int64"
      ]
     },
     "execution_count": 245,
     "metadata": {},
     "output_type": "execute_result"
    }
   ],
   "source": [
    "feature_df.isna().sum()"
   ]
  },
  {
   "cell_type": "markdown",
   "id": "f2dde49e",
   "metadata": {},
   "source": [
    "Now data looks good and all proceses is completed"
   ]
  },
  {
   "cell_type": "code",
   "execution_count": 246,
   "id": "c5f3566e",
   "metadata": {},
   "outputs": [],
   "source": [
    "#standerScaler \n",
    "from sklearn.preprocessing import StandardScaler\n",
    "sds = StandardScaler()"
   ]
  },
  {
   "cell_type": "code",
   "execution_count": 247,
   "id": "4c642a49",
   "metadata": {},
   "outputs": [
    {
     "data": {
      "text/plain": [
       "array([[ 0.85169722, -0.54950219,  1.35480017, ..., -0.48196952,\n",
       "        -0.30264414,  0.61188854],\n",
       "       [-1.47632863,  0.67795674,  1.35480017, ...,  2.07482   ,\n",
       "        -0.30264414, -1.63428458],\n",
       "       [ 0.85169722, -0.23132523, -0.68821927, ..., -0.48196952,\n",
       "        -0.30264414,  0.61188854],\n",
       "       ...,\n",
       "       [ 0.85169722,  0.0554752 ,  1.35480017, ..., -0.48196952,\n",
       "        -0.30264414,  0.61188854],\n",
       "       [-1.47632863, -0.23132523, -0.68821927, ..., -0.48196952,\n",
       "        -0.30264414,  0.61188854],\n",
       "       [ 0.85169722,  0.23073061, -0.68821927, ..., -0.48196952,\n",
       "        -0.30264414,  0.61188854]])"
      ]
     },
     "execution_count": 247,
     "metadata": {},
     "output_type": "execute_result"
    }
   ],
   "source": [
    "feature_df_scaled = sds.fit_transform(feature_df)\n",
    "feature_df_scaled"
   ]
  },
  {
   "cell_type": "code",
   "execution_count": 248,
   "id": "48c32c63",
   "metadata": {},
   "outputs": [
    {
     "data": {
      "text/html": [
       "<div>\n",
       "<style scoped>\n",
       "    .dataframe tbody tr th:only-of-type {\n",
       "        vertical-align: middle;\n",
       "    }\n",
       "\n",
       "    .dataframe tbody tr th {\n",
       "        vertical-align: top;\n",
       "    }\n",
       "\n",
       "    .dataframe thead th {\n",
       "        text-align: right;\n",
       "    }\n",
       "</style>\n",
       "<table border=\"1\" class=\"dataframe\">\n",
       "  <thead>\n",
       "    <tr style=\"text-align: right;\">\n",
       "      <th></th>\n",
       "      <th>VIF Score</th>\n",
       "      <th>Features</th>\n",
       "    </tr>\n",
       "  </thead>\n",
       "  <tbody>\n",
       "    <tr>\n",
       "      <th>0</th>\n",
       "      <td>3.354476</td>\n",
       "      <td>Pclass</td>\n",
       "    </tr>\n",
       "    <tr>\n",
       "      <th>1</th>\n",
       "      <td>1.518809</td>\n",
       "      <td>Age</td>\n",
       "    </tr>\n",
       "    <tr>\n",
       "      <th>2</th>\n",
       "      <td>1.740955</td>\n",
       "      <td>SibSp</td>\n",
       "    </tr>\n",
       "    <tr>\n",
       "      <th>3</th>\n",
       "      <td>1.866879</td>\n",
       "      <td>Parch</td>\n",
       "    </tr>\n",
       "    <tr>\n",
       "      <th>4</th>\n",
       "      <td>4.267294</td>\n",
       "      <td>Fare</td>\n",
       "    </tr>\n",
       "  </tbody>\n",
       "</table>\n",
       "</div>"
      ],
      "text/plain": [
       "   VIF Score Features\n",
       "0   3.354476   Pclass\n",
       "1   1.518809      Age\n",
       "2   1.740955    SibSp\n",
       "3   1.866879    Parch\n",
       "4   4.267294     Fare"
      ]
     },
     "execution_count": 248,
     "metadata": {},
     "output_type": "execute_result"
    }
   ],
   "source": [
    "# Let's check the VIF Score first..\n",
    "\n",
    "from statsmodels.stats.outliers_influence import variance_inflation_factor\n",
    "\n",
    "vif = pd.DataFrame()\n",
    "vif[\"VIF Score\"] = [variance_inflation_factor(feature_df_scaled,i) for i in range(feature_df_scaled.shape[1])]\n",
    "vif[\"Features\"] = feature_df.columns\n",
    "                    \n",
    "vif.head(5)"
   ]
  },
  {
   "cell_type": "markdown",
   "id": "508e147e",
   "metadata": {},
   "source": [
    "All the VIF Scores are less than 5. Now it is cross verified that multicollinearity is not exists between the features. Let's do the analysis of target column now."
   ]
  },
  {
   "cell_type": "code",
   "execution_count": 249,
   "id": "6fdffd97",
   "metadata": {},
   "outputs": [
    {
     "data": {
      "text/plain": [
       "0.0    538\n",
       "1.0    332\n",
       "Name: Survived, dtype: int64"
      ]
     },
     "execution_count": 249,
     "metadata": {},
     "output_type": "execute_result"
    }
   ],
   "source": [
    "#now chack target column\n",
    "target_df.value_counts()"
   ]
  },
  {
   "cell_type": "code",
   "execution_count": 250,
   "id": "1bf70382",
   "metadata": {},
   "outputs": [
    {
     "data": {
      "image/png": "[encoded data removed]",
      "text/plain": [
       "<Figure size 432x288 with 1 Axes>"
      ]
     },
     "metadata": {
      "needs_background": "light"
     },
     "output_type": "display_data"
    }
   ],
   "source": [
    "sns.countplot(target_df)\n",
    "plt.show()"
   ]
  },
  {
   "cell_type": "markdown",
   "id": "10e2ea98",
   "metadata": {},
   "source": [
    "target data is imblenced so we use over sampling"
   ]
  },
  {
   "cell_type": "code",
   "execution_count": 251,
   "id": "fc2422e3",
   "metadata": {},
   "outputs": [],
   "source": [
    "#import six\n",
    "#import joblib\n",
    "#import sys\n",
    "#sys.modules['sklearn.externals.six'] = six\n",
    "#sys.modules['sklearn.externals.joblib'] = joblib\n",
    "#from imblearn.over_sampling import SMOTE"
   ]
  },
  {
   "cell_type": "code",
   "execution_count": 252,
   "id": "a259a648",
   "metadata": {},
   "outputs": [],
   "source": [
    "#over_sample = SMOTE(0.75)\n",
    "#feature_df,target_df = over_sample.fit_resample(feature_df,target_df)"
   ]
  },
  {
   "cell_type": "code",
   "execution_count": 253,
   "id": "8ff50249",
   "metadata": {},
   "outputs": [],
   "source": [
    "#now target data looks good\n",
    "#target_df.value_counts()"
   ]
  },
  {
   "cell_type": "code",
   "execution_count": 254,
   "id": "5e899c26",
   "metadata": {},
   "outputs": [
    {
     "name": "stdout",
     "output_type": "stream",
     "text": [
      "Number of component explaining 95% variance :  140\n"
     ]
    },
    {
     "data": {
      "text/plain": [
       "[]"
      ]
     },
     "execution_count": 254,
     "metadata": {},
     "output_type": "execute_result"
    },
    {
     "data": {
      "image/png": "[encoded data removed]",
      "text/plain": [
       "<Figure size 432x288 with 1 Axes>"
      ]
     },
     "metadata": {
      "needs_background": "light"
     },
     "output_type": "display_data"
    }
   ],
   "source": [
    "#use pca for best features\n",
    "\n",
    "from sklearn.decomposition import PCA\n",
    "from sklearn.metrics import explained_variance_score\n",
    "\n",
    "x_pca = PCA()\n",
    "x_pca.fit(feature_df_scaled)\n",
    "\n",
    "var_cumu = np.cumsum(x_pca.explained_variance_ratio_)*100\n",
    "\n",
    "k = np.argmax(var_cumu>95)\n",
    "print(\"Number of component explaining 95% variance : \",k)\n",
    "\n",
    "plt.xlabel(\"Principle Component\", fontsize=15)\n",
    "plt.ylabel(\"Cumulative Explained Variance\", fontsize=15)\n",
    "plt.axvline(x=k, color='k', linestyle='--')\n",
    "plt.axhline(y=95, color='r', linestyle='--')\n",
    "plt.plot(var_cumu)\n",
    "plt.plot()"
   ]
  },
  {
   "cell_type": "code",
   "execution_count": 255,
   "id": "51f71dde",
   "metadata": {},
   "outputs": [],
   "source": [
    "#only 140 component is good for this\n",
    "pca = PCA(n_components=140)"
   ]
  },
  {
   "cell_type": "code",
   "execution_count": 256,
   "id": "4660aadc",
   "metadata": {},
   "outputs": [],
   "source": [
    "feature_df_scaled_pca_final = pca.fit_transform(feature_df_scaled)"
   ]
  },
  {
   "cell_type": "code",
   "execution_count": 257,
   "id": "268e66b5",
   "metadata": {},
   "outputs": [
    {
     "data": {
      "text/plain": [
       "array([[-1.30088118e+00, -1.06450600e+00,  1.11777410e-03, ...,\n",
       "        -2.81529730e-15, -1.58188623e-15,  6.03312694e-16],\n",
       "       [ 4.39138092e+00,  4.01565560e+00,  1.90128158e+00, ...,\n",
       "        -1.68515816e-02, -5.29807707e+00,  6.91772166e+00],\n",
       "       [ 7.16363590e-01, -7.68253561e-01, -1.93542663e+00, ...,\n",
       "         9.79566781e-17,  1.60387469e-15, -4.56356613e-16],\n",
       "       ...,\n",
       "       [-1.78333966e+00,  3.87910221e-01,  6.73615901e-01, ...,\n",
       "         3.92755667e-16, -1.21767021e-15, -7.73056328e-17],\n",
       "       [ 1.74457816e+00,  2.44141710e+00, -2.85838572e+00, ...,\n",
       "         3.52429956e+00,  2.82635146e+00, -3.46617863e+00],\n",
       "       [ 7.41022710e-01, -7.49244604e-01, -1.97673695e+00, ...,\n",
       "         4.99301798e-16,  1.70814991e-16, -1.96255540e-16]])"
      ]
     },
     "execution_count": 257,
     "metadata": {},
     "output_type": "execute_result"
    }
   ],
   "source": [
    "feature_df_scaled_pca_final"
   ]
  },
  {
   "cell_type": "markdown",
   "id": "7fda5c00",
   "metadata": {},
   "source": [
    "# Modal building"
   ]
  },
  {
   "cell_type": "code",
   "execution_count": 258,
   "id": "d10c1829",
   "metadata": {},
   "outputs": [],
   "source": [
    "from sklearn.model_selection import train_test_split\n",
    "from sklearn.metrics import accuracy_score,confusion_matrix,classification_report\n",
    "from sklearn.linear_model import LogisticRegression"
   ]
  },
  {
   "cell_type": "code",
   "execution_count": 259,
   "id": "c021a749",
   "metadata": {},
   "outputs": [],
   "source": [
    "# Let's find the best random state\n",
    "\n",
    "def model(mod):\n",
    "    max_auc = 0\n",
    "    max_state = 0\n",
    "    for i in range(1,201):\n",
    "        x_train,x_test,y_train,y_test = train_test_split(feature_df_scaled_pca_final,target_df,test_size = 0.25, random_state =i)\n",
    "        mod.fit(x_train,y_train)\n",
    "        y_pred = mod.predict(x_test)\n",
    "        auc_scor = accuracy_score(y_test, y_pred)\n",
    "        if auc_scor>max_auc:\n",
    "            max_auc=auc_scor\n",
    "            max_state=i\n",
    "    print(\"Best Accuracy Score corresponding to \",max_state,\"is \",auc_scor)\n",
    "    print(\"Classifiation Report-->\\n\\n\",classification_report(y_test,y_pred))"
   ]
  },
  {
   "cell_type": "markdown",
   "id": "04d45cb1",
   "metadata": {},
   "source": [
    "# Modal building Final"
   ]
  },
  {
   "cell_type": "code",
   "execution_count": 284,
   "id": "4fa8c5a7",
   "metadata": {},
   "outputs": [],
   "source": [
    "def Modal_all(mob):\n",
    "    x_train,x_test,y_train,y_test = train_test_split(feature_df_scaled_pca_final,target_df,random_state=150,test_size=0.25)\n",
    "    mob.fit(x_train,y_train)\n",
    "    y_pre = mob.predict(x_test)\n",
    "    \n",
    "    print(\"Accuracy score of this modal is :\\n\",accuracy_score(y_test,y_pre))\n",
    "    \n",
    "    print(\"Confusion matrix of this modal is :\\n\",confusion_matrix(y_test,y_pre))\n",
    "    \n",
    "    print(\"Classification report of this modal is :\\n\",classification_report(y_test,y_pre))\n",
    "    \n",
    "    print(\"Cross Validation Score : \",cross_val_score(mob,feature_df_scaled_pca_final,target_df,cv=5).mean())\n",
    "    "
   ]
  },
  {
   "cell_type": "markdown",
   "id": "a3b9aeb1",
   "metadata": {},
   "source": [
    "# Logistic Regression"
   ]
  },
  {
   "cell_type": "code",
   "execution_count": 285,
   "id": "f017527a",
   "metadata": {},
   "outputs": [
    {
     "name": "stdout",
     "output_type": "stream",
     "text": [
      "Accuracy score of this modal is :\n",
      " 0.8119266055045872\n",
      "Confusion matrix of this modal is :\n",
      " [[127  15]\n",
      " [ 26  50]]\n",
      "Classification report of this modal is :\n",
      "               precision    recall  f1-score   support\n",
      "\n",
      "         0.0       0.83      0.89      0.86       142\n",
      "         1.0       0.77      0.66      0.71        76\n",
      "\n",
      "    accuracy                           0.81       218\n",
      "   macro avg       0.80      0.78      0.79       218\n",
      "weighted avg       0.81      0.81      0.81       218\n",
      "\n",
      "Cross Validation Score :  0.7494252873563217\n"
     ]
    }
   ],
   "source": [
    "log_regression = LogisticRegression()\n",
    "Modal_all(log_regression)\n"
   ]
  },
  {
   "cell_type": "markdown",
   "id": "532a0031",
   "metadata": {},
   "source": [
    "# Random Forest"
   ]
  },
  {
   "cell_type": "code",
   "execution_count": 286,
   "id": "4d095781",
   "metadata": {},
   "outputs": [
    {
     "name": "stdout",
     "output_type": "stream",
     "text": [
      "Accuracy score of this modal is :\n",
      " 0.8165137614678899\n",
      "Confusion matrix of this modal is :\n",
      " [[125  17]\n",
      " [ 23  53]]\n",
      "Classification report of this modal is :\n",
      "               precision    recall  f1-score   support\n",
      "\n",
      "         0.0       0.84      0.88      0.86       142\n",
      "         1.0       0.76      0.70      0.73        76\n",
      "\n",
      "    accuracy                           0.82       218\n",
      "   macro avg       0.80      0.79      0.79       218\n",
      "weighted avg       0.81      0.82      0.81       218\n",
      "\n",
      "Cross Validation Score :  0.7275862068965517\n"
     ]
    }
   ],
   "source": [
    "from sklearn.ensemble import RandomForestClassifier\n",
    "rand_for = RandomForestClassifier()\n",
    "Modal_all(rand_for)"
   ]
  },
  {
   "cell_type": "markdown",
   "id": "643aa0aa",
   "metadata": {},
   "source": [
    "# Knn Modal"
   ]
  },
  {
   "cell_type": "code",
   "execution_count": 287,
   "id": "1de01c73",
   "metadata": {},
   "outputs": [
    {
     "name": "stdout",
     "output_type": "stream",
     "text": [
      "Accuracy score of this modal is :\n",
      " 0.7981651376146789\n",
      "Confusion matrix of this modal is :\n",
      " [[128  14]\n",
      " [ 30  46]]\n",
      "Classification report of this modal is :\n",
      "               precision    recall  f1-score   support\n",
      "\n",
      "         0.0       0.81      0.90      0.85       142\n",
      "         1.0       0.77      0.61      0.68        76\n",
      "\n",
      "    accuracy                           0.80       218\n",
      "   macro avg       0.79      0.75      0.76       218\n",
      "weighted avg       0.79      0.80      0.79       218\n",
      "\n",
      "Cross Validation Score :  0.7505747126436783\n"
     ]
    }
   ],
   "source": [
    "from sklearn.neighbors import KNeighborsClassifier\n",
    "knn_class = KNeighborsClassifier()\n",
    "Modal_all(knn_class)"
   ]
  },
  {
   "cell_type": "markdown",
   "id": "44571387",
   "metadata": {},
   "source": [
    "# DecisionTreeClassification"
   ]
  },
  {
   "cell_type": "code",
   "execution_count": 288,
   "id": "3f2ab97d",
   "metadata": {},
   "outputs": [
    {
     "name": "stdout",
     "output_type": "stream",
     "text": [
      "Accuracy score of this modal is :\n",
      " 0.7752293577981652\n",
      "Confusion matrix of this modal is :\n",
      " [[115  27]\n",
      " [ 22  54]]\n",
      "Classification report of this modal is :\n",
      "               precision    recall  f1-score   support\n",
      "\n",
      "         0.0       0.84      0.81      0.82       142\n",
      "         1.0       0.67      0.71      0.69        76\n",
      "\n",
      "    accuracy                           0.78       218\n",
      "   macro avg       0.75      0.76      0.76       218\n",
      "weighted avg       0.78      0.78      0.78       218\n",
      "\n",
      "Cross Validation Score :  0.6839080459770115\n"
     ]
    }
   ],
   "source": [
    "from sklearn.tree import DecisionTreeClassifier\n",
    "d_tree = DecisionTreeClassifier()\n",
    "Modal_all(d_tree)"
   ]
  },
  {
   "cell_type": "markdown",
   "id": "2f9659fd",
   "metadata": {},
   "source": [
    "# AdaBoostclassification"
   ]
  },
  {
   "cell_type": "code",
   "execution_count": 289,
   "id": "51263c69",
   "metadata": {
    "scrolled": true
   },
   "outputs": [
    {
     "name": "stdout",
     "output_type": "stream",
     "text": [
      "Accuracy score of this modal is :\n",
      " 0.8119266055045872\n",
      "Confusion matrix of this modal is :\n",
      " [[126  16]\n",
      " [ 25  51]]\n",
      "Classification report of this modal is :\n",
      "               precision    recall  f1-score   support\n",
      "\n",
      "         0.0       0.83      0.89      0.86       142\n",
      "         1.0       0.76      0.67      0.71        76\n",
      "\n",
      "    accuracy                           0.81       218\n",
      "   macro avg       0.80      0.78      0.79       218\n",
      "weighted avg       0.81      0.81      0.81       218\n",
      "\n",
      "Cross Validation Score :  0.7574712643678161\n"
     ]
    }
   ],
   "source": [
    "from sklearn.ensemble import AdaBoostClassifier\n",
    "ada_class = AdaBoostClassifier()\n",
    "Modal_all(ada_class)"
   ]
  },
  {
   "cell_type": "markdown",
   "id": "03b46378",
   "metadata": {},
   "source": [
    "# GradientBoostingclassification"
   ]
  },
  {
   "cell_type": "code",
   "execution_count": 290,
   "id": "36c42ca7",
   "metadata": {},
   "outputs": [
    {
     "name": "stdout",
     "output_type": "stream",
     "text": [
      "Accuracy score of this modal is :\n",
      " 0.8394495412844036\n",
      "Confusion matrix of this modal is :\n",
      " [[130  12]\n",
      " [ 23  53]]\n",
      "Classification report of this modal is :\n",
      "               precision    recall  f1-score   support\n",
      "\n",
      "         0.0       0.85      0.92      0.88       142\n",
      "         1.0       0.82      0.70      0.75        76\n",
      "\n",
      "    accuracy                           0.84       218\n",
      "   macro avg       0.83      0.81      0.82       218\n",
      "weighted avg       0.84      0.84      0.84       218\n",
      "\n",
      "Cross Validation Score :  0.764367816091954\n"
     ]
    }
   ],
   "source": [
    "from sklearn.ensemble import GradientBoostingClassifier\n",
    "g_class = GradientBoostingClassifier()\n",
    "Modal_all(g_class)"
   ]
  },
  {
   "cell_type": "markdown",
   "id": "ed061068",
   "metadata": {},
   "source": [
    "# SVM"
   ]
  },
  {
   "cell_type": "code",
   "execution_count": 291,
   "id": "2e63c7be",
   "metadata": {},
   "outputs": [
    {
     "name": "stdout",
     "output_type": "stream",
     "text": [
      "Accuracy score of this modal is :\n",
      " 0.8440366972477065\n",
      "Confusion matrix of this modal is :\n",
      " [[122  20]\n",
      " [ 14  62]]\n",
      "Classification report of this modal is :\n",
      "               precision    recall  f1-score   support\n",
      "\n",
      "         0.0       0.90      0.86      0.88       142\n",
      "         1.0       0.76      0.82      0.78        76\n",
      "\n",
      "    accuracy                           0.84       218\n",
      "   macro avg       0.83      0.84      0.83       218\n",
      "weighted avg       0.85      0.84      0.85       218\n",
      "\n",
      "Cross Validation Score :  0.760919540229885\n"
     ]
    }
   ],
   "source": [
    "from sklearn.svm import SVC\n",
    "scv = SVC()\n",
    "Modal_all(scv)"
   ]
  },
  {
   "cell_type": "markdown",
   "id": "0c593654",
   "metadata": {},
   "source": [
    "# Bagging Classifier"
   ]
  },
  {
   "cell_type": "code",
   "execution_count": 278,
   "id": "cc9524f1",
   "metadata": {},
   "outputs": [
    {
     "name": "stdout",
     "output_type": "stream",
     "text": [
      "Accuracy score of this modal is :\n",
      " 0.8348623853211009\n",
      "Confusion matrix of this modal is :\n",
      " [[127  15]\n",
      " [ 21  55]]\n",
      "Classification report of this modal is :\n",
      "               precision    recall  f1-score   support\n",
      "\n",
      "         0.0       0.86      0.89      0.88       142\n",
      "         1.0       0.79      0.72      0.75        76\n",
      "\n",
      "    accuracy                           0.83       218\n",
      "   macro avg       0.82      0.81      0.81       218\n",
      "weighted avg       0.83      0.83      0.83       218\n",
      "\n"
     ]
    }
   ],
   "source": [
    "from sklearn.ensemble import BaggingClassifier\n",
    "\n",
    "beg_class = BaggingClassifier()\n",
    "\n",
    "Modal_all(beg_class)"
   ]
  },
  {
   "cell_type": "markdown",
   "id": "3df4ee78",
   "metadata": {},
   "source": [
    "# Let's check ROC AUC Curve for the fitted model"
   ]
  },
  {
   "cell_type": "code",
   "execution_count": 277,
   "id": "6bc1d466",
   "metadata": {},
   "outputs": [],
   "source": [
    "x_train,x_test,y_train,y_test = train_test_split(feature_df_scaled_pca_final,target_df,random_state=150,test_size=0.25)"
   ]
  },
  {
   "cell_type": "code",
   "execution_count": 280,
   "id": "92cee2b4",
   "metadata": {},
   "outputs": [
    {
     "data": {
      "image/png": "[encoded data removed]",
      "text/plain": [
       "<Figure size 432x288 with 1 Axes>"
      ]
     },
     "metadata": {
      "needs_background": "light"
     },
     "output_type": "display_data"
    }
   ],
   "source": [
    "from sklearn.metrics import roc_auc_score,plot_roc_curve\n",
    "disp = plot_roc_curve(log_regression, x_test, y_test)\n",
    "plot_roc_curve(rand_for, x_test, y_test,ax=disp.ax_)\n",
    "plot_roc_curve(knn_class, x_test, y_test,ax=disp.ax_)\n",
    "plot_roc_curve(d_tree, x_test, y_test,ax=disp.ax_)\n",
    "plot_roc_curve(ada_class, x_test, y_test,ax=disp.ax_)\n",
    "plot_roc_curve(scv, x_test, y_test,ax=disp.ax_)\n",
    "plot_roc_curve(beg_class,x_test,y_test,ax=disp.ax_)\n",
    "\n",
    "plt.legend(prop={\"size\":10},loc=\"lower right\")\n",
    "plt.show()"
   ]
  },
  {
   "cell_type": "markdown",
   "id": "89f52656",
   "metadata": {},
   "source": [
    "Clearly seeing that svc modal is good."
   ]
  },
  {
   "cell_type": "markdown",
   "id": "9c0bfe36",
   "metadata": {},
   "source": [
    "# Hyper perameter tunning"
   ]
  },
  {
   "cell_type": "code",
   "execution_count": 292,
   "id": "9596101c",
   "metadata": {},
   "outputs": [],
   "source": [
    "from sklearn.model_selection import GridSearchCV\n",
    "from sklearn.svm import SVC\n",
    "scv = SVC()"
   ]
  },
  {
   "cell_type": "code",
   "execution_count": 296,
   "id": "2efa4856",
   "metadata": {},
   "outputs": [],
   "source": [
    "perameter = {\n",
    "              'degree':[3,4,5],\n",
    "               'gamma':['scale', 'auto'],\n",
    "              'probability':[True,False],\n",
    "              'class_weight':['dist','balanced']}"
   ]
  },
  {
   "cell_type": "code",
   "execution_count": 297,
   "id": "003cbc91",
   "metadata": {},
   "outputs": [
    {
     "data": {
      "text/html": [
       "<style>#sk-container-id-2 {color: black;background-color: white;}#sk-container-id-2 pre{padding: 0;}#sk-container-id-2 div.sk-toggleable {background-color: white;}#sk-container-id-2 label.sk-toggleable__label {cursor: pointer;display: block;width: 100%;margin-bottom: 0;padding: 0.3em;box-sizing: border-box;text-align: center;}#sk-container-id-2 label.sk-toggleable__label-arrow:before {content: \"▸\";float: left;margin-right: 0.25em;color: #696969;}#sk-container-id-2 label.sk-toggleable__label-arrow:hover:before {color: black;}#sk-container-id-2 div.sk-estimator:hover label.sk-toggleable__label-arrow:before {color: black;}#sk-container-id-2 div.sk-toggleable__content {max-height: 0;max-width: 0;overflow: hidden;text-align: left;background-color: #f0f8ff;}#sk-container-id-2 div.sk-toggleable__content pre {margin: 0.2em;color: black;border-radius: 0.25em;background-color: #f0f8ff;}#sk-container-id-2 input.sk-toggleable__control:checked~div.sk-toggleable__content {max-height: 200px;max-width: 100%;overflow: auto;}#sk-container-id-2 input.sk-toggleable__control:checked~label.sk-toggleable__label-arrow:before {content: \"▾\";}#sk-container-id-2 div.sk-estimator input.sk-toggleable__control:checked~label.sk-toggleable__label {background-color: #d4ebff;}#sk-container-id-2 div.sk-label input.sk-toggleable__control:checked~label.sk-toggleable__label {background-color: #d4ebff;}#sk-container-id-2 input.sk-hidden--visually {border: 0;clip: rect(1px 1px 1px 1px);clip: rect(1px, 1px, 1px, 1px);height: 1px;margin: -1px;overflow: hidden;padding: 0;position: absolute;width: 1px;}#sk-container-id-2 div.sk-estimator {font-family: monospace;background-color: #f0f8ff;border: 1px dotted black;border-radius: 0.25em;box-sizing: border-box;margin-bottom: 0.5em;}#sk-container-id-2 div.sk-estimator:hover {background-color: #d4ebff;}#sk-container-id-2 div.sk-parallel-item::after {content: \"\";width: 100%;border-bottom: 1px solid gray;flex-grow: 1;}#sk-container-id-2 div.sk-label:hover label.sk-toggleable__label {background-color: #d4ebff;}#sk-container-id-2 div.sk-serial::before {content: \"\";position: absolute;border-left: 1px solid gray;box-sizing: border-box;top: 0;bottom: 0;left: 50%;z-index: 0;}#sk-container-id-2 div.sk-serial {display: flex;flex-direction: column;align-items: center;background-color: white;padding-right: 0.2em;padding-left: 0.2em;position: relative;}#sk-container-id-2 div.sk-item {position: relative;z-index: 1;}#sk-container-id-2 div.sk-parallel {display: flex;align-items: stretch;justify-content: center;background-color: white;position: relative;}#sk-container-id-2 div.sk-item::before, #sk-container-id-2 div.sk-parallel-item::before {content: \"\";position: absolute;border-left: 1px solid gray;box-sizing: border-box;top: 0;bottom: 0;left: 50%;z-index: -1;}#sk-container-id-2 div.sk-parallel-item {display: flex;flex-direction: column;z-index: 1;position: relative;background-color: white;}#sk-container-id-2 div.sk-parallel-item:first-child::after {align-self: flex-end;width: 50%;}#sk-container-id-2 div.sk-parallel-item:last-child::after {align-self: flex-start;width: 50%;}#sk-container-id-2 div.sk-parallel-item:only-child::after {width: 0;}#sk-container-id-2 div.sk-dashed-wrapped {border: 1px dashed gray;margin: 0 0.4em 0.5em 0.4em;box-sizing: border-box;padding-bottom: 0.4em;background-color: white;}#sk-container-id-2 div.sk-label label {font-family: monospace;font-weight: bold;display: inline-block;line-height: 1.2em;}#sk-container-id-2 div.sk-label-container {text-align: center;}#sk-container-id-2 div.sk-container {/* jupyter's `normalize.less` sets `[hidden] { display: none; }` but bootstrap.min.css set `[hidden] { display: none !important; }` so we also need the `!important` here to be able to override the default hidden behavior on the sphinx rendered scikit-learn.org. See: https://github.com/scikit-learn/scikit-learn/issues/21755 */display: inline-block !important;position: relative;}#sk-container-id-2 div.sk-text-repr-fallback {display: none;}</style><div id=\"sk-container-id-2\" class=\"sk-top-container\"><div class=\"sk-text-repr-fallback\"><pre>GridSearchCV(cv=3, estimator=SVC(),\n",
       "             param_grid={&#x27;class_weight&#x27;: [&#x27;dist&#x27;, &#x27;balanced&#x27;],\n",
       "                         &#x27;degree&#x27;: [3, 4, 5], &#x27;gamma&#x27;: [&#x27;scale&#x27;, &#x27;auto&#x27;],\n",
       "                         &#x27;probability&#x27;: [True, False]})</pre><b>In a Jupyter environment, please rerun this cell to show the HTML representation or trust the notebook. <br />On GitHub, the HTML representation is unable to render, please try loading this page with nbviewer.org.</b></div><div class=\"sk-container\" hidden><div class=\"sk-item sk-dashed-wrapped\"><div class=\"sk-label-container\"><div class=\"sk-label sk-toggleable\"><input class=\"sk-toggleable__control sk-hidden--visually\" id=\"sk-estimator-id-2\" type=\"checkbox\" ><label for=\"sk-estimator-id-2\" class=\"sk-toggleable__label sk-toggleable__label-arrow\">GridSearchCV</label><div class=\"sk-toggleable__content\"><pre>GridSearchCV(cv=3, estimator=SVC(),\n",
       "             param_grid={&#x27;class_weight&#x27;: [&#x27;dist&#x27;, &#x27;balanced&#x27;],\n",
       "                         &#x27;degree&#x27;: [3, 4, 5], &#x27;gamma&#x27;: [&#x27;scale&#x27;, &#x27;auto&#x27;],\n",
       "                         &#x27;probability&#x27;: [True, False]})</pre></div></div></div><div class=\"sk-parallel\"><div class=\"sk-parallel-item\"><div class=\"sk-item\"><div class=\"sk-label-container\"><div class=\"sk-label sk-toggleable\"><input class=\"sk-toggleable__control sk-hidden--visually\" id=\"sk-estimator-id-3\" type=\"checkbox\" ><label for=\"sk-estimator-id-3\" class=\"sk-toggleable__label sk-toggleable__label-arrow\">estimator: SVC</label><div class=\"sk-toggleable__content\"><pre>SVC()</pre></div></div></div><div class=\"sk-serial\"><div class=\"sk-item\"><div class=\"sk-estimator sk-toggleable\"><input class=\"sk-toggleable__control sk-hidden--visually\" id=\"sk-estimator-id-4\" type=\"checkbox\" ><label for=\"sk-estimator-id-4\" class=\"sk-toggleable__label sk-toggleable__label-arrow\">SVC</label><div class=\"sk-toggleable__content\"><pre>SVC()</pre></div></div></div></div></div></div></div></div></div></div>"
      ],
      "text/plain": [
       "GridSearchCV(cv=3, estimator=SVC(),\n",
       "             param_grid={'class_weight': ['dist', 'balanced'],\n",
       "                         'degree': [3, 4, 5], 'gamma': ['scale', 'auto'],\n",
       "                         'probability': [True, False]})"
      ]
     },
     "execution_count": 297,
     "metadata": {},
     "output_type": "execute_result"
    }
   ],
   "source": [
    "grid_serch = GridSearchCV(estimator=scv,param_grid=perameter,cv=3)\n",
    "grid_serch.fit(x_train,y_train)"
   ]
  },
  {
   "cell_type": "code",
   "execution_count": 298,
   "id": "0bf6590d",
   "metadata": {},
   "outputs": [
    {
     "data": {
      "text/plain": [
       "{'class_weight': 'balanced',\n",
       " 'degree': 3,\n",
       " 'gamma': 'scale',\n",
       " 'probability': True}"
      ]
     },
     "execution_count": 298,
     "metadata": {},
     "output_type": "execute_result"
    }
   ],
   "source": [
    "grid_serch.best_params_"
   ]
  },
  {
   "cell_type": "code",
   "execution_count": 299,
   "id": "54f94d34",
   "metadata": {},
   "outputs": [
    {
     "data": {
      "text/html": [
       "<style>#sk-container-id-3 {color: black;background-color: white;}#sk-container-id-3 pre{padding: 0;}#sk-container-id-3 div.sk-toggleable {background-color: white;}#sk-container-id-3 label.sk-toggleable__label {cursor: pointer;display: block;width: 100%;margin-bottom: 0;padding: 0.3em;box-sizing: border-box;text-align: center;}#sk-container-id-3 label.sk-toggleable__label-arrow:before {content: \"▸\";float: left;margin-right: 0.25em;color: #696969;}#sk-container-id-3 label.sk-toggleable__label-arrow:hover:before {color: black;}#sk-container-id-3 div.sk-estimator:hover label.sk-toggleable__label-arrow:before {color: black;}#sk-container-id-3 div.sk-toggleable__content {max-height: 0;max-width: 0;overflow: hidden;text-align: left;background-color: #f0f8ff;}#sk-container-id-3 div.sk-toggleable__content pre {margin: 0.2em;color: black;border-radius: 0.25em;background-color: #f0f8ff;}#sk-container-id-3 input.sk-toggleable__control:checked~div.sk-toggleable__content {max-height: 200px;max-width: 100%;overflow: auto;}#sk-container-id-3 input.sk-toggleable__control:checked~label.sk-toggleable__label-arrow:before {content: \"▾\";}#sk-container-id-3 div.sk-estimator input.sk-toggleable__control:checked~label.sk-toggleable__label {background-color: #d4ebff;}#sk-container-id-3 div.sk-label input.sk-toggleable__control:checked~label.sk-toggleable__label {background-color: #d4ebff;}#sk-container-id-3 input.sk-hidden--visually {border: 0;clip: rect(1px 1px 1px 1px);clip: rect(1px, 1px, 1px, 1px);height: 1px;margin: -1px;overflow: hidden;padding: 0;position: absolute;width: 1px;}#sk-container-id-3 div.sk-estimator {font-family: monospace;background-color: #f0f8ff;border: 1px dotted black;border-radius: 0.25em;box-sizing: border-box;margin-bottom: 0.5em;}#sk-container-id-3 div.sk-estimator:hover {background-color: #d4ebff;}#sk-container-id-3 div.sk-parallel-item::after {content: \"\";width: 100%;border-bottom: 1px solid gray;flex-grow: 1;}#sk-container-id-3 div.sk-label:hover label.sk-toggleable__label {background-color: #d4ebff;}#sk-container-id-3 div.sk-serial::before {content: \"\";position: absolute;border-left: 1px solid gray;box-sizing: border-box;top: 0;bottom: 0;left: 50%;z-index: 0;}#sk-container-id-3 div.sk-serial {display: flex;flex-direction: column;align-items: center;background-color: white;padding-right: 0.2em;padding-left: 0.2em;position: relative;}#sk-container-id-3 div.sk-item {position: relative;z-index: 1;}#sk-container-id-3 div.sk-parallel {display: flex;align-items: stretch;justify-content: center;background-color: white;position: relative;}#sk-container-id-3 div.sk-item::before, #sk-container-id-3 div.sk-parallel-item::before {content: \"\";position: absolute;border-left: 1px solid gray;box-sizing: border-box;top: 0;bottom: 0;left: 50%;z-index: -1;}#sk-container-id-3 div.sk-parallel-item {display: flex;flex-direction: column;z-index: 1;position: relative;background-color: white;}#sk-container-id-3 div.sk-parallel-item:first-child::after {align-self: flex-end;width: 50%;}#sk-container-id-3 div.sk-parallel-item:last-child::after {align-self: flex-start;width: 50%;}#sk-container-id-3 div.sk-parallel-item:only-child::after {width: 0;}#sk-container-id-3 div.sk-dashed-wrapped {border: 1px dashed gray;margin: 0 0.4em 0.5em 0.4em;box-sizing: border-box;padding-bottom: 0.4em;background-color: white;}#sk-container-id-3 div.sk-label label {font-family: monospace;font-weight: bold;display: inline-block;line-height: 1.2em;}#sk-container-id-3 div.sk-label-container {text-align: center;}#sk-container-id-3 div.sk-container {/* jupyter's `normalize.less` sets `[hidden] { display: none; }` but bootstrap.min.css set `[hidden] { display: none !important; }` so we also need the `!important` here to be able to override the default hidden behavior on the sphinx rendered scikit-learn.org. See: https://github.com/scikit-learn/scikit-learn/issues/21755 */display: inline-block !important;position: relative;}#sk-container-id-3 div.sk-text-repr-fallback {display: none;}</style><div id=\"sk-container-id-3\" class=\"sk-top-container\"><div class=\"sk-text-repr-fallback\"><pre>SVC(class_weight=&#x27;balanced&#x27;, probability=True)</pre><b>In a Jupyter environment, please rerun this cell to show the HTML representation or trust the notebook. <br />On GitHub, the HTML representation is unable to render, please try loading this page with nbviewer.org.</b></div><div class=\"sk-container\" hidden><div class=\"sk-item\"><div class=\"sk-estimator sk-toggleable\"><input class=\"sk-toggleable__control sk-hidden--visually\" id=\"sk-estimator-id-5\" type=\"checkbox\" checked><label for=\"sk-estimator-id-5\" class=\"sk-toggleable__label sk-toggleable__label-arrow\">SVC</label><div class=\"sk-toggleable__content\"><pre>SVC(class_weight=&#x27;balanced&#x27;, probability=True)</pre></div></div></div></div></div>"
      ],
      "text/plain": [
       "SVC(class_weight='balanced', probability=True)"
      ]
     },
     "execution_count": 299,
     "metadata": {},
     "output_type": "execute_result"
    }
   ],
   "source": [
    "grid_serch.best_estimator_"
   ]
  },
  {
   "cell_type": "markdown",
   "id": "32327d53",
   "metadata": {},
   "source": [
    "# Final Modal building"
   ]
  },
  {
   "cell_type": "code",
   "execution_count": 305,
   "id": "ef88a4b1",
   "metadata": {},
   "outputs": [],
   "source": [
    "svc = SVC(class_weight='balanced',degree=3,gamma='scale',probability=True)"
   ]
  },
  {
   "cell_type": "code",
   "execution_count": 306,
   "id": "e296c005",
   "metadata": {},
   "outputs": [
    {
     "name": "stdout",
     "output_type": "stream",
     "text": [
      "Accuracy score of this modal is :\n",
      " 0.8440366972477065\n",
      "Confusion matrix of this modal is :\n",
      " [[122  20]\n",
      " [ 14  62]]\n",
      "Classification report of this modal is :\n",
      "               precision    recall  f1-score   support\n",
      "\n",
      "         0.0       0.90      0.86      0.88       142\n",
      "         1.0       0.76      0.82      0.78        76\n",
      "\n",
      "    accuracy                           0.84       218\n",
      "   macro avg       0.83      0.84      0.83       218\n",
      "weighted avg       0.85      0.84      0.85       218\n",
      "\n",
      "Cross Validation Score :  0.764367816091954\n"
     ]
    }
   ],
   "source": [
    "Modal_all(svc)"
   ]
  },
  {
   "cell_type": "markdown",
   "id": "a08aaa91",
   "metadata": {},
   "source": [
    "# Save modal"
   ]
  },
  {
   "cell_type": "code",
   "execution_count": 308,
   "id": "36b48ee6",
   "metadata": {},
   "outputs": [
    {
     "data": {
      "text/plain": [
       "['Final_Titanic_Project_Model.plk']"
      ]
     },
     "execution_count": 308,
     "metadata": {},
     "output_type": "execute_result"
    }
   ],
   "source": [
    "import joblib\n",
    "joblib.dump(svc,\"Final_Titanic_Project_Model.plk\")"
   ]
  },
  {
   "cell_type": "code",
   "execution_count": null,
   "id": "5e6e3c67",
   "metadata": {},
   "outputs": [],
   "source": []
  }
 ],
 "metadata": {
  "kernelspec": {
   "display_name": "Python 3 (ipykernel)",
   "language": "python",
   "name": "python3"
  },
  "language_info": {
   "codemirror_mode": {
    "name": "ipython",
    "version": 3
   },
   "file_extension": ".py",
   "mimetype": "text/x-python",
   "name": "python",
   "nbconvert_exporter": "python",
   "pygments_lexer": "ipython3",
   "version": "3.9.7"
  }
 },
 "nbformat": 4,
 "nbformat_minor": 5
}
