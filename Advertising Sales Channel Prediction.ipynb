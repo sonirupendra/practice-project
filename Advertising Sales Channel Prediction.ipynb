{
 "cells": [
  {
   "cell_type": "markdown",
   "id": "f5cc5bd4",
   "metadata": {},
   "source": [
    "# Importinng importent Libraries"
   ]
  },
  {
   "cell_type": "code",
   "execution_count": 71,
   "id": "b35ce0cb",
   "metadata": {},
   "outputs": [],
   "source": [
    "import pandas as pd\n",
    "import numpy as np\n",
    "import matplotlib.pyplot as plt\n",
    "import seaborn as sns\n",
    "import warnings\n",
    "warnings.filterwarnings(\"ignore\")"
   ]
  },
  {
   "cell_type": "code",
   "execution_count": 73,
   "id": "83771677",
   "metadata": {},
   "outputs": [
    {
     "data": {
      "text/html": [
       "<div>\n",
       "<style scoped>\n",
       "    .dataframe tbody tr th:only-of-type {\n",
       "        vertical-align: middle;\n",
       "    }\n",
       "\n",
       "    .dataframe tbody tr th {\n",
       "        vertical-align: top;\n",
       "    }\n",
       "\n",
       "    .dataframe thead th {\n",
       "        text-align: right;\n",
       "    }\n",
       "</style>\n",
       "<table border=\"1\" class=\"dataframe\">\n",
       "  <thead>\n",
       "    <tr style=\"text-align: right;\">\n",
       "      <th></th>\n",
       "      <th>Unnamed: 0</th>\n",
       "      <th>TV</th>\n",
       "      <th>radio</th>\n",
       "      <th>newspaper</th>\n",
       "      <th>sales</th>\n",
       "    </tr>\n",
       "  </thead>\n",
       "  <tbody>\n",
       "    <tr>\n",
       "      <th>0</th>\n",
       "      <td>1</td>\n",
       "      <td>230.1</td>\n",
       "      <td>37.8</td>\n",
       "      <td>69.2</td>\n",
       "      <td>22.1</td>\n",
       "    </tr>\n",
       "    <tr>\n",
       "      <th>1</th>\n",
       "      <td>2</td>\n",
       "      <td>44.5</td>\n",
       "      <td>39.3</td>\n",
       "      <td>45.1</td>\n",
       "      <td>10.4</td>\n",
       "    </tr>\n",
       "    <tr>\n",
       "      <th>2</th>\n",
       "      <td>3</td>\n",
       "      <td>17.2</td>\n",
       "      <td>45.9</td>\n",
       "      <td>69.3</td>\n",
       "      <td>9.3</td>\n",
       "    </tr>\n",
       "    <tr>\n",
       "      <th>3</th>\n",
       "      <td>4</td>\n",
       "      <td>151.5</td>\n",
       "      <td>41.3</td>\n",
       "      <td>58.5</td>\n",
       "      <td>18.5</td>\n",
       "    </tr>\n",
       "    <tr>\n",
       "      <th>4</th>\n",
       "      <td>5</td>\n",
       "      <td>180.8</td>\n",
       "      <td>10.8</td>\n",
       "      <td>58.4</td>\n",
       "      <td>12.9</td>\n",
       "    </tr>\n",
       "    <tr>\n",
       "      <th>5</th>\n",
       "      <td>6</td>\n",
       "      <td>8.7</td>\n",
       "      <td>48.9</td>\n",
       "      <td>75.0</td>\n",
       "      <td>7.2</td>\n",
       "    </tr>\n",
       "    <tr>\n",
       "      <th>6</th>\n",
       "      <td>7</td>\n",
       "      <td>57.5</td>\n",
       "      <td>32.8</td>\n",
       "      <td>23.5</td>\n",
       "      <td>11.8</td>\n",
       "    </tr>\n",
       "    <tr>\n",
       "      <th>7</th>\n",
       "      <td>8</td>\n",
       "      <td>120.2</td>\n",
       "      <td>19.6</td>\n",
       "      <td>11.6</td>\n",
       "      <td>13.2</td>\n",
       "    </tr>\n",
       "    <tr>\n",
       "      <th>8</th>\n",
       "      <td>9</td>\n",
       "      <td>8.6</td>\n",
       "      <td>2.1</td>\n",
       "      <td>1.0</td>\n",
       "      <td>4.8</td>\n",
       "    </tr>\n",
       "    <tr>\n",
       "      <th>9</th>\n",
       "      <td>10</td>\n",
       "      <td>199.8</td>\n",
       "      <td>2.6</td>\n",
       "      <td>21.2</td>\n",
       "      <td>10.6</td>\n",
       "    </tr>\n",
       "  </tbody>\n",
       "</table>\n",
       "</div>"
      ],
      "text/plain": [
       "   Unnamed: 0     TV  radio  newspaper  sales\n",
       "0           1  230.1   37.8       69.2   22.1\n",
       "1           2   44.5   39.3       45.1   10.4\n",
       "2           3   17.2   45.9       69.3    9.3\n",
       "3           4  151.5   41.3       58.5   18.5\n",
       "4           5  180.8   10.8       58.4   12.9\n",
       "5           6    8.7   48.9       75.0    7.2\n",
       "6           7   57.5   32.8       23.5   11.8\n",
       "7           8  120.2   19.6       11.6   13.2\n",
       "8           9    8.6    2.1        1.0    4.8\n",
       "9          10  199.8    2.6       21.2   10.6"
      ]
     },
     "execution_count": 73,
     "metadata": {},
     "output_type": "execute_result"
    }
   ],
   "source": [
    "#load data set\n",
    "df = pd.read_csv('Advertising.csv')\n",
    "df.head(10)"
   ]
  },
  {
   "cell_type": "code",
   "execution_count": 74,
   "id": "e3b3286d",
   "metadata": {},
   "outputs": [],
   "source": [
    "#drop unwanted columns because that are not use for modal building\n",
    "df = df.drop(columns=['Unnamed: 0'],axis=1)"
   ]
  },
  {
   "cell_type": "markdown",
   "id": "c2a3069d",
   "metadata": {},
   "source": [
    "# Know about data informations\n"
   ]
  },
  {
   "cell_type": "code",
   "execution_count": 75,
   "id": "10f790b3",
   "metadata": {},
   "outputs": [
    {
     "data": {
      "text/plain": [
       "(200, 4)"
      ]
     },
     "execution_count": 75,
     "metadata": {},
     "output_type": "execute_result"
    }
   ],
   "source": [
    "#shap of data\n",
    "df.shape"
   ]
  },
  {
   "cell_type": "code",
   "execution_count": 76,
   "id": "385b597d",
   "metadata": {},
   "outputs": [
    {
     "data": {
      "text/html": [
       "<div>\n",
       "<style scoped>\n",
       "    .dataframe tbody tr th:only-of-type {\n",
       "        vertical-align: middle;\n",
       "    }\n",
       "\n",
       "    .dataframe tbody tr th {\n",
       "        vertical-align: top;\n",
       "    }\n",
       "\n",
       "    .dataframe thead th {\n",
       "        text-align: right;\n",
       "    }\n",
       "</style>\n",
       "<table border=\"1\" class=\"dataframe\">\n",
       "  <thead>\n",
       "    <tr style=\"text-align: right;\">\n",
       "      <th></th>\n",
       "      <th>TV</th>\n",
       "      <th>radio</th>\n",
       "      <th>newspaper</th>\n",
       "      <th>sales</th>\n",
       "    </tr>\n",
       "  </thead>\n",
       "  <tbody>\n",
       "    <tr>\n",
       "      <th>count</th>\n",
       "      <td>200.000000</td>\n",
       "      <td>200.000000</td>\n",
       "      <td>200.000000</td>\n",
       "      <td>200.000000</td>\n",
       "    </tr>\n",
       "    <tr>\n",
       "      <th>mean</th>\n",
       "      <td>147.042500</td>\n",
       "      <td>23.264000</td>\n",
       "      <td>30.554000</td>\n",
       "      <td>14.022500</td>\n",
       "    </tr>\n",
       "    <tr>\n",
       "      <th>std</th>\n",
       "      <td>85.854236</td>\n",
       "      <td>14.846809</td>\n",
       "      <td>21.778621</td>\n",
       "      <td>5.217457</td>\n",
       "    </tr>\n",
       "    <tr>\n",
       "      <th>min</th>\n",
       "      <td>0.700000</td>\n",
       "      <td>0.000000</td>\n",
       "      <td>0.300000</td>\n",
       "      <td>1.600000</td>\n",
       "    </tr>\n",
       "    <tr>\n",
       "      <th>25%</th>\n",
       "      <td>74.375000</td>\n",
       "      <td>9.975000</td>\n",
       "      <td>12.750000</td>\n",
       "      <td>10.375000</td>\n",
       "    </tr>\n",
       "    <tr>\n",
       "      <th>50%</th>\n",
       "      <td>149.750000</td>\n",
       "      <td>22.900000</td>\n",
       "      <td>25.750000</td>\n",
       "      <td>12.900000</td>\n",
       "    </tr>\n",
       "    <tr>\n",
       "      <th>75%</th>\n",
       "      <td>218.825000</td>\n",
       "      <td>36.525000</td>\n",
       "      <td>45.100000</td>\n",
       "      <td>17.400000</td>\n",
       "    </tr>\n",
       "    <tr>\n",
       "      <th>max</th>\n",
       "      <td>296.400000</td>\n",
       "      <td>49.600000</td>\n",
       "      <td>114.000000</td>\n",
       "      <td>27.000000</td>\n",
       "    </tr>\n",
       "  </tbody>\n",
       "</table>\n",
       "</div>"
      ],
      "text/plain": [
       "               TV       radio   newspaper       sales\n",
       "count  200.000000  200.000000  200.000000  200.000000\n",
       "mean   147.042500   23.264000   30.554000   14.022500\n",
       "std     85.854236   14.846809   21.778621    5.217457\n",
       "min      0.700000    0.000000    0.300000    1.600000\n",
       "25%     74.375000    9.975000   12.750000   10.375000\n",
       "50%    149.750000   22.900000   25.750000   12.900000\n",
       "75%    218.825000   36.525000   45.100000   17.400000\n",
       "max    296.400000   49.600000  114.000000   27.000000"
      ]
     },
     "execution_count": 76,
     "metadata": {},
     "output_type": "execute_result"
    }
   ],
   "source": [
    "df.describe()"
   ]
  },
  {
   "cell_type": "code",
   "execution_count": 81,
   "id": "51f69b15",
   "metadata": {},
   "outputs": [],
   "source": [
    "# we clearly see that in radio min value is zero. so we have to deal with zero value \n",
    "# this is very simple so i am using\n",
    "df['radio'] = df['radio'].replace(0,df['radio'].mean())"
   ]
  },
  {
   "cell_type": "code",
   "execution_count": 83,
   "id": "81720c67",
   "metadata": {},
   "outputs": [
    {
     "data": {
      "text/html": [
       "<div>\n",
       "<style scoped>\n",
       "    .dataframe tbody tr th:only-of-type {\n",
       "        vertical-align: middle;\n",
       "    }\n",
       "\n",
       "    .dataframe tbody tr th {\n",
       "        vertical-align: top;\n",
       "    }\n",
       "\n",
       "    .dataframe thead th {\n",
       "        text-align: right;\n",
       "    }\n",
       "</style>\n",
       "<table border=\"1\" class=\"dataframe\">\n",
       "  <thead>\n",
       "    <tr style=\"text-align: right;\">\n",
       "      <th></th>\n",
       "      <th>TV</th>\n",
       "      <th>radio</th>\n",
       "      <th>newspaper</th>\n",
       "      <th>sales</th>\n",
       "    </tr>\n",
       "  </thead>\n",
       "  <tbody>\n",
       "    <tr>\n",
       "      <th>count</th>\n",
       "      <td>200.000000</td>\n",
       "      <td>200.000000</td>\n",
       "      <td>200.000000</td>\n",
       "      <td>200.000000</td>\n",
       "    </tr>\n",
       "    <tr>\n",
       "      <th>mean</th>\n",
       "      <td>147.042500</td>\n",
       "      <td>23.380320</td>\n",
       "      <td>30.554000</td>\n",
       "      <td>14.022500</td>\n",
       "    </tr>\n",
       "    <tr>\n",
       "      <th>std</th>\n",
       "      <td>85.854236</td>\n",
       "      <td>14.754473</td>\n",
       "      <td>21.778621</td>\n",
       "      <td>5.217457</td>\n",
       "    </tr>\n",
       "    <tr>\n",
       "      <th>min</th>\n",
       "      <td>0.700000</td>\n",
       "      <td>0.300000</td>\n",
       "      <td>0.300000</td>\n",
       "      <td>1.600000</td>\n",
       "    </tr>\n",
       "    <tr>\n",
       "      <th>25%</th>\n",
       "      <td>74.375000</td>\n",
       "      <td>10.075000</td>\n",
       "      <td>12.750000</td>\n",
       "      <td>10.375000</td>\n",
       "    </tr>\n",
       "    <tr>\n",
       "      <th>50%</th>\n",
       "      <td>149.750000</td>\n",
       "      <td>23.282000</td>\n",
       "      <td>25.750000</td>\n",
       "      <td>12.900000</td>\n",
       "    </tr>\n",
       "    <tr>\n",
       "      <th>75%</th>\n",
       "      <td>218.825000</td>\n",
       "      <td>36.525000</td>\n",
       "      <td>45.100000</td>\n",
       "      <td>17.400000</td>\n",
       "    </tr>\n",
       "    <tr>\n",
       "      <th>max</th>\n",
       "      <td>296.400000</td>\n",
       "      <td>49.600000</td>\n",
       "      <td>114.000000</td>\n",
       "      <td>27.000000</td>\n",
       "    </tr>\n",
       "  </tbody>\n",
       "</table>\n",
       "</div>"
      ],
      "text/plain": [
       "               TV       radio   newspaper       sales\n",
       "count  200.000000  200.000000  200.000000  200.000000\n",
       "mean   147.042500   23.380320   30.554000   14.022500\n",
       "std     85.854236   14.754473   21.778621    5.217457\n",
       "min      0.700000    0.300000    0.300000    1.600000\n",
       "25%     74.375000   10.075000   12.750000   10.375000\n",
       "50%    149.750000   23.282000   25.750000   12.900000\n",
       "75%    218.825000   36.525000   45.100000   17.400000\n",
       "max    296.400000   49.600000  114.000000   27.000000"
      ]
     },
     "execution_count": 83,
     "metadata": {},
     "output_type": "execute_result"
    }
   ],
   "source": [
    "#now it is ok\n",
    "df.describe()"
   ]
  },
  {
   "cell_type": "markdown",
   "id": "6332b48b",
   "metadata": {},
   "source": [
    "# Chacking correlation feature with target\n",
    "1.saprate feature and label\n",
    "2.Correlation between feature vs feature by using heatmap\n",
    "3.Correlation between feature vs label by using .corr mathod"
   ]
  },
  {
   "cell_type": "code",
   "execution_count": 94,
   "id": "9b21fe5f",
   "metadata": {},
   "outputs": [],
   "source": [
    "label = df['sales']\n",
    "feature = df.drop(columns=['sales'])"
   ]
  },
  {
   "cell_type": "code",
   "execution_count": 90,
   "id": "c9a71a3c",
   "metadata": {},
   "outputs": [
    {
     "data": {
      "image/png": "[encoded data removed]",
      "text/plain": [
       "<Figure size 720x720 with 3 Axes>"
      ]
     },
     "metadata": {},
     "output_type": "display_data"
    }
   ],
   "source": [
    "#scatter plot\n",
    "plt.figure(figsize=(10,10),facecolor='white')\n",
    "plot=1\n",
    "for column in feature:\n",
    "    if plot<=3:\n",
    "        plt.subplot(3,2,plot)\n",
    "        sns.scatterplot(feature[column],label)\n",
    "        plt.title(\"Correlation feature with label\")\n",
    "        plt.xlabel(column,fontsize =15)\n",
    "    plot+=1\n",
    "plt.tight_layout()\n",
    "    "
   ]
  },
  {
   "cell_type": "code",
   "execution_count": 95,
   "id": "10996714",
   "metadata": {},
   "outputs": [],
   "source": [
    "#clearly see that newspaper is not very good related with label so we can drop that column.\n",
    "#also we can say that newspaper is not impacted on sales.\n",
    "feature=feature.drop(columns=['newspaper'])"
   ]
  },
  {
   "cell_type": "code",
   "execution_count": 96,
   "id": "2fda4dce",
   "metadata": {},
   "outputs": [
    {
     "data": {
      "text/html": [
       "<div>\n",
       "<style scoped>\n",
       "    .dataframe tbody tr th:only-of-type {\n",
       "        vertical-align: middle;\n",
       "    }\n",
       "\n",
       "    .dataframe tbody tr th {\n",
       "        vertical-align: top;\n",
       "    }\n",
       "\n",
       "    .dataframe thead th {\n",
       "        text-align: right;\n",
       "    }\n",
       "</style>\n",
       "<table border=\"1\" class=\"dataframe\">\n",
       "  <thead>\n",
       "    <tr style=\"text-align: right;\">\n",
       "      <th></th>\n",
       "      <th>TV</th>\n",
       "      <th>radio</th>\n",
       "    </tr>\n",
       "  </thead>\n",
       "  <tbody>\n",
       "    <tr>\n",
       "      <th>0</th>\n",
       "      <td>230.1</td>\n",
       "      <td>37.8</td>\n",
       "    </tr>\n",
       "    <tr>\n",
       "      <th>1</th>\n",
       "      <td>44.5</td>\n",
       "      <td>39.3</td>\n",
       "    </tr>\n",
       "    <tr>\n",
       "      <th>2</th>\n",
       "      <td>17.2</td>\n",
       "      <td>45.9</td>\n",
       "    </tr>\n",
       "    <tr>\n",
       "      <th>3</th>\n",
       "      <td>151.5</td>\n",
       "      <td>41.3</td>\n",
       "    </tr>\n",
       "    <tr>\n",
       "      <th>4</th>\n",
       "      <td>180.8</td>\n",
       "      <td>10.8</td>\n",
       "    </tr>\n",
       "  </tbody>\n",
       "</table>\n",
       "</div>"
      ],
      "text/plain": [
       "      TV  radio\n",
       "0  230.1   37.8\n",
       "1   44.5   39.3\n",
       "2   17.2   45.9\n",
       "3  151.5   41.3\n",
       "4  180.8   10.8"
      ]
     },
     "execution_count": 96,
     "metadata": {},
     "output_type": "execute_result"
    }
   ],
   "source": [
    "feature.head()"
   ]
  },
  {
   "cell_type": "code",
   "execution_count": 99,
   "id": "48ae772e",
   "metadata": {},
   "outputs": [
    {
     "data": {
      "image/png": "[encoded data removed]",
      "text/plain": [
       "<Figure size 360x360 with 2 Axes>"
      ]
     },
     "metadata": {},
     "output_type": "display_data"
    }
   ],
   "source": [
    "#now chack correlation between feature vs feature using heatmap\n",
    "plt.figure(figsize=(5,5),facecolor='white')\n",
    "sns.heatmap(feature.corr(),annot=True)\n",
    "plt.title(\"Features vs Features\")\n",
    "plt.show()\n"
   ]
  },
  {
   "cell_type": "code",
   "execution_count": 102,
   "id": "6df038bf",
   "metadata": {},
   "outputs": [
    {
     "data": {
      "image/png": "[encoded data removed]",
      "text/plain": [
       "<Figure size 720x720 with 2 Axes>"
      ]
     },
     "metadata": {},
     "output_type": "display_data"
    }
   ],
   "source": [
    "#data distribution\n",
    "#distplot\n",
    "plt.figure(figsize=(10,10),facecolor='white')\n",
    "plot=1\n",
    "for column in feature:\n",
    "    if plot<=3:\n",
    "        plt.subplot(3,2,plot)\n",
    "        sns.distplot(feature[column])\n",
    "        plt.title(\"Distribution\")\n",
    "        plt.xlabel(column,fontsize =15)\n",
    "    plot+=1\n",
    "plt.tight_layout()"
   ]
  },
  {
   "cell_type": "code",
   "execution_count": 103,
   "id": "52873cc2",
   "metadata": {},
   "outputs": [
    {
     "data": {
      "text/plain": [
       "radio    0.091961\n",
       "TV      -0.069853\n",
       "dtype: float64"
      ]
     },
     "execution_count": 103,
     "metadata": {},
     "output_type": "execute_result"
    }
   ],
   "source": [
    "#Now chack skweness\n",
    "feature.skew().sort_values(ascending=False)\n",
    "#we can cansider this skewness because range of skewness is (+0.5 to -0.5)"
   ]
  },
  {
   "cell_type": "code",
   "execution_count": 106,
   "id": "4db621e7",
   "metadata": {},
   "outputs": [],
   "source": [
    "#but if we want to more clearity so we use power transformation for overcome skewness.\n",
    "from sklearn.preprocessing import power_transform\n",
    "feature_new = power_transform(feature)\n",
    "feature_new = pd.DataFrame(feature_new,columns=['TV','Radio'])"
   ]
  },
  {
   "cell_type": "code",
   "execution_count": 107,
   "id": "aa863b3a",
   "metadata": {},
   "outputs": [
    {
     "data": {
      "text/plain": [
       "Radio   -0.046842\n",
       "TV      -0.058889\n",
       "dtype: float64"
      ]
     },
     "execution_count": 107,
     "metadata": {},
     "output_type": "execute_result"
    }
   ],
   "source": [
    "#again chack skewness\n",
    "feature_new.skew().sort_values(ascending=False)"
   ]
  },
  {
   "cell_type": "code",
   "execution_count": 108,
   "id": "aa0a8729",
   "metadata": {},
   "outputs": [
    {
     "data": {
      "image/png": "[encoded data removed]",
      "text/plain": [
       "<Figure size 720x720 with 2 Axes>"
      ]
     },
     "metadata": {},
     "output_type": "display_data"
    }
   ],
   "source": [
    "#data distribution\n",
    "#distplot\n",
    "plt.figure(figsize=(10,10),facecolor='white')\n",
    "plot=1\n",
    "for column in feature_new:\n",
    "    if plot<=3:\n",
    "        plt.subplot(3,2,plot)\n",
    "        sns.distplot(feature_new[column])\n",
    "        plt.title(\"Distribution\")\n",
    "        plt.xlabel(column,fontsize =15)\n",
    "    plot+=1\n",
    "plt.tight_layout()"
   ]
  },
  {
   "cell_type": "markdown",
   "id": "b6ea211a",
   "metadata": {},
   "source": [
    "# Everything is good so we can build modal"
   ]
  },
  {
   "cell_type": "code",
   "execution_count": 109,
   "id": "4921f229",
   "metadata": {},
   "outputs": [],
   "source": [
    "# Import model building libraries\n",
    "\n",
    "from sklearn.preprocessing import StandardScaler\n",
    "from sklearn.metrics import r2_score, mean_squared_error, mean_absolute_error\n",
    "from sklearn.model_selection import train_test_split"
   ]
  },
  {
   "cell_type": "code",
   "execution_count": 110,
   "id": "dfaac2c7",
   "metadata": {},
   "outputs": [],
   "source": [
    "sc = StandardScaler()\n",
    "x_scaled = sc.fit_transform(feature_new)"
   ]
  },
  {
   "cell_type": "code",
   "execution_count": 111,
   "id": "26f285cf",
   "metadata": {},
   "outputs": [],
   "source": [
    "#now split data\n",
    "x_train,x_test,y_train,y_test = train_test_split(x_scaled,label,random_state=50,test_size=0.25)"
   ]
  },
  {
   "cell_type": "code",
   "execution_count": 112,
   "id": "1a5bc757",
   "metadata": {},
   "outputs": [],
   "source": [
    "def Print_Score(self,x_train,x_test,y_train,y_test,train=True):\n",
    "    if train==True:\n",
    "        modal=self.fit(x_train,y_train)\n",
    "        y_train_pre=modal.predict(x_train)\n",
    "        print(\"======================Train Score==================\")\n",
    "        \n",
    "        print(\"Score of train data is :\",r2_score(y_train,y_train_pre))\n",
    "        print(\"Mean squared error :\",mean_squared_error(y_train,y_train_pre))\n",
    "        print(\"Mean absolute error :\",mean_absolute_error(y_train,y_train_pre))\n",
    "        \n",
    "    \n",
    "    if train==False:\n",
    "        modal=self.fit(x_train,y_train)\n",
    "        y_pre_test= modal.predict(x_test)\n",
    "        \n",
    "        print(\"======================Test Score==================\")\n",
    "        \n",
    "        print(\"Score of test data is :\",r2_score(y_test,y_pre_test))\n",
    "        print(\"Mean squared error :\",mean_squared_error(y_test,y_pre_test))\n",
    "        print(\"Mean absolute error :\",mean_absolute_error(y_test,y_pre_test))\n",
    "        \n",
    "        "
   ]
  },
  {
   "cell_type": "markdown",
   "id": "a4f83595",
   "metadata": {},
   "source": [
    "# LinearRegression"
   ]
  },
  {
   "cell_type": "code",
   "execution_count": 113,
   "id": "f9e5633c",
   "metadata": {},
   "outputs": [],
   "source": [
    "from sklearn.linear_model import LinearRegression"
   ]
  },
  {
   "cell_type": "code",
   "execution_count": 114,
   "id": "e6b0d7e5",
   "metadata": {},
   "outputs": [],
   "source": [
    "log_Reg = LinearRegression()"
   ]
  },
  {
   "cell_type": "code",
   "execution_count": 115,
   "id": "e4275794",
   "metadata": {},
   "outputs": [
    {
     "name": "stdout",
     "output_type": "stream",
     "text": [
      "======================Train Score==================\n",
      "Score of train data is : 0.8984621253360358\n",
      "Mean squared error : 3.0395800972996803\n",
      "Mean absolute error : 1.329832721634351\n"
     ]
    }
   ],
   "source": [
    "Print_Score(log_Reg,x_train,x_test,y_train,y_test,train=True)"
   ]
  },
  {
   "cell_type": "code",
   "execution_count": 117,
   "id": "015b1f72",
   "metadata": {},
   "outputs": [
    {
     "name": "stdout",
     "output_type": "stream",
     "text": [
      "======================Test Score==================\n",
      "Score of test data is : 0.8808867239760452\n",
      "Mean squared error : 2.085395214566657\n",
      "Mean absolute error : 1.1160323697670795\n"
     ]
    }
   ],
   "source": [
    "Print_Score(log_Reg,x_train,x_test,y_train,y_test,train=False)"
   ]
  },
  {
   "cell_type": "markdown",
   "id": "47600f89",
   "metadata": {},
   "source": [
    "# Knn Regressor"
   ]
  },
  {
   "cell_type": "code",
   "execution_count": 116,
   "id": "cd46ffb2",
   "metadata": {},
   "outputs": [],
   "source": [
    "from sklearn.neighbors import KNeighborsRegressor\n",
    "knn_reg = KNeighborsRegressor()"
   ]
  },
  {
   "cell_type": "code",
   "execution_count": 118,
   "id": "9092ea5e",
   "metadata": {},
   "outputs": [
    {
     "name": "stdout",
     "output_type": "stream",
     "text": [
      "======================Train Score==================\n",
      "Score of train data is : 0.9823889404871857\n",
      "Mean squared error : 0.5271946666666667\n",
      "Mean absolute error : 0.4693333333333334\n"
     ]
    }
   ],
   "source": [
    "Print_Score(knn_reg,x_train,x_test,y_train,y_test,train=True)"
   ]
  },
  {
   "cell_type": "code",
   "execution_count": 119,
   "id": "b7b56d18",
   "metadata": {},
   "outputs": [
    {
     "name": "stdout",
     "output_type": "stream",
     "text": [
      "======================Test Score==================\n",
      "Score of test data is : 0.9821499887135142\n",
      "Mean squared error : 0.3125120000000003\n",
      "Mean absolute error : 0.44320000000000026\n"
     ]
    }
   ],
   "source": [
    "Print_Score(knn_reg,x_train,x_test,y_train,y_test,train=False)"
   ]
  },
  {
   "cell_type": "markdown",
   "id": "6da97407",
   "metadata": {},
   "source": [
    "# DecisionTreeRegressor"
   ]
  },
  {
   "cell_type": "code",
   "execution_count": 120,
   "id": "014d7a5e",
   "metadata": {},
   "outputs": [],
   "source": [
    "from sklearn.tree import DecisionTreeRegressor\n",
    "decision_tree=DecisionTreeRegressor()\n"
   ]
  },
  {
   "cell_type": "code",
   "execution_count": 121,
   "id": "7d2429ac",
   "metadata": {},
   "outputs": [
    {
     "name": "stdout",
     "output_type": "stream",
     "text": [
      "======================Train Score==================\n",
      "Score of train data is : 1.0\n",
      "Mean squared error : 0.0\n",
      "Mean absolute error : 0.0\n"
     ]
    }
   ],
   "source": [
    "Print_Score(decision_tree,x_train,x_test,y_train,y_test,train=True)"
   ]
  },
  {
   "cell_type": "code",
   "execution_count": 123,
   "id": "6b8afcf8",
   "metadata": {},
   "outputs": [
    {
     "name": "stdout",
     "output_type": "stream",
     "text": [
      "======================Test Score==================\n",
      "Score of test data is : 0.9569559936722569\n",
      "Mean squared error : 0.7536000000000004\n",
      "Mean absolute error : 0.684\n"
     ]
    }
   ],
   "source": [
    "Print_Score(decision_tree,x_train,x_test,y_train,y_test,train=False)"
   ]
  },
  {
   "cell_type": "markdown",
   "id": "04ea531a",
   "metadata": {},
   "source": [
    "# AdaBoostRegressor"
   ]
  },
  {
   "cell_type": "code",
   "execution_count": 124,
   "id": "510d8863",
   "metadata": {},
   "outputs": [],
   "source": [
    "from sklearn.ensemble import AdaBoostRegressor\n",
    "ada_boost = AdaBoostRegressor()"
   ]
  },
  {
   "cell_type": "code",
   "execution_count": 125,
   "id": "dad37701",
   "metadata": {},
   "outputs": [
    {
     "name": "stdout",
     "output_type": "stream",
     "text": [
      "======================Train Score==================\n",
      "Score of train data is : 0.979019185202475\n",
      "Mean squared error : 0.6280697453510959\n",
      "Mean absolute error : 0.6551157399315215\n"
     ]
    }
   ],
   "source": [
    "Print_Score(ada_boost,x_train,x_test,y_train,y_test,train=True)"
   ]
  },
  {
   "cell_type": "code",
   "execution_count": 126,
   "id": "12fe622b",
   "metadata": {},
   "outputs": [
    {
     "name": "stdout",
     "output_type": "stream",
     "text": [
      "======================Test Score==================\n",
      "Score of test data is : 0.9579279608198953\n",
      "Mean squared error : 0.7365831257601085\n",
      "Mean absolute error : 0.6557009903029425\n"
     ]
    }
   ],
   "source": [
    "Print_Score(ada_boost,x_train,x_test,y_train,y_test,train=False)"
   ]
  },
  {
   "cell_type": "markdown",
   "id": "79029b81",
   "metadata": {},
   "source": [
    "# GradientBoostingRegressor"
   ]
  },
  {
   "cell_type": "code",
   "execution_count": 127,
   "id": "03a98f91",
   "metadata": {},
   "outputs": [],
   "source": [
    "from sklearn.ensemble import GradientBoostingRegressor\n",
    "gbdt = GradientBoostingRegressor()"
   ]
  },
  {
   "cell_type": "code",
   "execution_count": 128,
   "id": "29464155",
   "metadata": {},
   "outputs": [
    {
     "name": "stdout",
     "output_type": "stream",
     "text": [
      "======================Train Score==================\n",
      "Score of train data is : 0.9986582416479068\n",
      "Mean squared error : 0.04016611531318067\n",
      "Mean absolute error : 0.1501386432060174\n"
     ]
    }
   ],
   "source": [
    "Print_Score(gbdt,x_train,x_test,y_train,y_test,train=True)"
   ]
  },
  {
   "cell_type": "code",
   "execution_count": 129,
   "id": "c2b72e4c",
   "metadata": {},
   "outputs": [
    {
     "name": "stdout",
     "output_type": "stream",
     "text": [
      "======================Test Score==================\n",
      "Score of test data is : 0.9832605809719138\n",
      "Mean squared error : 0.2930681238989392\n",
      "Mean absolute error : 0.3948329321895779\n"
     ]
    }
   ],
   "source": [
    "Print_Score(gbdt,x_train,x_test,y_train,y_test,train=False)"
   ]
  },
  {
   "cell_type": "markdown",
   "id": "769bf983",
   "metadata": {},
   "source": [
    "# XGBRegressor"
   ]
  },
  {
   "cell_type": "code",
   "execution_count": 130,
   "id": "20ea0780",
   "metadata": {},
   "outputs": [],
   "source": [
    "from xgboost import XGBRegressor\n",
    "xgb_reg= XGBRegressor()"
   ]
  },
  {
   "cell_type": "code",
   "execution_count": 131,
   "id": "4772d64e",
   "metadata": {},
   "outputs": [
    {
     "name": "stdout",
     "output_type": "stream",
     "text": [
      "======================Train Score==================\n",
      "Score of train data is : 0.9999988381339746\n",
      "Mean squared error : 3.4780960879566434e-05\n",
      "Mean absolute error : 0.004412452220916819\n"
     ]
    }
   ],
   "source": [
    "Print_Score(xgb_reg,x_train,x_test,y_train,y_test,train=True)"
   ]
  },
  {
   "cell_type": "code",
   "execution_count": 138,
   "id": "f5ea84e6",
   "metadata": {},
   "outputs": [
    {
     "name": "stdout",
     "output_type": "stream",
     "text": [
      "======================Test Score==================\n",
      "Score of test data is : 0.9754554400211156\n",
      "Mean squared error : 0.4297179091381553\n",
      "Mean absolute error : 0.48583270263671885\n"
     ]
    }
   ],
   "source": [
    "Print_Score(xgb_reg,x_train,x_test,y_train,y_test,train=False)"
   ]
  },
  {
   "cell_type": "markdown",
   "id": "18c834c5",
   "metadata": {},
   "source": [
    "# SVR"
   ]
  },
  {
   "cell_type": "code",
   "execution_count": 135,
   "id": "8dbc03d9",
   "metadata": {},
   "outputs": [],
   "source": [
    "from sklearn.svm import SVR\n",
    "svr = SVR()"
   ]
  },
  {
   "cell_type": "code",
   "execution_count": 136,
   "id": "9296a20f",
   "metadata": {},
   "outputs": [
    {
     "name": "stdout",
     "output_type": "stream",
     "text": [
      "======================Train Score==================\n",
      "Score of train data is : 0.9642100007177894\n",
      "Mean squared error : 1.0713890738859975\n",
      "Mean absolute error : 0.5785888774805049\n"
     ]
    }
   ],
   "source": [
    "Print_Score(svr,x_train,x_test,y_train,y_test,train=True)"
   ]
  },
  {
   "cell_type": "code",
   "execution_count": 137,
   "id": "d270bb73",
   "metadata": {},
   "outputs": [
    {
     "name": "stdout",
     "output_type": "stream",
     "text": [
      "======================Test Score==================\n",
      "Score of test data is : 0.9746260067606531\n",
      "Mean squared error : 0.4442393479727563\n",
      "Mean absolute error : 0.40751706628682627\n"
     ]
    }
   ],
   "source": [
    "Print_Score(svr,x_train,x_test,y_train,y_test,train=False)"
   ]
  },
  {
   "cell_type": "markdown",
   "id": "e9675654",
   "metadata": {},
   "source": [
    "# RandomForestRegressor"
   ]
  },
  {
   "cell_type": "code",
   "execution_count": 157,
   "id": "9b8ff443",
   "metadata": {},
   "outputs": [],
   "source": [
    "from sklearn.ensemble import RandomForestRegressor\n",
    "random_forest_reg = RandomForestRegressor()"
   ]
  },
  {
   "cell_type": "code",
   "execution_count": 158,
   "id": "e6f88800",
   "metadata": {},
   "outputs": [
    {
     "name": "stdout",
     "output_type": "stream",
     "text": [
      "======================Test Score==================\n",
      "Score of test data is : 0.9791440411467799\n",
      "Mean squared error : 0.36513912000000237\n",
      "Mean absolute error : 0.440120000000001\n"
     ]
    }
   ],
   "source": [
    "Print_Score(random_forest_reg,x_train,x_test,y_train,y_test,train=False)"
   ]
  },
  {
   "cell_type": "code",
   "execution_count": 159,
   "id": "4a5f8d4e",
   "metadata": {},
   "outputs": [
    {
     "name": "stdout",
     "output_type": "stream",
     "text": [
      "======================Train Score==================\n",
      "Score of train data is : 0.9969103628979474\n",
      "Mean squared error : 0.09248961999999956\n",
      "Mean absolute error : 0.2272733333333327\n"
     ]
    }
   ],
   "source": [
    "Print_Score(random_forest_reg,x_train,x_test,y_train,y_test,train=True)"
   ]
  },
  {
   "cell_type": "markdown",
   "id": "4d46f756",
   "metadata": {},
   "source": [
    "# we are seeing that RandomForestRegressor is giving good score with very low error so we concider RandomForestRegressor as the best modal for this data set.  but before that we have to chack cross value validation."
   ]
  },
  {
   "cell_type": "code",
   "execution_count": 162,
   "id": "b189bed6",
   "metadata": {},
   "outputs": [
    {
     "name": "stdout",
     "output_type": "stream",
     "text": [
      "Random Forest Regressor :  0.9760671340618394\n",
      "K-Neighhors Regressor   :  0.966042007242583\n",
      "Decision Tree Regressor : 0.9523873104207435\n",
      "Linear Regression       :  0.8877055950335155\n",
      "Support Vector Regressor       :  0.900144484350492\n",
      "AdaBoostRegressor : 0.9496755984001476\n",
      "GradientBoostingRegressor : 0.9360515546355316\n",
      "XGBRegressor : 0.9681076959469674\n"
     ]
    }
   ],
   "source": [
    "# Cross Validation Scores\n",
    "\n",
    "from sklearn.model_selection import cross_val_score\n",
    "\n",
    "print(\"Random Forest Regressor : \",cross_val_score(random_forest_reg,x_scaled,label,cv=5,scoring='r2').mean())\n",
    "print(\"K-Neighhors Regressor   : \",cross_val_score(knn_reg,x_scaled,label,cv=5,scoring='r2').mean())\n",
    "print(\"Decision Tree Regressor :\",cross_val_score(decision_tree,x_scaled,label,cv=5,scoring='r2').mean())\n",
    "print(\"Linear Regression       : \",cross_val_score(log_Reg,x_scaled,label,cv=5,scoring='r2').mean())\n",
    "print(\"Support Vector Regressor       : \",cross_val_score(svr,x_scaler,label,cv=5,scoring='r2').mean())\n",
    "print(\"AdaBoostRegressor :\",cross_val_score(ada_boost,x_scaled,label,cv=5,scoring='r2').mean())\n",
    "print(\"GradientBoostingRegressor :\",cross_val_score(gbdt,x_scaled,label,cv=5,scoring='r2').mean())\n",
    "print(\"XGBRegressor :\",cross_val_score(xgb_reg,x_scaled,label,cv=5,scoring='r2').mean())\n"
   ]
  },
  {
   "cell_type": "markdown",
   "id": "309a9123",
   "metadata": {},
   "source": [
    "# Now we can use hyperperametter tunning\n",
    "1.GridSearchCV\n",
    "2.RandomizedSearchCV"
   ]
  },
  {
   "cell_type": "code",
   "execution_count": 139,
   "id": "6bc396bf",
   "metadata": {},
   "outputs": [],
   "source": [
    "from sklearn.model_selection import GridSearchCV\n",
    "from sklearn.model_selection import RandomizedSearchCV"
   ]
  },
  {
   "cell_type": "code",
   "execution_count": 168,
   "id": "b17d0352",
   "metadata": {},
   "outputs": [],
   "source": [
    "RandomForestRegressor()\n",
    "perametter = {'n_estimators':[100,105],\n",
    "               'min_samples_split':[1,2,3],\n",
    "               'min_samples_leaf':[1,2,3],\n",
    "                'max_depth':[1,2,3,4],\n",
    "                 'criterion':['mse','mae']}\n"
   ]
  },
  {
   "cell_type": "code",
   "execution_count": 169,
   "id": "dfff9cc4",
   "metadata": {},
   "outputs": [],
   "source": [
    "gride_serch_cv = GridSearchCV(estimator=random_forest_reg,param_grid=perametter)"
   ]
  },
  {
   "cell_type": "code",
   "execution_count": 170,
   "id": "19572b30",
   "metadata": {},
   "outputs": [
    {
     "data": {
      "text/plain": [
       "GridSearchCV(estimator=RandomForestRegressor(),\n",
       "             param_grid={'criterion': ['mse', 'mae'], 'max_depth': [1, 2, 3, 4],\n",
       "                         'min_samples_leaf': [1, 2, 3],\n",
       "                         'min_samples_split': [1, 2, 3],\n",
       "                         'n_estimators': [100, 105]})"
      ]
     },
     "execution_count": 170,
     "metadata": {},
     "output_type": "execute_result"
    }
   ],
   "source": [
    "gride_serch_cv.fit(x_train,y_train)"
   ]
  },
  {
   "cell_type": "code",
   "execution_count": 172,
   "id": "32eb7264",
   "metadata": {},
   "outputs": [
    {
     "data": {
      "text/plain": [
       "{'criterion': 'mse',\n",
       " 'max_depth': 4,\n",
       " 'min_samples_leaf': 2,\n",
       " 'min_samples_split': 2,\n",
       " 'n_estimators': 100}"
      ]
     },
     "execution_count": 172,
     "metadata": {},
     "output_type": "execute_result"
    }
   ],
   "source": [
    "#chack best perametter\n",
    "gride_serch_cv.best_params_"
   ]
  },
  {
   "cell_type": "code",
   "execution_count": 176,
   "id": "dd7ddbd3",
   "metadata": {},
   "outputs": [],
   "source": [
    "#Now build again modal \n",
    "random_forest_reg_hypertunning =RandomForestRegressor(criterion='mse',max_depth=4,min_samples_split=2,min_samples_leaf=2,n_estimators=100)"
   ]
  },
  {
   "cell_type": "code",
   "execution_count": 177,
   "id": "911c0b4c",
   "metadata": {},
   "outputs": [
    {
     "name": "stdout",
     "output_type": "stream",
     "text": [
      "======================Train Score==================\n",
      "Score of train data is : 0.9838098050353924\n",
      "Mean squared error : 0.4846604732341099\n",
      "Mean absolute error : 0.5223380584795106\n"
     ]
    }
   ],
   "source": [
    "Print_Score(random_forest_reg_hypertunning,x_train,x_test,y_train,y_test,train=True)"
   ]
  },
  {
   "cell_type": "code",
   "execution_count": 178,
   "id": "9dd595d7",
   "metadata": {},
   "outputs": [
    {
     "name": "stdout",
     "output_type": "stream",
     "text": [
      "======================Test Score==================\n",
      "Score of test data is : 0.9673744952133999\n",
      "Mean squared error : 0.5711963756341852\n",
      "Mean absolute error : 0.5995730610927942\n"
     ]
    }
   ],
   "source": [
    "Print_Score(random_forest_reg_hypertunning,x_train,x_test,y_train,y_test,train=False)"
   ]
  },
  {
   "cell_type": "markdown",
   "id": "f4d045e3",
   "metadata": {},
   "source": [
    "# we consider old RandomForestRegressor because that has gave good score and low error"
   ]
  },
  {
   "cell_type": "markdown",
   "id": "d6eae08c",
   "metadata": {},
   "source": [
    "save modal."
   ]
  },
  {
   "cell_type": "code",
   "execution_count": 179,
   "id": "d9ee848d",
   "metadata": {},
   "outputs": [
    {
     "data": {
      "text/plain": [
       "['Final_RandomForest_Model.pkl']"
      ]
     },
     "execution_count": 179,
     "metadata": {},
     "output_type": "execute_result"
    }
   ],
   "source": [
    "import joblib\n",
    "\n",
    "joblib.dump(random_forest_reg, \"Final_RandomForest_Model.pkl\")"
   ]
  },
  {
   "cell_type": "code",
   "execution_count": null,
   "id": "50a574b5",
   "metadata": {},
   "outputs": [],
   "source": []
  }
 ],
 "metadata": {
  "kernelspec": {
   "display_name": "Python 3 (ipykernel)",
   "language": "python",
   "name": "python3"
  },
  "language_info": {
   "codemirror_mode": {
    "name": "ipython",
    "version": 3
   },
   "file_extension": ".py",
   "mimetype": "text/x-python",
   "name": "python",
   "nbconvert_exporter": "python",
   "pygments_lexer": "ipython3",
   "version": "3.9.7"
  }
 },
 "nbformat": 4,
 "nbformat_minor": 5
}
