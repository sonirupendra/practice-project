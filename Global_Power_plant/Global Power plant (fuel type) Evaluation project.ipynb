{
 "cells": [
  {
   "cell_type": "markdown",
   "id": "36d1160f",
   "metadata": {},
   "source": [
    "# Global Power Plant Database\n",
    "\n",
    "Problem Statement:\n",
    "\n",
    "\n",
    "\n",
    "The Global Power Plant Database is a comprehensive, open source database of power plants around the world. It centralizes power plant data to make it easier to navigate, compare and draw insights for one’s own analysis. The database covers approximately 35,000 power plants from 167 countries and includes thermal plants (e.g. coal, gas, oil, nuclear, biomass, waste, geothermal) and renewables (e.g. hydro, wind, solar). Each power plant is geolocated and entries contain information on plant capacity, generation, ownership, and fuel type. It will be continuously updated as data becomes available.\n",
    "\n",
    "#### Columns Informations\n",
    "\n",
    "1. country (text): 3 character country code corresponding to the ISO 3166-1 alpha-3 specification [5]\n",
    "2. country_long (text): longer form of the country designation\n",
    "3. name (text): name or title of the power plant, generally in Romanized form\n",
    "4. gppd_idn (text): 10 or 12 character identifier for the power plant\n",
    "5. capacity_mw (number): electrical generating capacity in megawatts\n",
    "6. latitude (number): geolocation in decimal degrees; WGS84 (EPSG:4326)\n",
    "7. longitude (number): geolocation in decimal degrees; WGS84 (EPSG:4326)\n",
    "8. primary_fuel (text): energy source used in primary electricity generation or export\n",
    "9. other_fuel1 (text): energy source used in electricity generation or export\n",
    "10. other_fuel2 (text): energy source used in electricity generation or export\n",
    "11. other_fuel3 (text): energy source used in electricity generation or export\n",
    "12. commissioning_year (number): year of plant operation, weighted by unit-capacity when data is available\n",
    "13. owner (text): majority shareholder of the power plant, generally in Romanized form\n",
    "14. source (text): entity reporting the data; could be an organization, report, or document, generally in Romanized form\n",
    "15. url (text): web document corresponding to the source field\n",
    "16. geolocation_source (text): attribution for geolocation information\n",
    "17. wepp_id (text): a reference to a unique plant identifier in the widely-used PLATTS-WEPP database.\n",
    "18. year_of_capacity_data (number): year the capacity information was reported\n",
    "19. generation_gwh_2013 (number): electricity generation in gigawatt-hours reported for the year 2013\n",
    "20. generation_gwh_2014 (number): electricity generation in gigawatt-hours reported for the year 2014\n",
    "21. generation_gwh_2015 (number): electricity generation in gigawatt-hours reported for the year 2015\n",
    "22. generation_gwh_2016 (number): electricity generation in gigawatt-hours reported for the year 2016\n",
    "23. generation_gwh_2017 (number): electricity generation in gigawatt-hours reported for the year 2017\n",
    "24. generation_gwh_2018 (number): electricity generation in gigawatt-hours reported for the year 2018\n",
    "26. generation_gwh_2019 (number): electricity generation in gigawatt-hours reported for the year 2019\n",
    "27. generation_data_source (text): attribution for the reported generation information\n",
    "28. estimated_generation_gwh_2013 (number): estimated electricity generation in gigawatt-hours for the year 2013\n",
    "29. estimated_generation_gwh_2014 (number): estimated electricity generation in gigawatt-hours for the year 2014 \n",
    "30. estimated_generation_gwh_2015 (number): estimated electricity generation in gigawatt-hours for the year 2015 \n",
    "31. estimated_generation_gwh_2016 (number): estimated electricity generation in gigawatt-hours for the year 2016 \n",
    "32. estimated_generation_gwh_2017 (number): estimated electricity generation in gigawatt-hours for the year 2017 \n",
    "33. estimated_generation_note_2013 (text): label of the model/method used to estimate generation for the year 2013\n",
    "34. estimated_generation_note_2014 (text): label of the model/method used to estimate generation for the year 2014 \n",
    "34. estimated_generation_note_2015 (text): label of the model/method used to estimate generation for the year 2015\n",
    "35. estimated_generation_note_2016 (text): label of the model/method used to estimate generation for the year 2016\n",
    "36. estimated_generation_note_2017 (text): label of the model/method used to estimate generation for the year 2017 "
   ]
  },
  {
   "cell_type": "markdown",
   "id": "29093624",
   "metadata": {},
   "source": [
    "###### Pridiction \n",
    "\n",
    "=> Pridict Fuel type ."
   ]
  },
  {
   "cell_type": "code",
   "execution_count": 96,
   "id": "b78a5617",
   "metadata": {},
   "outputs": [],
   "source": [
    "#Importent Libreries importing\n",
    "\n",
    "\n",
    "import pandas as pd\n",
    "import numpy as np\n",
    "import warnings\n",
    "warnings.filterwarnings('ignore')\n",
    "import matplotlib.pyplot as plt\n",
    "import seaborn as sns"
   ]
  },
  {
   "cell_type": "code",
   "execution_count": 97,
   "id": "d74e782e",
   "metadata": {},
   "outputs": [
    {
     "data": {
      "text/html": [
       "<div>\n",
       "<style scoped>\n",
       "    .dataframe tbody tr th:only-of-type {\n",
       "        vertical-align: middle;\n",
       "    }\n",
       "\n",
       "    .dataframe tbody tr th {\n",
       "        vertical-align: top;\n",
       "    }\n",
       "\n",
       "    .dataframe thead th {\n",
       "        text-align: right;\n",
       "    }\n",
       "</style>\n",
       "<table border=\"1\" class=\"dataframe\">\n",
       "  <thead>\n",
       "    <tr style=\"text-align: right;\">\n",
       "      <th></th>\n",
       "      <th>country</th>\n",
       "      <th>country_long</th>\n",
       "      <th>name</th>\n",
       "      <th>gppd_idnr</th>\n",
       "      <th>capacity_mw</th>\n",
       "      <th>latitude</th>\n",
       "      <th>longitude</th>\n",
       "      <th>primary_fuel</th>\n",
       "      <th>other_fuel1</th>\n",
       "      <th>other_fuel2</th>\n",
       "      <th>...</th>\n",
       "      <th>year_of_capacity_data</th>\n",
       "      <th>generation_gwh_2013</th>\n",
       "      <th>generation_gwh_2014</th>\n",
       "      <th>generation_gwh_2015</th>\n",
       "      <th>generation_gwh_2016</th>\n",
       "      <th>generation_gwh_2017</th>\n",
       "      <th>generation_gwh_2018</th>\n",
       "      <th>generation_gwh_2019</th>\n",
       "      <th>generation_data_source</th>\n",
       "      <th>estimated_generation_gwh</th>\n",
       "    </tr>\n",
       "  </thead>\n",
       "  <tbody>\n",
       "    <tr>\n",
       "      <th>0</th>\n",
       "      <td>IND</td>\n",
       "      <td>India</td>\n",
       "      <td>ACME Solar Tower</td>\n",
       "      <td>WRI1020239</td>\n",
       "      <td>2.5</td>\n",
       "      <td>28.1839</td>\n",
       "      <td>73.2407</td>\n",
       "      <td>Solar</td>\n",
       "      <td>NaN</td>\n",
       "      <td>NaN</td>\n",
       "      <td>...</td>\n",
       "      <td>NaN</td>\n",
       "      <td>NaN</td>\n",
       "      <td>NaN</td>\n",
       "      <td>NaN</td>\n",
       "      <td>NaN</td>\n",
       "      <td>NaN</td>\n",
       "      <td>NaN</td>\n",
       "      <td>NaN</td>\n",
       "      <td>NaN</td>\n",
       "      <td>NaN</td>\n",
       "    </tr>\n",
       "    <tr>\n",
       "      <th>1</th>\n",
       "      <td>IND</td>\n",
       "      <td>India</td>\n",
       "      <td>ADITYA CEMENT WORKS</td>\n",
       "      <td>WRI1019881</td>\n",
       "      <td>98.0</td>\n",
       "      <td>24.7663</td>\n",
       "      <td>74.6090</td>\n",
       "      <td>Coal</td>\n",
       "      <td>NaN</td>\n",
       "      <td>NaN</td>\n",
       "      <td>...</td>\n",
       "      <td>NaN</td>\n",
       "      <td>NaN</td>\n",
       "      <td>NaN</td>\n",
       "      <td>NaN</td>\n",
       "      <td>NaN</td>\n",
       "      <td>NaN</td>\n",
       "      <td>NaN</td>\n",
       "      <td>NaN</td>\n",
       "      <td>NaN</td>\n",
       "      <td>NaN</td>\n",
       "    </tr>\n",
       "    <tr>\n",
       "      <th>2</th>\n",
       "      <td>IND</td>\n",
       "      <td>India</td>\n",
       "      <td>AES Saurashtra Windfarms</td>\n",
       "      <td>WRI1026669</td>\n",
       "      <td>39.2</td>\n",
       "      <td>21.9038</td>\n",
       "      <td>69.3732</td>\n",
       "      <td>Wind</td>\n",
       "      <td>NaN</td>\n",
       "      <td>NaN</td>\n",
       "      <td>...</td>\n",
       "      <td>NaN</td>\n",
       "      <td>NaN</td>\n",
       "      <td>NaN</td>\n",
       "      <td>NaN</td>\n",
       "      <td>NaN</td>\n",
       "      <td>NaN</td>\n",
       "      <td>NaN</td>\n",
       "      <td>NaN</td>\n",
       "      <td>NaN</td>\n",
       "      <td>NaN</td>\n",
       "    </tr>\n",
       "    <tr>\n",
       "      <th>3</th>\n",
       "      <td>IND</td>\n",
       "      <td>India</td>\n",
       "      <td>AGARTALA GT</td>\n",
       "      <td>IND0000001</td>\n",
       "      <td>135.0</td>\n",
       "      <td>23.8712</td>\n",
       "      <td>91.3602</td>\n",
       "      <td>Gas</td>\n",
       "      <td>NaN</td>\n",
       "      <td>NaN</td>\n",
       "      <td>...</td>\n",
       "      <td>2019.0</td>\n",
       "      <td>NaN</td>\n",
       "      <td>617.789264</td>\n",
       "      <td>843.7470</td>\n",
       "      <td>886.004428</td>\n",
       "      <td>663.774500</td>\n",
       "      <td>626.239128</td>\n",
       "      <td>NaN</td>\n",
       "      <td>Central Electricity Authority</td>\n",
       "      <td>NaN</td>\n",
       "    </tr>\n",
       "    <tr>\n",
       "      <th>4</th>\n",
       "      <td>IND</td>\n",
       "      <td>India</td>\n",
       "      <td>AKALTARA TPP</td>\n",
       "      <td>IND0000002</td>\n",
       "      <td>1800.0</td>\n",
       "      <td>21.9603</td>\n",
       "      <td>82.4091</td>\n",
       "      <td>Coal</td>\n",
       "      <td>Oil</td>\n",
       "      <td>NaN</td>\n",
       "      <td>...</td>\n",
       "      <td>2019.0</td>\n",
       "      <td>NaN</td>\n",
       "      <td>3035.550000</td>\n",
       "      <td>5916.3700</td>\n",
       "      <td>6243.000000</td>\n",
       "      <td>5385.579736</td>\n",
       "      <td>7279.000000</td>\n",
       "      <td>NaN</td>\n",
       "      <td>Central Electricity Authority</td>\n",
       "      <td>NaN</td>\n",
       "    </tr>\n",
       "    <tr>\n",
       "      <th>5</th>\n",
       "      <td>IND</td>\n",
       "      <td>India</td>\n",
       "      <td>AKRIMOTA LIG</td>\n",
       "      <td>IND0000003</td>\n",
       "      <td>250.0</td>\n",
       "      <td>23.7689</td>\n",
       "      <td>68.6447</td>\n",
       "      <td>Coal</td>\n",
       "      <td>Oil</td>\n",
       "      <td>NaN</td>\n",
       "      <td>...</td>\n",
       "      <td>2019.0</td>\n",
       "      <td>NaN</td>\n",
       "      <td>1153.421000</td>\n",
       "      <td>1208.8520</td>\n",
       "      <td>1175.765000</td>\n",
       "      <td>1147.913000</td>\n",
       "      <td>976.655000</td>\n",
       "      <td>NaN</td>\n",
       "      <td>Central Electricity Authority</td>\n",
       "      <td>NaN</td>\n",
       "    </tr>\n",
       "    <tr>\n",
       "      <th>6</th>\n",
       "      <td>IND</td>\n",
       "      <td>India</td>\n",
       "      <td>ALIYAR</td>\n",
       "      <td>IND0000004</td>\n",
       "      <td>60.0</td>\n",
       "      <td>10.4547</td>\n",
       "      <td>77.0078</td>\n",
       "      <td>Hydro</td>\n",
       "      <td>NaN</td>\n",
       "      <td>NaN</td>\n",
       "      <td>...</td>\n",
       "      <td>2019.0</td>\n",
       "      <td>NaN</td>\n",
       "      <td>157.558250</td>\n",
       "      <td>152.1952</td>\n",
       "      <td>61.421350</td>\n",
       "      <td>89.629600</td>\n",
       "      <td>48.327150</td>\n",
       "      <td>NaN</td>\n",
       "      <td>Central Electricity Authority</td>\n",
       "      <td>NaN</td>\n",
       "    </tr>\n",
       "    <tr>\n",
       "      <th>7</th>\n",
       "      <td>IND</td>\n",
       "      <td>India</td>\n",
       "      <td>ALLAIN DUHANGAN</td>\n",
       "      <td>IND0000005</td>\n",
       "      <td>192.0</td>\n",
       "      <td>32.2258</td>\n",
       "      <td>77.2070</td>\n",
       "      <td>Hydro</td>\n",
       "      <td>NaN</td>\n",
       "      <td>NaN</td>\n",
       "      <td>...</td>\n",
       "      <td>2019.0</td>\n",
       "      <td>NaN</td>\n",
       "      <td>674.391100</td>\n",
       "      <td>721.3352</td>\n",
       "      <td>675.724400</td>\n",
       "      <td>679.594950</td>\n",
       "      <td>579.318850</td>\n",
       "      <td>NaN</td>\n",
       "      <td>Central Electricity Authority</td>\n",
       "      <td>NaN</td>\n",
       "    </tr>\n",
       "    <tr>\n",
       "      <th>8</th>\n",
       "      <td>IND</td>\n",
       "      <td>India</td>\n",
       "      <td>ALMATTI DAM</td>\n",
       "      <td>IND0000006</td>\n",
       "      <td>290.0</td>\n",
       "      <td>16.3300</td>\n",
       "      <td>75.8863</td>\n",
       "      <td>Hydro</td>\n",
       "      <td>NaN</td>\n",
       "      <td>NaN</td>\n",
       "      <td>...</td>\n",
       "      <td>2019.0</td>\n",
       "      <td>NaN</td>\n",
       "      <td>480.594950</td>\n",
       "      <td>144.4342</td>\n",
       "      <td>402.029750</td>\n",
       "      <td>439.372100</td>\n",
       "      <td>406.377900</td>\n",
       "      <td>NaN</td>\n",
       "      <td>Central Electricity Authority</td>\n",
       "      <td>NaN</td>\n",
       "    </tr>\n",
       "    <tr>\n",
       "      <th>9</th>\n",
       "      <td>IND</td>\n",
       "      <td>India</td>\n",
       "      <td>AMAR KANTAK</td>\n",
       "      <td>IND0000007</td>\n",
       "      <td>210.0</td>\n",
       "      <td>23.1642</td>\n",
       "      <td>81.6373</td>\n",
       "      <td>Coal</td>\n",
       "      <td>Oil</td>\n",
       "      <td>NaN</td>\n",
       "      <td>...</td>\n",
       "      <td>2019.0</td>\n",
       "      <td>NaN</td>\n",
       "      <td>1887.904000</td>\n",
       "      <td>1643.0460</td>\n",
       "      <td>1338.093000</td>\n",
       "      <td>1563.457000</td>\n",
       "      <td>1487.880000</td>\n",
       "      <td>NaN</td>\n",
       "      <td>Central Electricity Authority</td>\n",
       "      <td>NaN</td>\n",
       "    </tr>\n",
       "  </tbody>\n",
       "</table>\n",
       "<p>10 rows × 27 columns</p>\n",
       "</div>"
      ],
      "text/plain": [
       "  country country_long                      name   gppd_idnr  capacity_mw  \\\n",
       "0     IND        India          ACME Solar Tower  WRI1020239          2.5   \n",
       "1     IND        India       ADITYA CEMENT WORKS  WRI1019881         98.0   \n",
       "2     IND        India  AES Saurashtra Windfarms  WRI1026669         39.2   \n",
       "3     IND        India               AGARTALA GT  IND0000001        135.0   \n",
       "4     IND        India              AKALTARA TPP  IND0000002       1800.0   \n",
       "5     IND        India              AKRIMOTA LIG  IND0000003        250.0   \n",
       "6     IND        India                    ALIYAR  IND0000004         60.0   \n",
       "7     IND        India           ALLAIN DUHANGAN  IND0000005        192.0   \n",
       "8     IND        India               ALMATTI DAM  IND0000006        290.0   \n",
       "9     IND        India               AMAR KANTAK  IND0000007        210.0   \n",
       "\n",
       "   latitude  longitude primary_fuel other_fuel1 other_fuel2  ...  \\\n",
       "0   28.1839    73.2407        Solar         NaN         NaN  ...   \n",
       "1   24.7663    74.6090         Coal         NaN         NaN  ...   \n",
       "2   21.9038    69.3732         Wind         NaN         NaN  ...   \n",
       "3   23.8712    91.3602          Gas         NaN         NaN  ...   \n",
       "4   21.9603    82.4091         Coal         Oil         NaN  ...   \n",
       "5   23.7689    68.6447         Coal         Oil         NaN  ...   \n",
       "6   10.4547    77.0078        Hydro         NaN         NaN  ...   \n",
       "7   32.2258    77.2070        Hydro         NaN         NaN  ...   \n",
       "8   16.3300    75.8863        Hydro         NaN         NaN  ...   \n",
       "9   23.1642    81.6373         Coal         Oil         NaN  ...   \n",
       "\n",
       "   year_of_capacity_data  generation_gwh_2013 generation_gwh_2014  \\\n",
       "0                    NaN                  NaN                 NaN   \n",
       "1                    NaN                  NaN                 NaN   \n",
       "2                    NaN                  NaN                 NaN   \n",
       "3                 2019.0                  NaN          617.789264   \n",
       "4                 2019.0                  NaN         3035.550000   \n",
       "5                 2019.0                  NaN         1153.421000   \n",
       "6                 2019.0                  NaN          157.558250   \n",
       "7                 2019.0                  NaN          674.391100   \n",
       "8                 2019.0                  NaN          480.594950   \n",
       "9                 2019.0                  NaN         1887.904000   \n",
       "\n",
       "  generation_gwh_2015 generation_gwh_2016 generation_gwh_2017  \\\n",
       "0                 NaN                 NaN                 NaN   \n",
       "1                 NaN                 NaN                 NaN   \n",
       "2                 NaN                 NaN                 NaN   \n",
       "3            843.7470          886.004428          663.774500   \n",
       "4           5916.3700         6243.000000         5385.579736   \n",
       "5           1208.8520         1175.765000         1147.913000   \n",
       "6            152.1952           61.421350           89.629600   \n",
       "7            721.3352          675.724400          679.594950   \n",
       "8            144.4342          402.029750          439.372100   \n",
       "9           1643.0460         1338.093000         1563.457000   \n",
       "\n",
       "   generation_gwh_2018  generation_gwh_2019         generation_data_source  \\\n",
       "0                  NaN                  NaN                            NaN   \n",
       "1                  NaN                  NaN                            NaN   \n",
       "2                  NaN                  NaN                            NaN   \n",
       "3           626.239128                  NaN  Central Electricity Authority   \n",
       "4          7279.000000                  NaN  Central Electricity Authority   \n",
       "5           976.655000                  NaN  Central Electricity Authority   \n",
       "6            48.327150                  NaN  Central Electricity Authority   \n",
       "7           579.318850                  NaN  Central Electricity Authority   \n",
       "8           406.377900                  NaN  Central Electricity Authority   \n",
       "9          1487.880000                  NaN  Central Electricity Authority   \n",
       "\n",
       "   estimated_generation_gwh  \n",
       "0                       NaN  \n",
       "1                       NaN  \n",
       "2                       NaN  \n",
       "3                       NaN  \n",
       "4                       NaN  \n",
       "5                       NaN  \n",
       "6                       NaN  \n",
       "7                       NaN  \n",
       "8                       NaN  \n",
       "9                       NaN  \n",
       "\n",
       "[10 rows x 27 columns]"
      ]
     },
     "execution_count": 97,
     "metadata": {},
     "output_type": "execute_result"
    }
   ],
   "source": [
    "#data upload\n",
    "\n",
    "power_plant_df = pd.read_csv('database_IND.csv')\n",
    "power_plant_df.head(10)"
   ]
  },
  {
   "cell_type": "code",
   "execution_count": 98,
   "id": "d1e1597f",
   "metadata": {},
   "outputs": [
    {
     "name": "stdout",
     "output_type": "stream",
     "text": [
      "Shape of data  is :\n",
      " (907, 27)\n",
      "<class 'pandas.core.frame.DataFrame'>\n",
      "RangeIndex: 907 entries, 0 to 906\n",
      "Data columns (total 27 columns):\n",
      " #   Column                    Non-Null Count  Dtype  \n",
      "---  ------                    --------------  -----  \n",
      " 0   country                   907 non-null    object \n",
      " 1   country_long              907 non-null    object \n",
      " 2   name                      907 non-null    object \n",
      " 3   gppd_idnr                 907 non-null    object \n",
      " 4   capacity_mw               907 non-null    float64\n",
      " 5   latitude                  861 non-null    float64\n",
      " 6   longitude                 861 non-null    float64\n",
      " 7   primary_fuel              907 non-null    object \n",
      " 8   other_fuel1               198 non-null    object \n",
      " 9   other_fuel2               1 non-null      object \n",
      " 10  other_fuel3               0 non-null      float64\n",
      " 11  commissioning_year        527 non-null    float64\n",
      " 12  owner                     342 non-null    object \n",
      " 13  source                    907 non-null    object \n",
      " 14  url                       907 non-null    object \n",
      " 15  geolocation_source        888 non-null    object \n",
      " 16  wepp_id                   0 non-null      float64\n",
      " 17  year_of_capacity_data     519 non-null    float64\n",
      " 18  generation_gwh_2013       0 non-null      float64\n",
      " 19  generation_gwh_2014       398 non-null    float64\n",
      " 20  generation_gwh_2015       422 non-null    float64\n",
      " 21  generation_gwh_2016       434 non-null    float64\n",
      " 22  generation_gwh_2017       440 non-null    float64\n",
      " 23  generation_gwh_2018       448 non-null    float64\n",
      " 24  generation_gwh_2019       0 non-null      float64\n",
      " 25  generation_data_source    449 non-null    object \n",
      " 26  estimated_generation_gwh  0 non-null      float64\n",
      "dtypes: float64(15), object(12)\n",
      "memory usage: 191.4+ KB\n",
      "Data informations \n",
      " None\n"
     ]
    }
   ],
   "source": [
    "#data informations\n",
    "\n",
    "print('Shape of data  is :\\n',power_plant_df.shape)\n",
    "\n",
    "print('Data informations \\n',power_plant_df.info())"
   ]
  },
  {
   "cell_type": "markdown",
   "id": "92b7e5a2",
   "metadata": {},
   "source": [
    "Most of the columns have null values. so we have to drop these columns"
   ]
  },
  {
   "cell_type": "code",
   "execution_count": 99,
   "id": "c84a4948",
   "metadata": {},
   "outputs": [
    {
     "data": {
      "text/plain": [
       "country                       0\n",
       "country_long                  0\n",
       "name                          0\n",
       "gppd_idnr                     0\n",
       "capacity_mw                   0\n",
       "latitude                     46\n",
       "longitude                    46\n",
       "primary_fuel                  0\n",
       "other_fuel1                 709\n",
       "other_fuel2                 906\n",
       "other_fuel3                 907\n",
       "commissioning_year          380\n",
       "owner                       565\n",
       "source                        0\n",
       "url                           0\n",
       "geolocation_source           19\n",
       "wepp_id                     907\n",
       "year_of_capacity_data       388\n",
       "generation_gwh_2013         907\n",
       "generation_gwh_2014         509\n",
       "generation_gwh_2015         485\n",
       "generation_gwh_2016         473\n",
       "generation_gwh_2017         467\n",
       "generation_gwh_2018         459\n",
       "generation_gwh_2019         907\n",
       "generation_data_source      458\n",
       "estimated_generation_gwh    907\n",
       "dtype: int64"
      ]
     },
     "execution_count": 99,
     "metadata": {},
     "output_type": "execute_result"
    }
   ],
   "source": [
    "#first chack\n",
    "\n",
    "power_plant_df.isna().sum()"
   ]
  },
  {
   "cell_type": "code",
   "execution_count": 100,
   "id": "62bce34c",
   "metadata": {},
   "outputs": [
    {
     "data": {
      "text/html": [
       "<div>\n",
       "<style scoped>\n",
       "    .dataframe tbody tr th:only-of-type {\n",
       "        vertical-align: middle;\n",
       "    }\n",
       "\n",
       "    .dataframe tbody tr th {\n",
       "        vertical-align: top;\n",
       "    }\n",
       "\n",
       "    .dataframe thead th {\n",
       "        text-align: right;\n",
       "    }\n",
       "</style>\n",
       "<table border=\"1\" class=\"dataframe\">\n",
       "  <thead>\n",
       "    <tr style=\"text-align: right;\">\n",
       "      <th></th>\n",
       "      <th>capacity_mw</th>\n",
       "      <th>latitude</th>\n",
       "      <th>longitude</th>\n",
       "    </tr>\n",
       "  </thead>\n",
       "  <tbody>\n",
       "    <tr>\n",
       "      <th>count</th>\n",
       "      <td>907.000000</td>\n",
       "      <td>861.000000</td>\n",
       "      <td>861.000000</td>\n",
       "    </tr>\n",
       "    <tr>\n",
       "      <th>mean</th>\n",
       "      <td>326.223755</td>\n",
       "      <td>21.197918</td>\n",
       "      <td>77.464907</td>\n",
       "    </tr>\n",
       "    <tr>\n",
       "      <th>std</th>\n",
       "      <td>590.085456</td>\n",
       "      <td>6.239612</td>\n",
       "      <td>4.939316</td>\n",
       "    </tr>\n",
       "    <tr>\n",
       "      <th>min</th>\n",
       "      <td>0.000000</td>\n",
       "      <td>8.168900</td>\n",
       "      <td>68.644700</td>\n",
       "    </tr>\n",
       "    <tr>\n",
       "      <th>25%</th>\n",
       "      <td>16.725000</td>\n",
       "      <td>16.773900</td>\n",
       "      <td>74.256200</td>\n",
       "    </tr>\n",
       "    <tr>\n",
       "      <th>50%</th>\n",
       "      <td>59.200000</td>\n",
       "      <td>21.780000</td>\n",
       "      <td>76.719500</td>\n",
       "    </tr>\n",
       "    <tr>\n",
       "      <th>75%</th>\n",
       "      <td>385.250000</td>\n",
       "      <td>25.512400</td>\n",
       "      <td>79.440800</td>\n",
       "    </tr>\n",
       "    <tr>\n",
       "      <th>max</th>\n",
       "      <td>4760.000000</td>\n",
       "      <td>34.649000</td>\n",
       "      <td>95.408000</td>\n",
       "    </tr>\n",
       "  </tbody>\n",
       "</table>\n",
       "</div>"
      ],
      "text/plain": [
       "       capacity_mw    latitude   longitude\n",
       "count   907.000000  861.000000  861.000000\n",
       "mean    326.223755   21.197918   77.464907\n",
       "std     590.085456    6.239612    4.939316\n",
       "min       0.000000    8.168900   68.644700\n",
       "25%      16.725000   16.773900   74.256200\n",
       "50%      59.200000   21.780000   76.719500\n",
       "75%     385.250000   25.512400   79.440800\n",
       "max    4760.000000   34.649000   95.408000"
      ]
     },
     "execution_count": 100,
     "metadata": {},
     "output_type": "execute_result"
    }
   ],
   "source": [
    "#drop columns which is not importent for modal building.\n",
    "\n",
    "power_plant_df = power_plant_df.drop(columns=['country','country_long','name','gppd_idnr','other_fuel1','other_fuel2',\n",
    "                                              'other_fuel3','commissioning_year','owner','url','wepp_id',\n",
    "                                               'year_of_capacity_data','generation_gwh_2013','generation_gwh_2014',\n",
    "                                               'generation_gwh_2015','generation_gwh_2016','generation_gwh_2017','generation_gwh_2018',\n",
    "                                                'generation_gwh_2019','generation_data_source','estimated_generation_gwh'])\n",
    "power_plant_df.describe()"
   ]
  },
  {
   "cell_type": "code",
   "execution_count": 101,
   "id": "9ec247c9",
   "metadata": {},
   "outputs": [
    {
     "data": {
      "text/html": [
       "<div>\n",
       "<style scoped>\n",
       "    .dataframe tbody tr th:only-of-type {\n",
       "        vertical-align: middle;\n",
       "    }\n",
       "\n",
       "    .dataframe tbody tr th {\n",
       "        vertical-align: top;\n",
       "    }\n",
       "\n",
       "    .dataframe thead th {\n",
       "        text-align: right;\n",
       "    }\n",
       "</style>\n",
       "<table border=\"1\" class=\"dataframe\">\n",
       "  <thead>\n",
       "    <tr style=\"text-align: right;\">\n",
       "      <th></th>\n",
       "      <th>capacity_mw</th>\n",
       "      <th>latitude</th>\n",
       "      <th>longitude</th>\n",
       "      <th>primary_fuel</th>\n",
       "      <th>source</th>\n",
       "      <th>geolocation_source</th>\n",
       "    </tr>\n",
       "  </thead>\n",
       "  <tbody>\n",
       "    <tr>\n",
       "      <th>0</th>\n",
       "      <td>2.5</td>\n",
       "      <td>28.1839</td>\n",
       "      <td>73.2407</td>\n",
       "      <td>Solar</td>\n",
       "      <td>National Renewable Energy Laboratory</td>\n",
       "      <td>National Renewable Energy Laboratory</td>\n",
       "    </tr>\n",
       "    <tr>\n",
       "      <th>1</th>\n",
       "      <td>98.0</td>\n",
       "      <td>24.7663</td>\n",
       "      <td>74.6090</td>\n",
       "      <td>Coal</td>\n",
       "      <td>Ultratech Cement ltd</td>\n",
       "      <td>WRI</td>\n",
       "    </tr>\n",
       "    <tr>\n",
       "      <th>2</th>\n",
       "      <td>39.2</td>\n",
       "      <td>21.9038</td>\n",
       "      <td>69.3732</td>\n",
       "      <td>Wind</td>\n",
       "      <td>CDM</td>\n",
       "      <td>WRI</td>\n",
       "    </tr>\n",
       "    <tr>\n",
       "      <th>3</th>\n",
       "      <td>135.0</td>\n",
       "      <td>23.8712</td>\n",
       "      <td>91.3602</td>\n",
       "      <td>Gas</td>\n",
       "      <td>Central Electricity Authority</td>\n",
       "      <td>WRI</td>\n",
       "    </tr>\n",
       "    <tr>\n",
       "      <th>4</th>\n",
       "      <td>1800.0</td>\n",
       "      <td>21.9603</td>\n",
       "      <td>82.4091</td>\n",
       "      <td>Coal</td>\n",
       "      <td>Central Electricity Authority</td>\n",
       "      <td>WRI</td>\n",
       "    </tr>\n",
       "    <tr>\n",
       "      <th>5</th>\n",
       "      <td>250.0</td>\n",
       "      <td>23.7689</td>\n",
       "      <td>68.6447</td>\n",
       "      <td>Coal</td>\n",
       "      <td>Central Electricity Authority</td>\n",
       "      <td>WRI</td>\n",
       "    </tr>\n",
       "    <tr>\n",
       "      <th>6</th>\n",
       "      <td>60.0</td>\n",
       "      <td>10.4547</td>\n",
       "      <td>77.0078</td>\n",
       "      <td>Hydro</td>\n",
       "      <td>Central Electricity Authority</td>\n",
       "      <td>WRI</td>\n",
       "    </tr>\n",
       "    <tr>\n",
       "      <th>7</th>\n",
       "      <td>192.0</td>\n",
       "      <td>32.2258</td>\n",
       "      <td>77.2070</td>\n",
       "      <td>Hydro</td>\n",
       "      <td>Central Electricity Authority</td>\n",
       "      <td>WRI</td>\n",
       "    </tr>\n",
       "    <tr>\n",
       "      <th>8</th>\n",
       "      <td>290.0</td>\n",
       "      <td>16.3300</td>\n",
       "      <td>75.8863</td>\n",
       "      <td>Hydro</td>\n",
       "      <td>Central Electricity Authority</td>\n",
       "      <td>WRI</td>\n",
       "    </tr>\n",
       "    <tr>\n",
       "      <th>9</th>\n",
       "      <td>210.0</td>\n",
       "      <td>23.1642</td>\n",
       "      <td>81.6373</td>\n",
       "      <td>Coal</td>\n",
       "      <td>Central Electricity Authority</td>\n",
       "      <td>WRI</td>\n",
       "    </tr>\n",
       "  </tbody>\n",
       "</table>\n",
       "</div>"
      ],
      "text/plain": [
       "   capacity_mw  latitude  longitude primary_fuel  \\\n",
       "0          2.5   28.1839    73.2407        Solar   \n",
       "1         98.0   24.7663    74.6090         Coal   \n",
       "2         39.2   21.9038    69.3732         Wind   \n",
       "3        135.0   23.8712    91.3602          Gas   \n",
       "4       1800.0   21.9603    82.4091         Coal   \n",
       "5        250.0   23.7689    68.6447         Coal   \n",
       "6         60.0   10.4547    77.0078        Hydro   \n",
       "7        192.0   32.2258    77.2070        Hydro   \n",
       "8        290.0   16.3300    75.8863        Hydro   \n",
       "9        210.0   23.1642    81.6373         Coal   \n",
       "\n",
       "                                 source                    geolocation_source  \n",
       "0  National Renewable Energy Laboratory  National Renewable Energy Laboratory  \n",
       "1                  Ultratech Cement ltd                                   WRI  \n",
       "2                                   CDM                                   WRI  \n",
       "3         Central Electricity Authority                                   WRI  \n",
       "4         Central Electricity Authority                                   WRI  \n",
       "5         Central Electricity Authority                                   WRI  \n",
       "6         Central Electricity Authority                                   WRI  \n",
       "7         Central Electricity Authority                                   WRI  \n",
       "8         Central Electricity Authority                                   WRI  \n",
       "9         Central Electricity Authority                                   WRI  "
      ]
     },
     "execution_count": 101,
     "metadata": {},
     "output_type": "execute_result"
    }
   ],
   "source": [
    "power_plant_df.head(10)"
   ]
  },
  {
   "cell_type": "code",
   "execution_count": 102,
   "id": "a73841ea",
   "metadata": {},
   "outputs": [
    {
     "data": {
      "text/html": [
       "<div>\n",
       "<style scoped>\n",
       "    .dataframe tbody tr th:only-of-type {\n",
       "        vertical-align: middle;\n",
       "    }\n",
       "\n",
       "    .dataframe tbody tr th {\n",
       "        vertical-align: top;\n",
       "    }\n",
       "\n",
       "    .dataframe thead th {\n",
       "        text-align: right;\n",
       "    }\n",
       "</style>\n",
       "<table border=\"1\" class=\"dataframe\">\n",
       "  <thead>\n",
       "    <tr style=\"text-align: right;\">\n",
       "      <th></th>\n",
       "      <th>index</th>\n",
       "      <th>capacity_mw</th>\n",
       "      <th>latitude</th>\n",
       "      <th>longitude</th>\n",
       "      <th>primary_fuel</th>\n",
       "      <th>source</th>\n",
       "      <th>geolocation_source</th>\n",
       "    </tr>\n",
       "  </thead>\n",
       "  <tbody>\n",
       "    <tr>\n",
       "      <th>0</th>\n",
       "      <td>0</td>\n",
       "      <td>2.5</td>\n",
       "      <td>28.1839</td>\n",
       "      <td>73.2407</td>\n",
       "      <td>Solar</td>\n",
       "      <td>National Renewable Energy Laboratory</td>\n",
       "      <td>National Renewable Energy Laboratory</td>\n",
       "    </tr>\n",
       "    <tr>\n",
       "      <th>1</th>\n",
       "      <td>1</td>\n",
       "      <td>98.0</td>\n",
       "      <td>24.7663</td>\n",
       "      <td>74.6090</td>\n",
       "      <td>Coal</td>\n",
       "      <td>Ultratech Cement ltd</td>\n",
       "      <td>WRI</td>\n",
       "    </tr>\n",
       "    <tr>\n",
       "      <th>2</th>\n",
       "      <td>2</td>\n",
       "      <td>39.2</td>\n",
       "      <td>21.9038</td>\n",
       "      <td>69.3732</td>\n",
       "      <td>Wind</td>\n",
       "      <td>CDM</td>\n",
       "      <td>WRI</td>\n",
       "    </tr>\n",
       "    <tr>\n",
       "      <th>3</th>\n",
       "      <td>3</td>\n",
       "      <td>135.0</td>\n",
       "      <td>23.8712</td>\n",
       "      <td>91.3602</td>\n",
       "      <td>Gas</td>\n",
       "      <td>Central Electricity Authority</td>\n",
       "      <td>WRI</td>\n",
       "    </tr>\n",
       "    <tr>\n",
       "      <th>4</th>\n",
       "      <td>4</td>\n",
       "      <td>1800.0</td>\n",
       "      <td>21.9603</td>\n",
       "      <td>82.4091</td>\n",
       "      <td>Coal</td>\n",
       "      <td>Central Electricity Authority</td>\n",
       "      <td>WRI</td>\n",
       "    </tr>\n",
       "    <tr>\n",
       "      <th>...</th>\n",
       "      <td>...</td>\n",
       "      <td>...</td>\n",
       "      <td>...</td>\n",
       "      <td>...</td>\n",
       "      <td>...</td>\n",
       "      <td>...</td>\n",
       "      <td>...</td>\n",
       "    </tr>\n",
       "    <tr>\n",
       "      <th>902</th>\n",
       "      <td>902</td>\n",
       "      <td>1600.0</td>\n",
       "      <td>16.2949</td>\n",
       "      <td>77.3568</td>\n",
       "      <td>Coal</td>\n",
       "      <td>Central Electricity Authority</td>\n",
       "      <td>WRI</td>\n",
       "    </tr>\n",
       "    <tr>\n",
       "      <th>903</th>\n",
       "      <td>903</td>\n",
       "      <td>3.0</td>\n",
       "      <td>12.8932</td>\n",
       "      <td>78.1654</td>\n",
       "      <td>Solar</td>\n",
       "      <td>Karnataka Power Corporation Limited</td>\n",
       "      <td>Industry About</td>\n",
       "    </tr>\n",
       "    <tr>\n",
       "      <th>904</th>\n",
       "      <td>904</td>\n",
       "      <td>25.5</td>\n",
       "      <td>15.2758</td>\n",
       "      <td>75.5811</td>\n",
       "      <td>Wind</td>\n",
       "      <td>CDM</td>\n",
       "      <td>WRI</td>\n",
       "    </tr>\n",
       "    <tr>\n",
       "      <th>905</th>\n",
       "      <td>905</td>\n",
       "      <td>80.0</td>\n",
       "      <td>24.3500</td>\n",
       "      <td>73.7477</td>\n",
       "      <td>Coal</td>\n",
       "      <td>Hindustan Zinc ltd</td>\n",
       "      <td>WRI</td>\n",
       "    </tr>\n",
       "    <tr>\n",
       "      <th>906</th>\n",
       "      <td>906</td>\n",
       "      <td>16.5</td>\n",
       "      <td>9.9344</td>\n",
       "      <td>77.4768</td>\n",
       "      <td>Wind</td>\n",
       "      <td>CDM</td>\n",
       "      <td>WRI</td>\n",
       "    </tr>\n",
       "  </tbody>\n",
       "</table>\n",
       "<p>907 rows × 7 columns</p>\n",
       "</div>"
      ],
      "text/plain": [
       "     index  capacity_mw  latitude  longitude primary_fuel  \\\n",
       "0        0          2.5   28.1839    73.2407        Solar   \n",
       "1        1         98.0   24.7663    74.6090         Coal   \n",
       "2        2         39.2   21.9038    69.3732         Wind   \n",
       "3        3        135.0   23.8712    91.3602          Gas   \n",
       "4        4       1800.0   21.9603    82.4091         Coal   \n",
       "..     ...          ...       ...        ...          ...   \n",
       "902    902       1600.0   16.2949    77.3568         Coal   \n",
       "903    903          3.0   12.8932    78.1654        Solar   \n",
       "904    904         25.5   15.2758    75.5811         Wind   \n",
       "905    905         80.0   24.3500    73.7477         Coal   \n",
       "906    906         16.5    9.9344    77.4768         Wind   \n",
       "\n",
       "                                   source  \\\n",
       "0    National Renewable Energy Laboratory   \n",
       "1                    Ultratech Cement ltd   \n",
       "2                                     CDM   \n",
       "3           Central Electricity Authority   \n",
       "4           Central Electricity Authority   \n",
       "..                                    ...   \n",
       "902         Central Electricity Authority   \n",
       "903   Karnataka Power Corporation Limited   \n",
       "904                                   CDM   \n",
       "905                    Hindustan Zinc ltd   \n",
       "906                                   CDM   \n",
       "\n",
       "                       geolocation_source  \n",
       "0    National Renewable Energy Laboratory  \n",
       "1                                     WRI  \n",
       "2                                     WRI  \n",
       "3                                     WRI  \n",
       "4                                     WRI  \n",
       "..                                    ...  \n",
       "902                                   WRI  \n",
       "903                        Industry About  \n",
       "904                                   WRI  \n",
       "905                                   WRI  \n",
       "906                                   WRI  \n",
       "\n",
       "[907 rows x 7 columns]"
      ]
     },
     "execution_count": 102,
     "metadata": {},
     "output_type": "execute_result"
    }
   ],
   "source": [
    "power_plant_df.reset_index()"
   ]
  },
  {
   "cell_type": "code",
   "execution_count": 103,
   "id": "185de141",
   "metadata": {},
   "outputs": [],
   "source": [
    "#now drop null values\n",
    "\n",
    "power_plant_df = power_plant_df.dropna()\n"
   ]
  },
  {
   "cell_type": "code",
   "execution_count": 104,
   "id": "74d6f843",
   "metadata": {},
   "outputs": [
    {
     "data": {
      "text/html": [
       "<div>\n",
       "<style scoped>\n",
       "    .dataframe tbody tr th:only-of-type {\n",
       "        vertical-align: middle;\n",
       "    }\n",
       "\n",
       "    .dataframe tbody tr th {\n",
       "        vertical-align: top;\n",
       "    }\n",
       "\n",
       "    .dataframe thead th {\n",
       "        text-align: right;\n",
       "    }\n",
       "</style>\n",
       "<table border=\"1\" class=\"dataframe\">\n",
       "  <thead>\n",
       "    <tr style=\"text-align: right;\">\n",
       "      <th></th>\n",
       "      <th>capacity_mw</th>\n",
       "      <th>latitude</th>\n",
       "      <th>longitude</th>\n",
       "    </tr>\n",
       "  </thead>\n",
       "  <tbody>\n",
       "    <tr>\n",
       "      <th>count</th>\n",
       "      <td>861.000000</td>\n",
       "      <td>861.000000</td>\n",
       "      <td>861.000000</td>\n",
       "    </tr>\n",
       "    <tr>\n",
       "      <th>mean</th>\n",
       "      <td>340.382051</td>\n",
       "      <td>21.197918</td>\n",
       "      <td>77.464907</td>\n",
       "    </tr>\n",
       "    <tr>\n",
       "      <th>std</th>\n",
       "      <td>601.830519</td>\n",
       "      <td>6.239612</td>\n",
       "      <td>4.939316</td>\n",
       "    </tr>\n",
       "    <tr>\n",
       "      <th>min</th>\n",
       "      <td>0.000000</td>\n",
       "      <td>8.168900</td>\n",
       "      <td>68.644700</td>\n",
       "    </tr>\n",
       "    <tr>\n",
       "      <th>25%</th>\n",
       "      <td>18.000000</td>\n",
       "      <td>16.773900</td>\n",
       "      <td>74.256200</td>\n",
       "    </tr>\n",
       "    <tr>\n",
       "      <th>50%</th>\n",
       "      <td>60.000000</td>\n",
       "      <td>21.780000</td>\n",
       "      <td>76.719500</td>\n",
       "    </tr>\n",
       "    <tr>\n",
       "      <th>75%</th>\n",
       "      <td>412.020000</td>\n",
       "      <td>25.512400</td>\n",
       "      <td>79.440800</td>\n",
       "    </tr>\n",
       "    <tr>\n",
       "      <th>max</th>\n",
       "      <td>4760.000000</td>\n",
       "      <td>34.649000</td>\n",
       "      <td>95.408000</td>\n",
       "    </tr>\n",
       "  </tbody>\n",
       "</table>\n",
       "</div>"
      ],
      "text/plain": [
       "       capacity_mw    latitude   longitude\n",
       "count   861.000000  861.000000  861.000000\n",
       "mean    340.382051   21.197918   77.464907\n",
       "std     601.830519    6.239612    4.939316\n",
       "min       0.000000    8.168900   68.644700\n",
       "25%      18.000000   16.773900   74.256200\n",
       "50%      60.000000   21.780000   76.719500\n",
       "75%     412.020000   25.512400   79.440800\n",
       "max    4760.000000   34.649000   95.408000"
      ]
     },
     "execution_count": 104,
     "metadata": {},
     "output_type": "execute_result"
    }
   ],
   "source": [
    "power_plant_df.describe()"
   ]
  },
  {
   "cell_type": "code",
   "execution_count": 105,
   "id": "e531e322",
   "metadata": {},
   "outputs": [
    {
     "data": {
      "text/html": [
       "<div>\n",
       "<style scoped>\n",
       "    .dataframe tbody tr th:only-of-type {\n",
       "        vertical-align: middle;\n",
       "    }\n",
       "\n",
       "    .dataframe tbody tr th {\n",
       "        vertical-align: top;\n",
       "    }\n",
       "\n",
       "    .dataframe thead th {\n",
       "        text-align: right;\n",
       "    }\n",
       "</style>\n",
       "<table border=\"1\" class=\"dataframe\">\n",
       "  <thead>\n",
       "    <tr style=\"text-align: right;\">\n",
       "      <th></th>\n",
       "      <th>index</th>\n",
       "      <th>capacity_mw</th>\n",
       "      <th>latitude</th>\n",
       "      <th>longitude</th>\n",
       "      <th>primary_fuel</th>\n",
       "      <th>source</th>\n",
       "      <th>geolocation_source</th>\n",
       "    </tr>\n",
       "  </thead>\n",
       "  <tbody>\n",
       "    <tr>\n",
       "      <th>0</th>\n",
       "      <td>0</td>\n",
       "      <td>2.5</td>\n",
       "      <td>28.1839</td>\n",
       "      <td>73.2407</td>\n",
       "      <td>Solar</td>\n",
       "      <td>National Renewable Energy Laboratory</td>\n",
       "      <td>National Renewable Energy Laboratory</td>\n",
       "    </tr>\n",
       "    <tr>\n",
       "      <th>1</th>\n",
       "      <td>1</td>\n",
       "      <td>98.0</td>\n",
       "      <td>24.7663</td>\n",
       "      <td>74.6090</td>\n",
       "      <td>Coal</td>\n",
       "      <td>Ultratech Cement ltd</td>\n",
       "      <td>WRI</td>\n",
       "    </tr>\n",
       "    <tr>\n",
       "      <th>2</th>\n",
       "      <td>2</td>\n",
       "      <td>39.2</td>\n",
       "      <td>21.9038</td>\n",
       "      <td>69.3732</td>\n",
       "      <td>Wind</td>\n",
       "      <td>CDM</td>\n",
       "      <td>WRI</td>\n",
       "    </tr>\n",
       "    <tr>\n",
       "      <th>3</th>\n",
       "      <td>3</td>\n",
       "      <td>135.0</td>\n",
       "      <td>23.8712</td>\n",
       "      <td>91.3602</td>\n",
       "      <td>Gas</td>\n",
       "      <td>Central Electricity Authority</td>\n",
       "      <td>WRI</td>\n",
       "    </tr>\n",
       "    <tr>\n",
       "      <th>4</th>\n",
       "      <td>4</td>\n",
       "      <td>1800.0</td>\n",
       "      <td>21.9603</td>\n",
       "      <td>82.4091</td>\n",
       "      <td>Coal</td>\n",
       "      <td>Central Electricity Authority</td>\n",
       "      <td>WRI</td>\n",
       "    </tr>\n",
       "    <tr>\n",
       "      <th>...</th>\n",
       "      <td>...</td>\n",
       "      <td>...</td>\n",
       "      <td>...</td>\n",
       "      <td>...</td>\n",
       "      <td>...</td>\n",
       "      <td>...</td>\n",
       "      <td>...</td>\n",
       "    </tr>\n",
       "    <tr>\n",
       "      <th>856</th>\n",
       "      <td>902</td>\n",
       "      <td>1600.0</td>\n",
       "      <td>16.2949</td>\n",
       "      <td>77.3568</td>\n",
       "      <td>Coal</td>\n",
       "      <td>Central Electricity Authority</td>\n",
       "      <td>WRI</td>\n",
       "    </tr>\n",
       "    <tr>\n",
       "      <th>857</th>\n",
       "      <td>903</td>\n",
       "      <td>3.0</td>\n",
       "      <td>12.8932</td>\n",
       "      <td>78.1654</td>\n",
       "      <td>Solar</td>\n",
       "      <td>Karnataka Power Corporation Limited</td>\n",
       "      <td>Industry About</td>\n",
       "    </tr>\n",
       "    <tr>\n",
       "      <th>858</th>\n",
       "      <td>904</td>\n",
       "      <td>25.5</td>\n",
       "      <td>15.2758</td>\n",
       "      <td>75.5811</td>\n",
       "      <td>Wind</td>\n",
       "      <td>CDM</td>\n",
       "      <td>WRI</td>\n",
       "    </tr>\n",
       "    <tr>\n",
       "      <th>859</th>\n",
       "      <td>905</td>\n",
       "      <td>80.0</td>\n",
       "      <td>24.3500</td>\n",
       "      <td>73.7477</td>\n",
       "      <td>Coal</td>\n",
       "      <td>Hindustan Zinc ltd</td>\n",
       "      <td>WRI</td>\n",
       "    </tr>\n",
       "    <tr>\n",
       "      <th>860</th>\n",
       "      <td>906</td>\n",
       "      <td>16.5</td>\n",
       "      <td>9.9344</td>\n",
       "      <td>77.4768</td>\n",
       "      <td>Wind</td>\n",
       "      <td>CDM</td>\n",
       "      <td>WRI</td>\n",
       "    </tr>\n",
       "  </tbody>\n",
       "</table>\n",
       "<p>861 rows × 7 columns</p>\n",
       "</div>"
      ],
      "text/plain": [
       "     index  capacity_mw  latitude  longitude primary_fuel  \\\n",
       "0        0          2.5   28.1839    73.2407        Solar   \n",
       "1        1         98.0   24.7663    74.6090         Coal   \n",
       "2        2         39.2   21.9038    69.3732         Wind   \n",
       "3        3        135.0   23.8712    91.3602          Gas   \n",
       "4        4       1800.0   21.9603    82.4091         Coal   \n",
       "..     ...          ...       ...        ...          ...   \n",
       "856    902       1600.0   16.2949    77.3568         Coal   \n",
       "857    903          3.0   12.8932    78.1654        Solar   \n",
       "858    904         25.5   15.2758    75.5811         Wind   \n",
       "859    905         80.0   24.3500    73.7477         Coal   \n",
       "860    906         16.5    9.9344    77.4768         Wind   \n",
       "\n",
       "                                   source  \\\n",
       "0    National Renewable Energy Laboratory   \n",
       "1                    Ultratech Cement ltd   \n",
       "2                                     CDM   \n",
       "3           Central Electricity Authority   \n",
       "4           Central Electricity Authority   \n",
       "..                                    ...   \n",
       "856         Central Electricity Authority   \n",
       "857   Karnataka Power Corporation Limited   \n",
       "858                                   CDM   \n",
       "859                    Hindustan Zinc ltd   \n",
       "860                                   CDM   \n",
       "\n",
       "                       geolocation_source  \n",
       "0    National Renewable Energy Laboratory  \n",
       "1                                     WRI  \n",
       "2                                     WRI  \n",
       "3                                     WRI  \n",
       "4                                     WRI  \n",
       "..                                    ...  \n",
       "856                                   WRI  \n",
       "857                        Industry About  \n",
       "858                                   WRI  \n",
       "859                                   WRI  \n",
       "860                                   WRI  \n",
       "\n",
       "[861 rows x 7 columns]"
      ]
     },
     "execution_count": 105,
     "metadata": {},
     "output_type": "execute_result"
    }
   ],
   "source": [
    "power_plant_df.reset_index()"
   ]
  },
  {
   "cell_type": "markdown",
   "id": "2eeca956",
   "metadata": {},
   "source": [
    "Null values has been gone."
   ]
  },
  {
   "cell_type": "code",
   "execution_count": 106,
   "id": "903fcdfd",
   "metadata": {},
   "outputs": [
    {
     "name": "stdout",
     "output_type": "stream",
     "text": [
      "capacity_mw=1\n",
      "latitude=0\n",
      "longitude=0\n",
      "primary_fuel=0\n",
      "source=0\n",
      "geolocation_source=0\n"
     ]
    }
   ],
   "source": [
    "#chaking zeroes in data set\n",
    "\n",
    "for column in power_plant_df:\n",
    "    print(column+'='+str(power_plant_df[power_plant_df[column]==0].shape[0]))\n"
   ]
  },
  {
   "cell_type": "markdown",
   "id": "0222ada4",
   "metadata": {},
   "source": [
    "Data is good . not more then one zero is hear."
   ]
  },
  {
   "cell_type": "markdown",
   "id": "ffa3a7eb",
   "metadata": {},
   "source": [
    "# Chacking correlation"
   ]
  },
  {
   "cell_type": "code",
   "execution_count": 107,
   "id": "0fd266c2",
   "metadata": {},
   "outputs": [
    {
     "data": {
      "text/html": [
       "<div>\n",
       "<style scoped>\n",
       "    .dataframe tbody tr th:only-of-type {\n",
       "        vertical-align: middle;\n",
       "    }\n",
       "\n",
       "    .dataframe tbody tr th {\n",
       "        vertical-align: top;\n",
       "    }\n",
       "\n",
       "    .dataframe thead th {\n",
       "        text-align: right;\n",
       "    }\n",
       "</style>\n",
       "<table border=\"1\" class=\"dataframe\">\n",
       "  <thead>\n",
       "    <tr style=\"text-align: right;\">\n",
       "      <th></th>\n",
       "      <th>capacity_mw</th>\n",
       "      <th>latitude</th>\n",
       "      <th>longitude</th>\n",
       "    </tr>\n",
       "  </thead>\n",
       "  <tbody>\n",
       "    <tr>\n",
       "      <th>capacity_mw</th>\n",
       "      <td>1.000000</td>\n",
       "      <td>0.051309</td>\n",
       "      <td>0.197129</td>\n",
       "    </tr>\n",
       "    <tr>\n",
       "      <th>latitude</th>\n",
       "      <td>0.051309</td>\n",
       "      <td>1.000000</td>\n",
       "      <td>0.036362</td>\n",
       "    </tr>\n",
       "    <tr>\n",
       "      <th>longitude</th>\n",
       "      <td>0.197129</td>\n",
       "      <td>0.036362</td>\n",
       "      <td>1.000000</td>\n",
       "    </tr>\n",
       "  </tbody>\n",
       "</table>\n",
       "</div>"
      ],
      "text/plain": [
       "             capacity_mw  latitude  longitude\n",
       "capacity_mw     1.000000  0.051309   0.197129\n",
       "latitude        0.051309  1.000000   0.036362\n",
       "longitude       0.197129  0.036362   1.000000"
      ]
     },
     "execution_count": 107,
     "metadata": {},
     "output_type": "execute_result"
    }
   ],
   "source": [
    "power_plant_df.corr()"
   ]
  },
  {
   "cell_type": "code",
   "execution_count": 108,
   "id": "cae0c3a1",
   "metadata": {},
   "outputs": [
    {
     "data": {
      "image/png": "[encoded data removed]",
      "text/plain": [
       "<Figure size 360x360 with 2 Axes>"
      ]
     },
     "metadata": {},
     "output_type": "display_data"
    }
   ],
   "source": [
    "#heatmap\n",
    "\n",
    "plt.figure(figsize=(5,5),facecolor='white')\n",
    "sns.heatmap(power_plant_df.corr(),annot=True,fmt='.2f')\n",
    "plt.show()"
   ]
  },
  {
   "cell_type": "markdown",
   "id": "bbfaa370",
   "metadata": {},
   "source": [
    "# Chacking Skewness"
   ]
  },
  {
   "cell_type": "code",
   "execution_count": 109,
   "id": "0e902057",
   "metadata": {},
   "outputs": [
    {
     "data": {
      "text/plain": [
       "capacity_mw    3.037191\n",
       "longitude      1.112646\n",
       "latitude      -0.145866\n",
       "dtype: float64"
      ]
     },
     "execution_count": 109,
     "metadata": {},
     "output_type": "execute_result"
    }
   ],
   "source": [
    "power_plant_df.skew().sort_values(ascending=False)"
   ]
  },
  {
   "cell_type": "code",
   "execution_count": 110,
   "id": "fbfe8415",
   "metadata": {},
   "outputs": [],
   "source": [
    "#removing skewness\n",
    "\n",
    "\n",
    "for index in power_plant_df.skew().index:\n",
    "    if power_plant_df.skew().loc[index]>0.5:\n",
    "        power_plant_df[index] = np.log1p(power_plant_df[index])\n",
    "    if power_plant_df.skew().loc[index]<-0.5:\n",
    "        power_plant_df[index] = np.square(power_plant_df[index])\n"
   ]
  },
  {
   "cell_type": "code",
   "execution_count": 111,
   "id": "2bb12f4f",
   "metadata": {},
   "outputs": [
    {
     "data": {
      "text/plain": [
       "longitude      0.916519\n",
       "capacity_mw    0.093140\n",
       "latitude      -0.145866\n",
       "dtype: float64"
      ]
     },
     "execution_count": 111,
     "metadata": {},
     "output_type": "execute_result"
    }
   ],
   "source": [
    "power_plant_df.skew().sort_values(ascending=False)"
   ]
  },
  {
   "cell_type": "code",
   "execution_count": 112,
   "id": "b71fea51",
   "metadata": {},
   "outputs": [
    {
     "data": {
      "text/plain": [
       "longitude      0.880711\n",
       "capacity_mw    0.093140\n",
       "latitude      -0.145866\n",
       "dtype: float64"
      ]
     },
     "execution_count": 112,
     "metadata": {},
     "output_type": "execute_result"
    }
   ],
   "source": [
    "#removing skewness\n",
    "\n",
    "\n",
    "for index in power_plant_df.skew().index:\n",
    "    if power_plant_df.skew().loc[index]>0.5:\n",
    "        power_plant_df[index] = np.log1p(power_plant_df[index])\n",
    "    if power_plant_df.skew().loc[index]<-0.5:\n",
    "        power_plant_df[index] = np.square(power_plant_df[index])\n",
    "power_plant_df.skew().sort_values(ascending=False)"
   ]
  },
  {
   "cell_type": "code",
   "execution_count": 113,
   "id": "cd1b9bda",
   "metadata": {},
   "outputs": [
    {
     "data": {
      "text/plain": [
       "longitude      0.867416\n",
       "capacity_mw    0.093140\n",
       "latitude      -0.145866\n",
       "dtype: float64"
      ]
     },
     "execution_count": 113,
     "metadata": {},
     "output_type": "execute_result"
    }
   ],
   "source": [
    "for index in power_plant_df.skew().index:\n",
    "    if power_plant_df.skew().loc[index]>0.5:\n",
    "        power_plant_df[index] = np.log1p(power_plant_df[index])\n",
    "    if power_plant_df.skew().loc[index]<-0.5:\n",
    "        power_plant_df[index] = np.square(power_plant_df[index])\n",
    "power_plant_df.skew().sort_values(ascending=False)"
   ]
  },
  {
   "cell_type": "code",
   "execution_count": 114,
   "id": "28b15f53",
   "metadata": {},
   "outputs": [
    {
     "data": {
      "text/plain": [
       "longitude      0.860736\n",
       "capacity_mw    0.093140\n",
       "latitude      -0.145866\n",
       "dtype: float64"
      ]
     },
     "execution_count": 114,
     "metadata": {},
     "output_type": "execute_result"
    }
   ],
   "source": [
    "for index in power_plant_df.skew().index:\n",
    "    if power_plant_df.skew().loc[index]>0.5:\n",
    "        power_plant_df[index] = np.log1p(power_plant_df[index])\n",
    "    if power_plant_df.skew().loc[index]<-0.5:\n",
    "        power_plant_df[index] = np.square(power_plant_df[index])\n",
    "power_plant_df.skew().sort_values(ascending=False)"
   ]
  },
  {
   "cell_type": "code",
   "execution_count": 115,
   "id": "90591207",
   "metadata": {},
   "outputs": [],
   "source": [
    "#zsocre method\n",
    "features = ['longitude','capacity_mw','latitude']\n",
    "from scipy.stats import zscore\n",
    "z = np.abs(zscore(power_plant_df[features]))\n",
    "power_plant_df = power_plant_df[(z<3).all(axis=1)]"
   ]
  },
  {
   "cell_type": "code",
   "execution_count": 116,
   "id": "a4136d99",
   "metadata": {},
   "outputs": [
    {
     "data": {
      "text/plain": [
       "longitude      0.759109\n",
       "capacity_mw    0.101577\n",
       "latitude      -0.131069\n",
       "dtype: float64"
      ]
     },
     "execution_count": 116,
     "metadata": {},
     "output_type": "execute_result"
    }
   ],
   "source": [
    "power_plant_df.skew().sort_values(ascending=False)"
   ]
  },
  {
   "cell_type": "code",
   "execution_count": 117,
   "id": "d5d3c934",
   "metadata": {},
   "outputs": [
    {
     "data": {
      "text/plain": [
       "longitude      0.685562\n",
       "capacity_mw    0.098527\n",
       "latitude      -0.123019\n",
       "dtype: float64"
      ]
     },
     "execution_count": 117,
     "metadata": {},
     "output_type": "execute_result"
    }
   ],
   "source": [
    "#zsocre method\n",
    "features = ['longitude','capacity_mw','latitude']\n",
    "from scipy.stats import zscore\n",
    "z = np.abs(zscore(power_plant_df[features]))\n",
    "power_plant_df = power_plant_df[(z<3).all(axis=1)]\n",
    "\n",
    "\n",
    "power_plant_df.skew().sort_values(ascending=False)"
   ]
  },
  {
   "cell_type": "code",
   "execution_count": 118,
   "id": "f159ebf9",
   "metadata": {},
   "outputs": [
    {
     "data": {
      "text/plain": [
       "longitude      0.648538\n",
       "capacity_mw    0.097888\n",
       "latitude      -0.116755\n",
       "dtype: float64"
      ]
     },
     "execution_count": 118,
     "metadata": {},
     "output_type": "execute_result"
    }
   ],
   "source": [
    "#zsocre method\n",
    "features = ['longitude','capacity_mw','latitude']\n",
    "from scipy.stats import zscore\n",
    "z = np.abs(zscore(power_plant_df[features]))\n",
    "power_plant_df = power_plant_df[(z<3).all(axis=1)]\n",
    "\n",
    "\n",
    "power_plant_df.skew().sort_values(ascending=False)"
   ]
  },
  {
   "cell_type": "code",
   "execution_count": 119,
   "id": "7a6d51fa",
   "metadata": {},
   "outputs": [
    {
     "data": {
      "text/plain": [
       "longitude      0.579360\n",
       "capacity_mw    0.090530\n",
       "latitude      -0.107527\n",
       "dtype: float64"
      ]
     },
     "execution_count": 119,
     "metadata": {},
     "output_type": "execute_result"
    }
   ],
   "source": [
    "#zsocre method\n",
    "features = ['longitude','capacity_mw','latitude']\n",
    "from scipy.stats import zscore\n",
    "z = np.abs(zscore(power_plant_df[features]))\n",
    "power_plant_df = power_plant_df[(z<3).all(axis=1)]\n",
    "\n",
    "\n",
    "power_plant_df.skew().sort_values(ascending=False)"
   ]
  },
  {
   "cell_type": "code",
   "execution_count": 120,
   "id": "b2090074",
   "metadata": {},
   "outputs": [
    {
     "data": {
      "text/plain": [
       "longitude      0.519199\n",
       "capacity_mw    0.093961\n",
       "latitude      -0.101954\n",
       "dtype: float64"
      ]
     },
     "execution_count": 120,
     "metadata": {},
     "output_type": "execute_result"
    }
   ],
   "source": [
    "#zsocre method\n",
    "features = ['longitude','capacity_mw','latitude']\n",
    "from scipy.stats import zscore\n",
    "z = np.abs(zscore(power_plant_df[features]))\n",
    "power_plant_df = power_plant_df[(z<3).all(axis=1)]\n",
    "\n",
    "\n",
    "power_plant_df.skew().sort_values(ascending=False)"
   ]
  },
  {
   "cell_type": "code",
   "execution_count": 121,
   "id": "f9512610",
   "metadata": {},
   "outputs": [
    {
     "data": {
      "text/plain": [
       "longitude      0.519199\n",
       "capacity_mw    0.093961\n",
       "latitude      -0.101954\n",
       "dtype: float64"
      ]
     },
     "execution_count": 121,
     "metadata": {},
     "output_type": "execute_result"
    }
   ],
   "source": [
    "#zsocre method\n",
    "features = ['longitude','capacity_mw','latitude']\n",
    "from scipy.stats import zscore\n",
    "z = np.abs(zscore(power_plant_df[features]))\n",
    "power_plant_df = power_plant_df[(z<3).all(axis=1)]\n",
    "\n",
    "\n",
    "power_plant_df.skew().sort_values(ascending=False)"
   ]
  },
  {
   "cell_type": "markdown",
   "id": "96d1621f",
   "metadata": {},
   "source": [
    "# Chacking outliers"
   ]
  },
  {
   "cell_type": "code",
   "execution_count": 122,
   "id": "4bc7fd11",
   "metadata": {},
   "outputs": [],
   "source": [
    "#first saparate data \n",
    "\n",
    "features_continues = power_plant_df[['longitude','capacity_mw','latitude']].copy()\n",
    "\n",
    "features_catagorical = power_plant_df[['source','geolocation_source']].copy()\n",
    "\n",
    "target = power_plant_df['primary_fuel']\n"
   ]
  },
  {
   "cell_type": "code",
   "execution_count": 123,
   "id": "a3a217a4",
   "metadata": {},
   "outputs": [
    {
     "data": {
      "image/png": "[encoded data removed]",
      "text/plain": [
       "<Figure size 720x360 with 3 Axes>"
      ]
     },
     "metadata": {},
     "output_type": "display_data"
    }
   ],
   "source": [
    "#boxplot\n",
    "\n",
    "\n",
    "plt.figure(figsize=(10,5),facecolor='white')\n",
    "plot=1\n",
    "for column in features_continues:\n",
    "    if plot<=4:\n",
    "        plt.subplot(2,2,plot)\n",
    "        sns.boxplot(features_continues[column])\n",
    "    plot+=1\n",
    "plt.tight_layout()\n"
   ]
  },
  {
   "cell_type": "code",
   "execution_count": 124,
   "id": "e1665f29",
   "metadata": {},
   "outputs": [
    {
     "data": {
      "image/png": "[encoded data removed]",
      "text/plain": [
       "<Figure size 720x360 with 3 Axes>"
      ]
     },
     "metadata": {},
     "output_type": "display_data"
    }
   ],
   "source": [
    "#distplot\n",
    "plt.figure(figsize=(10,5),facecolor='white')\n",
    "plot=1\n",
    "for column in features_continues:\n",
    "    if plot<=4:\n",
    "        plt.subplot(2,2,plot)\n",
    "        sns.distplot(features_continues[column])\n",
    "    plot+=1\n",
    "plt.tight_layout()"
   ]
  },
  {
   "cell_type": "markdown",
   "id": "ece24086",
   "metadata": {},
   "source": [
    "data looks good now deal with catagorical data"
   ]
  },
  {
   "cell_type": "code",
   "execution_count": 125,
   "id": "9ecc1dad",
   "metadata": {},
   "outputs": [
    {
     "data": {
      "text/html": [
       "<div>\n",
       "<style scoped>\n",
       "    .dataframe tbody tr th:only-of-type {\n",
       "        vertical-align: middle;\n",
       "    }\n",
       "\n",
       "    .dataframe tbody tr th {\n",
       "        vertical-align: top;\n",
       "    }\n",
       "\n",
       "    .dataframe thead th {\n",
       "        text-align: right;\n",
       "    }\n",
       "</style>\n",
       "<table border=\"1\" class=\"dataframe\">\n",
       "  <thead>\n",
       "    <tr style=\"text-align: right;\">\n",
       "      <th></th>\n",
       "      <th>capacity_mw</th>\n",
       "      <th>latitude</th>\n",
       "      <th>longitude</th>\n",
       "      <th>primary_fuel</th>\n",
       "      <th>source</th>\n",
       "      <th>geolocation_source</th>\n",
       "    </tr>\n",
       "  </thead>\n",
       "  <tbody>\n",
       "    <tr>\n",
       "      <th>0</th>\n",
       "      <td>1.252763</td>\n",
       "      <td>28.1839</td>\n",
       "      <td>0.683973</td>\n",
       "      <td>Solar</td>\n",
       "      <td>National Renewable Energy Laboratory</td>\n",
       "      <td>National Renewable Energy Laboratory</td>\n",
       "    </tr>\n",
       "    <tr>\n",
       "      <th>1</th>\n",
       "      <td>4.595120</td>\n",
       "      <td>24.7663</td>\n",
       "      <td>0.684622</td>\n",
       "      <td>Coal</td>\n",
       "      <td>Ultratech Cement ltd</td>\n",
       "      <td>WRI</td>\n",
       "    </tr>\n",
       "    <tr>\n",
       "      <th>2</th>\n",
       "      <td>3.693867</td>\n",
       "      <td>21.9038</td>\n",
       "      <td>0.682052</td>\n",
       "      <td>Wind</td>\n",
       "      <td>CDM</td>\n",
       "      <td>WRI</td>\n",
       "    </tr>\n",
       "    <tr>\n",
       "      <th>4</th>\n",
       "      <td>7.496097</td>\n",
       "      <td>21.9603</td>\n",
       "      <td>0.688051</td>\n",
       "      <td>Coal</td>\n",
       "      <td>Central Electricity Authority</td>\n",
       "      <td>WRI</td>\n",
       "    </tr>\n",
       "    <tr>\n",
       "      <th>5</th>\n",
       "      <td>5.525453</td>\n",
       "      <td>23.7689</td>\n",
       "      <td>0.681675</td>\n",
       "      <td>Coal</td>\n",
       "      <td>Central Electricity Authority</td>\n",
       "      <td>WRI</td>\n",
       "    </tr>\n",
       "  </tbody>\n",
       "</table>\n",
       "</div>"
      ],
      "text/plain": [
       "   capacity_mw  latitude  longitude primary_fuel  \\\n",
       "0     1.252763   28.1839   0.683973        Solar   \n",
       "1     4.595120   24.7663   0.684622         Coal   \n",
       "2     3.693867   21.9038   0.682052         Wind   \n",
       "4     7.496097   21.9603   0.688051         Coal   \n",
       "5     5.525453   23.7689   0.681675         Coal   \n",
       "\n",
       "                                 source                    geolocation_source  \n",
       "0  National Renewable Energy Laboratory  National Renewable Energy Laboratory  \n",
       "1                  Ultratech Cement ltd                                   WRI  \n",
       "2                                   CDM                                   WRI  \n",
       "4         Central Electricity Authority                                   WRI  \n",
       "5         Central Electricity Authority                                   WRI  "
      ]
     },
     "execution_count": 125,
     "metadata": {},
     "output_type": "execute_result"
    }
   ],
   "source": [
    "power_plant_df.head()"
   ]
  },
  {
   "cell_type": "markdown",
   "id": "e9737f4b",
   "metadata": {},
   "source": [
    "# deal with catagorical data."
   ]
  },
  {
   "cell_type": "code",
   "execution_count": 126,
   "id": "12c100f3",
   "metadata": {},
   "outputs": [],
   "source": [
    "#saparate data into features and target\n",
    "\n",
    "\n",
    "\n",
    "features_df = power_plant_df.drop(columns=['primary_fuel'])\n",
    "target = power_plant_df['primary_fuel']"
   ]
  },
  {
   "cell_type": "code",
   "execution_count": 130,
   "id": "e260cf86",
   "metadata": {},
   "outputs": [
    {
     "data": {
      "text/html": [
       "<div>\n",
       "<style scoped>\n",
       "    .dataframe tbody tr th:only-of-type {\n",
       "        vertical-align: middle;\n",
       "    }\n",
       "\n",
       "    .dataframe tbody tr th {\n",
       "        vertical-align: top;\n",
       "    }\n",
       "\n",
       "    .dataframe thead th {\n",
       "        text-align: right;\n",
       "    }\n",
       "</style>\n",
       "<table border=\"1\" class=\"dataframe\">\n",
       "  <thead>\n",
       "    <tr style=\"text-align: right;\">\n",
       "      <th></th>\n",
       "      <th>capacity_mw</th>\n",
       "      <th>latitude</th>\n",
       "      <th>longitude</th>\n",
       "      <th>source_ACME Solar Energy</th>\n",
       "      <th>source_AES Winfra</th>\n",
       "      <th>source_Acc Acc ltd</th>\n",
       "      <th>source_Adani Power Limite r Er</th>\n",
       "      <th>source_Aftaab Solar Private Limited (ASPL)</th>\n",
       "      <th>source_Ambed K Sugar</th>\n",
       "      <th>source_Ambuja Cements ltd</th>\n",
       "      <th>...</th>\n",
       "      <th>source_Vikram Vikram cement</th>\n",
       "      <th>source_Vishwanath Sugars ltd</th>\n",
       "      <th>source_Welspun Solar AP Private Limited</th>\n",
       "      <th>source_Welspun Solar Punjab Private Limited</th>\n",
       "      <th>source_West Bengal Energy Development Corporation Limited (WBEDCL)</th>\n",
       "      <th>source_West Coast Paper Mills Ltd.</th>\n",
       "      <th>source_Yashwantrao Krishna ssk</th>\n",
       "      <th>source_Ym Ssk ltd</th>\n",
       "      <th>geolocation_source_National Renewable Energy Laboratory</th>\n",
       "      <th>geolocation_source_WRI</th>\n",
       "    </tr>\n",
       "  </thead>\n",
       "  <tbody>\n",
       "    <tr>\n",
       "      <th>0</th>\n",
       "      <td>1.252763</td>\n",
       "      <td>28.1839</td>\n",
       "      <td>0.683973</td>\n",
       "      <td>0</td>\n",
       "      <td>0</td>\n",
       "      <td>0</td>\n",
       "      <td>0</td>\n",
       "      <td>0</td>\n",
       "      <td>0</td>\n",
       "      <td>0</td>\n",
       "      <td>...</td>\n",
       "      <td>0</td>\n",
       "      <td>0</td>\n",
       "      <td>0</td>\n",
       "      <td>0</td>\n",
       "      <td>0</td>\n",
       "      <td>0</td>\n",
       "      <td>0</td>\n",
       "      <td>0</td>\n",
       "      <td>1</td>\n",
       "      <td>0</td>\n",
       "    </tr>\n",
       "    <tr>\n",
       "      <th>1</th>\n",
       "      <td>4.595120</td>\n",
       "      <td>24.7663</td>\n",
       "      <td>0.684622</td>\n",
       "      <td>0</td>\n",
       "      <td>0</td>\n",
       "      <td>0</td>\n",
       "      <td>0</td>\n",
       "      <td>0</td>\n",
       "      <td>0</td>\n",
       "      <td>0</td>\n",
       "      <td>...</td>\n",
       "      <td>0</td>\n",
       "      <td>0</td>\n",
       "      <td>0</td>\n",
       "      <td>0</td>\n",
       "      <td>0</td>\n",
       "      <td>0</td>\n",
       "      <td>0</td>\n",
       "      <td>0</td>\n",
       "      <td>0</td>\n",
       "      <td>1</td>\n",
       "    </tr>\n",
       "    <tr>\n",
       "      <th>2</th>\n",
       "      <td>3.693867</td>\n",
       "      <td>21.9038</td>\n",
       "      <td>0.682052</td>\n",
       "      <td>0</td>\n",
       "      <td>0</td>\n",
       "      <td>0</td>\n",
       "      <td>0</td>\n",
       "      <td>0</td>\n",
       "      <td>0</td>\n",
       "      <td>0</td>\n",
       "      <td>...</td>\n",
       "      <td>0</td>\n",
       "      <td>0</td>\n",
       "      <td>0</td>\n",
       "      <td>0</td>\n",
       "      <td>0</td>\n",
       "      <td>0</td>\n",
       "      <td>0</td>\n",
       "      <td>0</td>\n",
       "      <td>0</td>\n",
       "      <td>1</td>\n",
       "    </tr>\n",
       "    <tr>\n",
       "      <th>4</th>\n",
       "      <td>7.496097</td>\n",
       "      <td>21.9603</td>\n",
       "      <td>0.688051</td>\n",
       "      <td>0</td>\n",
       "      <td>0</td>\n",
       "      <td>0</td>\n",
       "      <td>0</td>\n",
       "      <td>0</td>\n",
       "      <td>0</td>\n",
       "      <td>0</td>\n",
       "      <td>...</td>\n",
       "      <td>0</td>\n",
       "      <td>0</td>\n",
       "      <td>0</td>\n",
       "      <td>0</td>\n",
       "      <td>0</td>\n",
       "      <td>0</td>\n",
       "      <td>0</td>\n",
       "      <td>0</td>\n",
       "      <td>0</td>\n",
       "      <td>1</td>\n",
       "    </tr>\n",
       "    <tr>\n",
       "      <th>5</th>\n",
       "      <td>5.525453</td>\n",
       "      <td>23.7689</td>\n",
       "      <td>0.681675</td>\n",
       "      <td>0</td>\n",
       "      <td>0</td>\n",
       "      <td>0</td>\n",
       "      <td>0</td>\n",
       "      <td>0</td>\n",
       "      <td>0</td>\n",
       "      <td>0</td>\n",
       "      <td>...</td>\n",
       "      <td>0</td>\n",
       "      <td>0</td>\n",
       "      <td>0</td>\n",
       "      <td>0</td>\n",
       "      <td>0</td>\n",
       "      <td>0</td>\n",
       "      <td>0</td>\n",
       "      <td>0</td>\n",
       "      <td>0</td>\n",
       "      <td>1</td>\n",
       "    </tr>\n",
       "    <tr>\n",
       "      <th>6</th>\n",
       "      <td>4.110874</td>\n",
       "      <td>10.4547</td>\n",
       "      <td>0.685724</td>\n",
       "      <td>0</td>\n",
       "      <td>0</td>\n",
       "      <td>0</td>\n",
       "      <td>0</td>\n",
       "      <td>0</td>\n",
       "      <td>0</td>\n",
       "      <td>0</td>\n",
       "      <td>...</td>\n",
       "      <td>0</td>\n",
       "      <td>0</td>\n",
       "      <td>0</td>\n",
       "      <td>0</td>\n",
       "      <td>0</td>\n",
       "      <td>0</td>\n",
       "      <td>0</td>\n",
       "      <td>0</td>\n",
       "      <td>0</td>\n",
       "      <td>1</td>\n",
       "    </tr>\n",
       "    <tr>\n",
       "      <th>7</th>\n",
       "      <td>5.262690</td>\n",
       "      <td>32.2258</td>\n",
       "      <td>0.685813</td>\n",
       "      <td>0</td>\n",
       "      <td>0</td>\n",
       "      <td>0</td>\n",
       "      <td>0</td>\n",
       "      <td>0</td>\n",
       "      <td>0</td>\n",
       "      <td>0</td>\n",
       "      <td>...</td>\n",
       "      <td>0</td>\n",
       "      <td>0</td>\n",
       "      <td>0</td>\n",
       "      <td>0</td>\n",
       "      <td>0</td>\n",
       "      <td>0</td>\n",
       "      <td>0</td>\n",
       "      <td>0</td>\n",
       "      <td>0</td>\n",
       "      <td>1</td>\n",
       "    </tr>\n",
       "    <tr>\n",
       "      <th>8</th>\n",
       "      <td>5.673323</td>\n",
       "      <td>16.3300</td>\n",
       "      <td>0.685214</td>\n",
       "      <td>0</td>\n",
       "      <td>0</td>\n",
       "      <td>0</td>\n",
       "      <td>0</td>\n",
       "      <td>0</td>\n",
       "      <td>0</td>\n",
       "      <td>0</td>\n",
       "      <td>...</td>\n",
       "      <td>0</td>\n",
       "      <td>0</td>\n",
       "      <td>0</td>\n",
       "      <td>0</td>\n",
       "      <td>0</td>\n",
       "      <td>0</td>\n",
       "      <td>0</td>\n",
       "      <td>0</td>\n",
       "      <td>0</td>\n",
       "      <td>1</td>\n",
       "    </tr>\n",
       "    <tr>\n",
       "      <th>9</th>\n",
       "      <td>5.351858</td>\n",
       "      <td>23.1642</td>\n",
       "      <td>0.687731</td>\n",
       "      <td>0</td>\n",
       "      <td>0</td>\n",
       "      <td>0</td>\n",
       "      <td>0</td>\n",
       "      <td>0</td>\n",
       "      <td>0</td>\n",
       "      <td>0</td>\n",
       "      <td>...</td>\n",
       "      <td>0</td>\n",
       "      <td>0</td>\n",
       "      <td>0</td>\n",
       "      <td>0</td>\n",
       "      <td>0</td>\n",
       "      <td>0</td>\n",
       "      <td>0</td>\n",
       "      <td>0</td>\n",
       "      <td>0</td>\n",
       "      <td>1</td>\n",
       "    </tr>\n",
       "    <tr>\n",
       "      <th>10</th>\n",
       "      <td>7.208600</td>\n",
       "      <td>21.0782</td>\n",
       "      <td>0.686123</td>\n",
       "      <td>0</td>\n",
       "      <td>0</td>\n",
       "      <td>0</td>\n",
       "      <td>0</td>\n",
       "      <td>0</td>\n",
       "      <td>0</td>\n",
       "      <td>0</td>\n",
       "      <td>...</td>\n",
       "      <td>0</td>\n",
       "      <td>0</td>\n",
       "      <td>0</td>\n",
       "      <td>0</td>\n",
       "      <td>0</td>\n",
       "      <td>0</td>\n",
       "      <td>0</td>\n",
       "      <td>0</td>\n",
       "      <td>0</td>\n",
       "      <td>1</td>\n",
       "    </tr>\n",
       "  </tbody>\n",
       "</table>\n",
       "<p>10 rows × 195 columns</p>\n",
       "</div>"
      ],
      "text/plain": [
       "    capacity_mw  latitude  longitude  source_ACME Solar Energy  \\\n",
       "0      1.252763   28.1839   0.683973                         0   \n",
       "1      4.595120   24.7663   0.684622                         0   \n",
       "2      3.693867   21.9038   0.682052                         0   \n",
       "4      7.496097   21.9603   0.688051                         0   \n",
       "5      5.525453   23.7689   0.681675                         0   \n",
       "6      4.110874   10.4547   0.685724                         0   \n",
       "7      5.262690   32.2258   0.685813                         0   \n",
       "8      5.673323   16.3300   0.685214                         0   \n",
       "9      5.351858   23.1642   0.687731                         0   \n",
       "10     7.208600   21.0782   0.686123                         0   \n",
       "\n",
       "    source_AES Winfra  source_Acc Acc ltd  source_Adani Power Limite r Er  \\\n",
       "0                   0                   0                               0   \n",
       "1                   0                   0                               0   \n",
       "2                   0                   0                               0   \n",
       "4                   0                   0                               0   \n",
       "5                   0                   0                               0   \n",
       "6                   0                   0                               0   \n",
       "7                   0                   0                               0   \n",
       "8                   0                   0                               0   \n",
       "9                   0                   0                               0   \n",
       "10                  0                   0                               0   \n",
       "\n",
       "    source_Aftaab Solar Private Limited (ASPL)  source_Ambed K Sugar  \\\n",
       "0                                            0                     0   \n",
       "1                                            0                     0   \n",
       "2                                            0                     0   \n",
       "4                                            0                     0   \n",
       "5                                            0                     0   \n",
       "6                                            0                     0   \n",
       "7                                            0                     0   \n",
       "8                                            0                     0   \n",
       "9                                            0                     0   \n",
       "10                                           0                     0   \n",
       "\n",
       "    source_Ambuja Cements ltd  ...  source_Vikram Vikram cement  \\\n",
       "0                           0  ...                            0   \n",
       "1                           0  ...                            0   \n",
       "2                           0  ...                            0   \n",
       "4                           0  ...                            0   \n",
       "5                           0  ...                            0   \n",
       "6                           0  ...                            0   \n",
       "7                           0  ...                            0   \n",
       "8                           0  ...                            0   \n",
       "9                           0  ...                            0   \n",
       "10                          0  ...                            0   \n",
       "\n",
       "    source_Vishwanath Sugars ltd  source_Welspun Solar AP Private Limited  \\\n",
       "0                              0                                        0   \n",
       "1                              0                                        0   \n",
       "2                              0                                        0   \n",
       "4                              0                                        0   \n",
       "5                              0                                        0   \n",
       "6                              0                                        0   \n",
       "7                              0                                        0   \n",
       "8                              0                                        0   \n",
       "9                              0                                        0   \n",
       "10                             0                                        0   \n",
       "\n",
       "    source_Welspun Solar Punjab Private Limited  \\\n",
       "0                                             0   \n",
       "1                                             0   \n",
       "2                                             0   \n",
       "4                                             0   \n",
       "5                                             0   \n",
       "6                                             0   \n",
       "7                                             0   \n",
       "8                                             0   \n",
       "9                                             0   \n",
       "10                                            0   \n",
       "\n",
       "    source_West Bengal Energy Development Corporation Limited (WBEDCL)  \\\n",
       "0                                                   0                    \n",
       "1                                                   0                    \n",
       "2                                                   0                    \n",
       "4                                                   0                    \n",
       "5                                                   0                    \n",
       "6                                                   0                    \n",
       "7                                                   0                    \n",
       "8                                                   0                    \n",
       "9                                                   0                    \n",
       "10                                                  0                    \n",
       "\n",
       "    source_West Coast Paper Mills Ltd.  source_Yashwantrao Krishna ssk  \\\n",
       "0                                    0                               0   \n",
       "1                                    0                               0   \n",
       "2                                    0                               0   \n",
       "4                                    0                               0   \n",
       "5                                    0                               0   \n",
       "6                                    0                               0   \n",
       "7                                    0                               0   \n",
       "8                                    0                               0   \n",
       "9                                    0                               0   \n",
       "10                                   0                               0   \n",
       "\n",
       "    source_Ym Ssk ltd  \\\n",
       "0                   0   \n",
       "1                   0   \n",
       "2                   0   \n",
       "4                   0   \n",
       "5                   0   \n",
       "6                   0   \n",
       "7                   0   \n",
       "8                   0   \n",
       "9                   0   \n",
       "10                  0   \n",
       "\n",
       "    geolocation_source_National Renewable Energy Laboratory  \\\n",
       "0                                                   1         \n",
       "1                                                   0         \n",
       "2                                                   0         \n",
       "4                                                   0         \n",
       "5                                                   0         \n",
       "6                                                   0         \n",
       "7                                                   0         \n",
       "8                                                   0         \n",
       "9                                                   0         \n",
       "10                                                  0         \n",
       "\n",
       "    geolocation_source_WRI  \n",
       "0                        0  \n",
       "1                        1  \n",
       "2                        1  \n",
       "4                        1  \n",
       "5                        1  \n",
       "6                        1  \n",
       "7                        1  \n",
       "8                        1  \n",
       "9                        1  \n",
       "10                       1  \n",
       "\n",
       "[10 rows x 195 columns]"
      ]
     },
     "execution_count": 130,
     "metadata": {},
     "output_type": "execute_result"
    }
   ],
   "source": [
    "#get_dummies technic\n",
    "\n",
    "features_df = pd.get_dummies(data=features_df,drop_first=True)\n",
    "features_df.head(10)"
   ]
  },
  {
   "cell_type": "markdown",
   "id": "9456a65e",
   "metadata": {},
   "source": [
    "# Scaling data."
   ]
  },
  {
   "cell_type": "code",
   "execution_count": 132,
   "id": "e04fc180",
   "metadata": {},
   "outputs": [
    {
     "data": {
      "text/plain": [
       "array([[-1.63946089,  1.1313144 , -0.9029044 , ..., -0.03460643,\n",
       "        14.4222051 , -2.41918561],\n",
       "       [ 0.12443412,  0.58651755, -0.55541646, ..., -0.03460643,\n",
       "        -0.06933752,  0.41336225],\n",
       "       [-0.35119295,  0.13020874, -1.93170988, ..., -0.03460643,\n",
       "        -0.06933752,  0.41336225],\n",
       "       ...,\n",
       "       [-0.57111391, -0.92635537, -0.3134508 , ..., -0.03460643,\n",
       "        -0.06933752,  0.41336225],\n",
       "       [ 0.01853219,  0.52015551, -0.77318928, ..., -0.03460643,\n",
       "        -0.06933752,  0.41336225],\n",
       "       [-0.79009633, -1.77782362,  0.14718481, ..., -0.03460643,\n",
       "        -0.06933752,  0.41336225]])"
      ]
     },
     "execution_count": 132,
     "metadata": {},
     "output_type": "execute_result"
    }
   ],
   "source": [
    "from sklearn.preprocessing import StandardScaler\n",
    "\n",
    "scaler = StandardScaler()\n",
    "\n",
    "features_df_scaled = scaler.fit_transform(features_df)\n",
    "\n",
    "features_df_scaled"
   ]
  },
  {
   "cell_type": "code",
   "execution_count": 133,
   "id": "455828e7",
   "metadata": {},
   "outputs": [
    {
     "name": "stdout",
     "output_type": "stream",
     "text": [
      "Number of component explaining 98% variance :  186\n"
     ]
    },
    {
     "data": {
      "image/png": "[encoded data removed]",
      "text/plain": [
       "<Figure size 432x288 with 1 Axes>"
      ]
     },
     "metadata": {
      "needs_background": "light"
     },
     "output_type": "display_data"
    }
   ],
   "source": [
    "#use pca technic because number of columns is very high\n",
    "\n",
    "\n",
    "from sklearn.decomposition import PCA\n",
    "\n",
    "\n",
    "x_pca = PCA()\n",
    "x_pca.fit(features_df_scaled)\n",
    "\n",
    "var_cumu = np.cumsum(x_pca.explained_variance_ratio_)*100\n",
    "k = np.argmax(var_cumu>98)\n",
    "print(\"Number of component explaining 98% variance : \",k)\n",
    "\n",
    "plt.xlabel(\"Principle Components\", fontsize=15)\n",
    "plt.ylabel(\"Cumulative Explained Variance\", fontsize=14)\n",
    "plt.axvline(x=k, color='k', linestyle='--')\n",
    "plt.axhline(y=98, color='r', linestyle='--')\n",
    "plt.plot(var_cumu)\n",
    "plt.show()"
   ]
  },
  {
   "cell_type": "markdown",
   "id": "cef40aba",
   "metadata": {},
   "source": [
    "#### 186 columns is very importent for modal building."
   ]
  },
  {
   "cell_type": "code",
   "execution_count": 134,
   "id": "27f14bdb",
   "metadata": {},
   "outputs": [
    {
     "data": {
      "text/plain": [
       "array([[ 6.59464970e+00,  1.86215819e+01,  5.93638634e+00, ...,\n",
       "        -7.42256018e-16,  2.68860842e-16,  1.19498368e-15],\n",
       "       [ 3.27806415e-01, -2.41479019e-01,  3.66713056e-01, ...,\n",
       "         9.18159165e-13, -4.25172204e-13, -2.87572652e-13],\n",
       "       [ 1.30822908e+00, -9.44479818e-01,  1.89574607e+00, ...,\n",
       "         2.29544408e-15,  8.60270960e-17, -3.46700881e-15],\n",
       "       ...,\n",
       "       [ 7.86075358e-01, -1.05785537e+00,  2.09895732e+00, ...,\n",
       "         3.16986499e-15,  6.06466036e-16, -2.59627759e-15],\n",
       "       [ 4.82731023e-01, -1.98284649e-01,  3.02914581e-01, ...,\n",
       "        -1.13846771e-13,  4.25113560e-13, -2.29257337e-13],\n",
       "       [ 6.76824271e-01, -1.22186506e+00,  2.40799037e+00, ...,\n",
       "         3.21735911e-15,  7.99426844e-16, -2.46042364e-15]])"
      ]
     },
     "execution_count": 134,
     "metadata": {},
     "output_type": "execute_result"
    }
   ],
   "source": [
    "x_pca = PCA(n_components=186)\n",
    "features_df_scaled_pca = x_pca.fit_transform(features_df_scaled)\n",
    "features_df_scaled_pca"
   ]
  },
  {
   "cell_type": "code",
   "execution_count": 136,
   "id": "05468a5f",
   "metadata": {},
   "outputs": [
    {
     "data": {
      "text/plain": [
       "Coal       253\n",
       "Hydro      218\n",
       "Solar      122\n",
       "Wind       108\n",
       "Gas         59\n",
       "Biomass     50\n",
       "Oil         17\n",
       "Nuclear      9\n",
       "Name: primary_fuel, dtype: int64"
      ]
     },
     "execution_count": 136,
     "metadata": {},
     "output_type": "execute_result"
    }
   ],
   "source": [
    "#now chack target column\n",
    "\n",
    "target.value_counts()"
   ]
  },
  {
   "cell_type": "code",
   "execution_count": 139,
   "id": "d9f68999",
   "metadata": {},
   "outputs": [],
   "source": [
    "target = target.replace({'Coal':1,\n",
    "                          'Hydro':2,\n",
    "                          'Solar':3,\n",
    "                          'Wind':4,\n",
    "                           'Gas':5,\n",
    "                           'Biomass':6,\n",
    "                           'Oil':7,\n",
    "                           'Nuclear':8})"
   ]
  },
  {
   "cell_type": "code",
   "execution_count": 140,
   "id": "f111fe51",
   "metadata": {},
   "outputs": [
    {
     "data": {
      "text/plain": [
       "1    253\n",
       "2    218\n",
       "3    122\n",
       "4    108\n",
       "5     59\n",
       "6     50\n",
       "7     17\n",
       "8      9\n",
       "Name: primary_fuel, dtype: int64"
      ]
     },
     "execution_count": 140,
     "metadata": {},
     "output_type": "execute_result"
    }
   ],
   "source": [
    "target.value_counts()"
   ]
  },
  {
   "cell_type": "code",
   "execution_count": 143,
   "id": "5dfd8062",
   "metadata": {},
   "outputs": [
    {
     "name": "stdout",
     "output_type": "stream",
     "text": [
      "1    253\n",
      "2    218\n",
      "3    122\n",
      "4    108\n",
      "5     59\n",
      "6     50\n",
      "7     17\n",
      "8      9\n",
      "Name: primary_fuel, dtype: int64\n"
     ]
    },
    {
     "data": {
      "text/plain": [
       "<AxesSubplot:ylabel='primary_fuel'>"
      ]
     },
     "execution_count": 143,
     "metadata": {},
     "output_type": "execute_result"
    },
    {
     "data": {
      "image/png": "[encoded data removed]",
      "text/plain": [
       "<Figure size 576x576 with 1 Axes>"
      ]
     },
     "metadata": {},
     "output_type": "display_data"
    }
   ],
   "source": [
    "# Let' check if there any class imbalance issue exists or not...\n",
    "\n",
    "print(target.value_counts())\n",
    "target.value_counts().plot.pie(figsize=(8,8), autopct=\"%.2f%%\",shadow=True, fontsize=20)"
   ]
  },
  {
   "cell_type": "code",
   "execution_count": 144,
   "id": "22d117c2",
   "metadata": {},
   "outputs": [
    {
     "data": {
      "text/plain": [
       "<AxesSubplot:xlabel='primary_fuel', ylabel='count'>"
      ]
     },
     "execution_count": 144,
     "metadata": {},
     "output_type": "execute_result"
    },
    {
     "data": {
      "image/png": "[encoded data removed]",
      "text/plain": [
       "<Figure size 432x288 with 1 Axes>"
      ]
     },
     "metadata": {
      "needs_background": "light"
     },
     "output_type": "display_data"
    }
   ],
   "source": [
    "# Let's solve the class imbalance issue using SMOTE technique\n",
    "\n",
    "from imblearn.over_sampling import SMOTE\n",
    "\n",
    "\n",
    "\n",
    "SMT = SMOTE()\n",
    "features_df_scaled_pca, target = SMT.fit_resample(features_df_scaled_pca, target)\n",
    "\n",
    "\n",
    "\n",
    "sns.countplot(target)"
   ]
  },
  {
   "cell_type": "code",
   "execution_count": 148,
   "id": "734dd836",
   "metadata": {},
   "outputs": [
    {
     "name": "stdout",
     "output_type": "stream",
     "text": [
      "After Over sampling shape of features :\n",
      "  (2024, 186)\n"
     ]
    }
   ],
   "source": [
    "print(\"After Over sampling shape of features :\\n \",features_df_scaled_pca.shape)"
   ]
  },
  {
   "cell_type": "markdown",
   "id": "34b7b184",
   "metadata": {},
   "source": [
    "# Modal building"
   ]
  },
  {
   "cell_type": "code",
   "execution_count": 153,
   "id": "cb2977d8",
   "metadata": {},
   "outputs": [],
   "source": [
    "#train Test split\n",
    "from sklearn.model_selection import train_test_split,cross_val_score\n",
    "from sklearn.metrics import accuracy_score,classification_report,roc_auc_score\n",
    "import time"
   ]
  },
  {
   "cell_type": "markdown",
   "id": "5908a061",
   "metadata": {},
   "source": [
    "### finding best modal  (roc_auc_score)"
   ]
  },
  {
   "cell_type": "code",
   "execution_count": 162,
   "id": "d920da62",
   "metadata": {},
   "outputs": [],
   "source": [
    "def bestmodel(model):\n",
    "    best_score = 0\n",
    "    best_state = 0\n",
    "    \n",
    "    for i in range(1,201):\n",
    "        x_train, x_test, y_train, y_test = train_test_split(features_df_scaled_pca, target, test_size = 0.25, random_state = i)\n",
    "        model.fit(x_train, y_train)\n",
    "        y_pre = model.predict_proba(x_test)\n",
    "    \n",
    "        score = roc_auc_score(y_test, y_pre, multi_class='ovr', average='weighted')\n",
    "        if score > best_score:\n",
    "            best_score = score\n",
    "            best_state = i\n",
    "    print(\"Best Random State is      : \",best_state)\n",
    "    print(\"Best roc_auc_Score is          : \",best_score)\n",
    "    print(\"Cross Validation Score is : \",cross_val_score(model, features_df_scaled_pca,target, cv=5, scoring='roc_auc_ovr_weighted').mean())\n"
   ]
  },
  {
   "cell_type": "markdown",
   "id": "c516325b",
   "metadata": {},
   "source": [
    "# LogisticRegression"
   ]
  },
  {
   "cell_type": "code",
   "execution_count": 163,
   "id": "a49939e6",
   "metadata": {},
   "outputs": [
    {
     "name": "stdout",
     "output_type": "stream",
     "text": [
      "Best Random State is      :  120\n",
      "Best roc_auc_Score is          :  0.948936812871694\n",
      "Cross Validation Score is :  0.935069155631368\n"
     ]
    }
   ],
   "source": [
    "from sklearn.linear_model import LogisticRegression\n",
    "log_reg = LogisticRegression()\n",
    "bestmodel(log_reg)"
   ]
  },
  {
   "cell_type": "markdown",
   "id": "2a231d8d",
   "metadata": {},
   "source": [
    "# DecisionTreeClassifier"
   ]
  },
  {
   "cell_type": "code",
   "execution_count": 164,
   "id": "1bc077f1",
   "metadata": {},
   "outputs": [
    {
     "name": "stdout",
     "output_type": "stream",
     "text": [
      "Best Random State is      :  88\n",
      "Best roc_auc_Score is          :  0.9446341262442485\n",
      "Cross Validation Score is :  0.9085165383234249\n"
     ]
    }
   ],
   "source": [
    "from sklearn.tree import DecisionTreeClassifier\n",
    "d_tree = DecisionTreeClassifier()\n",
    "bestmodel(d_tree)"
   ]
  },
  {
   "cell_type": "markdown",
   "id": "90f6257d",
   "metadata": {},
   "source": [
    "# KNeighborsClassifier"
   ]
  },
  {
   "cell_type": "code",
   "execution_count": 165,
   "id": "90d9b6fb",
   "metadata": {},
   "outputs": [
    {
     "name": "stdout",
     "output_type": "stream",
     "text": [
      "Best Random State is      :  194\n",
      "Best roc_auc_Score is          :  0.9771525119953408\n",
      "Cross Validation Score is :  0.9626286209016222\n"
     ]
    }
   ],
   "source": [
    "from sklearn.neighbors import KNeighborsClassifier\n",
    "knn_class = KNeighborsClassifier()\n",
    "bestmodel(knn_class)"
   ]
  },
  {
   "cell_type": "markdown",
   "id": "32e8bd1b",
   "metadata": {},
   "source": [
    "# RandomForestClassifier"
   ]
  },
  {
   "cell_type": "code",
   "execution_count": 166,
   "id": "a3ea82ca",
   "metadata": {},
   "outputs": [
    {
     "name": "stdout",
     "output_type": "stream",
     "text": [
      "Best Random State is      :  89\n",
      "Best roc_auc_Score is          :  0.9956549026042824\n",
      "Cross Validation Score is :  0.9889288680583455\n"
     ]
    }
   ],
   "source": [
    "from sklearn.ensemble import RandomForestClassifier\n",
    "rand_class = RandomForestClassifier()\n",
    "bestmodel(rand_class)"
   ]
  },
  {
   "cell_type": "markdown",
   "id": "34ecf18e",
   "metadata": {},
   "source": [
    "# BaggingClassifier"
   ]
  },
  {
   "cell_type": "code",
   "execution_count": 167,
   "id": "0e0b2bcf",
   "metadata": {},
   "outputs": [
    {
     "name": "stdout",
     "output_type": "stream",
     "text": [
      "Best Random State is      :  133\n",
      "Best roc_auc_Score is          :  0.9893535635705824\n",
      "Cross Validation Score is :  0.9675612563494713\n"
     ]
    }
   ],
   "source": [
    "from sklearn.ensemble import BaggingClassifier\n",
    "beg_class = BaggingClassifier()\n",
    "bestmodel(beg_class)"
   ]
  },
  {
   "cell_type": "markdown",
   "id": "4a00b94f",
   "metadata": {},
   "source": [
    "#### After build 5 modals Random Forest classifier is one of the best one. because its roc_auc_score is highest."
   ]
  },
  {
   "cell_type": "markdown",
   "id": "e061c9e0",
   "metadata": {},
   "source": [
    "# Hyper perameter tune."
   ]
  },
  {
   "cell_type": "code",
   "execution_count": 170,
   "id": "f43bddd4",
   "metadata": {},
   "outputs": [],
   "source": [
    "\n",
    "from sklearn.model_selection import GridSearchCV,train_test_split\n",
    "rand_class =RandomForestClassifier()\n",
    "x_train, x_test, y_train, y_test = train_test_split(features_df_scaled_pca, target, test_size = 0.25, random_state = 194)\n",
    "\n",
    "\n",
    "pera = {\"n_estimators\":[100,101],\n",
    "        'criterion':['gini','entropy'],\n",
    "         'min_samples_split':[2,3,4],\n",
    "         'min_samples_leaf':[1,2,3],\n",
    "         'max_features':['sqrt','log2']}\n",
    "gride_serch = GridSearchCV(estimator=rand_class,param_grid=pera,cv=4)"
   ]
  },
  {
   "cell_type": "code",
   "execution_count": 171,
   "id": "d446ed07",
   "metadata": {},
   "outputs": [
    {
     "data": {
      "text/html": [
       "<style>#sk-container-id-1 {color: black;background-color: white;}#sk-container-id-1 pre{padding: 0;}#sk-container-id-1 div.sk-toggleable {background-color: white;}#sk-container-id-1 label.sk-toggleable__label {cursor: pointer;display: block;width: 100%;margin-bottom: 0;padding: 0.3em;box-sizing: border-box;text-align: center;}#sk-container-id-1 label.sk-toggleable__label-arrow:before {content: \"▸\";float: left;margin-right: 0.25em;color: #696969;}#sk-container-id-1 label.sk-toggleable__label-arrow:hover:before {color: black;}#sk-container-id-1 div.sk-estimator:hover label.sk-toggleable__label-arrow:before {color: black;}#sk-container-id-1 div.sk-toggleable__content {max-height: 0;max-width: 0;overflow: hidden;text-align: left;background-color: #f0f8ff;}#sk-container-id-1 div.sk-toggleable__content pre {margin: 0.2em;color: black;border-radius: 0.25em;background-color: #f0f8ff;}#sk-container-id-1 input.sk-toggleable__control:checked~div.sk-toggleable__content {max-height: 200px;max-width: 100%;overflow: auto;}#sk-container-id-1 input.sk-toggleable__control:checked~label.sk-toggleable__label-arrow:before {content: \"▾\";}#sk-container-id-1 div.sk-estimator input.sk-toggleable__control:checked~label.sk-toggleable__label {background-color: #d4ebff;}#sk-container-id-1 div.sk-label input.sk-toggleable__control:checked~label.sk-toggleable__label {background-color: #d4ebff;}#sk-container-id-1 input.sk-hidden--visually {border: 0;clip: rect(1px 1px 1px 1px);clip: rect(1px, 1px, 1px, 1px);height: 1px;margin: -1px;overflow: hidden;padding: 0;position: absolute;width: 1px;}#sk-container-id-1 div.sk-estimator {font-family: monospace;background-color: #f0f8ff;border: 1px dotted black;border-radius: 0.25em;box-sizing: border-box;margin-bottom: 0.5em;}#sk-container-id-1 div.sk-estimator:hover {background-color: #d4ebff;}#sk-container-id-1 div.sk-parallel-item::after {content: \"\";width: 100%;border-bottom: 1px solid gray;flex-grow: 1;}#sk-container-id-1 div.sk-label:hover label.sk-toggleable__label {background-color: #d4ebff;}#sk-container-id-1 div.sk-serial::before {content: \"\";position: absolute;border-left: 1px solid gray;box-sizing: border-box;top: 0;bottom: 0;left: 50%;z-index: 0;}#sk-container-id-1 div.sk-serial {display: flex;flex-direction: column;align-items: center;background-color: white;padding-right: 0.2em;padding-left: 0.2em;position: relative;}#sk-container-id-1 div.sk-item {position: relative;z-index: 1;}#sk-container-id-1 div.sk-parallel {display: flex;align-items: stretch;justify-content: center;background-color: white;position: relative;}#sk-container-id-1 div.sk-item::before, #sk-container-id-1 div.sk-parallel-item::before {content: \"\";position: absolute;border-left: 1px solid gray;box-sizing: border-box;top: 0;bottom: 0;left: 50%;z-index: -1;}#sk-container-id-1 div.sk-parallel-item {display: flex;flex-direction: column;z-index: 1;position: relative;background-color: white;}#sk-container-id-1 div.sk-parallel-item:first-child::after {align-self: flex-end;width: 50%;}#sk-container-id-1 div.sk-parallel-item:last-child::after {align-self: flex-start;width: 50%;}#sk-container-id-1 div.sk-parallel-item:only-child::after {width: 0;}#sk-container-id-1 div.sk-dashed-wrapped {border: 1px dashed gray;margin: 0 0.4em 0.5em 0.4em;box-sizing: border-box;padding-bottom: 0.4em;background-color: white;}#sk-container-id-1 div.sk-label label {font-family: monospace;font-weight: bold;display: inline-block;line-height: 1.2em;}#sk-container-id-1 div.sk-label-container {text-align: center;}#sk-container-id-1 div.sk-container {/* jupyter's `normalize.less` sets `[hidden] { display: none; }` but bootstrap.min.css set `[hidden] { display: none !important; }` so we also need the `!important` here to be able to override the default hidden behavior on the sphinx rendered scikit-learn.org. See: https://github.com/scikit-learn/scikit-learn/issues/21755 */display: inline-block !important;position: relative;}#sk-container-id-1 div.sk-text-repr-fallback {display: none;}</style><div id=\"sk-container-id-1\" class=\"sk-top-container\"><div class=\"sk-text-repr-fallback\"><pre>GridSearchCV(cv=4, estimator=RandomForestClassifier(),\n",
       "             param_grid={&#x27;criterion&#x27;: [&#x27;gini&#x27;, &#x27;entropy&#x27;],\n",
       "                         &#x27;max_features&#x27;: [&#x27;sqrt&#x27;, &#x27;log2&#x27;],\n",
       "                         &#x27;min_samples_leaf&#x27;: [1, 2, 3],\n",
       "                         &#x27;min_samples_split&#x27;: [2, 3, 4],\n",
       "                         &#x27;n_estimators&#x27;: [100, 101]})</pre><b>In a Jupyter environment, please rerun this cell to show the HTML representation or trust the notebook. <br />On GitHub, the HTML representation is unable to render, please try loading this page with nbviewer.org.</b></div><div class=\"sk-container\" hidden><div class=\"sk-item sk-dashed-wrapped\"><div class=\"sk-label-container\"><div class=\"sk-label sk-toggleable\"><input class=\"sk-toggleable__control sk-hidden--visually\" id=\"sk-estimator-id-1\" type=\"checkbox\" ><label for=\"sk-estimator-id-1\" class=\"sk-toggleable__label sk-toggleable__label-arrow\">GridSearchCV</label><div class=\"sk-toggleable__content\"><pre>GridSearchCV(cv=4, estimator=RandomForestClassifier(),\n",
       "             param_grid={&#x27;criterion&#x27;: [&#x27;gini&#x27;, &#x27;entropy&#x27;],\n",
       "                         &#x27;max_features&#x27;: [&#x27;sqrt&#x27;, &#x27;log2&#x27;],\n",
       "                         &#x27;min_samples_leaf&#x27;: [1, 2, 3],\n",
       "                         &#x27;min_samples_split&#x27;: [2, 3, 4],\n",
       "                         &#x27;n_estimators&#x27;: [100, 101]})</pre></div></div></div><div class=\"sk-parallel\"><div class=\"sk-parallel-item\"><div class=\"sk-item\"><div class=\"sk-label-container\"><div class=\"sk-label sk-toggleable\"><input class=\"sk-toggleable__control sk-hidden--visually\" id=\"sk-estimator-id-2\" type=\"checkbox\" ><label for=\"sk-estimator-id-2\" class=\"sk-toggleable__label sk-toggleable__label-arrow\">estimator: RandomForestClassifier</label><div class=\"sk-toggleable__content\"><pre>RandomForestClassifier()</pre></div></div></div><div class=\"sk-serial\"><div class=\"sk-item\"><div class=\"sk-estimator sk-toggleable\"><input class=\"sk-toggleable__control sk-hidden--visually\" id=\"sk-estimator-id-3\" type=\"checkbox\" ><label for=\"sk-estimator-id-3\" class=\"sk-toggleable__label sk-toggleable__label-arrow\">RandomForestClassifier</label><div class=\"sk-toggleable__content\"><pre>RandomForestClassifier()</pre></div></div></div></div></div></div></div></div></div></div>"
      ],
      "text/plain": [
       "GridSearchCV(cv=4, estimator=RandomForestClassifier(),\n",
       "             param_grid={'criterion': ['gini', 'entropy'],\n",
       "                         'max_features': ['sqrt', 'log2'],\n",
       "                         'min_samples_leaf': [1, 2, 3],\n",
       "                         'min_samples_split': [2, 3, 4],\n",
       "                         'n_estimators': [100, 101]})"
      ]
     },
     "execution_count": 171,
     "metadata": {},
     "output_type": "execute_result"
    }
   ],
   "source": [
    "gride_serch.fit(x_train,y_train)"
   ]
  },
  {
   "cell_type": "code",
   "execution_count": 172,
   "id": "494f6560",
   "metadata": {},
   "outputs": [
    {
     "data": {
      "text/plain": [
       "{'criterion': 'entropy',\n",
       " 'max_features': 'sqrt',\n",
       " 'min_samples_leaf': 1,\n",
       " 'min_samples_split': 2,\n",
       " 'n_estimators': 100}"
      ]
     },
     "execution_count": 172,
     "metadata": {},
     "output_type": "execute_result"
    }
   ],
   "source": [
    "#now best perameter\n",
    "\n",
    "gride_serch.best_params_"
   ]
  },
  {
   "cell_type": "markdown",
   "id": "92c16579",
   "metadata": {},
   "source": [
    "# Final modal building"
   ]
  },
  {
   "cell_type": "code",
   "execution_count": 173,
   "id": "a947bfce",
   "metadata": {},
   "outputs": [
    {
     "name": "stdout",
     "output_type": "stream",
     "text": [
      "Best Random State is      :  89\n",
      "Best roc_auc_Score is          :  0.994691431476117\n",
      "Cross Validation Score is :  0.9893164027802257\n"
     ]
    }
   ],
   "source": [
    "rand_class = RandomForestClassifier(n_estimators=100,criterion='entropy',max_features='sqrt',min_samples_leaf=1,min_samples_split=2)\n",
    "bestmodel(rand_class)"
   ]
  },
  {
   "cell_type": "markdown",
   "id": "211bb0c1",
   "metadata": {},
   "source": [
    "# Modal Saving"
   ]
  },
  {
   "cell_type": "code",
   "execution_count": 174,
   "id": "d1753bf0",
   "metadata": {},
   "outputs": [
    {
     "data": {
      "text/plain": [
       "['Global_power_plant_primary_fuel.pkl']"
      ]
     },
     "execution_count": 174,
     "metadata": {},
     "output_type": "execute_result"
    }
   ],
   "source": [
    "import joblib\n",
    "joblib.dump(rand_class,'Global_power_plant_primary_fuel.pkl')"
   ]
  },
  {
   "cell_type": "code",
   "execution_count": null,
   "id": "6903ebbb",
   "metadata": {},
   "outputs": [],
   "source": []
  }
 ],
 "metadata": {
  "kernelspec": {
   "display_name": "Python 3 (ipykernel)",
   "language": "python",
   "name": "python3"
  },
  "language_info": {
   "codemirror_mode": {
    "name": "ipython",
    "version": 3
   },
   "file_extension": ".py",
   "mimetype": "text/x-python",
   "name": "python",
   "nbconvert_exporter": "python",
   "pygments_lexer": "ipython3",
   "version": "3.9.7"
  }
 },
 "nbformat": 4,
 "nbformat_minor": 5
}
