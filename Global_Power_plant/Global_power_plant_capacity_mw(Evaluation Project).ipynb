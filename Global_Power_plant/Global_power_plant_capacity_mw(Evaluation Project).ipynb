{
 "cells": [
  {
   "cell_type": "markdown",
   "id": "574e478a",
   "metadata": {},
   "source": [
    "# Global Power Plant Database\n",
    "\n",
    "Problem Statement:\n",
    "\n",
    "\n",
    "\n",
    "The Global Power Plant Database is a comprehensive, open source database of power plants around the world. It centralizes power plant data to make it easier to navigate, compare and draw insights for one’s own analysis. The database covers approximately 35,000 power plants from 167 countries and includes thermal plants (e.g. coal, gas, oil, nuclear, biomass, waste, geothermal) and renewables (e.g. hydro, wind, solar). Each power plant is geolocated and entries contain information on plant capacity, generation, ownership, and fuel type. It will be continuously updated as data becomes available.\n",
    "\n",
    "#### Columns Informations\n",
    "\n",
    "1. country (text): 3 character country code corresponding to the ISO 3166-1 alpha-3 specification [5]\n",
    "2. country_long (text): longer form of the country designation\n",
    "3. name (text): name or title of the power plant, generally in Romanized form\n",
    "4. gppd_idn (text): 10 or 12 character identifier for the power plant\n",
    "5. capacity_mw (number): electrical generating capacity in megawatts\n",
    "6. latitude (number): geolocation in decimal degrees; WGS84 (EPSG:4326)\n",
    "7. longitude (number): geolocation in decimal degrees; WGS84 (EPSG:4326)\n",
    "8. primary_fuel (text): energy source used in primary electricity generation or export\n",
    "9. other_fuel1 (text): energy source used in electricity generation or export\n",
    "10. other_fuel2 (text): energy source used in electricity generation or export\n",
    "11. other_fuel3 (text): energy source used in electricity generation or export\n",
    "12. commissioning_year (number): year of plant operation, weighted by unit-capacity when data is available\n",
    "13. owner (text): majority shareholder of the power plant, generally in Romanized form\n",
    "14. source (text): entity reporting the data; could be an organization, report, or document, generally in Romanized form\n",
    "15. url (text): web document corresponding to the source field\n",
    "16. geolocation_source (text): attribution for geolocation information\n",
    "17. wepp_id (text): a reference to a unique plant identifier in the widely-used PLATTS-WEPP database.\n",
    "18. year_of_capacity_data (number): year the capacity information was reported\n",
    "19. generation_gwh_2013 (number): electricity generation in gigawatt-hours reported for the year 2013\n",
    "20. generation_gwh_2014 (number): electricity generation in gigawatt-hours reported for the year 2014\n",
    "21. generation_gwh_2015 (number): electricity generation in gigawatt-hours reported for the year 2015\n",
    "22. generation_gwh_2016 (number): electricity generation in gigawatt-hours reported for the year 2016\n",
    "23. generation_gwh_2017 (number): electricity generation in gigawatt-hours reported for the year 2017\n",
    "24. generation_gwh_2018 (number): electricity generation in gigawatt-hours reported for the year 2018\n",
    "26. generation_gwh_2019 (number): electricity generation in gigawatt-hours reported for the year 2019\n",
    "27. generation_data_source (text): attribution for the reported generation information\n",
    "28. estimated_generation_gwh_2013 (number): estimated electricity generation in gigawatt-hours for the year 2013\n",
    "29. estimated_generation_gwh_2014 (number): estimated electricity generation in gigawatt-hours for the year 2014 \n",
    "30. estimated_generation_gwh_2015 (number): estimated electricity generation in gigawatt-hours for the year 2015 \n",
    "31. estimated_generation_gwh_2016 (number): estimated electricity generation in gigawatt-hours for the year 2016 \n",
    "32. estimated_generation_gwh_2017 (number): estimated electricity generation in gigawatt-hours for the year 2017 \n",
    "33. estimated_generation_note_2013 (text): label of the model/method used to estimate generation for the year 2013\n",
    "34. estimated_generation_note_2014 (text): label of the model/method used to estimate generation for the year 2014 \n",
    "34. estimated_generation_note_2015 (text): label of the model/method used to estimate generation for the year 2015\n",
    "35. estimated_generation_note_2016 (text): label of the model/method used to estimate generation for the year 2016\n",
    "36. estimated_generation_note_2017 (text): label of the model/method used to estimate generation for the year 2017 "
   ]
  },
  {
   "cell_type": "markdown",
   "id": "6a3103a8",
   "metadata": {},
   "source": [
    "##### Pridiction \n",
    "\n",
    "=> Pridict capacity_mw ."
   ]
  },
  {
   "cell_type": "code",
   "execution_count": null,
   "id": "40232a1a",
   "metadata": {},
   "outputs": [],
   "source": [
    "#Importent Libreries importing\n",
    "\n",
    "\n",
    "import pandas as pd\n",
    "import numpy as np\n",
    "import warnings\n",
    "warnings.filterwarnings('ignore')\n",
    "import matplotlib.pyplot as plt\n",
    "import seaborn as sns"
   ]
  },
  {
   "cell_type": "code",
   "execution_count": 2,
   "id": "5fce5b20",
   "metadata": {},
   "outputs": [
    {
     "data": {
      "text/html": [
       "<div>\n",
       "<style scoped>\n",
       "    .dataframe tbody tr th:only-of-type {\n",
       "        vertical-align: middle;\n",
       "    }\n",
       "\n",
       "    .dataframe tbody tr th {\n",
       "        vertical-align: top;\n",
       "    }\n",
       "\n",
       "    .dataframe thead th {\n",
       "        text-align: right;\n",
       "    }\n",
       "</style>\n",
       "<table border=\"1\" class=\"dataframe\">\n",
       "  <thead>\n",
       "    <tr style=\"text-align: right;\">\n",
       "      <th></th>\n",
       "      <th>country</th>\n",
       "      <th>country_long</th>\n",
       "      <th>name</th>\n",
       "      <th>gppd_idnr</th>\n",
       "      <th>capacity_mw</th>\n",
       "      <th>latitude</th>\n",
       "      <th>longitude</th>\n",
       "      <th>primary_fuel</th>\n",
       "      <th>other_fuel1</th>\n",
       "      <th>other_fuel2</th>\n",
       "      <th>...</th>\n",
       "      <th>year_of_capacity_data</th>\n",
       "      <th>generation_gwh_2013</th>\n",
       "      <th>generation_gwh_2014</th>\n",
       "      <th>generation_gwh_2015</th>\n",
       "      <th>generation_gwh_2016</th>\n",
       "      <th>generation_gwh_2017</th>\n",
       "      <th>generation_gwh_2018</th>\n",
       "      <th>generation_gwh_2019</th>\n",
       "      <th>generation_data_source</th>\n",
       "      <th>estimated_generation_gwh</th>\n",
       "    </tr>\n",
       "  </thead>\n",
       "  <tbody>\n",
       "    <tr>\n",
       "      <th>0</th>\n",
       "      <td>IND</td>\n",
       "      <td>India</td>\n",
       "      <td>ACME Solar Tower</td>\n",
       "      <td>WRI1020239</td>\n",
       "      <td>2.5</td>\n",
       "      <td>28.1839</td>\n",
       "      <td>73.2407</td>\n",
       "      <td>Solar</td>\n",
       "      <td>NaN</td>\n",
       "      <td>NaN</td>\n",
       "      <td>...</td>\n",
       "      <td>NaN</td>\n",
       "      <td>NaN</td>\n",
       "      <td>NaN</td>\n",
       "      <td>NaN</td>\n",
       "      <td>NaN</td>\n",
       "      <td>NaN</td>\n",
       "      <td>NaN</td>\n",
       "      <td>NaN</td>\n",
       "      <td>NaN</td>\n",
       "      <td>NaN</td>\n",
       "    </tr>\n",
       "    <tr>\n",
       "      <th>1</th>\n",
       "      <td>IND</td>\n",
       "      <td>India</td>\n",
       "      <td>ADITYA CEMENT WORKS</td>\n",
       "      <td>WRI1019881</td>\n",
       "      <td>98.0</td>\n",
       "      <td>24.7663</td>\n",
       "      <td>74.6090</td>\n",
       "      <td>Coal</td>\n",
       "      <td>NaN</td>\n",
       "      <td>NaN</td>\n",
       "      <td>...</td>\n",
       "      <td>NaN</td>\n",
       "      <td>NaN</td>\n",
       "      <td>NaN</td>\n",
       "      <td>NaN</td>\n",
       "      <td>NaN</td>\n",
       "      <td>NaN</td>\n",
       "      <td>NaN</td>\n",
       "      <td>NaN</td>\n",
       "      <td>NaN</td>\n",
       "      <td>NaN</td>\n",
       "    </tr>\n",
       "    <tr>\n",
       "      <th>2</th>\n",
       "      <td>IND</td>\n",
       "      <td>India</td>\n",
       "      <td>AES Saurashtra Windfarms</td>\n",
       "      <td>WRI1026669</td>\n",
       "      <td>39.2</td>\n",
       "      <td>21.9038</td>\n",
       "      <td>69.3732</td>\n",
       "      <td>Wind</td>\n",
       "      <td>NaN</td>\n",
       "      <td>NaN</td>\n",
       "      <td>...</td>\n",
       "      <td>NaN</td>\n",
       "      <td>NaN</td>\n",
       "      <td>NaN</td>\n",
       "      <td>NaN</td>\n",
       "      <td>NaN</td>\n",
       "      <td>NaN</td>\n",
       "      <td>NaN</td>\n",
       "      <td>NaN</td>\n",
       "      <td>NaN</td>\n",
       "      <td>NaN</td>\n",
       "    </tr>\n",
       "    <tr>\n",
       "      <th>3</th>\n",
       "      <td>IND</td>\n",
       "      <td>India</td>\n",
       "      <td>AGARTALA GT</td>\n",
       "      <td>IND0000001</td>\n",
       "      <td>135.0</td>\n",
       "      <td>23.8712</td>\n",
       "      <td>91.3602</td>\n",
       "      <td>Gas</td>\n",
       "      <td>NaN</td>\n",
       "      <td>NaN</td>\n",
       "      <td>...</td>\n",
       "      <td>2019.0</td>\n",
       "      <td>NaN</td>\n",
       "      <td>617.789264</td>\n",
       "      <td>843.7470</td>\n",
       "      <td>886.004428</td>\n",
       "      <td>663.774500</td>\n",
       "      <td>626.239128</td>\n",
       "      <td>NaN</td>\n",
       "      <td>Central Electricity Authority</td>\n",
       "      <td>NaN</td>\n",
       "    </tr>\n",
       "    <tr>\n",
       "      <th>4</th>\n",
       "      <td>IND</td>\n",
       "      <td>India</td>\n",
       "      <td>AKALTARA TPP</td>\n",
       "      <td>IND0000002</td>\n",
       "      <td>1800.0</td>\n",
       "      <td>21.9603</td>\n",
       "      <td>82.4091</td>\n",
       "      <td>Coal</td>\n",
       "      <td>Oil</td>\n",
       "      <td>NaN</td>\n",
       "      <td>...</td>\n",
       "      <td>2019.0</td>\n",
       "      <td>NaN</td>\n",
       "      <td>3035.550000</td>\n",
       "      <td>5916.3700</td>\n",
       "      <td>6243.000000</td>\n",
       "      <td>5385.579736</td>\n",
       "      <td>7279.000000</td>\n",
       "      <td>NaN</td>\n",
       "      <td>Central Electricity Authority</td>\n",
       "      <td>NaN</td>\n",
       "    </tr>\n",
       "    <tr>\n",
       "      <th>5</th>\n",
       "      <td>IND</td>\n",
       "      <td>India</td>\n",
       "      <td>AKRIMOTA LIG</td>\n",
       "      <td>IND0000003</td>\n",
       "      <td>250.0</td>\n",
       "      <td>23.7689</td>\n",
       "      <td>68.6447</td>\n",
       "      <td>Coal</td>\n",
       "      <td>Oil</td>\n",
       "      <td>NaN</td>\n",
       "      <td>...</td>\n",
       "      <td>2019.0</td>\n",
       "      <td>NaN</td>\n",
       "      <td>1153.421000</td>\n",
       "      <td>1208.8520</td>\n",
       "      <td>1175.765000</td>\n",
       "      <td>1147.913000</td>\n",
       "      <td>976.655000</td>\n",
       "      <td>NaN</td>\n",
       "      <td>Central Electricity Authority</td>\n",
       "      <td>NaN</td>\n",
       "    </tr>\n",
       "    <tr>\n",
       "      <th>6</th>\n",
       "      <td>IND</td>\n",
       "      <td>India</td>\n",
       "      <td>ALIYAR</td>\n",
       "      <td>IND0000004</td>\n",
       "      <td>60.0</td>\n",
       "      <td>10.4547</td>\n",
       "      <td>77.0078</td>\n",
       "      <td>Hydro</td>\n",
       "      <td>NaN</td>\n",
       "      <td>NaN</td>\n",
       "      <td>...</td>\n",
       "      <td>2019.0</td>\n",
       "      <td>NaN</td>\n",
       "      <td>157.558250</td>\n",
       "      <td>152.1952</td>\n",
       "      <td>61.421350</td>\n",
       "      <td>89.629600</td>\n",
       "      <td>48.327150</td>\n",
       "      <td>NaN</td>\n",
       "      <td>Central Electricity Authority</td>\n",
       "      <td>NaN</td>\n",
       "    </tr>\n",
       "    <tr>\n",
       "      <th>7</th>\n",
       "      <td>IND</td>\n",
       "      <td>India</td>\n",
       "      <td>ALLAIN DUHANGAN</td>\n",
       "      <td>IND0000005</td>\n",
       "      <td>192.0</td>\n",
       "      <td>32.2258</td>\n",
       "      <td>77.2070</td>\n",
       "      <td>Hydro</td>\n",
       "      <td>NaN</td>\n",
       "      <td>NaN</td>\n",
       "      <td>...</td>\n",
       "      <td>2019.0</td>\n",
       "      <td>NaN</td>\n",
       "      <td>674.391100</td>\n",
       "      <td>721.3352</td>\n",
       "      <td>675.724400</td>\n",
       "      <td>679.594950</td>\n",
       "      <td>579.318850</td>\n",
       "      <td>NaN</td>\n",
       "      <td>Central Electricity Authority</td>\n",
       "      <td>NaN</td>\n",
       "    </tr>\n",
       "    <tr>\n",
       "      <th>8</th>\n",
       "      <td>IND</td>\n",
       "      <td>India</td>\n",
       "      <td>ALMATTI DAM</td>\n",
       "      <td>IND0000006</td>\n",
       "      <td>290.0</td>\n",
       "      <td>16.3300</td>\n",
       "      <td>75.8863</td>\n",
       "      <td>Hydro</td>\n",
       "      <td>NaN</td>\n",
       "      <td>NaN</td>\n",
       "      <td>...</td>\n",
       "      <td>2019.0</td>\n",
       "      <td>NaN</td>\n",
       "      <td>480.594950</td>\n",
       "      <td>144.4342</td>\n",
       "      <td>402.029750</td>\n",
       "      <td>439.372100</td>\n",
       "      <td>406.377900</td>\n",
       "      <td>NaN</td>\n",
       "      <td>Central Electricity Authority</td>\n",
       "      <td>NaN</td>\n",
       "    </tr>\n",
       "    <tr>\n",
       "      <th>9</th>\n",
       "      <td>IND</td>\n",
       "      <td>India</td>\n",
       "      <td>AMAR KANTAK</td>\n",
       "      <td>IND0000007</td>\n",
       "      <td>210.0</td>\n",
       "      <td>23.1642</td>\n",
       "      <td>81.6373</td>\n",
       "      <td>Coal</td>\n",
       "      <td>Oil</td>\n",
       "      <td>NaN</td>\n",
       "      <td>...</td>\n",
       "      <td>2019.0</td>\n",
       "      <td>NaN</td>\n",
       "      <td>1887.904000</td>\n",
       "      <td>1643.0460</td>\n",
       "      <td>1338.093000</td>\n",
       "      <td>1563.457000</td>\n",
       "      <td>1487.880000</td>\n",
       "      <td>NaN</td>\n",
       "      <td>Central Electricity Authority</td>\n",
       "      <td>NaN</td>\n",
       "    </tr>\n",
       "    <tr>\n",
       "      <th>10</th>\n",
       "      <td>IND</td>\n",
       "      <td>India</td>\n",
       "      <td>AMARAVATI TPP</td>\n",
       "      <td>IND0000008</td>\n",
       "      <td>1350.0</td>\n",
       "      <td>21.0782</td>\n",
       "      <td>77.9009</td>\n",
       "      <td>Coal</td>\n",
       "      <td>Oil</td>\n",
       "      <td>NaN</td>\n",
       "      <td>...</td>\n",
       "      <td>2019.0</td>\n",
       "      <td>NaN</td>\n",
       "      <td>1920.971000</td>\n",
       "      <td>5629.6630</td>\n",
       "      <td>1701.008000</td>\n",
       "      <td>4350.558000</td>\n",
       "      <td>3717.154000</td>\n",
       "      <td>NaN</td>\n",
       "      <td>Central Electricity Authority</td>\n",
       "      <td>NaN</td>\n",
       "    </tr>\n",
       "    <tr>\n",
       "      <th>11</th>\n",
       "      <td>IND</td>\n",
       "      <td>India</td>\n",
       "      <td>ANANDPUR SAHIB ST-I&amp;II</td>\n",
       "      <td>IND0000009</td>\n",
       "      <td>134.0</td>\n",
       "      <td>31.2717</td>\n",
       "      <td>76.4938</td>\n",
       "      <td>Hydro</td>\n",
       "      <td>NaN</td>\n",
       "      <td>NaN</td>\n",
       "      <td>...</td>\n",
       "      <td>2019.0</td>\n",
       "      <td>NaN</td>\n",
       "      <td>614.412500</td>\n",
       "      <td>665.1973</td>\n",
       "      <td>670.500650</td>\n",
       "      <td>644.570950</td>\n",
       "      <td>425.641100</td>\n",
       "      <td>NaN</td>\n",
       "      <td>Central Electricity Authority</td>\n",
       "      <td>NaN</td>\n",
       "    </tr>\n",
       "  </tbody>\n",
       "</table>\n",
       "<p>12 rows × 27 columns</p>\n",
       "</div>"
      ],
      "text/plain": [
       "   country country_long                      name   gppd_idnr  capacity_mw  \\\n",
       "0      IND        India          ACME Solar Tower  WRI1020239          2.5   \n",
       "1      IND        India       ADITYA CEMENT WORKS  WRI1019881         98.0   \n",
       "2      IND        India  AES Saurashtra Windfarms  WRI1026669         39.2   \n",
       "3      IND        India               AGARTALA GT  IND0000001        135.0   \n",
       "4      IND        India              AKALTARA TPP  IND0000002       1800.0   \n",
       "5      IND        India              AKRIMOTA LIG  IND0000003        250.0   \n",
       "6      IND        India                    ALIYAR  IND0000004         60.0   \n",
       "7      IND        India           ALLAIN DUHANGAN  IND0000005        192.0   \n",
       "8      IND        India               ALMATTI DAM  IND0000006        290.0   \n",
       "9      IND        India               AMAR KANTAK  IND0000007        210.0   \n",
       "10     IND        India             AMARAVATI TPP  IND0000008       1350.0   \n",
       "11     IND        India    ANANDPUR SAHIB ST-I&II  IND0000009        134.0   \n",
       "\n",
       "    latitude  longitude primary_fuel other_fuel1 other_fuel2  ...  \\\n",
       "0    28.1839    73.2407        Solar         NaN         NaN  ...   \n",
       "1    24.7663    74.6090         Coal         NaN         NaN  ...   \n",
       "2    21.9038    69.3732         Wind         NaN         NaN  ...   \n",
       "3    23.8712    91.3602          Gas         NaN         NaN  ...   \n",
       "4    21.9603    82.4091         Coal         Oil         NaN  ...   \n",
       "5    23.7689    68.6447         Coal         Oil         NaN  ...   \n",
       "6    10.4547    77.0078        Hydro         NaN         NaN  ...   \n",
       "7    32.2258    77.2070        Hydro         NaN         NaN  ...   \n",
       "8    16.3300    75.8863        Hydro         NaN         NaN  ...   \n",
       "9    23.1642    81.6373         Coal         Oil         NaN  ...   \n",
       "10   21.0782    77.9009         Coal         Oil         NaN  ...   \n",
       "11   31.2717    76.4938        Hydro         NaN         NaN  ...   \n",
       "\n",
       "    year_of_capacity_data  generation_gwh_2013 generation_gwh_2014  \\\n",
       "0                     NaN                  NaN                 NaN   \n",
       "1                     NaN                  NaN                 NaN   \n",
       "2                     NaN                  NaN                 NaN   \n",
       "3                  2019.0                  NaN          617.789264   \n",
       "4                  2019.0                  NaN         3035.550000   \n",
       "5                  2019.0                  NaN         1153.421000   \n",
       "6                  2019.0                  NaN          157.558250   \n",
       "7                  2019.0                  NaN          674.391100   \n",
       "8                  2019.0                  NaN          480.594950   \n",
       "9                  2019.0                  NaN         1887.904000   \n",
       "10                 2019.0                  NaN         1920.971000   \n",
       "11                 2019.0                  NaN          614.412500   \n",
       "\n",
       "   generation_gwh_2015 generation_gwh_2016 generation_gwh_2017  \\\n",
       "0                  NaN                 NaN                 NaN   \n",
       "1                  NaN                 NaN                 NaN   \n",
       "2                  NaN                 NaN                 NaN   \n",
       "3             843.7470          886.004428          663.774500   \n",
       "4            5916.3700         6243.000000         5385.579736   \n",
       "5            1208.8520         1175.765000         1147.913000   \n",
       "6             152.1952           61.421350           89.629600   \n",
       "7             721.3352          675.724400          679.594950   \n",
       "8             144.4342          402.029750          439.372100   \n",
       "9            1643.0460         1338.093000         1563.457000   \n",
       "10           5629.6630         1701.008000         4350.558000   \n",
       "11            665.1973          670.500650          644.570950   \n",
       "\n",
       "    generation_gwh_2018  generation_gwh_2019         generation_data_source  \\\n",
       "0                   NaN                  NaN                            NaN   \n",
       "1                   NaN                  NaN                            NaN   \n",
       "2                   NaN                  NaN                            NaN   \n",
       "3            626.239128                  NaN  Central Electricity Authority   \n",
       "4           7279.000000                  NaN  Central Electricity Authority   \n",
       "5            976.655000                  NaN  Central Electricity Authority   \n",
       "6             48.327150                  NaN  Central Electricity Authority   \n",
       "7            579.318850                  NaN  Central Electricity Authority   \n",
       "8            406.377900                  NaN  Central Electricity Authority   \n",
       "9           1487.880000                  NaN  Central Electricity Authority   \n",
       "10          3717.154000                  NaN  Central Electricity Authority   \n",
       "11           425.641100                  NaN  Central Electricity Authority   \n",
       "\n",
       "    estimated_generation_gwh  \n",
       "0                        NaN  \n",
       "1                        NaN  \n",
       "2                        NaN  \n",
       "3                        NaN  \n",
       "4                        NaN  \n",
       "5                        NaN  \n",
       "6                        NaN  \n",
       "7                        NaN  \n",
       "8                        NaN  \n",
       "9                        NaN  \n",
       "10                       NaN  \n",
       "11                       NaN  \n",
       "\n",
       "[12 rows x 27 columns]"
      ]
     },
     "execution_count": 2,
     "metadata": {},
     "output_type": "execute_result"
    }
   ],
   "source": [
    "#Load data by using pandas technic\n",
    "\n",
    "power_plant_df = pd.read_csv(\"database_IND.csv\")\n",
    "power_plant_df.head(12)"
   ]
  },
  {
   "cell_type": "markdown",
   "id": "e5de43a3",
   "metadata": {},
   "source": [
    "# Exploratory data analysis (All information about data set)"
   ]
  },
  {
   "cell_type": "code",
   "execution_count": 3,
   "id": "9efc098a",
   "metadata": {},
   "outputs": [
    {
     "name": "stdout",
     "output_type": "stream",
     "text": [
      "Shape of this data set is :\n",
      " (907, 27)\n"
     ]
    }
   ],
   "source": [
    "#shape of data\n",
    "\n",
    "print(\"Shape of this data set is :\\n\", power_plant_df.shape)"
   ]
  },
  {
   "cell_type": "markdown",
   "id": "5d463f97",
   "metadata": {},
   "source": [
    "#### Columns = 27, Rows = 907"
   ]
  },
  {
   "cell_type": "code",
   "execution_count": 5,
   "id": "92b5685d",
   "metadata": {},
   "outputs": [
    {
     "data": {
      "text/html": [
       "<div>\n",
       "<style scoped>\n",
       "    .dataframe tbody tr th:only-of-type {\n",
       "        vertical-align: middle;\n",
       "    }\n",
       "\n",
       "    .dataframe tbody tr th {\n",
       "        vertical-align: top;\n",
       "    }\n",
       "\n",
       "    .dataframe thead th {\n",
       "        text-align: right;\n",
       "    }\n",
       "</style>\n",
       "<table border=\"1\" class=\"dataframe\">\n",
       "  <thead>\n",
       "    <tr style=\"text-align: right;\">\n",
       "      <th></th>\n",
       "      <th>capacity_mw</th>\n",
       "      <th>latitude</th>\n",
       "      <th>longitude</th>\n",
       "      <th>other_fuel3</th>\n",
       "      <th>commissioning_year</th>\n",
       "      <th>wepp_id</th>\n",
       "      <th>year_of_capacity_data</th>\n",
       "      <th>generation_gwh_2013</th>\n",
       "      <th>generation_gwh_2014</th>\n",
       "      <th>generation_gwh_2015</th>\n",
       "      <th>generation_gwh_2016</th>\n",
       "      <th>generation_gwh_2017</th>\n",
       "      <th>generation_gwh_2018</th>\n",
       "      <th>generation_gwh_2019</th>\n",
       "      <th>estimated_generation_gwh</th>\n",
       "    </tr>\n",
       "  </thead>\n",
       "  <tbody>\n",
       "    <tr>\n",
       "      <th>count</th>\n",
       "      <td>907.000000</td>\n",
       "      <td>861.000000</td>\n",
       "      <td>861.000000</td>\n",
       "      <td>0.0</td>\n",
       "      <td>527.000000</td>\n",
       "      <td>0.0</td>\n",
       "      <td>519.0</td>\n",
       "      <td>0.0</td>\n",
       "      <td>398.000000</td>\n",
       "      <td>422.000000</td>\n",
       "      <td>434.000000</td>\n",
       "      <td>440.000000</td>\n",
       "      <td>448.000000</td>\n",
       "      <td>0.0</td>\n",
       "      <td>0.0</td>\n",
       "    </tr>\n",
       "    <tr>\n",
       "      <th>mean</th>\n",
       "      <td>326.223755</td>\n",
       "      <td>21.197918</td>\n",
       "      <td>77.464907</td>\n",
       "      <td>NaN</td>\n",
       "      <td>1997.091082</td>\n",
       "      <td>NaN</td>\n",
       "      <td>2019.0</td>\n",
       "      <td>NaN</td>\n",
       "      <td>2431.823590</td>\n",
       "      <td>2428.226946</td>\n",
       "      <td>2467.936859</td>\n",
       "      <td>2547.759305</td>\n",
       "      <td>2600.804099</td>\n",
       "      <td>NaN</td>\n",
       "      <td>NaN</td>\n",
       "    </tr>\n",
       "    <tr>\n",
       "      <th>std</th>\n",
       "      <td>590.085456</td>\n",
       "      <td>6.239612</td>\n",
       "      <td>4.939316</td>\n",
       "      <td>NaN</td>\n",
       "      <td>17.082868</td>\n",
       "      <td>NaN</td>\n",
       "      <td>0.0</td>\n",
       "      <td>NaN</td>\n",
       "      <td>4026.440035</td>\n",
       "      <td>4194.596959</td>\n",
       "      <td>4162.884308</td>\n",
       "      <td>4196.991169</td>\n",
       "      <td>4314.880456</td>\n",
       "      <td>NaN</td>\n",
       "      <td>NaN</td>\n",
       "    </tr>\n",
       "    <tr>\n",
       "      <th>min</th>\n",
       "      <td>0.000000</td>\n",
       "      <td>8.168900</td>\n",
       "      <td>68.644700</td>\n",
       "      <td>NaN</td>\n",
       "      <td>1927.000000</td>\n",
       "      <td>NaN</td>\n",
       "      <td>2019.0</td>\n",
       "      <td>NaN</td>\n",
       "      <td>0.000000</td>\n",
       "      <td>0.000000</td>\n",
       "      <td>0.000000</td>\n",
       "      <td>0.000000</td>\n",
       "      <td>0.000000</td>\n",
       "      <td>NaN</td>\n",
       "      <td>NaN</td>\n",
       "    </tr>\n",
       "    <tr>\n",
       "      <th>25%</th>\n",
       "      <td>16.725000</td>\n",
       "      <td>16.773900</td>\n",
       "      <td>74.256200</td>\n",
       "      <td>NaN</td>\n",
       "      <td>1988.000000</td>\n",
       "      <td>NaN</td>\n",
       "      <td>2019.0</td>\n",
       "      <td>NaN</td>\n",
       "      <td>223.557672</td>\n",
       "      <td>176.381063</td>\n",
       "      <td>188.285252</td>\n",
       "      <td>177.874930</td>\n",
       "      <td>193.378250</td>\n",
       "      <td>NaN</td>\n",
       "      <td>NaN</td>\n",
       "    </tr>\n",
       "    <tr>\n",
       "      <th>50%</th>\n",
       "      <td>59.200000</td>\n",
       "      <td>21.780000</td>\n",
       "      <td>76.719500</td>\n",
       "      <td>NaN</td>\n",
       "      <td>2001.000000</td>\n",
       "      <td>NaN</td>\n",
       "      <td>2019.0</td>\n",
       "      <td>NaN</td>\n",
       "      <td>801.123775</td>\n",
       "      <td>711.181225</td>\n",
       "      <td>737.205450</td>\n",
       "      <td>817.977250</td>\n",
       "      <td>751.644375</td>\n",
       "      <td>NaN</td>\n",
       "      <td>NaN</td>\n",
       "    </tr>\n",
       "    <tr>\n",
       "      <th>75%</th>\n",
       "      <td>385.250000</td>\n",
       "      <td>25.512400</td>\n",
       "      <td>79.440800</td>\n",
       "      <td>NaN</td>\n",
       "      <td>2012.000000</td>\n",
       "      <td>NaN</td>\n",
       "      <td>2019.0</td>\n",
       "      <td>NaN</td>\n",
       "      <td>3035.306250</td>\n",
       "      <td>3084.121250</td>\n",
       "      <td>3282.861313</td>\n",
       "      <td>3275.690475</td>\n",
       "      <td>3143.535900</td>\n",
       "      <td>NaN</td>\n",
       "      <td>NaN</td>\n",
       "    </tr>\n",
       "    <tr>\n",
       "      <th>max</th>\n",
       "      <td>4760.000000</td>\n",
       "      <td>34.649000</td>\n",
       "      <td>95.408000</td>\n",
       "      <td>NaN</td>\n",
       "      <td>2018.000000</td>\n",
       "      <td>NaN</td>\n",
       "      <td>2019.0</td>\n",
       "      <td>NaN</td>\n",
       "      <td>28127.000000</td>\n",
       "      <td>30539.000000</td>\n",
       "      <td>30015.000000</td>\n",
       "      <td>35116.000000</td>\n",
       "      <td>35136.000000</td>\n",
       "      <td>NaN</td>\n",
       "      <td>NaN</td>\n",
       "    </tr>\n",
       "  </tbody>\n",
       "</table>\n",
       "</div>"
      ],
      "text/plain": [
       "       capacity_mw    latitude   longitude  other_fuel3  commissioning_year  \\\n",
       "count   907.000000  861.000000  861.000000          0.0          527.000000   \n",
       "mean    326.223755   21.197918   77.464907          NaN         1997.091082   \n",
       "std     590.085456    6.239612    4.939316          NaN           17.082868   \n",
       "min       0.000000    8.168900   68.644700          NaN         1927.000000   \n",
       "25%      16.725000   16.773900   74.256200          NaN         1988.000000   \n",
       "50%      59.200000   21.780000   76.719500          NaN         2001.000000   \n",
       "75%     385.250000   25.512400   79.440800          NaN         2012.000000   \n",
       "max    4760.000000   34.649000   95.408000          NaN         2018.000000   \n",
       "\n",
       "       wepp_id  year_of_capacity_data  generation_gwh_2013  \\\n",
       "count      0.0                  519.0                  0.0   \n",
       "mean       NaN                 2019.0                  NaN   \n",
       "std        NaN                    0.0                  NaN   \n",
       "min        NaN                 2019.0                  NaN   \n",
       "25%        NaN                 2019.0                  NaN   \n",
       "50%        NaN                 2019.0                  NaN   \n",
       "75%        NaN                 2019.0                  NaN   \n",
       "max        NaN                 2019.0                  NaN   \n",
       "\n",
       "       generation_gwh_2014  generation_gwh_2015  generation_gwh_2016  \\\n",
       "count           398.000000           422.000000           434.000000   \n",
       "mean           2431.823590          2428.226946          2467.936859   \n",
       "std            4026.440035          4194.596959          4162.884308   \n",
       "min               0.000000             0.000000             0.000000   \n",
       "25%             223.557672           176.381063           188.285252   \n",
       "50%             801.123775           711.181225           737.205450   \n",
       "75%            3035.306250          3084.121250          3282.861313   \n",
       "max           28127.000000         30539.000000         30015.000000   \n",
       "\n",
       "       generation_gwh_2017  generation_gwh_2018  generation_gwh_2019  \\\n",
       "count           440.000000           448.000000                  0.0   \n",
       "mean           2547.759305          2600.804099                  NaN   \n",
       "std            4196.991169          4314.880456                  NaN   \n",
       "min               0.000000             0.000000                  NaN   \n",
       "25%             177.874930           193.378250                  NaN   \n",
       "50%             817.977250           751.644375                  NaN   \n",
       "75%            3275.690475          3143.535900                  NaN   \n",
       "max           35116.000000         35136.000000                  NaN   \n",
       "\n",
       "       estimated_generation_gwh  \n",
       "count                       0.0  \n",
       "mean                        NaN  \n",
       "std                         NaN  \n",
       "min                         NaN  \n",
       "25%                         NaN  \n",
       "50%                         NaN  \n",
       "75%                         NaN  \n",
       "max                         NaN  "
      ]
     },
     "execution_count": 5,
     "metadata": {},
     "output_type": "execute_result"
    }
   ],
   "source": [
    "#Discribe data\n",
    "\n",
    "\n",
    "power_plant_df.describe()"
   ]
  },
  {
   "cell_type": "markdown",
   "id": "930aa660",
   "metadata": {},
   "source": [
    "This data set has null values. before drop that, chack all about columns."
   ]
  },
  {
   "cell_type": "code",
   "execution_count": 7,
   "id": "99e1c7a3",
   "metadata": {},
   "outputs": [
    {
     "name": "stdout",
     "output_type": "stream",
     "text": [
      "<class 'pandas.core.frame.DataFrame'>\n",
      "RangeIndex: 907 entries, 0 to 906\n",
      "Data columns (total 27 columns):\n",
      " #   Column                    Non-Null Count  Dtype  \n",
      "---  ------                    --------------  -----  \n",
      " 0   country                   907 non-null    object \n",
      " 1   country_long              907 non-null    object \n",
      " 2   name                      907 non-null    object \n",
      " 3   gppd_idnr                 907 non-null    object \n",
      " 4   capacity_mw               907 non-null    float64\n",
      " 5   latitude                  861 non-null    float64\n",
      " 6   longitude                 861 non-null    float64\n",
      " 7   primary_fuel              907 non-null    object \n",
      " 8   other_fuel1               198 non-null    object \n",
      " 9   other_fuel2               1 non-null      object \n",
      " 10  other_fuel3               0 non-null      float64\n",
      " 11  commissioning_year        527 non-null    float64\n",
      " 12  owner                     342 non-null    object \n",
      " 13  source                    907 non-null    object \n",
      " 14  url                       907 non-null    object \n",
      " 15  geolocation_source        888 non-null    object \n",
      " 16  wepp_id                   0 non-null      float64\n",
      " 17  year_of_capacity_data     519 non-null    float64\n",
      " 18  generation_gwh_2013       0 non-null      float64\n",
      " 19  generation_gwh_2014       398 non-null    float64\n",
      " 20  generation_gwh_2015       422 non-null    float64\n",
      " 21  generation_gwh_2016       434 non-null    float64\n",
      " 22  generation_gwh_2017       440 non-null    float64\n",
      " 23  generation_gwh_2018       448 non-null    float64\n",
      " 24  generation_gwh_2019       0 non-null      float64\n",
      " 25  generation_data_source    449 non-null    object \n",
      " 26  estimated_generation_gwh  0 non-null      float64\n",
      "dtypes: float64(15), object(12)\n",
      "memory usage: 191.4+ KB\n"
     ]
    }
   ],
   "source": [
    "#Information about data\n",
    "\n",
    "power_plant_df.info()"
   ]
  },
  {
   "cell_type": "code",
   "execution_count": 8,
   "id": "24f2d623",
   "metadata": {},
   "outputs": [
    {
     "data": {
      "image/png": "[encoded data removed]",
      "text/plain": [
       "<Figure size 720x360 with 1 Axes>"
      ]
     },
     "metadata": {
      "needs_background": "light"
     },
     "output_type": "display_data"
    },
    {
     "name": "stdout",
     "output_type": "stream",
     "text": [
      "Values of country column is :\n",
      " IND    907\n",
      "Name: country, dtype: int64\n"
     ]
    }
   ],
   "source": [
    "#country column\n",
    "plt.figure(figsize=(10,5))\n",
    "sns.countplot(power_plant_df['country'])\n",
    "plt.show()\n",
    "\n",
    "\n",
    "#value colunt\n",
    "print(\"Values of country column is :\\n\",power_plant_df['country'].value_counts())"
   ]
  },
  {
   "cell_type": "code",
   "execution_count": 9,
   "id": "37d17f9c",
   "metadata": {},
   "outputs": [
    {
     "data": {
      "image/png": "[encoded data removed]",
      "text/plain": [
       "<Figure size 720x360 with 1 Axes>"
      ]
     },
     "metadata": {
      "needs_background": "light"
     },
     "output_type": "display_data"
    },
    {
     "name": "stdout",
     "output_type": "stream",
     "text": [
      "Values of country_long column is :\n",
      " India    907\n",
      "Name: country_long, dtype: int64\n"
     ]
    }
   ],
   "source": [
    "#country_long column\n",
    "plt.figure(figsize=(10,5))\n",
    "sns.countplot(power_plant_df['country_long'])\n",
    "plt.show()\n",
    "\n",
    "\n",
    "#value colunt\n",
    "print(\"Values of country_long column is :\\n\",power_plant_df['country_long'].value_counts())"
   ]
  },
  {
   "cell_type": "markdown",
   "id": "0d608abd",
   "metadata": {},
   "source": [
    "=> Both country and country_long have same values. so drop both columns because these tow is not importent for modal building."
   ]
  },
  {
   "cell_type": "code",
   "execution_count": 10,
   "id": "ed652687",
   "metadata": {},
   "outputs": [
    {
     "name": "stdout",
     "output_type": "stream",
     "text": [
      "<class 'pandas.core.frame.DataFrame'>\n",
      "RangeIndex: 907 entries, 0 to 906\n",
      "Data columns (total 25 columns):\n",
      " #   Column                    Non-Null Count  Dtype  \n",
      "---  ------                    --------------  -----  \n",
      " 0   name                      907 non-null    object \n",
      " 1   gppd_idnr                 907 non-null    object \n",
      " 2   capacity_mw               907 non-null    float64\n",
      " 3   latitude                  861 non-null    float64\n",
      " 4   longitude                 861 non-null    float64\n",
      " 5   primary_fuel              907 non-null    object \n",
      " 6   other_fuel1               198 non-null    object \n",
      " 7   other_fuel2               1 non-null      object \n",
      " 8   other_fuel3               0 non-null      float64\n",
      " 9   commissioning_year        527 non-null    float64\n",
      " 10  owner                     342 non-null    object \n",
      " 11  source                    907 non-null    object \n",
      " 12  url                       907 non-null    object \n",
      " 13  geolocation_source        888 non-null    object \n",
      " 14  wepp_id                   0 non-null      float64\n",
      " 15  year_of_capacity_data     519 non-null    float64\n",
      " 16  generation_gwh_2013       0 non-null      float64\n",
      " 17  generation_gwh_2014       398 non-null    float64\n",
      " 18  generation_gwh_2015       422 non-null    float64\n",
      " 19  generation_gwh_2016       434 non-null    float64\n",
      " 20  generation_gwh_2017       440 non-null    float64\n",
      " 21  generation_gwh_2018       448 non-null    float64\n",
      " 22  generation_gwh_2019       0 non-null      float64\n",
      " 23  generation_data_source    449 non-null    object \n",
      " 24  estimated_generation_gwh  0 non-null      float64\n",
      "dtypes: float64(15), object(10)\n",
      "memory usage: 177.3+ KB\n"
     ]
    }
   ],
   "source": [
    "power_plant_df = power_plant_df.drop(columns=['country','country_long'])\n",
    "power_plant_df.info()"
   ]
  },
  {
   "cell_type": "code",
   "execution_count": 11,
   "id": "5cba49c9",
   "metadata": {},
   "outputs": [
    {
     "name": "stdout",
     "output_type": "stream",
     "text": [
      "Values of name column is :\n",
      " ACME Solar Tower           1\n",
      "RAICHUR                    1\n",
      "PRYAGRAJ (BARA) TPP        1\n",
      "PULICHINTALA               1\n",
      "PUNE MILL                  1\n",
      "                          ..\n",
      "KADANA                     1\n",
      "KADRA                      1\n",
      "KAHALGAON                  1\n",
      "KAIGA                      1\n",
      "iEnergy Theni Wind Farm    1\n",
      "Name: name, Length: 907, dtype: int64\n"
     ]
    }
   ],
   "source": [
    "\n",
    "#value colunt of name column\n",
    "print(\"Values of name column is :\\n\",power_plant_df['name'].value_counts())"
   ]
  },
  {
   "cell_type": "markdown",
   "id": "294021c9",
   "metadata": {},
   "source": [
    "This column is also not importent so have to drop this column."
   ]
  },
  {
   "cell_type": "code",
   "execution_count": 12,
   "id": "969cc9cd",
   "metadata": {},
   "outputs": [
    {
     "name": "stdout",
     "output_type": "stream",
     "text": [
      "<class 'pandas.core.frame.DataFrame'>\n",
      "RangeIndex: 907 entries, 0 to 906\n",
      "Data columns (total 24 columns):\n",
      " #   Column                    Non-Null Count  Dtype  \n",
      "---  ------                    --------------  -----  \n",
      " 0   gppd_idnr                 907 non-null    object \n",
      " 1   capacity_mw               907 non-null    float64\n",
      " 2   latitude                  861 non-null    float64\n",
      " 3   longitude                 861 non-null    float64\n",
      " 4   primary_fuel              907 non-null    object \n",
      " 5   other_fuel1               198 non-null    object \n",
      " 6   other_fuel2               1 non-null      object \n",
      " 7   other_fuel3               0 non-null      float64\n",
      " 8   commissioning_year        527 non-null    float64\n",
      " 9   owner                     342 non-null    object \n",
      " 10  source                    907 non-null    object \n",
      " 11  url                       907 non-null    object \n",
      " 12  geolocation_source        888 non-null    object \n",
      " 13  wepp_id                   0 non-null      float64\n",
      " 14  year_of_capacity_data     519 non-null    float64\n",
      " 15  generation_gwh_2013       0 non-null      float64\n",
      " 16  generation_gwh_2014       398 non-null    float64\n",
      " 17  generation_gwh_2015       422 non-null    float64\n",
      " 18  generation_gwh_2016       434 non-null    float64\n",
      " 19  generation_gwh_2017       440 non-null    float64\n",
      " 20  generation_gwh_2018       448 non-null    float64\n",
      " 21  generation_gwh_2019       0 non-null      float64\n",
      " 22  generation_data_source    449 non-null    object \n",
      " 23  estimated_generation_gwh  0 non-null      float64\n",
      "dtypes: float64(15), object(9)\n",
      "memory usage: 170.2+ KB\n"
     ]
    }
   ],
   "source": [
    "power_plant_df = power_plant_df.drop(columns=['name'])\n",
    "power_plant_df.info()"
   ]
  },
  {
   "cell_type": "code",
   "execution_count": 13,
   "id": "166f920b",
   "metadata": {},
   "outputs": [
    {
     "name": "stdout",
     "output_type": "stream",
     "text": [
      "Values of gppd_idnr column is :\n",
      " WRI1020239    1\n",
      "IND0000356    1\n",
      "IND0000346    1\n",
      "IND0000523    1\n",
      "WRI1019978    1\n",
      "             ..\n",
      "IND0000167    1\n",
      "IND0000168    1\n",
      "IND0000169    1\n",
      "IND0000170    1\n",
      "WRI1026761    1\n",
      "Name: gppd_idnr, Length: 907, dtype: int64\n"
     ]
    }
   ],
   "source": [
    "#value count of gppd_indr column\n",
    "\n",
    "print(\"Values of gppd_idnr column is :\\n\",power_plant_df['gppd_idnr'].value_counts())"
   ]
  },
  {
   "cell_type": "markdown",
   "id": "22d4a6cb",
   "metadata": {},
   "source": [
    "=> this column has objective data type. so drop this column."
   ]
  },
  {
   "cell_type": "code",
   "execution_count": 14,
   "id": "c5fdd0f8",
   "metadata": {},
   "outputs": [
    {
     "name": "stdout",
     "output_type": "stream",
     "text": [
      "<class 'pandas.core.frame.DataFrame'>\n",
      "RangeIndex: 907 entries, 0 to 906\n",
      "Data columns (total 23 columns):\n",
      " #   Column                    Non-Null Count  Dtype  \n",
      "---  ------                    --------------  -----  \n",
      " 0   capacity_mw               907 non-null    float64\n",
      " 1   latitude                  861 non-null    float64\n",
      " 2   longitude                 861 non-null    float64\n",
      " 3   primary_fuel              907 non-null    object \n",
      " 4   other_fuel1               198 non-null    object \n",
      " 5   other_fuel2               1 non-null      object \n",
      " 6   other_fuel3               0 non-null      float64\n",
      " 7   commissioning_year        527 non-null    float64\n",
      " 8   owner                     342 non-null    object \n",
      " 9   source                    907 non-null    object \n",
      " 10  url                       907 non-null    object \n",
      " 11  geolocation_source        888 non-null    object \n",
      " 12  wepp_id                   0 non-null      float64\n",
      " 13  year_of_capacity_data     519 non-null    float64\n",
      " 14  generation_gwh_2013       0 non-null      float64\n",
      " 15  generation_gwh_2014       398 non-null    float64\n",
      " 16  generation_gwh_2015       422 non-null    float64\n",
      " 17  generation_gwh_2016       434 non-null    float64\n",
      " 18  generation_gwh_2017       440 non-null    float64\n",
      " 19  generation_gwh_2018       448 non-null    float64\n",
      " 20  generation_gwh_2019       0 non-null      float64\n",
      " 21  generation_data_source    449 non-null    object \n",
      " 22  estimated_generation_gwh  0 non-null      float64\n",
      "dtypes: float64(15), object(8)\n",
      "memory usage: 163.1+ KB\n"
     ]
    }
   ],
   "source": [
    "power_plant_df = power_plant_df.drop(columns=['gppd_idnr'])\n",
    "power_plant_df.info()"
   ]
  },
  {
   "cell_type": "markdown",
   "id": "c152287f",
   "metadata": {},
   "source": [
    "Other_fuel1, Other_fuel2 and other_fuel3 is not importent because these features have null values. so drop it"
   ]
  },
  {
   "cell_type": "code",
   "execution_count": 15,
   "id": "56de52b1",
   "metadata": {},
   "outputs": [
    {
     "name": "stdout",
     "output_type": "stream",
     "text": [
      "<class 'pandas.core.frame.DataFrame'>\n",
      "RangeIndex: 907 entries, 0 to 906\n",
      "Data columns (total 20 columns):\n",
      " #   Column                    Non-Null Count  Dtype  \n",
      "---  ------                    --------------  -----  \n",
      " 0   capacity_mw               907 non-null    float64\n",
      " 1   latitude                  861 non-null    float64\n",
      " 2   longitude                 861 non-null    float64\n",
      " 3   primary_fuel              907 non-null    object \n",
      " 4   commissioning_year        527 non-null    float64\n",
      " 5   owner                     342 non-null    object \n",
      " 6   source                    907 non-null    object \n",
      " 7   url                       907 non-null    object \n",
      " 8   geolocation_source        888 non-null    object \n",
      " 9   wepp_id                   0 non-null      float64\n",
      " 10  year_of_capacity_data     519 non-null    float64\n",
      " 11  generation_gwh_2013       0 non-null      float64\n",
      " 12  generation_gwh_2014       398 non-null    float64\n",
      " 13  generation_gwh_2015       422 non-null    float64\n",
      " 14  generation_gwh_2016       434 non-null    float64\n",
      " 15  generation_gwh_2017       440 non-null    float64\n",
      " 16  generation_gwh_2018       448 non-null    float64\n",
      " 17  generation_gwh_2019       0 non-null      float64\n",
      " 18  generation_data_source    449 non-null    object \n",
      " 19  estimated_generation_gwh  0 non-null      float64\n",
      "dtypes: float64(14), object(6)\n",
      "memory usage: 141.8+ KB\n"
     ]
    }
   ],
   "source": [
    "power_plant_df = power_plant_df.drop(columns=['other_fuel1','other_fuel2','other_fuel3'])\n",
    "power_plant_df.info()"
   ]
  },
  {
   "cell_type": "code",
   "execution_count": 16,
   "id": "9de3edbf",
   "metadata": {},
   "outputs": [
    {
     "data": {
      "image/png": "[encoded data removed]",
      "text/plain": [
       "<Figure size 1080x720 with 1 Axes>"
      ]
     },
     "metadata": {
      "needs_background": "light"
     },
     "output_type": "display_data"
    },
    {
     "data": {
      "text/plain": [
       "2015.0    28\n",
       "2013.0    25\n",
       "2012.0    23\n",
       "2016.0    19\n",
       "2010.0    18\n",
       "          ..\n",
       "1946.0     1\n",
       "1956.0     1\n",
       "1937.0     1\n",
       "1949.0     1\n",
       "1953.0     1\n",
       "Name: commissioning_year, Length: 73, dtype: int64"
      ]
     },
     "execution_count": 16,
     "metadata": {},
     "output_type": "execute_result"
    }
   ],
   "source": [
    "#commissioning_year\n",
    "plt.figure(figsize=(15,10))\n",
    "sns.countplot(power_plant_df['commissioning_year'])\n",
    "plt.show()\n",
    "\n",
    "\n",
    "\n",
    "\n",
    "power_plant_df['commissioning_year'].value_counts()"
   ]
  },
  {
   "cell_type": "markdown",
   "id": "33c48e66",
   "metadata": {},
   "source": [
    "In my point of view commissiong_year also not importent feature for modal building so drop it."
   ]
  },
  {
   "cell_type": "code",
   "execution_count": 17,
   "id": "5a238bab",
   "metadata": {},
   "outputs": [
    {
     "name": "stdout",
     "output_type": "stream",
     "text": [
      "<class 'pandas.core.frame.DataFrame'>\n",
      "RangeIndex: 907 entries, 0 to 906\n",
      "Data columns (total 19 columns):\n",
      " #   Column                    Non-Null Count  Dtype  \n",
      "---  ------                    --------------  -----  \n",
      " 0   capacity_mw               907 non-null    float64\n",
      " 1   latitude                  861 non-null    float64\n",
      " 2   longitude                 861 non-null    float64\n",
      " 3   primary_fuel              907 non-null    object \n",
      " 4   owner                     342 non-null    object \n",
      " 5   source                    907 non-null    object \n",
      " 6   url                       907 non-null    object \n",
      " 7   geolocation_source        888 non-null    object \n",
      " 8   wepp_id                   0 non-null      float64\n",
      " 9   year_of_capacity_data     519 non-null    float64\n",
      " 10  generation_gwh_2013       0 non-null      float64\n",
      " 11  generation_gwh_2014       398 non-null    float64\n",
      " 12  generation_gwh_2015       422 non-null    float64\n",
      " 13  generation_gwh_2016       434 non-null    float64\n",
      " 14  generation_gwh_2017       440 non-null    float64\n",
      " 15  generation_gwh_2018       448 non-null    float64\n",
      " 16  generation_gwh_2019       0 non-null      float64\n",
      " 17  generation_data_source    449 non-null    object \n",
      " 18  estimated_generation_gwh  0 non-null      float64\n",
      "dtypes: float64(13), object(6)\n",
      "memory usage: 134.8+ KB\n"
     ]
    }
   ],
   "source": [
    "power_plant_df = power_plant_df.drop(columns=['commissioning_year'])\n",
    "power_plant_df.info()"
   ]
  },
  {
   "cell_type": "markdown",
   "id": "a7173fbf",
   "metadata": {},
   "source": [
    "some of columns is not importent of modal building so have to drop them."
   ]
  },
  {
   "cell_type": "code",
   "execution_count": 18,
   "id": "cfe0b259",
   "metadata": {},
   "outputs": [
    {
     "name": "stdout",
     "output_type": "stream",
     "text": [
      "<class 'pandas.core.frame.DataFrame'>\n",
      "RangeIndex: 907 entries, 0 to 906\n",
      "Data columns (total 15 columns):\n",
      " #   Column                    Non-Null Count  Dtype  \n",
      "---  ------                    --------------  -----  \n",
      " 0   capacity_mw               907 non-null    float64\n",
      " 1   latitude                  861 non-null    float64\n",
      " 2   longitude                 861 non-null    float64\n",
      " 3   primary_fuel              907 non-null    object \n",
      " 4   wepp_id                   0 non-null      float64\n",
      " 5   year_of_capacity_data     519 non-null    float64\n",
      " 6   generation_gwh_2013       0 non-null      float64\n",
      " 7   generation_gwh_2014       398 non-null    float64\n",
      " 8   generation_gwh_2015       422 non-null    float64\n",
      " 9   generation_gwh_2016       434 non-null    float64\n",
      " 10  generation_gwh_2017       440 non-null    float64\n",
      " 11  generation_gwh_2018       448 non-null    float64\n",
      " 12  generation_gwh_2019       0 non-null      float64\n",
      " 13  generation_data_source    449 non-null    object \n",
      " 14  estimated_generation_gwh  0 non-null      float64\n",
      "dtypes: float64(13), object(2)\n",
      "memory usage: 106.4+ KB\n"
     ]
    }
   ],
   "source": [
    "power_plant_df =  power_plant_df.drop(columns=['owner','source','url','geolocation_source'])\n",
    "power_plant_df.info()"
   ]
  },
  {
   "cell_type": "code",
   "execution_count": 19,
   "id": "a84e37ed",
   "metadata": {},
   "outputs": [
    {
     "name": "stdout",
     "output_type": "stream",
     "text": [
      "<class 'pandas.core.frame.DataFrame'>\n",
      "RangeIndex: 907 entries, 0 to 906\n",
      "Data columns (total 9 columns):\n",
      " #   Column               Non-Null Count  Dtype  \n",
      "---  ------               --------------  -----  \n",
      " 0   capacity_mw          907 non-null    float64\n",
      " 1   latitude             861 non-null    float64\n",
      " 2   longitude            861 non-null    float64\n",
      " 3   primary_fuel         907 non-null    object \n",
      " 4   generation_gwh_2014  398 non-null    float64\n",
      " 5   generation_gwh_2015  422 non-null    float64\n",
      " 6   generation_gwh_2016  434 non-null    float64\n",
      " 7   generation_gwh_2017  440 non-null    float64\n",
      " 8   generation_gwh_2018  448 non-null    float64\n",
      "dtypes: float64(8), object(1)\n",
      "memory usage: 63.9+ KB\n"
     ]
    }
   ],
   "source": [
    "power_plant_df =  power_plant_df.drop(columns=['wepp_id','year_of_capacity_data','generation_gwh_2013','generation_gwh_2019','generation_data_source','estimated_generation_gwh'])\n",
    "power_plant_df.info()"
   ]
  },
  {
   "cell_type": "code",
   "execution_count": 20,
   "id": "4562b717",
   "metadata": {},
   "outputs": [
    {
     "data": {
      "image/png": "[encoded data removed]",
      "text/plain": [
       "<Figure size 1080x720 with 1 Axes>"
      ]
     },
     "metadata": {
      "needs_background": "light"
     },
     "output_type": "display_data"
    },
    {
     "data": {
      "text/plain": [
       "Coal       258\n",
       "Hydro      251\n",
       "Solar      127\n",
       "Wind       123\n",
       "Gas         69\n",
       "Biomass     50\n",
       "Oil         20\n",
       "Nuclear      9\n",
       "Name: primary_fuel, dtype: int64"
      ]
     },
     "execution_count": 20,
     "metadata": {},
     "output_type": "execute_result"
    }
   ],
   "source": [
    "#commissioning_year\n",
    "plt.figure(figsize=(15,10))\n",
    "sns.countplot(power_plant_df['primary_fuel'])\n",
    "plt.show()\n",
    "\n",
    "\n",
    "\n",
    "\n",
    "power_plant_df['primary_fuel'].value_counts()"
   ]
  },
  {
   "cell_type": "markdown",
   "id": "841c2c13",
   "metadata": {},
   "source": [
    "Now chack null values."
   ]
  },
  {
   "cell_type": "code",
   "execution_count": 21,
   "id": "d0d0d778",
   "metadata": {},
   "outputs": [
    {
     "name": "stdout",
     "output_type": "stream",
     "text": [
      "Null values present in this data set :\n",
      " capacity_mw              0\n",
      "latitude                46\n",
      "longitude               46\n",
      "primary_fuel             0\n",
      "generation_gwh_2014    509\n",
      "generation_gwh_2015    485\n",
      "generation_gwh_2016    473\n",
      "generation_gwh_2017    467\n",
      "generation_gwh_2018    459\n",
      "dtype: int64\n"
     ]
    }
   ],
   "source": [
    "print(\"Null values present in this data set :\\n\",power_plant_df.isnull().sum())"
   ]
  },
  {
   "cell_type": "code",
   "execution_count": 22,
   "id": "33054e1c",
   "metadata": {},
   "outputs": [
    {
     "data": {
      "text/html": [
       "<div>\n",
       "<style scoped>\n",
       "    .dataframe tbody tr th:only-of-type {\n",
       "        vertical-align: middle;\n",
       "    }\n",
       "\n",
       "    .dataframe tbody tr th {\n",
       "        vertical-align: top;\n",
       "    }\n",
       "\n",
       "    .dataframe thead th {\n",
       "        text-align: right;\n",
       "    }\n",
       "</style>\n",
       "<table border=\"1\" class=\"dataframe\">\n",
       "  <thead>\n",
       "    <tr style=\"text-align: right;\">\n",
       "      <th></th>\n",
       "      <th>capacity_mw</th>\n",
       "      <th>latitude</th>\n",
       "      <th>longitude</th>\n",
       "      <th>generation_gwh_2014</th>\n",
       "      <th>generation_gwh_2015</th>\n",
       "      <th>generation_gwh_2016</th>\n",
       "      <th>generation_gwh_2017</th>\n",
       "      <th>generation_gwh_2018</th>\n",
       "    </tr>\n",
       "  </thead>\n",
       "  <tbody>\n",
       "    <tr>\n",
       "      <th>count</th>\n",
       "      <td>907.000000</td>\n",
       "      <td>861.000000</td>\n",
       "      <td>861.000000</td>\n",
       "      <td>398.000000</td>\n",
       "      <td>422.000000</td>\n",
       "      <td>434.000000</td>\n",
       "      <td>440.000000</td>\n",
       "      <td>448.000000</td>\n",
       "    </tr>\n",
       "    <tr>\n",
       "      <th>mean</th>\n",
       "      <td>326.223755</td>\n",
       "      <td>21.197918</td>\n",
       "      <td>77.464907</td>\n",
       "      <td>2431.823590</td>\n",
       "      <td>2428.226946</td>\n",
       "      <td>2467.936859</td>\n",
       "      <td>2547.759305</td>\n",
       "      <td>2600.804099</td>\n",
       "    </tr>\n",
       "    <tr>\n",
       "      <th>std</th>\n",
       "      <td>590.085456</td>\n",
       "      <td>6.239612</td>\n",
       "      <td>4.939316</td>\n",
       "      <td>4026.440035</td>\n",
       "      <td>4194.596959</td>\n",
       "      <td>4162.884308</td>\n",
       "      <td>4196.991169</td>\n",
       "      <td>4314.880456</td>\n",
       "    </tr>\n",
       "    <tr>\n",
       "      <th>min</th>\n",
       "      <td>0.000000</td>\n",
       "      <td>8.168900</td>\n",
       "      <td>68.644700</td>\n",
       "      <td>0.000000</td>\n",
       "      <td>0.000000</td>\n",
       "      <td>0.000000</td>\n",
       "      <td>0.000000</td>\n",
       "      <td>0.000000</td>\n",
       "    </tr>\n",
       "    <tr>\n",
       "      <th>25%</th>\n",
       "      <td>16.725000</td>\n",
       "      <td>16.773900</td>\n",
       "      <td>74.256200</td>\n",
       "      <td>223.557672</td>\n",
       "      <td>176.381063</td>\n",
       "      <td>188.285252</td>\n",
       "      <td>177.874930</td>\n",
       "      <td>193.378250</td>\n",
       "    </tr>\n",
       "    <tr>\n",
       "      <th>50%</th>\n",
       "      <td>59.200000</td>\n",
       "      <td>21.780000</td>\n",
       "      <td>76.719500</td>\n",
       "      <td>801.123775</td>\n",
       "      <td>711.181225</td>\n",
       "      <td>737.205450</td>\n",
       "      <td>817.977250</td>\n",
       "      <td>751.644375</td>\n",
       "    </tr>\n",
       "    <tr>\n",
       "      <th>75%</th>\n",
       "      <td>385.250000</td>\n",
       "      <td>25.512400</td>\n",
       "      <td>79.440800</td>\n",
       "      <td>3035.306250</td>\n",
       "      <td>3084.121250</td>\n",
       "      <td>3282.861313</td>\n",
       "      <td>3275.690475</td>\n",
       "      <td>3143.535900</td>\n",
       "    </tr>\n",
       "    <tr>\n",
       "      <th>max</th>\n",
       "      <td>4760.000000</td>\n",
       "      <td>34.649000</td>\n",
       "      <td>95.408000</td>\n",
       "      <td>28127.000000</td>\n",
       "      <td>30539.000000</td>\n",
       "      <td>30015.000000</td>\n",
       "      <td>35116.000000</td>\n",
       "      <td>35136.000000</td>\n",
       "    </tr>\n",
       "  </tbody>\n",
       "</table>\n",
       "</div>"
      ],
      "text/plain": [
       "       capacity_mw    latitude   longitude  generation_gwh_2014  \\\n",
       "count   907.000000  861.000000  861.000000           398.000000   \n",
       "mean    326.223755   21.197918   77.464907          2431.823590   \n",
       "std     590.085456    6.239612    4.939316          4026.440035   \n",
       "min       0.000000    8.168900   68.644700             0.000000   \n",
       "25%      16.725000   16.773900   74.256200           223.557672   \n",
       "50%      59.200000   21.780000   76.719500           801.123775   \n",
       "75%     385.250000   25.512400   79.440800          3035.306250   \n",
       "max    4760.000000   34.649000   95.408000         28127.000000   \n",
       "\n",
       "       generation_gwh_2015  generation_gwh_2016  generation_gwh_2017  \\\n",
       "count           422.000000           434.000000           440.000000   \n",
       "mean           2428.226946          2467.936859          2547.759305   \n",
       "std            4194.596959          4162.884308          4196.991169   \n",
       "min               0.000000             0.000000             0.000000   \n",
       "25%             176.381063           188.285252           177.874930   \n",
       "50%             711.181225           737.205450           817.977250   \n",
       "75%            3084.121250          3282.861313          3275.690475   \n",
       "max           30539.000000         30015.000000         35116.000000   \n",
       "\n",
       "       generation_gwh_2018  \n",
       "count           448.000000  \n",
       "mean           2600.804099  \n",
       "std            4314.880456  \n",
       "min               0.000000  \n",
       "25%             193.378250  \n",
       "50%             751.644375  \n",
       "75%            3143.535900  \n",
       "max           35136.000000  "
      ]
     },
     "execution_count": 22,
     "metadata": {},
     "output_type": "execute_result"
    }
   ],
   "source": [
    "power_plant_df.describe()"
   ]
  },
  {
   "cell_type": "code",
   "execution_count": 23,
   "id": "3101c196",
   "metadata": {},
   "outputs": [
    {
     "data": {
      "text/html": [
       "<div>\n",
       "<style scoped>\n",
       "    .dataframe tbody tr th:only-of-type {\n",
       "        vertical-align: middle;\n",
       "    }\n",
       "\n",
       "    .dataframe tbody tr th {\n",
       "        vertical-align: top;\n",
       "    }\n",
       "\n",
       "    .dataframe thead th {\n",
       "        text-align: right;\n",
       "    }\n",
       "</style>\n",
       "<table border=\"1\" class=\"dataframe\">\n",
       "  <thead>\n",
       "    <tr style=\"text-align: right;\">\n",
       "      <th></th>\n",
       "      <th>capacity_mw</th>\n",
       "      <th>latitude</th>\n",
       "      <th>longitude</th>\n",
       "      <th>generation_gwh_2014</th>\n",
       "      <th>generation_gwh_2015</th>\n",
       "      <th>generation_gwh_2016</th>\n",
       "      <th>generation_gwh_2017</th>\n",
       "      <th>generation_gwh_2018</th>\n",
       "    </tr>\n",
       "  </thead>\n",
       "  <tbody>\n",
       "    <tr>\n",
       "      <th>count</th>\n",
       "      <td>385.000000</td>\n",
       "      <td>385.000000</td>\n",
       "      <td>385.000000</td>\n",
       "      <td>385.000000</td>\n",
       "      <td>385.000000</td>\n",
       "      <td>385.000000</td>\n",
       "      <td>385.000000</td>\n",
       "      <td>385.000000</td>\n",
       "    </tr>\n",
       "    <tr>\n",
       "      <th>mean</th>\n",
       "      <td>640.274743</td>\n",
       "      <td>21.696279</td>\n",
       "      <td>79.268877</td>\n",
       "      <td>2510.685975</td>\n",
       "      <td>2636.161828</td>\n",
       "      <td>2663.578355</td>\n",
       "      <td>2705.235164</td>\n",
       "      <td>2797.870947</td>\n",
       "    </tr>\n",
       "    <tr>\n",
       "      <th>std</th>\n",
       "      <td>743.287233</td>\n",
       "      <td>6.750157</td>\n",
       "      <td>5.107958</td>\n",
       "      <td>4070.550482</td>\n",
       "      <td>4332.263829</td>\n",
       "      <td>4341.935961</td>\n",
       "      <td>4384.682560</td>\n",
       "      <td>4539.626068</td>\n",
       "    </tr>\n",
       "    <tr>\n",
       "      <th>min</th>\n",
       "      <td>26.000000</td>\n",
       "      <td>8.169100</td>\n",
       "      <td>68.644700</td>\n",
       "      <td>0.000000</td>\n",
       "      <td>0.000000</td>\n",
       "      <td>0.000000</td>\n",
       "      <td>0.000000</td>\n",
       "      <td>0.000000</td>\n",
       "    </tr>\n",
       "    <tr>\n",
       "      <th>25%</th>\n",
       "      <td>114.750000</td>\n",
       "      <td>16.640000</td>\n",
       "      <td>76.141800</td>\n",
       "      <td>251.943950</td>\n",
       "      <td>252.501150</td>\n",
       "      <td>210.930050</td>\n",
       "      <td>203.596900</td>\n",
       "      <td>229.874850</td>\n",
       "    </tr>\n",
       "    <tr>\n",
       "      <th>50%</th>\n",
       "      <td>394.000000</td>\n",
       "      <td>22.325600</td>\n",
       "      <td>77.980000</td>\n",
       "      <td>882.664500</td>\n",
       "      <td>909.000000</td>\n",
       "      <td>933.370000</td>\n",
       "      <td>858.734750</td>\n",
       "      <td>940.390000</td>\n",
       "    </tr>\n",
       "    <tr>\n",
       "      <th>75%</th>\n",
       "      <td>1000.000000</td>\n",
       "      <td>26.487500</td>\n",
       "      <td>82.293000</td>\n",
       "      <td>3107.282000</td>\n",
       "      <td>3378.120000</td>\n",
       "      <td>3365.746000</td>\n",
       "      <td>3459.695000</td>\n",
       "      <td>3319.054000</td>\n",
       "    </tr>\n",
       "    <tr>\n",
       "      <th>max</th>\n",
       "      <td>4760.000000</td>\n",
       "      <td>34.490300</td>\n",
       "      <td>95.408000</td>\n",
       "      <td>28127.000000</td>\n",
       "      <td>30539.000000</td>\n",
       "      <td>30015.000000</td>\n",
       "      <td>35116.000000</td>\n",
       "      <td>35136.000000</td>\n",
       "    </tr>\n",
       "  </tbody>\n",
       "</table>\n",
       "</div>"
      ],
      "text/plain": [
       "       capacity_mw    latitude   longitude  generation_gwh_2014  \\\n",
       "count   385.000000  385.000000  385.000000           385.000000   \n",
       "mean    640.274743   21.696279   79.268877          2510.685975   \n",
       "std     743.287233    6.750157    5.107958          4070.550482   \n",
       "min      26.000000    8.169100   68.644700             0.000000   \n",
       "25%     114.750000   16.640000   76.141800           251.943950   \n",
       "50%     394.000000   22.325600   77.980000           882.664500   \n",
       "75%    1000.000000   26.487500   82.293000          3107.282000   \n",
       "max    4760.000000   34.490300   95.408000         28127.000000   \n",
       "\n",
       "       generation_gwh_2015  generation_gwh_2016  generation_gwh_2017  \\\n",
       "count           385.000000           385.000000           385.000000   \n",
       "mean           2636.161828          2663.578355          2705.235164   \n",
       "std            4332.263829          4341.935961          4384.682560   \n",
       "min               0.000000             0.000000             0.000000   \n",
       "25%             252.501150           210.930050           203.596900   \n",
       "50%             909.000000           933.370000           858.734750   \n",
       "75%            3378.120000          3365.746000          3459.695000   \n",
       "max           30539.000000         30015.000000         35116.000000   \n",
       "\n",
       "       generation_gwh_2018  \n",
       "count           385.000000  \n",
       "mean           2797.870947  \n",
       "std            4539.626068  \n",
       "min               0.000000  \n",
       "25%             229.874850  \n",
       "50%             940.390000  \n",
       "75%            3319.054000  \n",
       "max           35136.000000  "
      ]
     },
     "execution_count": 23,
     "metadata": {},
     "output_type": "execute_result"
    }
   ],
   "source": [
    "#droping null values\n",
    "\n",
    "power_plant_df = power_plant_df.dropna()\n",
    "power_plant_df.describe()"
   ]
  },
  {
   "cell_type": "code",
   "execution_count": 24,
   "id": "9a4fe1e0",
   "metadata": {},
   "outputs": [
    {
     "name": "stdout",
     "output_type": "stream",
     "text": [
      "capacity_mw = 0\n",
      "latitude = 0\n",
      "longitude = 0\n",
      "primary_fuel = 0\n",
      "generation_gwh_2014 = 20\n",
      "generation_gwh_2015 = 17\n",
      "generation_gwh_2016 = 17\n",
      "generation_gwh_2017 = 21\n",
      "generation_gwh_2018 = 22\n"
     ]
    }
   ],
   "source": [
    "# Let's check the \"0\" value counts if any...\n",
    "\n",
    "for column in power_plant_df:\n",
    "    print(column+\" = \"+str(power_plant_df[power_plant_df[column]==0].shape[0]))"
   ]
  },
  {
   "cell_type": "markdown",
   "id": "489e5b4f",
   "metadata": {},
   "source": [
    "# Correlation"
   ]
  },
  {
   "cell_type": "code",
   "execution_count": 25,
   "id": "7dfab858",
   "metadata": {},
   "outputs": [
    {
     "data": {
      "text/plain": [
       "capacity_mw            1.000000\n",
       "latitude               0.034079\n",
       "longitude             -0.009168\n",
       "generation_gwh_2014    0.837397\n",
       "generation_gwh_2015    0.869655\n",
       "generation_gwh_2016    0.895368\n",
       "generation_gwh_2017    0.902214\n",
       "generation_gwh_2018    0.915306\n",
       "dtype: float64"
      ]
     },
     "execution_count": 25,
     "metadata": {},
     "output_type": "execute_result"
    }
   ],
   "source": [
    "power_plant_df.corrwith(power_plant_df['capacity_mw'])"
   ]
  },
  {
   "cell_type": "code",
   "execution_count": 26,
   "id": "646038c4",
   "metadata": {},
   "outputs": [
    {
     "data": {
      "image/png": "[encoded data removed]",
      "text/plain": [
       "<Figure size 720x720 with 2 Axes>"
      ]
     },
     "metadata": {
      "needs_background": "light"
     },
     "output_type": "display_data"
    }
   ],
   "source": [
    "plt.figure(figsize=(10,10))\n",
    "sns.heatmap(power_plant_df.corr(),annot=True,fmt=\".2f\")\n",
    "plt.show()"
   ]
  },
  {
   "cell_type": "code",
   "execution_count": 27,
   "id": "8f57144a",
   "metadata": {},
   "outputs": [
    {
     "data": {
      "image/png": "[encoded data removed]",
      "text/plain": [
       "<Figure size 720x720 with 2 Axes>"
      ]
     },
     "metadata": {
      "needs_background": "light"
     },
     "output_type": "display_data"
    }
   ],
   "source": [
    "power_plant_df = power_plant_df.drop(columns=['generation_gwh_2014','generation_gwh_2015','generation_gwh_2016'])\n",
    "plt.figure(figsize=(10,10))\n",
    "sns.heatmap(power_plant_df.corr(),annot=True,fmt=\".2f\")\n",
    "plt.show()"
   ]
  },
  {
   "cell_type": "code",
   "execution_count": 28,
   "id": "b5f5acbe",
   "metadata": {},
   "outputs": [
    {
     "data": {
      "image/png": "[encoded data removed]",
      "text/plain": [
       "<Figure size 720x720 with 2 Axes>"
      ]
     },
     "metadata": {
      "needs_background": "light"
     },
     "output_type": "display_data"
    }
   ],
   "source": [
    "power_plant_df = power_plant_df.drop(columns=['generation_gwh_2017'])\n",
    "plt.figure(figsize=(10,10))\n",
    "sns.heatmap(power_plant_df.corr(),annot=True,fmt=\".2f\")\n",
    "plt.show()"
   ]
  },
  {
   "cell_type": "code",
   "execution_count": 29,
   "id": "deedf9d6",
   "metadata": {},
   "outputs": [],
   "source": [
    "#saparate data\n",
    "features = power_plant_df.drop(columns=['capacity_mw'])\n",
    "target = power_plant_df['capacity_mw']"
   ]
  },
  {
   "cell_type": "code",
   "execution_count": 30,
   "id": "6ca3fe45",
   "metadata": {},
   "outputs": [
    {
     "data": {
      "text/plain": [
       "latitude              -0.191408\n",
       "longitude              0.877964\n",
       "generation_gwh_2018    3.343555\n",
       "dtype: float64"
      ]
     },
     "execution_count": 30,
     "metadata": {},
     "output_type": "execute_result"
    }
   ],
   "source": [
    "#lets chack skewness\n",
    "features.skew()"
   ]
  },
  {
   "cell_type": "code",
   "execution_count": 31,
   "id": "6a28efb0",
   "metadata": {},
   "outputs": [],
   "source": [
    "# Removing the skewness\n",
    "\n",
    "for index in features.skew().index:\n",
    "    if features.skew().loc[index]>0.5:\n",
    "        features[index] = np.log1p(features[index])\n",
    "    if features.skew().loc[index]<-0.5:\n",
    "        features[index] = np.square(features[index])"
   ]
  },
  {
   "cell_type": "code",
   "execution_count": 32,
   "id": "29b0ec1f",
   "metadata": {},
   "outputs": [
    {
     "data": {
      "text/plain": [
       "latitude              -0.191408\n",
       "longitude              0.704999\n",
       "generation_gwh_2018   -0.011010\n",
       "dtype: float64"
      ]
     },
     "execution_count": 32,
     "metadata": {},
     "output_type": "execute_result"
    }
   ],
   "source": [
    "features.skew()"
   ]
  },
  {
   "cell_type": "code",
   "execution_count": 33,
   "id": "a34fc1bb",
   "metadata": {},
   "outputs": [],
   "source": [
    "# Removing the skewness\n",
    "\n",
    "for index in features.skew().index:\n",
    "    if features.skew().loc[index]>0.5:\n",
    "        features[index] = np.log1p(features[index])\n",
    "    if features.skew().loc[index]<-0.5:\n",
    "        features[index] = np.square(features[index])"
   ]
  },
  {
   "cell_type": "code",
   "execution_count": 34,
   "id": "42d07c5a",
   "metadata": {},
   "outputs": [
    {
     "data": {
      "text/plain": [
       "latitude              -0.191408\n",
       "longitude              0.672992\n",
       "generation_gwh_2018   -0.011010\n",
       "dtype: float64"
      ]
     },
     "execution_count": 34,
     "metadata": {},
     "output_type": "execute_result"
    }
   ],
   "source": [
    "features.skew()"
   ]
  },
  {
   "cell_type": "code",
   "execution_count": 35,
   "id": "89543eed",
   "metadata": {},
   "outputs": [
    {
     "data": {
      "text/plain": [
       "latitude              -0.191408\n",
       "longitude              0.661075\n",
       "generation_gwh_2018   -0.011010\n",
       "dtype: float64"
      ]
     },
     "execution_count": 35,
     "metadata": {},
     "output_type": "execute_result"
    }
   ],
   "source": [
    "# Removing the skewness\n",
    "\n",
    "for index in features.skew().index:\n",
    "    if features.skew().loc[index]>0.5:\n",
    "        features[index] = np.log1p(features[index])\n",
    "    if features.skew().loc[index]<-0.5:\n",
    "        features[index] = np.square(features[index])\n",
    "        \n",
    "features.skew()"
   ]
  },
  {
   "cell_type": "code",
   "execution_count": 36,
   "id": "febe1e95",
   "metadata": {},
   "outputs": [
    {
     "data": {
      "text/plain": [
       "latitude              -0.191408\n",
       "longitude              0.655080\n",
       "generation_gwh_2018   -0.011010\n",
       "dtype: float64"
      ]
     },
     "execution_count": 36,
     "metadata": {},
     "output_type": "execute_result"
    }
   ],
   "source": [
    "# Removing the skewness\n",
    "\n",
    "for index in features.skew().index:\n",
    "    if features.skew().loc[index]>0.5:\n",
    "        features[index] = np.log1p(features[index])\n",
    "    if features.skew().loc[index]<-0.5:\n",
    "        features[index] = np.square(features[index])\n",
    "        \n",
    "features.skew()"
   ]
  },
  {
   "cell_type": "code",
   "execution_count": 37,
   "id": "9a847667",
   "metadata": {},
   "outputs": [
    {
     "data": {
      "text/plain": [
       "latitude              -0.191408\n",
       "longitude              0.651526\n",
       "generation_gwh_2018   -0.011010\n",
       "dtype: float64"
      ]
     },
     "execution_count": 37,
     "metadata": {},
     "output_type": "execute_result"
    }
   ],
   "source": [
    "# Removing the skewness\n",
    "\n",
    "for index in features.skew().index:\n",
    "    if features.skew().loc[index]>0.5:\n",
    "        features[index] = np.log1p(features[index])\n",
    "    if features.skew().loc[index]<-0.5:\n",
    "        features[index] = np.square(features[index])\n",
    "        \n",
    "features.skew()"
   ]
  },
  {
   "cell_type": "code",
   "execution_count": 38,
   "id": "9a6ebf22",
   "metadata": {},
   "outputs": [
    {
     "data": {
      "text/plain": [
       "latitude              -0.191408\n",
       "longitude              0.649193\n",
       "generation_gwh_2018   -0.011010\n",
       "dtype: float64"
      ]
     },
     "execution_count": 38,
     "metadata": {},
     "output_type": "execute_result"
    }
   ],
   "source": [
    "# Removing the skewness\n",
    "\n",
    "for index in features.skew().index:\n",
    "    if features.skew().loc[index]>0.5:\n",
    "        features[index] = np.log1p(features[index])\n",
    "    if features.skew().loc[index]<-0.5:\n",
    "        features[index] = np.square(features[index])\n",
    "        \n",
    "features.skew()"
   ]
  },
  {
   "cell_type": "code",
   "execution_count": 39,
   "id": "938a5527",
   "metadata": {},
   "outputs": [
    {
     "name": "stdout",
     "output_type": "stream",
     "text": [
      "<class 'pandas.core.frame.DataFrame'>\n",
      "Int64Index: 385 entries, 3 to 899\n",
      "Data columns (total 4 columns):\n",
      " #   Column               Non-Null Count  Dtype  \n",
      "---  ------               --------------  -----  \n",
      " 0   latitude             385 non-null    float64\n",
      " 1   longitude            385 non-null    float64\n",
      " 2   primary_fuel         385 non-null    object \n",
      " 3   generation_gwh_2018  385 non-null    float64\n",
      "dtypes: float64(3), object(1)\n",
      "memory usage: 15.0+ KB\n"
     ]
    }
   ],
   "source": [
    "features.info()"
   ]
  },
  {
   "cell_type": "markdown",
   "id": "af45c372",
   "metadata": {},
   "source": [
    "Now data looks good skewness has been gone"
   ]
  },
  {
   "cell_type": "markdown",
   "id": "8e196f29",
   "metadata": {},
   "source": [
    "# Data distribution"
   ]
  },
  {
   "cell_type": "code",
   "execution_count": 40,
   "id": "1d6b540c",
   "metadata": {},
   "outputs": [],
   "source": [
    "features_continues = features.drop(columns=['primary_fuel'])\n",
    "features_catagorical = features['primary_fuel']"
   ]
  },
  {
   "cell_type": "code",
   "execution_count": 41,
   "id": "fea16c6f",
   "metadata": {},
   "outputs": [
    {
     "data": {
      "image/png": "[encoded data removed]",
      "text/plain": [
       "<Figure size 720x360 with 3 Axes>"
      ]
     },
     "metadata": {},
     "output_type": "display_data"
    }
   ],
   "source": [
    "#distplot\n",
    "plt.figure(figsize=(10,5),facecolor='white')\n",
    "plot=1\n",
    "for column in features_continues:\n",
    "    if plot<=4:\n",
    "        plt.subplot(2,2,plot)\n",
    "        sns.distplot(features_continues[column])\n",
    "    plot+=1\n",
    "plt.tight_layout()"
   ]
  },
  {
   "cell_type": "markdown",
   "id": "b2988890",
   "metadata": {},
   "source": [
    "Data has been distributaed good"
   ]
  },
  {
   "cell_type": "code",
   "execution_count": 42,
   "id": "8e2235d6",
   "metadata": {},
   "outputs": [
    {
     "data": {
      "image/png": "[encoded data removed]",
      "text/plain": [
       "<Figure size 720x360 with 3 Axes>"
      ]
     },
     "metadata": {},
     "output_type": "display_data"
    }
   ],
   "source": [
    "#box plot\n",
    "plt.figure(figsize=(10,5),facecolor='white')\n",
    "plot=1\n",
    "for column in features_continues:\n",
    "    if plot<=4:\n",
    "        plt.subplot(2,2,plot)\n",
    "        sns.boxplot(features_continues[column])\n",
    "    plot+=1\n",
    "plt.tight_layout()"
   ]
  },
  {
   "cell_type": "code",
   "execution_count": 43,
   "id": "e393f597",
   "metadata": {},
   "outputs": [
    {
     "data": {
      "image/png": "[encoded data removed]",
      "text/plain": [
       "<Figure size 720x360 with 3 Axes>"
      ]
     },
     "metadata": {
      "needs_background": "light"
     },
     "output_type": "display_data"
    }
   ],
   "source": [
    "#stripplot\n",
    "plt.figure(figsize=(10,5))\n",
    "plot=1\n",
    "for column in features_continues:\n",
    "    if plot<=4:\n",
    "        plt.subplot(2,2,plot)\n",
    "        sns.scatterplot(x=features_continues[column],y=target)\n",
    "    plot+=1\n",
    "plt.tight_layout()"
   ]
  },
  {
   "cell_type": "code",
   "execution_count": 44,
   "id": "ea0950d9",
   "metadata": {},
   "outputs": [
    {
     "data": {
      "text/html": [
       "<div>\n",
       "<style scoped>\n",
       "    .dataframe tbody tr th:only-of-type {\n",
       "        vertical-align: middle;\n",
       "    }\n",
       "\n",
       "    .dataframe tbody tr th {\n",
       "        vertical-align: top;\n",
       "    }\n",
       "\n",
       "    .dataframe thead th {\n",
       "        text-align: right;\n",
       "    }\n",
       "</style>\n",
       "<table border=\"1\" class=\"dataframe\">\n",
       "  <thead>\n",
       "    <tr style=\"text-align: right;\">\n",
       "      <th></th>\n",
       "      <th>latitude</th>\n",
       "      <th>longitude</th>\n",
       "      <th>generation_gwh_2018</th>\n",
       "      <th>primary_fuel_Gas</th>\n",
       "      <th>primary_fuel_Hydro</th>\n",
       "      <th>primary_fuel_Nuclear</th>\n",
       "      <th>primary_fuel_Oil</th>\n",
       "    </tr>\n",
       "  </thead>\n",
       "  <tbody>\n",
       "    <tr>\n",
       "      <th>3</th>\n",
       "      <td>23.8712</td>\n",
       "      <td>0.422402</td>\n",
       "      <td>41.490705</td>\n",
       "      <td>1</td>\n",
       "      <td>0</td>\n",
       "      <td>0</td>\n",
       "      <td>0</td>\n",
       "    </tr>\n",
       "    <tr>\n",
       "      <th>4</th>\n",
       "      <td>21.9603</td>\n",
       "      <td>0.421059</td>\n",
       "      <td>79.083424</td>\n",
       "      <td>0</td>\n",
       "      <td>0</td>\n",
       "      <td>0</td>\n",
       "      <td>0</td>\n",
       "    </tr>\n",
       "    <tr>\n",
       "      <th>5</th>\n",
       "      <td>23.7689</td>\n",
       "      <td>0.418572</td>\n",
       "      <td>47.405385</td>\n",
       "      <td>0</td>\n",
       "      <td>0</td>\n",
       "      <td>0</td>\n",
       "      <td>0</td>\n",
       "    </tr>\n",
       "    <tr>\n",
       "      <th>6</th>\n",
       "      <td>10.4547</td>\n",
       "      <td>0.420153</td>\n",
       "      <td>15.198105</td>\n",
       "      <td>0</td>\n",
       "      <td>1</td>\n",
       "      <td>0</td>\n",
       "      <td>0</td>\n",
       "    </tr>\n",
       "    <tr>\n",
       "      <th>7</th>\n",
       "      <td>32.2258</td>\n",
       "      <td>0.420188</td>\n",
       "      <td>40.495121</td>\n",
       "      <td>0</td>\n",
       "      <td>1</td>\n",
       "      <td>0</td>\n",
       "      <td>0</td>\n",
       "    </tr>\n",
       "    <tr>\n",
       "      <th>...</th>\n",
       "      <td>...</td>\n",
       "      <td>...</td>\n",
       "      <td>...</td>\n",
       "      <td>...</td>\n",
       "      <td>...</td>\n",
       "      <td>...</td>\n",
       "      <td>...</td>\n",
       "    </tr>\n",
       "    <tr>\n",
       "      <th>882</th>\n",
       "      <td>30.5669</td>\n",
       "      <td>0.420589</td>\n",
       "      <td>57.181256</td>\n",
       "      <td>0</td>\n",
       "      <td>1</td>\n",
       "      <td>0</td>\n",
       "      <td>0</td>\n",
       "    </tr>\n",
       "    <tr>\n",
       "      <th>889</th>\n",
       "      <td>22.8725</td>\n",
       "      <td>0.419493</td>\n",
       "      <td>79.811063</td>\n",
       "      <td>0</td>\n",
       "      <td>0</td>\n",
       "      <td>0</td>\n",
       "      <td>0</td>\n",
       "    </tr>\n",
       "    <tr>\n",
       "      <th>890</th>\n",
       "      <td>20.2727</td>\n",
       "      <td>0.420493</td>\n",
       "      <td>46.886305</td>\n",
       "      <td>0</td>\n",
       "      <td>0</td>\n",
       "      <td>0</td>\n",
       "      <td>0</td>\n",
       "    </tr>\n",
       "    <tr>\n",
       "      <th>893</th>\n",
       "      <td>30.3033</td>\n",
       "      <td>0.420251</td>\n",
       "      <td>29.922347</td>\n",
       "      <td>0</td>\n",
       "      <td>1</td>\n",
       "      <td>0</td>\n",
       "      <td>0</td>\n",
       "    </tr>\n",
       "    <tr>\n",
       "      <th>899</th>\n",
       "      <td>30.1081</td>\n",
       "      <td>0.420209</td>\n",
       "      <td>64.317677</td>\n",
       "      <td>0</td>\n",
       "      <td>0</td>\n",
       "      <td>0</td>\n",
       "      <td>0</td>\n",
       "    </tr>\n",
       "  </tbody>\n",
       "</table>\n",
       "<p>385 rows × 7 columns</p>\n",
       "</div>"
      ],
      "text/plain": [
       "     latitude  longitude  generation_gwh_2018  primary_fuel_Gas  \\\n",
       "3     23.8712   0.422402            41.490705                 1   \n",
       "4     21.9603   0.421059            79.083424                 0   \n",
       "5     23.7689   0.418572            47.405385                 0   \n",
       "6     10.4547   0.420153            15.198105                 0   \n",
       "7     32.2258   0.420188            40.495121                 0   \n",
       "..        ...        ...                  ...               ...   \n",
       "882   30.5669   0.420589            57.181256                 0   \n",
       "889   22.8725   0.419493            79.811063                 0   \n",
       "890   20.2727   0.420493            46.886305                 0   \n",
       "893   30.3033   0.420251            29.922347                 0   \n",
       "899   30.1081   0.420209            64.317677                 0   \n",
       "\n",
       "     primary_fuel_Hydro  primary_fuel_Nuclear  primary_fuel_Oil  \n",
       "3                     0                     0                 0  \n",
       "4                     0                     0                 0  \n",
       "5                     0                     0                 0  \n",
       "6                     1                     0                 0  \n",
       "7                     1                     0                 0  \n",
       "..                  ...                   ...               ...  \n",
       "882                   1                     0                 0  \n",
       "889                   0                     0                 0  \n",
       "890                   0                     0                 0  \n",
       "893                   1                     0                 0  \n",
       "899                   0                     0                 0  \n",
       "\n",
       "[385 rows x 7 columns]"
      ]
     },
     "execution_count": 44,
     "metadata": {},
     "output_type": "execute_result"
    }
   ],
   "source": [
    "#lets convert catagorical data into contiues\n",
    "\n",
    "features = pd.get_dummies(features, drop_first=True)\n",
    "\n",
    "features\n"
   ]
  },
  {
   "cell_type": "markdown",
   "id": "572e7fee",
   "metadata": {},
   "source": [
    "# Modal building"
   ]
  },
  {
   "cell_type": "code",
   "execution_count": 45,
   "id": "f2597bbb",
   "metadata": {},
   "outputs": [],
   "source": [
    "# Let's do the scaling\n",
    "\n",
    "from sklearn.preprocessing import StandardScaler\n",
    "\n",
    "scaler = StandardScaler()\n",
    "x_scaled = scaler.fit_transform(features)"
   ]
  },
  {
   "cell_type": "code",
   "execution_count": 46,
   "id": "9c611469",
   "metadata": {},
   "outputs": [],
   "source": [
    "# Let's import some necessary libraries for model building\n",
    "\n",
    "from sklearn.metrics import r2_score,mean_absolute_error,mean_squared_error\n",
    "from sklearn.model_selection import train_test_split, cross_val_score\n",
    "from time import time"
   ]
  },
  {
   "cell_type": "code",
   "execution_count": 60,
   "id": "b84716a8",
   "metadata": {},
   "outputs": [],
   "source": [
    "#find best modal\n",
    "\n",
    "\n",
    "\n",
    "def bestmodel(model):\n",
    "    best_score = 0\n",
    "    best_state = 0\n",
    "    start = time()\n",
    "    for i in range(1,201):\n",
    "        x_train, x_test, y_train, y_test = train_test_split(x_scaled, target, test_size = 0.25, random_state = i)\n",
    "        model.fit(x_train, y_train)\n",
    "        y_pre = model.predict(x_test)\n",
    "        score = r2_score(y_test, y_pre)\n",
    "        if score > best_score:\n",
    "            best_score = score\n",
    "            best_state = i\n",
    "    print(\"Best Random State is      : \\n\",best_state)\n",
    "    print(\"Best R2_Score is          :  \\n\",best_score*100)\n",
    "    print(\"Cross Validation Score is : \\n\",cross_val_score(model, x_scaled, target, cv=5, scoring='r2').mean())\n",
    "    print(\"Mean Absolute error is :\\n\", mean_absolute_error(y_test,y_pre))\n",
    "    print(\"Mean Squared error is :\\n\",mean_squared_error(y_test,y_pre))\n",
    "    end = time()\n",
    "    print(\"Time taken by model for prediction is : {:.4f} seconds\".format(end-start))"
   ]
  },
  {
   "cell_type": "markdown",
   "id": "2986a135",
   "metadata": {},
   "source": [
    "# Linear regression"
   ]
  },
  {
   "cell_type": "code",
   "execution_count": 61,
   "id": "a2d3c43a",
   "metadata": {},
   "outputs": [
    {
     "name": "stdout",
     "output_type": "stream",
     "text": [
      "Best Random State is      : \n",
      " 54\n",
      "Best R2_Score is          :  \n",
      " 69.49071309037673\n",
      "Cross Validation Score is : \n",
      " 0.5666170101040022\n",
      "Mean Absolute error is :\n",
      " 310.82399557406313\n",
      "Mean Squared error is :\n",
      " 274389.95257029904\n",
      "Time taken by model for prediction is : 0.4727 seconds\n"
     ]
    }
   ],
   "source": [
    "#linear regression\n",
    "\n",
    "from sklearn.linear_model import LinearRegression\n",
    "lin_reg = LinearRegression()\n",
    "bestmodel(lin_reg)"
   ]
  },
  {
   "cell_type": "markdown",
   "id": "46f689f4",
   "metadata": {},
   "source": [
    "# Decision Tree Regressor"
   ]
  },
  {
   "cell_type": "code",
   "execution_count": 49,
   "id": "6ff99f96",
   "metadata": {},
   "outputs": [
    {
     "name": "stdout",
     "output_type": "stream",
     "text": [
      "Best Random State is      : \n",
      " 124\n",
      "Best R2_Score is          :  \n",
      " 0.8692440981160288\n",
      "Cross Validation Score is : \n",
      " 0.7122316145901834\n",
      "Mean Absolute error is :\n",
      " 250.6214742268041\n",
      "Mean Squared error is :\n",
      " 159841.9120568763\n",
      "Time taken by model for prediction is : 0.4882 seconds\n"
     ]
    }
   ],
   "source": [
    "# Decision Tree Regressor\n",
    "\n",
    "from sklearn.tree import DecisionTreeRegressor\n",
    "\n",
    "DTR = DecisionTreeRegressor()\n",
    "bestmodel(DTR)"
   ]
  },
  {
   "cell_type": "markdown",
   "id": "9706b362",
   "metadata": {},
   "source": [
    "# K-Neighbors Regressor"
   ]
  },
  {
   "cell_type": "code",
   "execution_count": 51,
   "id": "fe53be4e",
   "metadata": {},
   "outputs": [
    {
     "name": "stdout",
     "output_type": "stream",
     "text": [
      "Best Random State is      : \n",
      " 151\n",
      "Best R2_Score is          :  \n",
      " 0.894986721287148\n",
      "Cross Validation Score is : \n",
      " 0.6962445814173183\n",
      "Mean Absolute error is :\n",
      " 265.08347628865977\n",
      "Mean Squared error is :\n",
      " 305707.6395185641\n",
      "Time taken by model for prediction is : 0.4636 seconds\n"
     ]
    }
   ],
   "source": [
    "# K-Neighbors Regressor\n",
    "\n",
    "from sklearn.neighbors import KNeighborsRegressor\n",
    "\n",
    "KNR = KNeighborsRegressor()\n",
    "bestmodel(KNR)"
   ]
  },
  {
   "cell_type": "markdown",
   "id": "d802b0b8",
   "metadata": {},
   "source": [
    "# Gradient Boosting Regressor"
   ]
  },
  {
   "cell_type": "code",
   "execution_count": 52,
   "id": "ed54516a",
   "metadata": {},
   "outputs": [
    {
     "name": "stdout",
     "output_type": "stream",
     "text": [
      "Best Random State is      : \n",
      " 115\n",
      "Best R2_Score is          :  \n",
      " 0.899894009447271\n",
      "Cross Validation Score is : \n",
      " 0.8049699576991504\n",
      "Mean Absolute error is :\n",
      " 195.294401479263\n",
      "Mean Squared error is :\n",
      " 108408.75320824418\n",
      "Time taken by model for prediction is : 9.5509 seconds\n"
     ]
    }
   ],
   "source": [
    "# Gradient Boosting Regressor\n",
    "\n",
    "from sklearn.ensemble import GradientBoostingRegressor\n",
    "\n",
    "GBR = GradientBoostingRegressor()\n",
    "bestmodel(GBR)"
   ]
  },
  {
   "cell_type": "markdown",
   "id": "7a5de691",
   "metadata": {},
   "source": [
    "# Random Forest "
   ]
  },
  {
   "cell_type": "code",
   "execution_count": 53,
   "id": "1cbd8e86",
   "metadata": {},
   "outputs": [
    {
     "name": "stdout",
     "output_type": "stream",
     "text": [
      "Best Random State is      : \n",
      " 180\n",
      "Best R2_Score is          :  \n",
      " 0.908758720204881\n",
      "Cross Validation Score is : \n",
      " 0.8062770040660843\n",
      "Mean Absolute error is :\n",
      " 204.09173298969074\n",
      "Mean Squared error is :\n",
      " 113277.30846020998\n",
      "Time taken by model for prediction is : 34.8708 seconds\n"
     ]
    }
   ],
   "source": [
    "from sklearn.ensemble import RandomForestRegressor\n",
    "rand_for = RandomForestRegressor()\n",
    "bestmodel(rand_for)"
   ]
  },
  {
   "cell_type": "markdown",
   "id": "5708e40f",
   "metadata": {},
   "source": [
    "# AdaBoostRegressor"
   ]
  },
  {
   "cell_type": "code",
   "execution_count": 54,
   "id": "5cc59846",
   "metadata": {},
   "outputs": [
    {
     "name": "stdout",
     "output_type": "stream",
     "text": [
      "Best Random State is      : \n",
      " 115\n",
      "Best R2_Score is          :  \n",
      " 0.8890042037015872\n",
      "Cross Validation Score is : \n",
      " 0.7479821830026406\n",
      "Mean Absolute error is :\n",
      " 270.1053600209019\n",
      "Mean Squared error is :\n",
      " 136727.42030118254\n",
      "Time taken by model for prediction is : 9.5393 seconds\n"
     ]
    }
   ],
   "source": [
    "from sklearn.ensemble import AdaBoostRegressor\n",
    "ada_reg = AdaBoostRegressor()\n",
    "bestmodel(ada_reg)"
   ]
  },
  {
   "cell_type": "markdown",
   "id": "235b4226",
   "metadata": {},
   "source": [
    "# BaggingRegressor"
   ]
  },
  {
   "cell_type": "code",
   "execution_count": 55,
   "id": "45ae1609",
   "metadata": {},
   "outputs": [
    {
     "name": "stdout",
     "output_type": "stream",
     "text": [
      "Best Random State is      : \n",
      " 151\n",
      "Best R2_Score is          :  \n",
      " 0.8952631154869115\n",
      "Cross Validation Score is : \n",
      " 0.7906474966976591\n",
      "Mean Absolute error is :\n",
      " 230.9325639175258\n",
      "Mean Squared error is :\n",
      " 130476.3358455131\n",
      "Time taken by model for prediction is : 4.1203 seconds\n"
     ]
    }
   ],
   "source": [
    "from sklearn.ensemble import BaggingRegressor\n",
    "beg_reg = BaggingRegressor()\n",
    "bestmodel(beg_reg)"
   ]
  },
  {
   "cell_type": "markdown",
   "id": "818005e4",
   "metadata": {},
   "source": [
    "# SVR"
   ]
  },
  {
   "cell_type": "code",
   "execution_count": 56,
   "id": "e0760a2f",
   "metadata": {},
   "outputs": [
    {
     "name": "stdout",
     "output_type": "stream",
     "text": [
      "Best Random State is      : \n",
      " 94\n",
      "Best R2_Score is          :  \n",
      " 0.05034854759219631\n",
      "Cross Validation Score is : \n",
      " -0.06315393547091912\n",
      "Mean Absolute error is :\n",
      " 514.3297718516592\n",
      "Mean Squared error is :\n",
      " 751057.9747941497\n",
      "Time taken by model for prediction is : 2.0659 seconds\n"
     ]
    }
   ],
   "source": [
    "from sklearn.svm import SVR\n",
    "svc = SVR()\n",
    "bestmodel(svc)"
   ]
  },
  {
   "cell_type": "markdown",
   "id": "89f6165e",
   "metadata": {},
   "source": [
    "# XGBRegressor"
   ]
  },
  {
   "cell_type": "code",
   "execution_count": 57,
   "id": "d2b48a23",
   "metadata": {},
   "outputs": [
    {
     "name": "stdout",
     "output_type": "stream",
     "text": [
      "Best Random State is      : \n",
      " 122\n",
      "Best R2_Score is          :  \n",
      " 0.9068629947547995\n",
      "Cross Validation Score is : \n",
      " 0.7833123313357027\n",
      "Mean Absolute error is :\n",
      " 206.24233929002898\n",
      "Mean Squared error is :\n",
      " 117008.00564988359\n",
      "Time taken by model for prediction is : 18.7823 seconds\n"
     ]
    }
   ],
   "source": [
    "from xgboost import XGBRegressor\n",
    "xgb_reg = XGBRegressor()\n",
    "bestmodel(xgb_reg)"
   ]
  },
  {
   "cell_type": "markdown",
   "id": "350e1e86",
   "metadata": {},
   "source": [
    "#### All modal has been deployed .\n",
    "\n",
    "Only 2 modal have gave good r2_score. \n",
    "\n",
    "1. Random Forest => 90.87\n",
    "2. Xgboost => 90.68"
   ]
  },
  {
   "cell_type": "markdown",
   "id": "57a3e2b1",
   "metadata": {},
   "source": [
    "Final modal is Random forest regression"
   ]
  },
  {
   "cell_type": "markdown",
   "id": "dc26c91d",
   "metadata": {},
   "source": [
    "# Hyper perameter tune.\n",
    "\n",
    "\n"
   ]
  },
  {
   "cell_type": "code",
   "execution_count": 63,
   "id": "1692d4a8",
   "metadata": {},
   "outputs": [],
   "source": [
    "rand_for = RandomForestRegressor()\n",
    "from sklearn.model_selection import GridSearchCV #this is use for hyperperameter tunning"
   ]
  },
  {
   "cell_type": "code",
   "execution_count": 64,
   "id": "e740aed6",
   "metadata": {},
   "outputs": [],
   "source": [
    "pera_meter = {'n_estimators':[100,101],\n",
    "              'criterion':['squared_error','absolute_error','poisson'],\n",
    "               'min_samples_split':[2,3,4],\n",
    "              'min_samples_leaf':[1,2,3]}"
   ]
  },
  {
   "cell_type": "code",
   "execution_count": 65,
   "id": "30fb1551",
   "metadata": {},
   "outputs": [],
   "source": [
    "#impliment grid serch cv\n",
    "\n",
    "grid_serch = GridSearchCV(estimator=rand_for,param_grid=pera_meter,cv=3)"
   ]
  },
  {
   "cell_type": "code",
   "execution_count": 66,
   "id": "c7d4fad8",
   "metadata": {},
   "outputs": [
    {
     "data": {
      "text/html": [
       "<style>#sk-container-id-1 {color: black;background-color: white;}#sk-container-id-1 pre{padding: 0;}#sk-container-id-1 div.sk-toggleable {background-color: white;}#sk-container-id-1 label.sk-toggleable__label {cursor: pointer;display: block;width: 100%;margin-bottom: 0;padding: 0.3em;box-sizing: border-box;text-align: center;}#sk-container-id-1 label.sk-toggleable__label-arrow:before {content: \"▸\";float: left;margin-right: 0.25em;color: #696969;}#sk-container-id-1 label.sk-toggleable__label-arrow:hover:before {color: black;}#sk-container-id-1 div.sk-estimator:hover label.sk-toggleable__label-arrow:before {color: black;}#sk-container-id-1 div.sk-toggleable__content {max-height: 0;max-width: 0;overflow: hidden;text-align: left;background-color: #f0f8ff;}#sk-container-id-1 div.sk-toggleable__content pre {margin: 0.2em;color: black;border-radius: 0.25em;background-color: #f0f8ff;}#sk-container-id-1 input.sk-toggleable__control:checked~div.sk-toggleable__content {max-height: 200px;max-width: 100%;overflow: auto;}#sk-container-id-1 input.sk-toggleable__control:checked~label.sk-toggleable__label-arrow:before {content: \"▾\";}#sk-container-id-1 div.sk-estimator input.sk-toggleable__control:checked~label.sk-toggleable__label {background-color: #d4ebff;}#sk-container-id-1 div.sk-label input.sk-toggleable__control:checked~label.sk-toggleable__label {background-color: #d4ebff;}#sk-container-id-1 input.sk-hidden--visually {border: 0;clip: rect(1px 1px 1px 1px);clip: rect(1px, 1px, 1px, 1px);height: 1px;margin: -1px;overflow: hidden;padding: 0;position: absolute;width: 1px;}#sk-container-id-1 div.sk-estimator {font-family: monospace;background-color: #f0f8ff;border: 1px dotted black;border-radius: 0.25em;box-sizing: border-box;margin-bottom: 0.5em;}#sk-container-id-1 div.sk-estimator:hover {background-color: #d4ebff;}#sk-container-id-1 div.sk-parallel-item::after {content: \"\";width: 100%;border-bottom: 1px solid gray;flex-grow: 1;}#sk-container-id-1 div.sk-label:hover label.sk-toggleable__label {background-color: #d4ebff;}#sk-container-id-1 div.sk-serial::before {content: \"\";position: absolute;border-left: 1px solid gray;box-sizing: border-box;top: 0;bottom: 0;left: 50%;z-index: 0;}#sk-container-id-1 div.sk-serial {display: flex;flex-direction: column;align-items: center;background-color: white;padding-right: 0.2em;padding-left: 0.2em;position: relative;}#sk-container-id-1 div.sk-item {position: relative;z-index: 1;}#sk-container-id-1 div.sk-parallel {display: flex;align-items: stretch;justify-content: center;background-color: white;position: relative;}#sk-container-id-1 div.sk-item::before, #sk-container-id-1 div.sk-parallel-item::before {content: \"\";position: absolute;border-left: 1px solid gray;box-sizing: border-box;top: 0;bottom: 0;left: 50%;z-index: -1;}#sk-container-id-1 div.sk-parallel-item {display: flex;flex-direction: column;z-index: 1;position: relative;background-color: white;}#sk-container-id-1 div.sk-parallel-item:first-child::after {align-self: flex-end;width: 50%;}#sk-container-id-1 div.sk-parallel-item:last-child::after {align-self: flex-start;width: 50%;}#sk-container-id-1 div.sk-parallel-item:only-child::after {width: 0;}#sk-container-id-1 div.sk-dashed-wrapped {border: 1px dashed gray;margin: 0 0.4em 0.5em 0.4em;box-sizing: border-box;padding-bottom: 0.4em;background-color: white;}#sk-container-id-1 div.sk-label label {font-family: monospace;font-weight: bold;display: inline-block;line-height: 1.2em;}#sk-container-id-1 div.sk-label-container {text-align: center;}#sk-container-id-1 div.sk-container {/* jupyter's `normalize.less` sets `[hidden] { display: none; }` but bootstrap.min.css set `[hidden] { display: none !important; }` so we also need the `!important` here to be able to override the default hidden behavior on the sphinx rendered scikit-learn.org. See: https://github.com/scikit-learn/scikit-learn/issues/21755 */display: inline-block !important;position: relative;}#sk-container-id-1 div.sk-text-repr-fallback {display: none;}</style><div id=\"sk-container-id-1\" class=\"sk-top-container\"><div class=\"sk-text-repr-fallback\"><pre>GridSearchCV(cv=3, estimator=RandomForestRegressor(),\n",
       "             param_grid={&#x27;criterion&#x27;: [&#x27;squared_error&#x27;, &#x27;absolute_error&#x27;,\n",
       "                                       &#x27;poisson&#x27;],\n",
       "                         &#x27;min_samples_leaf&#x27;: [1, 2, 3],\n",
       "                         &#x27;min_samples_split&#x27;: [2, 3, 4],\n",
       "                         &#x27;n_estimators&#x27;: [100, 101]})</pre><b>In a Jupyter environment, please rerun this cell to show the HTML representation or trust the notebook. <br />On GitHub, the HTML representation is unable to render, please try loading this page with nbviewer.org.</b></div><div class=\"sk-container\" hidden><div class=\"sk-item sk-dashed-wrapped\"><div class=\"sk-label-container\"><div class=\"sk-label sk-toggleable\"><input class=\"sk-toggleable__control sk-hidden--visually\" id=\"sk-estimator-id-1\" type=\"checkbox\" ><label for=\"sk-estimator-id-1\" class=\"sk-toggleable__label sk-toggleable__label-arrow\">GridSearchCV</label><div class=\"sk-toggleable__content\"><pre>GridSearchCV(cv=3, estimator=RandomForestRegressor(),\n",
       "             param_grid={&#x27;criterion&#x27;: [&#x27;squared_error&#x27;, &#x27;absolute_error&#x27;,\n",
       "                                       &#x27;poisson&#x27;],\n",
       "                         &#x27;min_samples_leaf&#x27;: [1, 2, 3],\n",
       "                         &#x27;min_samples_split&#x27;: [2, 3, 4],\n",
       "                         &#x27;n_estimators&#x27;: [100, 101]})</pre></div></div></div><div class=\"sk-parallel\"><div class=\"sk-parallel-item\"><div class=\"sk-item\"><div class=\"sk-label-container\"><div class=\"sk-label sk-toggleable\"><input class=\"sk-toggleable__control sk-hidden--visually\" id=\"sk-estimator-id-2\" type=\"checkbox\" ><label for=\"sk-estimator-id-2\" class=\"sk-toggleable__label sk-toggleable__label-arrow\">estimator: RandomForestRegressor</label><div class=\"sk-toggleable__content\"><pre>RandomForestRegressor()</pre></div></div></div><div class=\"sk-serial\"><div class=\"sk-item\"><div class=\"sk-estimator sk-toggleable\"><input class=\"sk-toggleable__control sk-hidden--visually\" id=\"sk-estimator-id-3\" type=\"checkbox\" ><label for=\"sk-estimator-id-3\" class=\"sk-toggleable__label sk-toggleable__label-arrow\">RandomForestRegressor</label><div class=\"sk-toggleable__content\"><pre>RandomForestRegressor()</pre></div></div></div></div></div></div></div></div></div></div>"
      ],
      "text/plain": [
       "GridSearchCV(cv=3, estimator=RandomForestRegressor(),\n",
       "             param_grid={'criterion': ['squared_error', 'absolute_error',\n",
       "                                       'poisson'],\n",
       "                         'min_samples_leaf': [1, 2, 3],\n",
       "                         'min_samples_split': [2, 3, 4],\n",
       "                         'n_estimators': [100, 101]})"
      ]
     },
     "execution_count": 66,
     "metadata": {},
     "output_type": "execute_result"
    }
   ],
   "source": [
    "#now fit in grid serch cv\n",
    "\n",
    "x_train,x_test,y_train,y_test = train_test_split(x_scaled,target,test_size=0.25,random_state=180)\n",
    "\n",
    "\n",
    "grid_serch.fit(x_train,y_train)\n"
   ]
  },
  {
   "cell_type": "code",
   "execution_count": 68,
   "id": "0f23f75f",
   "metadata": {},
   "outputs": [
    {
     "data": {
      "text/plain": [
       "{'criterion': 'absolute_error',\n",
       " 'min_samples_leaf': 2,\n",
       " 'min_samples_split': 4,\n",
       " 'n_estimators': 101}"
      ]
     },
     "execution_count": 68,
     "metadata": {},
     "output_type": "execute_result"
    }
   ],
   "source": [
    "#this is best perameters\n",
    "\n",
    "grid_serch.best_params_"
   ]
  },
  {
   "cell_type": "markdown",
   "id": "5a8d8bd6",
   "metadata": {},
   "source": [
    "# Final modal = Random Forest Regression"
   ]
  },
  {
   "cell_type": "code",
   "execution_count": 69,
   "id": "a3f0218d",
   "metadata": {},
   "outputs": [],
   "source": [
    "rand_for = RandomForestRegressor(n_estimators=101,criterion='absolute_error',min_samples_leaf=2,min_samples_split=4)"
   ]
  },
  {
   "cell_type": "code",
   "execution_count": 70,
   "id": "a64fe59c",
   "metadata": {},
   "outputs": [
    {
     "name": "stdout",
     "output_type": "stream",
     "text": [
      "Best Random State is      : \n",
      " 151\n",
      "Best R2_Score is          :  \n",
      " 92.90614655359092\n",
      "Cross Validation Score is : \n",
      " 0.8238510285125196\n",
      "Mean Absolute error is :\n",
      " 187.31043156068185\n",
      "Mean Squared error is :\n",
      " 94951.85211273283\n",
      "Time taken by model for prediction is : 76.4223 seconds\n"
     ]
    }
   ],
   "source": [
    "bestmodel(rand_for)"
   ]
  },
  {
   "cell_type": "markdown",
   "id": "ef939ae9",
   "metadata": {},
   "source": [
    "# Save modal"
   ]
  },
  {
   "cell_type": "code",
   "execution_count": 71,
   "id": "24f29a87",
   "metadata": {},
   "outputs": [
    {
     "data": {
      "text/plain": [
       "['Global_Power_plant_capacity_mw.plk']"
      ]
     },
     "execution_count": 71,
     "metadata": {},
     "output_type": "execute_result"
    }
   ],
   "source": [
    "import joblib\n",
    "\n",
    "joblib.dump(rand_for,'Global_Power_plant_capacity_mw.plk')"
   ]
  },
  {
   "cell_type": "code",
   "execution_count": null,
   "id": "a1ef3d10",
   "metadata": {},
   "outputs": [],
   "source": []
  }
 ],
 "metadata": {
  "kernelspec": {
   "display_name": "Python 3 (ipykernel)",
   "language": "python",
   "name": "python3"
  },
  "language_info": {
   "codemirror_mode": {
    "name": "ipython",
    "version": 3
   },
   "file_extension": ".py",
   "mimetype": "text/x-python",
   "name": "python",
   "nbconvert_exporter": "python",
   "pygments_lexer": "ipython3",
   "version": "3.9.7"
  }
 },
 "nbformat": 4,
 "nbformat_minor": 5
}
