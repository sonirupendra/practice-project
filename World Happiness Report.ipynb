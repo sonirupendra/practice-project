{
 "cells": [
  {
   "cell_type": "markdown",
   "id": "8ed5e803",
   "metadata": {},
   "source": [
    "# Project = 1 (World Happiness Report)"
   ]
  },
  {
   "cell_type": "code",
   "execution_count": 1,
   "id": "22edea55",
   "metadata": {},
   "outputs": [],
   "source": [
    "import pandas as pd\n",
    "import numpy as np\n",
    "import matplotlib.pyplot as plt\n",
    "import seaborn as sns\n",
    "import warnings\n",
    "warnings.filterwarnings('ignore')"
   ]
  },
  {
   "cell_type": "code",
   "execution_count": 2,
   "id": "4abb3dc5",
   "metadata": {},
   "outputs": [
    {
     "data": {
      "text/html": [
       "<div>\n",
       "<style scoped>\n",
       "    .dataframe tbody tr th:only-of-type {\n",
       "        vertical-align: middle;\n",
       "    }\n",
       "\n",
       "    .dataframe tbody tr th {\n",
       "        vertical-align: top;\n",
       "    }\n",
       "\n",
       "    .dataframe thead th {\n",
       "        text-align: right;\n",
       "    }\n",
       "</style>\n",
       "<table border=\"1\" class=\"dataframe\">\n",
       "  <thead>\n",
       "    <tr style=\"text-align: right;\">\n",
       "      <th></th>\n",
       "      <th>Country</th>\n",
       "      <th>Region</th>\n",
       "      <th>Happiness Rank</th>\n",
       "      <th>Happiness Score</th>\n",
       "      <th>Standard Error</th>\n",
       "      <th>Economy (GDP per Capita)</th>\n",
       "      <th>Family</th>\n",
       "      <th>Health (Life Expectancy)</th>\n",
       "      <th>Freedom</th>\n",
       "      <th>Trust (Government Corruption)</th>\n",
       "      <th>Generosity</th>\n",
       "      <th>Dystopia Residual</th>\n",
       "    </tr>\n",
       "  </thead>\n",
       "  <tbody>\n",
       "    <tr>\n",
       "      <th>0</th>\n",
       "      <td>Switzerland</td>\n",
       "      <td>Western Europe</td>\n",
       "      <td>1</td>\n",
       "      <td>7.587</td>\n",
       "      <td>0.03411</td>\n",
       "      <td>1.39651</td>\n",
       "      <td>1.34951</td>\n",
       "      <td>0.94143</td>\n",
       "      <td>0.66557</td>\n",
       "      <td>0.41978</td>\n",
       "      <td>0.29678</td>\n",
       "      <td>2.51738</td>\n",
       "    </tr>\n",
       "    <tr>\n",
       "      <th>1</th>\n",
       "      <td>Iceland</td>\n",
       "      <td>Western Europe</td>\n",
       "      <td>2</td>\n",
       "      <td>7.561</td>\n",
       "      <td>0.04884</td>\n",
       "      <td>1.30232</td>\n",
       "      <td>1.40223</td>\n",
       "      <td>0.94784</td>\n",
       "      <td>0.62877</td>\n",
       "      <td>0.14145</td>\n",
       "      <td>0.43630</td>\n",
       "      <td>2.70201</td>\n",
       "    </tr>\n",
       "    <tr>\n",
       "      <th>2</th>\n",
       "      <td>Denmark</td>\n",
       "      <td>Western Europe</td>\n",
       "      <td>3</td>\n",
       "      <td>7.527</td>\n",
       "      <td>0.03328</td>\n",
       "      <td>1.32548</td>\n",
       "      <td>1.36058</td>\n",
       "      <td>0.87464</td>\n",
       "      <td>0.64938</td>\n",
       "      <td>0.48357</td>\n",
       "      <td>0.34139</td>\n",
       "      <td>2.49204</td>\n",
       "    </tr>\n",
       "    <tr>\n",
       "      <th>3</th>\n",
       "      <td>Norway</td>\n",
       "      <td>Western Europe</td>\n",
       "      <td>4</td>\n",
       "      <td>7.522</td>\n",
       "      <td>0.03880</td>\n",
       "      <td>1.45900</td>\n",
       "      <td>1.33095</td>\n",
       "      <td>0.88521</td>\n",
       "      <td>0.66973</td>\n",
       "      <td>0.36503</td>\n",
       "      <td>0.34699</td>\n",
       "      <td>2.46531</td>\n",
       "    </tr>\n",
       "    <tr>\n",
       "      <th>4</th>\n",
       "      <td>Canada</td>\n",
       "      <td>North America</td>\n",
       "      <td>5</td>\n",
       "      <td>7.427</td>\n",
       "      <td>0.03553</td>\n",
       "      <td>1.32629</td>\n",
       "      <td>1.32261</td>\n",
       "      <td>0.90563</td>\n",
       "      <td>0.63297</td>\n",
       "      <td>0.32957</td>\n",
       "      <td>0.45811</td>\n",
       "      <td>2.45176</td>\n",
       "    </tr>\n",
       "  </tbody>\n",
       "</table>\n",
       "</div>"
      ],
      "text/plain": [
       "       Country          Region  Happiness Rank  Happiness Score  \\\n",
       "0  Switzerland  Western Europe               1            7.587   \n",
       "1      Iceland  Western Europe               2            7.561   \n",
       "2      Denmark  Western Europe               3            7.527   \n",
       "3       Norway  Western Europe               4            7.522   \n",
       "4       Canada   North America               5            7.427   \n",
       "\n",
       "   Standard Error  Economy (GDP per Capita)   Family  \\\n",
       "0         0.03411                   1.39651  1.34951   \n",
       "1         0.04884                   1.30232  1.40223   \n",
       "2         0.03328                   1.32548  1.36058   \n",
       "3         0.03880                   1.45900  1.33095   \n",
       "4         0.03553                   1.32629  1.32261   \n",
       "\n",
       "   Health (Life Expectancy)  Freedom  Trust (Government Corruption)  \\\n",
       "0                   0.94143  0.66557                        0.41978   \n",
       "1                   0.94784  0.62877                        0.14145   \n",
       "2                   0.87464  0.64938                        0.48357   \n",
       "3                   0.88521  0.66973                        0.36503   \n",
       "4                   0.90563  0.63297                        0.32957   \n",
       "\n",
       "   Generosity  Dystopia Residual  \n",
       "0     0.29678            2.51738  \n",
       "1     0.43630            2.70201  \n",
       "2     0.34139            2.49204  \n",
       "3     0.34699            2.46531  \n",
       "4     0.45811            2.45176  "
      ]
     },
     "execution_count": 2,
     "metadata": {},
     "output_type": "execute_result"
    }
   ],
   "source": [
    "df = pd.read_csv('happiness_score_dataset.csv')\n",
    "df.head(5)"
   ]
  },
  {
   "cell_type": "code",
   "execution_count": 3,
   "id": "a8e90baf",
   "metadata": {},
   "outputs": [
    {
     "data": {
      "text/html": [
       "<div>\n",
       "<style scoped>\n",
       "    .dataframe tbody tr th:only-of-type {\n",
       "        vertical-align: middle;\n",
       "    }\n",
       "\n",
       "    .dataframe tbody tr th {\n",
       "        vertical-align: top;\n",
       "    }\n",
       "\n",
       "    .dataframe thead th {\n",
       "        text-align: right;\n",
       "    }\n",
       "</style>\n",
       "<table border=\"1\" class=\"dataframe\">\n",
       "  <thead>\n",
       "    <tr style=\"text-align: right;\">\n",
       "      <th></th>\n",
       "      <th>Happiness Rank</th>\n",
       "      <th>Happiness Score</th>\n",
       "      <th>Standard Error</th>\n",
       "      <th>Economy (GDP per Capita)</th>\n",
       "      <th>Family</th>\n",
       "      <th>Health (Life Expectancy)</th>\n",
       "      <th>Freedom</th>\n",
       "      <th>Trust (Government Corruption)</th>\n",
       "      <th>Generosity</th>\n",
       "      <th>Dystopia Residual</th>\n",
       "    </tr>\n",
       "  </thead>\n",
       "  <tbody>\n",
       "    <tr>\n",
       "      <th>count</th>\n",
       "      <td>158.000000</td>\n",
       "      <td>158.000000</td>\n",
       "      <td>158.000000</td>\n",
       "      <td>158.000000</td>\n",
       "      <td>158.000000</td>\n",
       "      <td>158.000000</td>\n",
       "      <td>158.000000</td>\n",
       "      <td>158.000000</td>\n",
       "      <td>158.000000</td>\n",
       "      <td>158.000000</td>\n",
       "    </tr>\n",
       "    <tr>\n",
       "      <th>mean</th>\n",
       "      <td>79.493671</td>\n",
       "      <td>5.375734</td>\n",
       "      <td>0.047885</td>\n",
       "      <td>0.846137</td>\n",
       "      <td>0.991046</td>\n",
       "      <td>0.630259</td>\n",
       "      <td>0.428615</td>\n",
       "      <td>0.143422</td>\n",
       "      <td>0.237296</td>\n",
       "      <td>2.098977</td>\n",
       "    </tr>\n",
       "    <tr>\n",
       "      <th>std</th>\n",
       "      <td>45.754363</td>\n",
       "      <td>1.145010</td>\n",
       "      <td>0.017146</td>\n",
       "      <td>0.403121</td>\n",
       "      <td>0.272369</td>\n",
       "      <td>0.247078</td>\n",
       "      <td>0.150693</td>\n",
       "      <td>0.120034</td>\n",
       "      <td>0.126685</td>\n",
       "      <td>0.553550</td>\n",
       "    </tr>\n",
       "    <tr>\n",
       "      <th>min</th>\n",
       "      <td>1.000000</td>\n",
       "      <td>2.839000</td>\n",
       "      <td>0.018480</td>\n",
       "      <td>0.000000</td>\n",
       "      <td>0.000000</td>\n",
       "      <td>0.000000</td>\n",
       "      <td>0.000000</td>\n",
       "      <td>0.000000</td>\n",
       "      <td>0.000000</td>\n",
       "      <td>0.328580</td>\n",
       "    </tr>\n",
       "    <tr>\n",
       "      <th>25%</th>\n",
       "      <td>40.250000</td>\n",
       "      <td>4.526000</td>\n",
       "      <td>0.037268</td>\n",
       "      <td>0.545808</td>\n",
       "      <td>0.856823</td>\n",
       "      <td>0.439185</td>\n",
       "      <td>0.328330</td>\n",
       "      <td>0.061675</td>\n",
       "      <td>0.150553</td>\n",
       "      <td>1.759410</td>\n",
       "    </tr>\n",
       "    <tr>\n",
       "      <th>50%</th>\n",
       "      <td>79.500000</td>\n",
       "      <td>5.232500</td>\n",
       "      <td>0.043940</td>\n",
       "      <td>0.910245</td>\n",
       "      <td>1.029510</td>\n",
       "      <td>0.696705</td>\n",
       "      <td>0.435515</td>\n",
       "      <td>0.107220</td>\n",
       "      <td>0.216130</td>\n",
       "      <td>2.095415</td>\n",
       "    </tr>\n",
       "    <tr>\n",
       "      <th>75%</th>\n",
       "      <td>118.750000</td>\n",
       "      <td>6.243750</td>\n",
       "      <td>0.052300</td>\n",
       "      <td>1.158448</td>\n",
       "      <td>1.214405</td>\n",
       "      <td>0.811013</td>\n",
       "      <td>0.549092</td>\n",
       "      <td>0.180255</td>\n",
       "      <td>0.309883</td>\n",
       "      <td>2.462415</td>\n",
       "    </tr>\n",
       "    <tr>\n",
       "      <th>max</th>\n",
       "      <td>158.000000</td>\n",
       "      <td>7.587000</td>\n",
       "      <td>0.136930</td>\n",
       "      <td>1.690420</td>\n",
       "      <td>1.402230</td>\n",
       "      <td>1.025250</td>\n",
       "      <td>0.669730</td>\n",
       "      <td>0.551910</td>\n",
       "      <td>0.795880</td>\n",
       "      <td>3.602140</td>\n",
       "    </tr>\n",
       "  </tbody>\n",
       "</table>\n",
       "</div>"
      ],
      "text/plain": [
       "       Happiness Rank  Happiness Score  Standard Error  \\\n",
       "count      158.000000       158.000000      158.000000   \n",
       "mean        79.493671         5.375734        0.047885   \n",
       "std         45.754363         1.145010        0.017146   \n",
       "min          1.000000         2.839000        0.018480   \n",
       "25%         40.250000         4.526000        0.037268   \n",
       "50%         79.500000         5.232500        0.043940   \n",
       "75%        118.750000         6.243750        0.052300   \n",
       "max        158.000000         7.587000        0.136930   \n",
       "\n",
       "       Economy (GDP per Capita)      Family  Health (Life Expectancy)  \\\n",
       "count                158.000000  158.000000                158.000000   \n",
       "mean                   0.846137    0.991046                  0.630259   \n",
       "std                    0.403121    0.272369                  0.247078   \n",
       "min                    0.000000    0.000000                  0.000000   \n",
       "25%                    0.545808    0.856823                  0.439185   \n",
       "50%                    0.910245    1.029510                  0.696705   \n",
       "75%                    1.158448    1.214405                  0.811013   \n",
       "max                    1.690420    1.402230                  1.025250   \n",
       "\n",
       "          Freedom  Trust (Government Corruption)  Generosity  \\\n",
       "count  158.000000                     158.000000  158.000000   \n",
       "mean     0.428615                       0.143422    0.237296   \n",
       "std      0.150693                       0.120034    0.126685   \n",
       "min      0.000000                       0.000000    0.000000   \n",
       "25%      0.328330                       0.061675    0.150553   \n",
       "50%      0.435515                       0.107220    0.216130   \n",
       "75%      0.549092                       0.180255    0.309883   \n",
       "max      0.669730                       0.551910    0.795880   \n",
       "\n",
       "       Dystopia Residual  \n",
       "count         158.000000  \n",
       "mean            2.098977  \n",
       "std             0.553550  \n",
       "min             0.328580  \n",
       "25%             1.759410  \n",
       "50%             2.095415  \n",
       "75%             2.462415  \n",
       "max             3.602140  "
      ]
     },
     "execution_count": 3,
     "metadata": {},
     "output_type": "execute_result"
    }
   ],
   "source": [
    "df.describe()"
   ]
  },
  {
   "cell_type": "markdown",
   "id": "9cc60091",
   "metadata": {},
   "source": [
    "# Drop some column as the project problam describe."
   ]
  },
  {
   "cell_type": "code",
   "execution_count": 4,
   "id": "15eb448a",
   "metadata": {},
   "outputs": [],
   "source": [
    "df = df.drop(columns=['Country','Region','Happiness Rank','Standard Error','Freedom',])"
   ]
  },
  {
   "cell_type": "code",
   "execution_count": 5,
   "id": "23c8c1ef",
   "metadata": {},
   "outputs": [
    {
     "data": {
      "text/html": [
       "<div>\n",
       "<style scoped>\n",
       "    .dataframe tbody tr th:only-of-type {\n",
       "        vertical-align: middle;\n",
       "    }\n",
       "\n",
       "    .dataframe tbody tr th {\n",
       "        vertical-align: top;\n",
       "    }\n",
       "\n",
       "    .dataframe thead th {\n",
       "        text-align: right;\n",
       "    }\n",
       "</style>\n",
       "<table border=\"1\" class=\"dataframe\">\n",
       "  <thead>\n",
       "    <tr style=\"text-align: right;\">\n",
       "      <th></th>\n",
       "      <th>Happiness Score</th>\n",
       "      <th>Economy (GDP per Capita)</th>\n",
       "      <th>Family</th>\n",
       "      <th>Health (Life Expectancy)</th>\n",
       "      <th>Trust (Government Corruption)</th>\n",
       "      <th>Generosity</th>\n",
       "      <th>Dystopia Residual</th>\n",
       "    </tr>\n",
       "  </thead>\n",
       "  <tbody>\n",
       "    <tr>\n",
       "      <th>count</th>\n",
       "      <td>158.000000</td>\n",
       "      <td>158.000000</td>\n",
       "      <td>158.000000</td>\n",
       "      <td>158.000000</td>\n",
       "      <td>158.000000</td>\n",
       "      <td>158.000000</td>\n",
       "      <td>158.000000</td>\n",
       "    </tr>\n",
       "    <tr>\n",
       "      <th>mean</th>\n",
       "      <td>5.375734</td>\n",
       "      <td>0.846137</td>\n",
       "      <td>0.991046</td>\n",
       "      <td>0.630259</td>\n",
       "      <td>0.143422</td>\n",
       "      <td>0.237296</td>\n",
       "      <td>2.098977</td>\n",
       "    </tr>\n",
       "    <tr>\n",
       "      <th>std</th>\n",
       "      <td>1.145010</td>\n",
       "      <td>0.403121</td>\n",
       "      <td>0.272369</td>\n",
       "      <td>0.247078</td>\n",
       "      <td>0.120034</td>\n",
       "      <td>0.126685</td>\n",
       "      <td>0.553550</td>\n",
       "    </tr>\n",
       "    <tr>\n",
       "      <th>min</th>\n",
       "      <td>2.839000</td>\n",
       "      <td>0.000000</td>\n",
       "      <td>0.000000</td>\n",
       "      <td>0.000000</td>\n",
       "      <td>0.000000</td>\n",
       "      <td>0.000000</td>\n",
       "      <td>0.328580</td>\n",
       "    </tr>\n",
       "    <tr>\n",
       "      <th>25%</th>\n",
       "      <td>4.526000</td>\n",
       "      <td>0.545808</td>\n",
       "      <td>0.856823</td>\n",
       "      <td>0.439185</td>\n",
       "      <td>0.061675</td>\n",
       "      <td>0.150553</td>\n",
       "      <td>1.759410</td>\n",
       "    </tr>\n",
       "    <tr>\n",
       "      <th>50%</th>\n",
       "      <td>5.232500</td>\n",
       "      <td>0.910245</td>\n",
       "      <td>1.029510</td>\n",
       "      <td>0.696705</td>\n",
       "      <td>0.107220</td>\n",
       "      <td>0.216130</td>\n",
       "      <td>2.095415</td>\n",
       "    </tr>\n",
       "    <tr>\n",
       "      <th>75%</th>\n",
       "      <td>6.243750</td>\n",
       "      <td>1.158448</td>\n",
       "      <td>1.214405</td>\n",
       "      <td>0.811013</td>\n",
       "      <td>0.180255</td>\n",
       "      <td>0.309883</td>\n",
       "      <td>2.462415</td>\n",
       "    </tr>\n",
       "    <tr>\n",
       "      <th>max</th>\n",
       "      <td>7.587000</td>\n",
       "      <td>1.690420</td>\n",
       "      <td>1.402230</td>\n",
       "      <td>1.025250</td>\n",
       "      <td>0.551910</td>\n",
       "      <td>0.795880</td>\n",
       "      <td>3.602140</td>\n",
       "    </tr>\n",
       "  </tbody>\n",
       "</table>\n",
       "</div>"
      ],
      "text/plain": [
       "       Happiness Score  Economy (GDP per Capita)      Family  \\\n",
       "count       158.000000                158.000000  158.000000   \n",
       "mean          5.375734                  0.846137    0.991046   \n",
       "std           1.145010                  0.403121    0.272369   \n",
       "min           2.839000                  0.000000    0.000000   \n",
       "25%           4.526000                  0.545808    0.856823   \n",
       "50%           5.232500                  0.910245    1.029510   \n",
       "75%           6.243750                  1.158448    1.214405   \n",
       "max           7.587000                  1.690420    1.402230   \n",
       "\n",
       "       Health (Life Expectancy)  Trust (Government Corruption)  Generosity  \\\n",
       "count                158.000000                     158.000000  158.000000   \n",
       "mean                   0.630259                       0.143422    0.237296   \n",
       "std                    0.247078                       0.120034    0.126685   \n",
       "min                    0.000000                       0.000000    0.000000   \n",
       "25%                    0.439185                       0.061675    0.150553   \n",
       "50%                    0.696705                       0.107220    0.216130   \n",
       "75%                    0.811013                       0.180255    0.309883   \n",
       "max                    1.025250                       0.551910    0.795880   \n",
       "\n",
       "       Dystopia Residual  \n",
       "count         158.000000  \n",
       "mean            2.098977  \n",
       "std             0.553550  \n",
       "min             0.328580  \n",
       "25%             1.759410  \n",
       "50%             2.095415  \n",
       "75%             2.462415  \n",
       "max             3.602140  "
      ]
     },
     "execution_count": 5,
     "metadata": {},
     "output_type": "execute_result"
    }
   ],
   "source": [
    "df.describe()"
   ]
  },
  {
   "cell_type": "code",
   "execution_count": 12,
   "id": "9d10e9a2",
   "metadata": {},
   "outputs": [],
   "source": [
    "# change column names \n",
    "df=df.rename(columns={\"Economy (GDP per Capita)\": 'Economy','Health (Life Expectancy)':'Health','Trust (Government Corruption)':'Trust'})"
   ]
  },
  {
   "cell_type": "code",
   "execution_count": 13,
   "id": "bfc716b5",
   "metadata": {},
   "outputs": [
    {
     "data": {
      "text/plain": [
       "Happiness Score      0\n",
       "Economy              0\n",
       "Family               0\n",
       "Health               0\n",
       "Trust                0\n",
       "Generosity           0\n",
       "Dystopia Residual    0\n",
       "dtype: int64"
      ]
     },
     "execution_count": 13,
     "metadata": {},
     "output_type": "execute_result"
    }
   ],
   "source": [
    " df.isnull().sum()"
   ]
  },
  {
   "cell_type": "code",
   "execution_count": 14,
   "id": "841b76dd",
   "metadata": {},
   "outputs": [
    {
     "data": {
      "text/html": [
       "<div>\n",
       "<style scoped>\n",
       "    .dataframe tbody tr th:only-of-type {\n",
       "        vertical-align: middle;\n",
       "    }\n",
       "\n",
       "    .dataframe tbody tr th {\n",
       "        vertical-align: top;\n",
       "    }\n",
       "\n",
       "    .dataframe thead th {\n",
       "        text-align: right;\n",
       "    }\n",
       "</style>\n",
       "<table border=\"1\" class=\"dataframe\">\n",
       "  <thead>\n",
       "    <tr style=\"text-align: right;\">\n",
       "      <th></th>\n",
       "      <th>Happiness Score</th>\n",
       "      <th>Economy</th>\n",
       "      <th>Family</th>\n",
       "      <th>Health</th>\n",
       "      <th>Trust</th>\n",
       "      <th>Generosity</th>\n",
       "      <th>Dystopia Residual</th>\n",
       "    </tr>\n",
       "  </thead>\n",
       "  <tbody>\n",
       "    <tr>\n",
       "      <th>count</th>\n",
       "      <td>158.000000</td>\n",
       "      <td>158.000000</td>\n",
       "      <td>158.000000</td>\n",
       "      <td>158.000000</td>\n",
       "      <td>158.000000</td>\n",
       "      <td>158.000000</td>\n",
       "      <td>158.000000</td>\n",
       "    </tr>\n",
       "    <tr>\n",
       "      <th>mean</th>\n",
       "      <td>5.375734</td>\n",
       "      <td>0.846137</td>\n",
       "      <td>0.991046</td>\n",
       "      <td>0.630259</td>\n",
       "      <td>0.143422</td>\n",
       "      <td>0.237296</td>\n",
       "      <td>2.098977</td>\n",
       "    </tr>\n",
       "    <tr>\n",
       "      <th>std</th>\n",
       "      <td>1.145010</td>\n",
       "      <td>0.403121</td>\n",
       "      <td>0.272369</td>\n",
       "      <td>0.247078</td>\n",
       "      <td>0.120034</td>\n",
       "      <td>0.126685</td>\n",
       "      <td>0.553550</td>\n",
       "    </tr>\n",
       "    <tr>\n",
       "      <th>min</th>\n",
       "      <td>2.839000</td>\n",
       "      <td>0.000000</td>\n",
       "      <td>0.000000</td>\n",
       "      <td>0.000000</td>\n",
       "      <td>0.000000</td>\n",
       "      <td>0.000000</td>\n",
       "      <td>0.328580</td>\n",
       "    </tr>\n",
       "    <tr>\n",
       "      <th>25%</th>\n",
       "      <td>4.526000</td>\n",
       "      <td>0.545808</td>\n",
       "      <td>0.856823</td>\n",
       "      <td>0.439185</td>\n",
       "      <td>0.061675</td>\n",
       "      <td>0.150553</td>\n",
       "      <td>1.759410</td>\n",
       "    </tr>\n",
       "    <tr>\n",
       "      <th>50%</th>\n",
       "      <td>5.232500</td>\n",
       "      <td>0.910245</td>\n",
       "      <td>1.029510</td>\n",
       "      <td>0.696705</td>\n",
       "      <td>0.107220</td>\n",
       "      <td>0.216130</td>\n",
       "      <td>2.095415</td>\n",
       "    </tr>\n",
       "    <tr>\n",
       "      <th>75%</th>\n",
       "      <td>6.243750</td>\n",
       "      <td>1.158448</td>\n",
       "      <td>1.214405</td>\n",
       "      <td>0.811013</td>\n",
       "      <td>0.180255</td>\n",
       "      <td>0.309883</td>\n",
       "      <td>2.462415</td>\n",
       "    </tr>\n",
       "    <tr>\n",
       "      <th>max</th>\n",
       "      <td>7.587000</td>\n",
       "      <td>1.690420</td>\n",
       "      <td>1.402230</td>\n",
       "      <td>1.025250</td>\n",
       "      <td>0.551910</td>\n",
       "      <td>0.795880</td>\n",
       "      <td>3.602140</td>\n",
       "    </tr>\n",
       "  </tbody>\n",
       "</table>\n",
       "</div>"
      ],
      "text/plain": [
       "       Happiness Score     Economy      Family      Health       Trust  \\\n",
       "count       158.000000  158.000000  158.000000  158.000000  158.000000   \n",
       "mean          5.375734    0.846137    0.991046    0.630259    0.143422   \n",
       "std           1.145010    0.403121    0.272369    0.247078    0.120034   \n",
       "min           2.839000    0.000000    0.000000    0.000000    0.000000   \n",
       "25%           4.526000    0.545808    0.856823    0.439185    0.061675   \n",
       "50%           5.232500    0.910245    1.029510    0.696705    0.107220   \n",
       "75%           6.243750    1.158448    1.214405    0.811013    0.180255   \n",
       "max           7.587000    1.690420    1.402230    1.025250    0.551910   \n",
       "\n",
       "       Generosity  Dystopia Residual  \n",
       "count  158.000000         158.000000  \n",
       "mean     0.237296           2.098977  \n",
       "std      0.126685           0.553550  \n",
       "min      0.000000           0.328580  \n",
       "25%      0.150553           1.759410  \n",
       "50%      0.216130           2.095415  \n",
       "75%      0.309883           2.462415  \n",
       "max      0.795880           3.602140  "
      ]
     },
     "execution_count": 14,
     "metadata": {},
     "output_type": "execute_result"
    }
   ],
   "source": [
    "df.describe()"
   ]
  },
  {
   "cell_type": "markdown",
   "id": "d9775fd1",
   "metadata": {},
   "source": [
    "# Some of zero present in that data set which is not acceptable so replace zore to mean of that column data"
   ]
  },
  {
   "cell_type": "code",
   "execution_count": 15,
   "id": "ae59d438",
   "metadata": {},
   "outputs": [],
   "source": [
    "df['Economy'] = df['Economy'].replace(0,df['Economy'].mean())\n",
    "df['Family'] = df['Family'].replace(0,df['Family'].mean())\n",
    "df['Health'] = df['Health'].replace(0,df['Health'].mean())\n",
    "df['Trust'] = df['Trust'].replace(0,df['Trust'].mean())\n",
    "df['Generosity'] = df['Generosity'].replace(0,df['Generosity'].mean())"
   ]
  },
  {
   "cell_type": "code",
   "execution_count": 16,
   "id": "59b789b9",
   "metadata": {},
   "outputs": [
    {
     "data": {
      "text/html": [
       "<div>\n",
       "<style scoped>\n",
       "    .dataframe tbody tr th:only-of-type {\n",
       "        vertical-align: middle;\n",
       "    }\n",
       "\n",
       "    .dataframe tbody tr th {\n",
       "        vertical-align: top;\n",
       "    }\n",
       "\n",
       "    .dataframe thead th {\n",
       "        text-align: right;\n",
       "    }\n",
       "</style>\n",
       "<table border=\"1\" class=\"dataframe\">\n",
       "  <thead>\n",
       "    <tr style=\"text-align: right;\">\n",
       "      <th></th>\n",
       "      <th>Happiness Score</th>\n",
       "      <th>Economy</th>\n",
       "      <th>Family</th>\n",
       "      <th>Health</th>\n",
       "      <th>Trust</th>\n",
       "      <th>Generosity</th>\n",
       "      <th>Dystopia Residual</th>\n",
       "    </tr>\n",
       "  </thead>\n",
       "  <tbody>\n",
       "    <tr>\n",
       "      <th>count</th>\n",
       "      <td>158.000000</td>\n",
       "      <td>158.000000</td>\n",
       "      <td>158.000000</td>\n",
       "      <td>158.000000</td>\n",
       "      <td>158.000000</td>\n",
       "      <td>158.000000</td>\n",
       "      <td>158.000000</td>\n",
       "    </tr>\n",
       "    <tr>\n",
       "      <th>mean</th>\n",
       "      <td>5.375734</td>\n",
       "      <td>0.851493</td>\n",
       "      <td>0.997318</td>\n",
       "      <td>0.634248</td>\n",
       "      <td>0.144330</td>\n",
       "      <td>0.238797</td>\n",
       "      <td>2.098977</td>\n",
       "    </tr>\n",
       "    <tr>\n",
       "      <th>std</th>\n",
       "      <td>1.145010</td>\n",
       "      <td>0.397388</td>\n",
       "      <td>0.260556</td>\n",
       "      <td>0.241870</td>\n",
       "      <td>0.119484</td>\n",
       "      <td>0.125252</td>\n",
       "      <td>0.553550</td>\n",
       "    </tr>\n",
       "    <tr>\n",
       "      <th>min</th>\n",
       "      <td>2.839000</td>\n",
       "      <td>0.015300</td>\n",
       "      <td>0.139950</td>\n",
       "      <td>0.047760</td>\n",
       "      <td>0.002270</td>\n",
       "      <td>0.001990</td>\n",
       "      <td>0.328580</td>\n",
       "    </tr>\n",
       "    <tr>\n",
       "      <th>25%</th>\n",
       "      <td>4.526000</td>\n",
       "      <td>0.557532</td>\n",
       "      <td>0.861422</td>\n",
       "      <td>0.447215</td>\n",
       "      <td>0.062550</td>\n",
       "      <td>0.154913</td>\n",
       "      <td>1.759410</td>\n",
       "    </tr>\n",
       "    <tr>\n",
       "      <th>50%</th>\n",
       "      <td>5.232500</td>\n",
       "      <td>0.910245</td>\n",
       "      <td>1.029510</td>\n",
       "      <td>0.696705</td>\n",
       "      <td>0.108770</td>\n",
       "      <td>0.217155</td>\n",
       "      <td>2.095415</td>\n",
       "    </tr>\n",
       "    <tr>\n",
       "      <th>75%</th>\n",
       "      <td>6.243750</td>\n",
       "      <td>1.158448</td>\n",
       "      <td>1.214405</td>\n",
       "      <td>0.811013</td>\n",
       "      <td>0.180255</td>\n",
       "      <td>0.309883</td>\n",
       "      <td>2.462415</td>\n",
       "    </tr>\n",
       "    <tr>\n",
       "      <th>max</th>\n",
       "      <td>7.587000</td>\n",
       "      <td>1.690420</td>\n",
       "      <td>1.402230</td>\n",
       "      <td>1.025250</td>\n",
       "      <td>0.551910</td>\n",
       "      <td>0.795880</td>\n",
       "      <td>3.602140</td>\n",
       "    </tr>\n",
       "  </tbody>\n",
       "</table>\n",
       "</div>"
      ],
      "text/plain": [
       "       Happiness Score     Economy      Family      Health       Trust  \\\n",
       "count       158.000000  158.000000  158.000000  158.000000  158.000000   \n",
       "mean          5.375734    0.851493    0.997318    0.634248    0.144330   \n",
       "std           1.145010    0.397388    0.260556    0.241870    0.119484   \n",
       "min           2.839000    0.015300    0.139950    0.047760    0.002270   \n",
       "25%           4.526000    0.557532    0.861422    0.447215    0.062550   \n",
       "50%           5.232500    0.910245    1.029510    0.696705    0.108770   \n",
       "75%           6.243750    1.158448    1.214405    0.811013    0.180255   \n",
       "max           7.587000    1.690420    1.402230    1.025250    0.551910   \n",
       "\n",
       "       Generosity  Dystopia Residual  \n",
       "count  158.000000         158.000000  \n",
       "mean     0.238797           2.098977  \n",
       "std      0.125252           0.553550  \n",
       "min      0.001990           0.328580  \n",
       "25%      0.154913           1.759410  \n",
       "50%      0.217155           2.095415  \n",
       "75%      0.309883           2.462415  \n",
       "max      0.795880           3.602140  "
      ]
     },
     "execution_count": 16,
     "metadata": {},
     "output_type": "execute_result"
    }
   ],
   "source": [
    "df.describe()"
   ]
  },
  {
   "cell_type": "markdown",
   "id": "3d948397",
   "metadata": {},
   "source": [
    "# Data Distribution"
   ]
  },
  {
   "cell_type": "code",
   "execution_count": 26,
   "id": "a9ec42b6",
   "metadata": {},
   "outputs": [
    {
     "data": {
      "image/png": "[encoded data removed]",
      "text/plain": [
       "<Figure size 720x720 with 6 Axes>"
      ]
     },
     "metadata": {},
     "output_type": "display_data"
    }
   ],
   "source": [
    "plt.figure(figsize=(10,10),facecolor='white')\n",
    "plot = 1\n",
    "for column in df:\n",
    "    if plot<=6:\n",
    "        plt.subplot(3,2,plot)\n",
    "        sns.distplot(df[column])\n",
    "        plt.xlabel(column)\n",
    "    plot+=1\n",
    "plt.tight_layout()"
   ]
  },
  {
   "cell_type": "markdown",
   "id": "a24279bf",
   "metadata": {},
   "source": [
    "# chack skweness"
   ]
  },
  {
   "cell_type": "code",
   "execution_count": 27,
   "id": "ebbedb0c",
   "metadata": {},
   "outputs": [
    {
     "data": {
      "text/plain": [
       "Happiness Score      0.097769\n",
       "Economy             -0.310193\n",
       "Family              -0.868321\n",
       "Health              -0.687847\n",
       "Trust                1.392773\n",
       "Generosity           1.044168\n",
       "Dystopia Residual   -0.238911\n",
       "dtype: float64"
      ]
     },
     "execution_count": 27,
     "metadata": {},
     "output_type": "execute_result"
    }
   ],
   "source": [
    "df.skew()"
   ]
  },
  {
   "cell_type": "markdown",
   "id": "52b47a49",
   "metadata": {},
   "source": [
    "# Skweness present in this data so need to over come this problam"
   ]
  },
  {
   "cell_type": "code",
   "execution_count": 29,
   "id": "03283b7e",
   "metadata": {},
   "outputs": [],
   "source": [
    "lebal = df['Happiness Score']\n",
    "features = df.drop(columns=['Happiness Score'])"
   ]
  },
  {
   "cell_type": "code",
   "execution_count": 31,
   "id": "863ad9cb",
   "metadata": {},
   "outputs": [
    {
     "data": {
      "text/html": [
       "<div>\n",
       "<style scoped>\n",
       "    .dataframe tbody tr th:only-of-type {\n",
       "        vertical-align: middle;\n",
       "    }\n",
       "\n",
       "    .dataframe tbody tr th {\n",
       "        vertical-align: top;\n",
       "    }\n",
       "\n",
       "    .dataframe thead th {\n",
       "        text-align: right;\n",
       "    }\n",
       "</style>\n",
       "<table border=\"1\" class=\"dataframe\">\n",
       "  <thead>\n",
       "    <tr style=\"text-align: right;\">\n",
       "      <th></th>\n",
       "      <th>Economy</th>\n",
       "      <th>Family</th>\n",
       "      <th>Health</th>\n",
       "      <th>Trust</th>\n",
       "      <th>Generosity</th>\n",
       "      <th>Dystopia Residual</th>\n",
       "    </tr>\n",
       "  </thead>\n",
       "  <tbody>\n",
       "    <tr>\n",
       "      <th>count</th>\n",
       "      <td>158.000000</td>\n",
       "      <td>158.000000</td>\n",
       "      <td>158.000000</td>\n",
       "      <td>158.000000</td>\n",
       "      <td>158.000000</td>\n",
       "      <td>158.000000</td>\n",
       "    </tr>\n",
       "    <tr>\n",
       "      <th>mean</th>\n",
       "      <td>0.851493</td>\n",
       "      <td>0.997318</td>\n",
       "      <td>0.634248</td>\n",
       "      <td>0.144330</td>\n",
       "      <td>0.238797</td>\n",
       "      <td>2.098977</td>\n",
       "    </tr>\n",
       "    <tr>\n",
       "      <th>std</th>\n",
       "      <td>0.397388</td>\n",
       "      <td>0.260556</td>\n",
       "      <td>0.241870</td>\n",
       "      <td>0.119484</td>\n",
       "      <td>0.125252</td>\n",
       "      <td>0.553550</td>\n",
       "    </tr>\n",
       "    <tr>\n",
       "      <th>min</th>\n",
       "      <td>0.015300</td>\n",
       "      <td>0.139950</td>\n",
       "      <td>0.047760</td>\n",
       "      <td>0.002270</td>\n",
       "      <td>0.001990</td>\n",
       "      <td>0.328580</td>\n",
       "    </tr>\n",
       "    <tr>\n",
       "      <th>25%</th>\n",
       "      <td>0.557532</td>\n",
       "      <td>0.861422</td>\n",
       "      <td>0.447215</td>\n",
       "      <td>0.062550</td>\n",
       "      <td>0.154913</td>\n",
       "      <td>1.759410</td>\n",
       "    </tr>\n",
       "    <tr>\n",
       "      <th>50%</th>\n",
       "      <td>0.910245</td>\n",
       "      <td>1.029510</td>\n",
       "      <td>0.696705</td>\n",
       "      <td>0.108770</td>\n",
       "      <td>0.217155</td>\n",
       "      <td>2.095415</td>\n",
       "    </tr>\n",
       "    <tr>\n",
       "      <th>75%</th>\n",
       "      <td>1.158448</td>\n",
       "      <td>1.214405</td>\n",
       "      <td>0.811013</td>\n",
       "      <td>0.180255</td>\n",
       "      <td>0.309883</td>\n",
       "      <td>2.462415</td>\n",
       "    </tr>\n",
       "    <tr>\n",
       "      <th>max</th>\n",
       "      <td>1.690420</td>\n",
       "      <td>1.402230</td>\n",
       "      <td>1.025250</td>\n",
       "      <td>0.551910</td>\n",
       "      <td>0.795880</td>\n",
       "      <td>3.602140</td>\n",
       "    </tr>\n",
       "  </tbody>\n",
       "</table>\n",
       "</div>"
      ],
      "text/plain": [
       "          Economy      Family      Health       Trust  Generosity  \\\n",
       "count  158.000000  158.000000  158.000000  158.000000  158.000000   \n",
       "mean     0.851493    0.997318    0.634248    0.144330    0.238797   \n",
       "std      0.397388    0.260556    0.241870    0.119484    0.125252   \n",
       "min      0.015300    0.139950    0.047760    0.002270    0.001990   \n",
       "25%      0.557532    0.861422    0.447215    0.062550    0.154913   \n",
       "50%      0.910245    1.029510    0.696705    0.108770    0.217155   \n",
       "75%      1.158448    1.214405    0.811013    0.180255    0.309883   \n",
       "max      1.690420    1.402230    1.025250    0.551910    0.795880   \n",
       "\n",
       "       Dystopia Residual  \n",
       "count         158.000000  \n",
       "mean            2.098977  \n",
       "std             0.553550  \n",
       "min             0.328580  \n",
       "25%             1.759410  \n",
       "50%             2.095415  \n",
       "75%             2.462415  \n",
       "max             3.602140  "
      ]
     },
     "execution_count": 31,
     "metadata": {},
     "output_type": "execute_result"
    }
   ],
   "source": [
    "features.describe()"
   ]
  },
  {
   "cell_type": "code",
   "execution_count": 32,
   "id": "a1bf72c8",
   "metadata": {},
   "outputs": [
    {
     "data": {
      "text/plain": [
       "count    158.000000\n",
       "mean       5.375734\n",
       "std        1.145010\n",
       "min        2.839000\n",
       "25%        4.526000\n",
       "50%        5.232500\n",
       "75%        6.243750\n",
       "max        7.587000\n",
       "Name: Happiness Score, dtype: float64"
      ]
     },
     "execution_count": 32,
     "metadata": {},
     "output_type": "execute_result"
    }
   ],
   "source": [
    "lebal.describe()"
   ]
  },
  {
   "cell_type": "code",
   "execution_count": 33,
   "id": "4db30e86",
   "metadata": {},
   "outputs": [],
   "source": [
    "from sklearn.preprocessing import PowerTransformer"
   ]
  },
  {
   "cell_type": "code",
   "execution_count": 39,
   "id": "112f0682",
   "metadata": {},
   "outputs": [],
   "source": [
    "pt = PowerTransformer()"
   ]
  },
  {
   "cell_type": "code",
   "execution_count": 46,
   "id": "391f0c93",
   "metadata": {},
   "outputs": [],
   "source": [
    "new_features = pt.fit_transform(features)"
   ]
  },
  {
   "cell_type": "code",
   "execution_count": 47,
   "id": "a416d840",
   "metadata": {},
   "outputs": [],
   "source": [
    "new_features = pd.DataFrame(new_features,columns=['Economy','Family','Health','Trust','Generosity','Dystopia Residual'])"
   ]
  },
  {
   "cell_type": "code",
   "execution_count": 48,
   "id": "398e0e65",
   "metadata": {},
   "outputs": [
    {
     "data": {
      "text/html": [
       "<div>\n",
       "<style scoped>\n",
       "    .dataframe tbody tr th:only-of-type {\n",
       "        vertical-align: middle;\n",
       "    }\n",
       "\n",
       "    .dataframe tbody tr th {\n",
       "        vertical-align: top;\n",
       "    }\n",
       "\n",
       "    .dataframe thead th {\n",
       "        text-align: right;\n",
       "    }\n",
       "</style>\n",
       "<table border=\"1\" class=\"dataframe\">\n",
       "  <thead>\n",
       "    <tr style=\"text-align: right;\">\n",
       "      <th></th>\n",
       "      <th>Economy</th>\n",
       "      <th>Family</th>\n",
       "      <th>Health</th>\n",
       "      <th>Trust</th>\n",
       "      <th>Generosity</th>\n",
       "      <th>Dystopia Residual</th>\n",
       "    </tr>\n",
       "  </thead>\n",
       "  <tbody>\n",
       "    <tr>\n",
       "      <th>0</th>\n",
       "      <td>1.450863</td>\n",
       "      <td>1.676459</td>\n",
       "      <td>1.498676</td>\n",
       "      <td>1.775018</td>\n",
       "      <td>0.627681</td>\n",
       "      <td>0.750992</td>\n",
       "    </tr>\n",
       "    <tr>\n",
       "      <th>1</th>\n",
       "      <td>1.175171</td>\n",
       "      <td>2.021196</td>\n",
       "      <td>1.539755</td>\n",
       "      <td>0.308057</td>\n",
       "      <td>1.484445</td>\n",
       "      <td>1.110011</td>\n",
       "    </tr>\n",
       "    <tr>\n",
       "      <th>2</th>\n",
       "      <td>1.242410</td>\n",
       "      <td>1.747249</td>\n",
       "      <td>1.087159</td>\n",
       "      <td>1.907314</td>\n",
       "      <td>0.935139</td>\n",
       "      <td>0.702275</td>\n",
       "    </tr>\n",
       "    <tr>\n",
       "      <th>3</th>\n",
       "      <td>1.637015</td>\n",
       "      <td>1.559647</td>\n",
       "      <td>1.150301</td>\n",
       "      <td>1.625199</td>\n",
       "      <td>0.971290</td>\n",
       "      <td>0.651035</td>\n",
       "    </tr>\n",
       "    <tr>\n",
       "      <th>4</th>\n",
       "      <td>1.244768</td>\n",
       "      <td>1.507916</td>\n",
       "      <td>1.274381</td>\n",
       "      <td>1.504553</td>\n",
       "      <td>1.593733</td>\n",
       "      <td>0.625118</td>\n",
       "    </tr>\n",
       "    <tr>\n",
       "      <th>...</th>\n",
       "      <td>...</td>\n",
       "      <td>...</td>\n",
       "      <td>...</td>\n",
       "      <td>...</td>\n",
       "      <td>...</td>\n",
       "      <td>...</td>\n",
       "    </tr>\n",
       "    <tr>\n",
       "      <th>153</th>\n",
       "      <td>-1.524397</td>\n",
       "      <td>-0.987838</td>\n",
       "      <td>-0.962741</td>\n",
       "      <td>2.012668</td>\n",
       "      <td>0.060670</td>\n",
       "      <td>-2.393259</td>\n",
       "    </tr>\n",
       "    <tr>\n",
       "      <th>154</th>\n",
       "      <td>-1.389373</td>\n",
       "      <td>-1.953710</td>\n",
       "      <td>-1.304080</td>\n",
       "      <td>-0.452143</td>\n",
       "      <td>-0.350690</td>\n",
       "      <td>-0.863565</td>\n",
       "    </tr>\n",
       "    <tr>\n",
       "      <th>155</th>\n",
       "      <td>-0.531122</td>\n",
       "      <td>-1.739847</td>\n",
       "      <td>0.254729</td>\n",
       "      <td>0.735465</td>\n",
       "      <td>1.659468</td>\n",
       "      <td>-2.866216</td>\n",
       "    </tr>\n",
       "    <tr>\n",
       "      <th>156</th>\n",
       "      <td>-1.930941</td>\n",
       "      <td>-1.849906</td>\n",
       "      <td>-1.556496</td>\n",
       "      <td>-0.166038</td>\n",
       "      <td>-0.206773</td>\n",
       "      <td>-0.514801</td>\n",
       "    </tr>\n",
       "    <tr>\n",
       "      <th>157</th>\n",
       "      <td>-1.551948</td>\n",
       "      <td>-2.229652</td>\n",
       "      <td>-1.400620</td>\n",
       "      <td>-0.080223</td>\n",
       "      <td>-0.512600</td>\n",
       "      <td>-0.976645</td>\n",
       "    </tr>\n",
       "  </tbody>\n",
       "</table>\n",
       "<p>158 rows × 6 columns</p>\n",
       "</div>"
      ],
      "text/plain": [
       "      Economy    Family    Health     Trust  Generosity  Dystopia Residual\n",
       "0    1.450863  1.676459  1.498676  1.775018    0.627681           0.750992\n",
       "1    1.175171  2.021196  1.539755  0.308057    1.484445           1.110011\n",
       "2    1.242410  1.747249  1.087159  1.907314    0.935139           0.702275\n",
       "3    1.637015  1.559647  1.150301  1.625199    0.971290           0.651035\n",
       "4    1.244768  1.507916  1.274381  1.504553    1.593733           0.625118\n",
       "..        ...       ...       ...       ...         ...                ...\n",
       "153 -1.524397 -0.987838 -0.962741  2.012668    0.060670          -2.393259\n",
       "154 -1.389373 -1.953710 -1.304080 -0.452143   -0.350690          -0.863565\n",
       "155 -0.531122 -1.739847  0.254729  0.735465    1.659468          -2.866216\n",
       "156 -1.930941 -1.849906 -1.556496 -0.166038   -0.206773          -0.514801\n",
       "157 -1.551948 -2.229652 -1.400620 -0.080223   -0.512600          -0.976645\n",
       "\n",
       "[158 rows x 6 columns]"
      ]
     },
     "execution_count": 48,
     "metadata": {},
     "output_type": "execute_result"
    }
   ],
   "source": [
    "new_features"
   ]
  },
  {
   "cell_type": "code",
   "execution_count": 49,
   "id": "fe6ef4cc",
   "metadata": {},
   "outputs": [
    {
     "data": {
      "text/plain": [
       "Trust                0.188019\n",
       "Dystopia Residual    0.022925\n",
       "Generosity           0.022109\n",
       "Economy             -0.122392\n",
       "Family              -0.154187\n",
       "Health              -0.174836\n",
       "dtype: float64"
      ]
     },
     "execution_count": 49,
     "metadata": {},
     "output_type": "execute_result"
    }
   ],
   "source": [
    "new_features.skew().sort_values(ascending=False)"
   ]
  },
  {
   "cell_type": "code",
   "execution_count": 51,
   "id": "a6a73aed",
   "metadata": {},
   "outputs": [
    {
     "data": {
      "text/plain": [
       "True"
      ]
     },
     "execution_count": 51,
     "metadata": {},
     "output_type": "execute_result"
    }
   ],
   "source": [
    "new_features.skew()[np.abs(new_features.skew())>0.25].all()"
   ]
  },
  {
   "cell_type": "code",
   "execution_count": 52,
   "id": "2125f385",
   "metadata": {},
   "outputs": [
    {
     "data": {
      "image/png": "[encoded data removed]",
      "text/plain": [
       "<Figure size 720x720 with 6 Axes>"
      ]
     },
     "metadata": {},
     "output_type": "display_data"
    }
   ],
   "source": [
    "plt.figure(figsize=(10,10),facecolor='white')\n",
    "plot = 1\n",
    "for column in new_features:\n",
    "    if plot<=6:\n",
    "        plt.subplot(3,2,plot)\n",
    "        sns.distplot(new_features[column])\n",
    "        plt.xlabel(column)\n",
    "    plot+=1\n",
    "plt.tight_layout()"
   ]
  },
  {
   "cell_type": "markdown",
   "id": "b101f5b0",
   "metadata": {},
   "source": [
    "# consider -0.25 to 0.25 so i can go haead"
   ]
  },
  {
   "cell_type": "markdown",
   "id": "389ef037",
   "metadata": {},
   "source": [
    "# Now chacking Correlation \n",
    "1 Heatmap"
   ]
  },
  {
   "cell_type": "code",
   "execution_count": 53,
   "id": "612e910e",
   "metadata": {},
   "outputs": [
    {
     "data": {
      "image/png": "[encoded data removed]",
      "text/plain": [
       "<Figure size 720x720 with 2 Axes>"
      ]
     },
     "metadata": {},
     "output_type": "display_data"
    }
   ],
   "source": [
    "plt.figure(figsize=(10,10),facecolor='white')\n",
    "sns.heatmap(df.corr(),annot=True)\n",
    "plt.title(\"Correlation\")\n",
    "plt.show()"
   ]
  },
  {
   "cell_type": "markdown",
   "id": "3de0e79a",
   "metadata": {},
   "source": [
    "# \n",
    "2. pandas technic .corr()"
   ]
  },
  {
   "cell_type": "code",
   "execution_count": 54,
   "id": "d91cf73c",
   "metadata": {},
   "outputs": [
    {
     "data": {
      "text/plain": [
       "Happiness Score      1.000000\n",
       "Economy              0.782060\n",
       "Family               0.738261\n",
       "Health               0.727199\n",
       "Dystopia Residual    0.530474\n",
       "Trust                0.397175\n",
       "Generosity           0.176914\n",
       "Name: Happiness Score, dtype: float64"
      ]
     },
     "execution_count": 54,
     "metadata": {},
     "output_type": "execute_result"
    }
   ],
   "source": [
    "corr_mat = df.corr()\n",
    "corr_mat['Happiness Score'].sort_values(ascending=False)"
   ]
  },
  {
   "cell_type": "markdown",
   "id": "47fd49c2",
   "metadata": {},
   "source": [
    "# \n",
    "3. VIF (Variance infulence fector)"
   ]
  },
  {
   "cell_type": "code",
   "execution_count": 56,
   "id": "088c8e3a",
   "metadata": {},
   "outputs": [],
   "source": [
    "from statsmodels.stats.outliers_influence import variance_inflation_factor\n",
    "from sklearn.preprocessing import StandardScaler"
   ]
  },
  {
   "cell_type": "code",
   "execution_count": 57,
   "id": "35d99d75",
   "metadata": {},
   "outputs": [],
   "source": [
    "ss = StandardScaler()\n",
    "new_scaled_feature =ss.fit_transform(new_features) "
   ]
  },
  {
   "cell_type": "code",
   "execution_count": 61,
   "id": "4b03a4c2",
   "metadata": {},
   "outputs": [
    {
     "data": {
      "text/html": [
       "<div>\n",
       "<style scoped>\n",
       "    .dataframe tbody tr th:only-of-type {\n",
       "        vertical-align: middle;\n",
       "    }\n",
       "\n",
       "    .dataframe tbody tr th {\n",
       "        vertical-align: top;\n",
       "    }\n",
       "\n",
       "    .dataframe thead th {\n",
       "        text-align: right;\n",
       "    }\n",
       "</style>\n",
       "<table border=\"1\" class=\"dataframe\">\n",
       "  <thead>\n",
       "    <tr style=\"text-align: right;\">\n",
       "      <th></th>\n",
       "      <th>VIF Score</th>\n",
       "      <th>Features</th>\n",
       "    </tr>\n",
       "  </thead>\n",
       "  <tbody>\n",
       "    <tr>\n",
       "      <th>0</th>\n",
       "      <td>4.056775</td>\n",
       "      <td>Economy</td>\n",
       "    </tr>\n",
       "    <tr>\n",
       "      <th>1</th>\n",
       "      <td>1.901774</td>\n",
       "      <td>Family</td>\n",
       "    </tr>\n",
       "    <tr>\n",
       "      <th>2</th>\n",
       "      <td>3.255219</td>\n",
       "      <td>Health</td>\n",
       "    </tr>\n",
       "    <tr>\n",
       "      <th>3</th>\n",
       "      <td>1.159065</td>\n",
       "      <td>Trust</td>\n",
       "    </tr>\n",
       "    <tr>\n",
       "      <th>4</th>\n",
       "      <td>1.187535</td>\n",
       "      <td>Generosity</td>\n",
       "    </tr>\n",
       "    <tr>\n",
       "      <th>5</th>\n",
       "      <td>1.059224</td>\n",
       "      <td>Dystopia Residual</td>\n",
       "    </tr>\n",
       "  </tbody>\n",
       "</table>\n",
       "</div>"
      ],
      "text/plain": [
       "   VIF Score           Features\n",
       "0   4.056775            Economy\n",
       "1   1.901774             Family\n",
       "2   3.255219             Health\n",
       "3   1.159065              Trust\n",
       "4   1.187535         Generosity\n",
       "5   1.059224  Dystopia Residual"
      ]
     },
     "execution_count": 61,
     "metadata": {},
     "output_type": "execute_result"
    }
   ],
   "source": [
    "vif = pd.DataFrame()\n",
    "vif[\"VIF Score\"] = [variance_inflation_factor(new_scaled_feature,i) for i in range(new_scaled_feature.shape[1])]\n",
    "vif[\"Features\"] = features.columns\n",
    "vif"
   ]
  },
  {
   "cell_type": "markdown",
   "id": "9c255b41",
   "metadata": {},
   "source": [
    "# All the VIF values are less than 5 and are very low, That means no multicollinearity, Now I can go with the next step."
   ]
  },
  {
   "cell_type": "markdown",
   "id": "1b783c0b",
   "metadata": {},
   "source": [
    "# Modal Building Starting"
   ]
  },
  {
   "cell_type": "code",
   "execution_count": 63,
   "id": "8176f404",
   "metadata": {},
   "outputs": [],
   "source": [
    "from sklearn.model_selection import train_test_split\n",
    "from sklearn.tree import DecisionTreeRegressor\n",
    "from sklearn.linear_model import LinearRegression\n",
    "from sklearn.ensemble import RandomForestRegressor\n",
    "from sklearn.ensemble import GradientBoostingRegressor\n",
    "from sklearn.ensemble import AdaBoostRegressor\n",
    "from sklearn.ensemble import BaggingRegressor\n",
    "from sklearn.metrics import r2_score, mean_squared_error, mean_absolute_error\n",
    "from sklearn.linear_model import Lasso"
   ]
  },
  {
   "cell_type": "code",
   "execution_count": 64,
   "id": "32707e85",
   "metadata": {},
   "outputs": [
    {
     "name": "stdout",
     "output_type": "stream",
     "text": [
      "Best R2_Score is -->  0.9519273049367434 on Random State -->  129\n"
     ]
    }
   ],
   "source": [
    "r2score=0\n",
    "maxRS = 0\n",
    "\n",
    "for i in range(1,200):\n",
    "    X_scale_train, X_scale_test, Y_train, Y_test = train_test_split(new_scaled_feature, lebal, test_size=0.25, random_state=i)\n",
    "    LR = LinearRegression()\n",
    "    LR.fit(X_scale_train,Y_train)\n",
    "    y_pred = LR.predict(X_scale_test)\n",
    "    r2 = r2_score(Y_test, y_pred)\n",
    "    if r2 > r2score:\n",
    "        r2score=r2\n",
    "        maxRS=i\n",
    "\n",
    "print(\"Best R2_Score is --> \",r2,\"on Random State --> \",maxRS)"
   ]
  },
  {
   "cell_type": "code",
   "execution_count": 65,
   "id": "734c3514",
   "metadata": {},
   "outputs": [
    {
     "name": "stdout",
     "output_type": "stream",
     "text": [
      "Best R2_Score is -->  0.8378195820868679 on Random State -->  129\n"
     ]
    }
   ],
   "source": [
    "RFR = RandomForestRegressor()\n",
    "RFR.fit(X_scale_train,Y_train)\n",
    "y_pred = RFR.predict(X_scale_test)\n",
    "r2 = r2_score(Y_test, y_pred)\n",
    "if r2 > r2score:\n",
    "    r2score=r2\n",
    "    maxRS=i\n",
    "\n",
    "print(\"Best R2_Score is --> \",r2,\"on Random State --> \",maxRS)"
   ]
  },
  {
   "cell_type": "code",
   "execution_count": 66,
   "id": "6825ecb0",
   "metadata": {},
   "outputs": [
    {
     "name": "stdout",
     "output_type": "stream",
     "text": [
      "Best R2_Score is -->  0.6944109950666453 on Random State -->  129\n"
     ]
    }
   ],
   "source": [
    "# Decision Tree Regressor\n",
    "\n",
    "DTR = DecisionTreeRegressor()\n",
    "DTR.fit(X_scale_train,Y_train)\n",
    "y_pred = DTR.predict(X_scale_test)\n",
    "r2 = r2_score(Y_test, y_pred)\n",
    "\n",
    "print(\"Best R2_Score is --> \",r2,\"on Random State --> \",maxRS)"
   ]
  },
  {
   "cell_type": "code",
   "execution_count": 67,
   "id": "109520db",
   "metadata": {},
   "outputs": [
    {
     "name": "stdout",
     "output_type": "stream",
     "text": [
      "Best R2_Score is -->  0.8790969401672494 on Random State -->  129\n"
     ]
    }
   ],
   "source": [
    "GBR = GradientBoostingRegressor()\n",
    "GBR.fit(X_scale_train,Y_train)\n",
    "y_pred = GBR.predict(X_scale_test)\n",
    "r2 = r2_score(Y_test, y_pred)\n",
    "\n",
    "print(\"Best R2_Score is --> \",r2,\"on Random State --> \",maxRS)"
   ]
  },
  {
   "cell_type": "code",
   "execution_count": 68,
   "id": "c72b84ed",
   "metadata": {},
   "outputs": [
    {
     "name": "stdout",
     "output_type": "stream",
     "text": [
      "Best R2_Score is -->  0.7728610937406442 on Random State -->  129\n"
     ]
    }
   ],
   "source": [
    "# Ada Boost Regressor\n",
    "\n",
    "ABR = AdaBoostRegressor()\n",
    "ABR.fit(X_scale_train,Y_train)\n",
    "y_pred = ABR.predict(X_scale_test)\n",
    "r2 = r2_score(Y_test, y_pred)\n",
    "\n",
    "print(\"Best R2_Score is --> \",r2,\"on Random State --> \",maxRS)"
   ]
  },
  {
   "cell_type": "code",
   "execution_count": 69,
   "id": "35fa7229",
   "metadata": {},
   "outputs": [
    {
     "name": "stdout",
     "output_type": "stream",
     "text": [
      "Best R2_Score is -->  0.8248882915281078 on Random State -->  129\n"
     ]
    }
   ],
   "source": [
    "# Bagging Regressor\n",
    "\n",
    "BR = BaggingRegressor()\n",
    "BR.fit(X_scale_train,Y_train)\n",
    "y_pred = BR.predict(X_scale_test)\n",
    "r2 = r2_score(Y_test, y_pred)\n",
    "\n",
    "print(\"Best R2_Score is --> \",r2,\"on Random State --> \",maxRS)"
   ]
  },
  {
   "cell_type": "code",
   "execution_count": 70,
   "id": "bb1c2718",
   "metadata": {},
   "outputs": [],
   "source": [
    "from sklearn.model_selection import cross_val_score"
   ]
  },
  {
   "cell_type": "code",
   "execution_count": 89,
   "id": "5aacf724",
   "metadata": {},
   "outputs": [
    {
     "name": "stdout",
     "output_type": "stream",
     "text": [
      "LinearRegression 'Cross Validation Score' -->  0.1282953695264511\n",
      "Decision Tree Regressor 'Cross Validation Score' -->  -8.42502615063363\n",
      "Random Forest Regressor 'Cross Validation Score' -->  -3.762022061179116\n",
      "Ada Boost Regressor 'Cross Validation Score' -->  -6.69793153897435\n",
      "Gradient Boost Regressor 'Cross Validation Score' -->  -3.0810318064856714\n",
      "Bagging Regressor 'Cross Validation Score' -->  -4.239200902444355\n"
     ]
    }
   ],
   "source": [
    "print(\"LinearRegression 'Cross Validation Score' --> \",cross_val_score(LR,new_scaled_feature, lebal, cv=5).mean())\n",
    "print(\"Decision Tree Regressor 'Cross Validation Score' --> \",cross_val_score(DTR, new_scaled_feature, lebal, cv=5).mean())\n",
    "print(\"Random Forest Regressor 'Cross Validation Score' --> \",cross_val_score(RFR, new_scaled_feature, lebal, cv=5).mean())\n",
    "print(\"Ada Boost Regressor 'Cross Validation Score' --> \",cross_val_score(ABR, new_scaled_feature, lebal, cv=5).mean())\n",
    "print(\"Gradient Boost Regressor 'Cross Validation Score' --> \",cross_val_score(GBR, new_scaled_feature, lebal, cv=5).mean())\n",
    "print(\"Bagging Regressor 'Cross Validation Score' --> \",cross_val_score(BR, new_scaled_feature, lebal, cv=5).mean())"
   ]
  },
  {
   "cell_type": "markdown",
   "id": "b9f8939e",
   "metadata": {},
   "source": [
    "# Now I am going to cross validate our model using Lasso"
   ]
  },
  {
   "cell_type": "code",
   "execution_count": 74,
   "id": "71327b93",
   "metadata": {},
   "outputs": [],
   "source": [
    "from sklearn.linear_model import Lasso,LassoCV\n",
    "from sklearn.model_selection import GridSearchCV"
   ]
  },
  {
   "cell_type": "code",
   "execution_count": 75,
   "id": "bb798285",
   "metadata": {},
   "outputs": [],
   "source": [
    "lasso_cv = LassoCV(alphas=None,max_iter=100,normalize=True)"
   ]
  },
  {
   "cell_type": "code",
   "execution_count": 76,
   "id": "e3904bcd",
   "metadata": {},
   "outputs": [
    {
     "data": {
      "text/plain": [
       "LassoCV(max_iter=100, normalize=True)"
      ]
     },
     "execution_count": 76,
     "metadata": {},
     "output_type": "execute_result"
    }
   ],
   "source": [
    "lasso_cv.fit(X_scale_train,Y_train)"
   ]
  },
  {
   "cell_type": "code",
   "execution_count": 84,
   "id": "f17dee8c",
   "metadata": {},
   "outputs": [],
   "source": [
    "best_alpha = lasso_cv.alpha_"
   ]
  },
  {
   "cell_type": "code",
   "execution_count": 85,
   "id": "63576a6f",
   "metadata": {},
   "outputs": [
    {
     "data": {
      "text/plain": [
       "0.00032981136207496897"
      ]
     },
     "execution_count": 85,
     "metadata": {},
     "output_type": "execute_result"
    }
   ],
   "source": [
    "best_alpha"
   ]
  },
  {
   "cell_type": "code",
   "execution_count": 86,
   "id": "2c35a7a1",
   "metadata": {},
   "outputs": [],
   "source": [
    "lasso_rig = Lasso(alpha=best_alpha,random_state=1)"
   ]
  },
  {
   "cell_type": "code",
   "execution_count": 87,
   "id": "054f0614",
   "metadata": {},
   "outputs": [
    {
     "data": {
      "text/plain": [
       "Lasso(alpha=0.00032981136207496897, random_state=1)"
      ]
     },
     "execution_count": 87,
     "metadata": {},
     "output_type": "execute_result"
    }
   ],
   "source": [
    "lasso_rig.fit(X_scale_train,Y_train)"
   ]
  },
  {
   "cell_type": "code",
   "execution_count": 88,
   "id": "8b2b9ee8",
   "metadata": {},
   "outputs": [
    {
     "data": {
      "text/plain": [
       "0.9519671803485907"
      ]
     },
     "execution_count": 88,
     "metadata": {},
     "output_type": "execute_result"
    }
   ],
   "source": [
    "lasso_rig.score(X_scale_test,Y_test)"
   ]
  },
  {
   "cell_type": "markdown",
   "id": "fa2cd9ec",
   "metadata": {},
   "source": [
    "# Both lasso and LinearRegression give good score "
   ]
  },
  {
   "cell_type": "code",
   "execution_count": 98,
   "id": "adf1763d",
   "metadata": {},
   "outputs": [],
   "source": [
    "Y_pre=lasso_rig.predict(X_scale_test)"
   ]
  },
  {
   "cell_type": "code",
   "execution_count": 100,
   "id": "65e81066",
   "metadata": {},
   "outputs": [
    {
     "data": {
      "text/plain": [
       "0.9519671803485907"
      ]
     },
     "execution_count": 100,
     "metadata": {},
     "output_type": "execute_result"
    }
   ],
   "source": [
    "r2_score(Y_test,Y_pre)"
   ]
  },
  {
   "cell_type": "code",
   "execution_count": 101,
   "id": "38ff52d5",
   "metadata": {},
   "outputs": [
    {
     "data": {
      "text/html": [
       "<div>\n",
       "<style scoped>\n",
       "    .dataframe tbody tr th:only-of-type {\n",
       "        vertical-align: middle;\n",
       "    }\n",
       "\n",
       "    .dataframe tbody tr th {\n",
       "        vertical-align: top;\n",
       "    }\n",
       "\n",
       "    .dataframe thead th {\n",
       "        text-align: right;\n",
       "    }\n",
       "</style>\n",
       "<table border=\"1\" class=\"dataframe\">\n",
       "  <thead>\n",
       "    <tr style=\"text-align: right;\">\n",
       "      <th></th>\n",
       "      <th>Actual data</th>\n",
       "      <th>Predict data</th>\n",
       "    </tr>\n",
       "  </thead>\n",
       "  <tbody>\n",
       "    <tr>\n",
       "      <th>84</th>\n",
       "      <td>5.129</td>\n",
       "      <td>4.964847</td>\n",
       "    </tr>\n",
       "    <tr>\n",
       "      <th>157</th>\n",
       "      <td>2.839</td>\n",
       "      <td>3.074584</td>\n",
       "    </tr>\n",
       "    <tr>\n",
       "      <th>83</th>\n",
       "      <td>5.140</td>\n",
       "      <td>4.799538</td>\n",
       "    </tr>\n",
       "    <tr>\n",
       "      <th>93</th>\n",
       "      <td>4.971</td>\n",
       "      <td>5.157302</td>\n",
       "    </tr>\n",
       "    <tr>\n",
       "      <th>146</th>\n",
       "      <td>3.681</td>\n",
       "      <td>3.778634</td>\n",
       "    </tr>\n",
       "    <tr>\n",
       "      <th>30</th>\n",
       "      <td>6.505</td>\n",
       "      <td>6.397213</td>\n",
       "    </tr>\n",
       "    <tr>\n",
       "      <th>13</th>\n",
       "      <td>7.187</td>\n",
       "      <td>7.167966</td>\n",
       "    </tr>\n",
       "    <tr>\n",
       "      <th>100</th>\n",
       "      <td>4.867</td>\n",
       "      <td>4.897444</td>\n",
       "    </tr>\n",
       "    <tr>\n",
       "      <th>51</th>\n",
       "      <td>5.889</td>\n",
       "      <td>5.765987</td>\n",
       "    </tr>\n",
       "    <tr>\n",
       "      <th>52</th>\n",
       "      <td>5.878</td>\n",
       "      <td>5.797233</td>\n",
       "    </tr>\n",
       "  </tbody>\n",
       "</table>\n",
       "</div>"
      ],
      "text/plain": [
       "     Actual data  Predict data\n",
       "84         5.129      4.964847\n",
       "157        2.839      3.074584\n",
       "83         5.140      4.799538\n",
       "93         4.971      5.157302\n",
       "146        3.681      3.778634\n",
       "30         6.505      6.397213\n",
       "13         7.187      7.167966\n",
       "100        4.867      4.897444\n",
       "51         5.889      5.765987\n",
       "52         5.878      5.797233"
      ]
     },
     "execution_count": 101,
     "metadata": {},
     "output_type": "execute_result"
    }
   ],
   "source": [
    "data_looking = pd.DataFrame({\"Actual data\":Y_test,\"Predict data\":Y_pre})\n",
    "data_looking.head(10)"
   ]
  },
  {
   "cell_type": "markdown",
   "id": "4662db71",
   "metadata": {},
   "source": [
    "# save modal"
   ]
  },
  {
   "cell_type": "code",
   "execution_count": 102,
   "id": "041794be",
   "metadata": {},
   "outputs": [
    {
     "data": {
      "text/plain": [
       "['Final_Project.pkl']"
      ]
     },
     "execution_count": 102,
     "metadata": {},
     "output_type": "execute_result"
    }
   ],
   "source": [
    "import joblib\n",
    "joblib.dump(LR,\"Final_Project.pkl\")"
   ]
  },
  {
   "cell_type": "markdown",
   "id": "9b162464",
   "metadata": {},
   "source": [
    "# Loading data"
   ]
  },
  {
   "cell_type": "code",
   "execution_count": 104,
   "id": "d66348b4",
   "metadata": {},
   "outputs": [
    {
     "data": {
      "text/plain": [
       "array([7.61487609, 7.71293329, 7.47976922, 7.54316324, 7.44890647,\n",
       "       7.37480096, 7.37565378, 7.29200615, 7.21858153, 7.28422882,\n",
       "       7.45259181, 7.14998178, 7.25947338, 7.169119  , 7.20138138,\n",
       "       6.99852104, 6.98005907, 7.03621439, 7.01299268, 6.75208082,\n",
       "       6.8686055 , 6.68377737, 6.81043137, 6.79524501, 6.7225055 ,\n",
       "       6.81813433, 6.72209448, 6.45299227, 6.64186831, 6.56606931,\n",
       "       6.39705616, 6.3975838 , 6.3279539 , 6.21554396, 6.52621393,\n",
       "       6.47315533, 6.31213491, 6.3642013 , 6.2949862 , 6.00632395,\n",
       "       5.91691646, 6.03012956, 5.87412395, 5.85299735, 6.09536795,\n",
       "       6.13985186, 6.09973253, 5.82872946, 6.03343682, 6.16696784,\n",
       "       5.59852538, 5.7661898 , 5.7973871 , 5.66292915, 5.75709988,\n",
       "       5.83742785, 5.69663057, 5.66241759, 5.88072793, 5.69578101,\n",
       "       5.6443888 , 5.64727625, 5.7342462 , 5.54244101, 5.46208245,\n",
       "       5.75063105, 5.69426236, 5.61698857, 5.57410439, 5.50124717,\n",
       "       5.24168953, 5.62021156, 5.45327161, 5.41150734, 5.04818142,\n",
       "       5.43267476, 5.14417307, 5.23347404, 5.08559932, 5.11120955,\n",
       "       5.48573884, 5.10667936, 5.33385548, 4.79867983, 4.96489033,\n",
       "       4.93310515, 5.15029541, 4.95402136, 5.16172788, 4.78656268,\n",
       "       4.84233826, 4.78392654, 4.96549787, 5.15768147, 4.86581625,\n",
       "       5.02944519, 5.02751186, 4.79124812, 4.59625271, 4.85736798,\n",
       "       4.8969626 , 5.31329427, 4.81876298, 4.86016678, 4.65453537,\n",
       "       4.61689799, 4.67320934, 4.7200916 , 4.66541204, 4.71534271,\n",
       "       4.73173183, 4.98496885, 4.69824036, 4.42440012, 4.66067429,\n",
       "       4.59339135, 4.53530227, 4.77840949, 4.59002028, 5.55427156,\n",
       "       4.36904052, 4.43740954, 5.00878926, 4.51828926, 4.26865545,\n",
       "       4.2440523 , 4.29861972, 4.33333529, 4.04874813, 4.20169247,\n",
       "       4.33334498, 4.21378125, 4.03608645, 4.23517314, 4.23682872,\n",
       "       3.92011227, 4.21084572, 4.00820671, 3.87347071, 4.05800738,\n",
       "       3.88291766, 3.87274269, 3.90998647, 3.74594165, 3.52047314,\n",
       "       3.77491536, 3.77811715, 4.63889651, 3.73186694, 3.72984223,\n",
       "       3.62020152, 3.5741913 , 3.81221538, 3.19687103, 3.27998036,\n",
       "       3.48613739, 3.26604567, 3.07376036])"
      ]
     },
     "execution_count": 104,
     "metadata": {},
     "output_type": "execute_result"
    }
   ],
   "source": [
    "model = joblib.load(\"Final_Project.pkl\")\n",
    "model.predict(new_scaled_feature)"
   ]
  },
  {
   "cell_type": "code",
   "execution_count": null,
   "id": "ea340dfa",
   "metadata": {},
   "outputs": [],
   "source": []
  }
 ],
 "metadata": {
  "kernelspec": {
   "display_name": "Python 3 (ipykernel)",
   "language": "python",
   "name": "python3"
  },
  "language_info": {
   "codemirror_mode": {
    "name": "ipython",
    "version": 3
   },
   "file_extension": ".py",
   "mimetype": "text/x-python",
   "name": "python",
   "nbconvert_exporter": "python",
   "pygments_lexer": "ipython3",
   "version": "3.9.7"
  }
 },
 "nbformat": 4,
 "nbformat_minor": 5
}
