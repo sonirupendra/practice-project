{
 "cells": [
  {
   "cell_type": "markdown",
   "id": "d5a02d73",
   "metadata": {},
   "source": [
    "# Data Loading"
   ]
  },
  {
   "cell_type": "code",
   "execution_count": 1,
   "id": "b4839bf1",
   "metadata": {},
   "outputs": [],
   "source": [
    "#importent libraies\n",
    "import pandas as pd\n",
    "import numpy as np\n",
    "import matplotlib.pyplot as plt\n",
    "import seaborn as sns\n",
    "import warnings\n",
    "warnings.filterwarnings('ignore')"
   ]
  },
  {
   "cell_type": "code",
   "execution_count": 2,
   "id": "401f3202",
   "metadata": {},
   "outputs": [],
   "source": [
    "#load data \n",
    "df_train = pd.read_csv(\"bigdatamart_Train.csv\")\n",
    "df_test = pd.read_csv(\"bigdatamart_Test.csv\")"
   ]
  },
  {
   "cell_type": "markdown",
   "id": "dc76c817",
   "metadata": {},
   "source": [
    "1. df_train = Data which is use for modal building\n",
    "2. df_test = Data which is use for modal prediction\n",
    "\n",
    "we have to concat both data for EDA prosess, so i create now column in each data set to know about that perticuler data is use for train and test."
   ]
  },
  {
   "cell_type": "code",
   "execution_count": 3,
   "id": "a6554b9e",
   "metadata": {},
   "outputs": [],
   "source": [
    "df_train['Train_Test'] = 'Train'\n",
    "df_test['Train_Test'] ='Test'"
   ]
  },
  {
   "cell_type": "code",
   "execution_count": 4,
   "id": "2715c599",
   "metadata": {},
   "outputs": [
    {
     "data": {
      "text/html": [
       "<div>\n",
       "<style scoped>\n",
       "    .dataframe tbody tr th:only-of-type {\n",
       "        vertical-align: middle;\n",
       "    }\n",
       "\n",
       "    .dataframe tbody tr th {\n",
       "        vertical-align: top;\n",
       "    }\n",
       "\n",
       "    .dataframe thead th {\n",
       "        text-align: right;\n",
       "    }\n",
       "</style>\n",
       "<table border=\"1\" class=\"dataframe\">\n",
       "  <thead>\n",
       "    <tr style=\"text-align: right;\">\n",
       "      <th></th>\n",
       "      <th>Item_Identifier</th>\n",
       "      <th>Item_Weight</th>\n",
       "      <th>Item_Fat_Content</th>\n",
       "      <th>Item_Visibility</th>\n",
       "      <th>Item_Type</th>\n",
       "      <th>Item_MRP</th>\n",
       "      <th>Outlet_Identifier</th>\n",
       "      <th>Outlet_Establishment_Year</th>\n",
       "      <th>Outlet_Size</th>\n",
       "      <th>Outlet_Location_Type</th>\n",
       "      <th>Outlet_Type</th>\n",
       "      <th>Item_Outlet_Sales</th>\n",
       "      <th>Train_Test</th>\n",
       "    </tr>\n",
       "  </thead>\n",
       "  <tbody>\n",
       "    <tr>\n",
       "      <th>14194</th>\n",
       "      <td>FDA01</td>\n",
       "      <td>15.00</td>\n",
       "      <td>reg</td>\n",
       "      <td>0.054463</td>\n",
       "      <td>Canned</td>\n",
       "      <td>59.5904</td>\n",
       "      <td>OUT049</td>\n",
       "      <td>1999</td>\n",
       "      <td>Medium</td>\n",
       "      <td>Tier 1</td>\n",
       "      <td>Supermarket Type1</td>\n",
       "      <td>NaN</td>\n",
       "      <td>Test</td>\n",
       "    </tr>\n",
       "    <tr>\n",
       "      <th>14195</th>\n",
       "      <td>NCH42</td>\n",
       "      <td>6.86</td>\n",
       "      <td>Low Fat</td>\n",
       "      <td>0.036594</td>\n",
       "      <td>Household</td>\n",
       "      <td>231.1010</td>\n",
       "      <td>OUT049</td>\n",
       "      <td>1999</td>\n",
       "      <td>Medium</td>\n",
       "      <td>Tier 1</td>\n",
       "      <td>Supermarket Type1</td>\n",
       "      <td>NaN</td>\n",
       "      <td>Test</td>\n",
       "    </tr>\n",
       "    <tr>\n",
       "      <th>14196</th>\n",
       "      <td>FDF46</td>\n",
       "      <td>7.07</td>\n",
       "      <td>Low Fat</td>\n",
       "      <td>0.094053</td>\n",
       "      <td>Snack Foods</td>\n",
       "      <td>116.0834</td>\n",
       "      <td>OUT018</td>\n",
       "      <td>2009</td>\n",
       "      <td>Medium</td>\n",
       "      <td>Tier 3</td>\n",
       "      <td>Supermarket Type2</td>\n",
       "      <td>NaN</td>\n",
       "      <td>Test</td>\n",
       "    </tr>\n",
       "    <tr>\n",
       "      <th>14197</th>\n",
       "      <td>DRL35</td>\n",
       "      <td>15.70</td>\n",
       "      <td>Low Fat</td>\n",
       "      <td>0.030704</td>\n",
       "      <td>Hard Drinks</td>\n",
       "      <td>43.2770</td>\n",
       "      <td>OUT046</td>\n",
       "      <td>1997</td>\n",
       "      <td>Small</td>\n",
       "      <td>Tier 1</td>\n",
       "      <td>Supermarket Type1</td>\n",
       "      <td>NaN</td>\n",
       "      <td>Test</td>\n",
       "    </tr>\n",
       "    <tr>\n",
       "      <th>14198</th>\n",
       "      <td>FDW46</td>\n",
       "      <td>13.00</td>\n",
       "      <td>Regular</td>\n",
       "      <td>0.070411</td>\n",
       "      <td>Snack Foods</td>\n",
       "      <td>63.4484</td>\n",
       "      <td>OUT049</td>\n",
       "      <td>1999</td>\n",
       "      <td>Medium</td>\n",
       "      <td>Tier 1</td>\n",
       "      <td>Supermarket Type1</td>\n",
       "      <td>NaN</td>\n",
       "      <td>Test</td>\n",
       "    </tr>\n",
       "    <tr>\n",
       "      <th>14199</th>\n",
       "      <td>FDB58</td>\n",
       "      <td>10.50</td>\n",
       "      <td>Regular</td>\n",
       "      <td>0.013496</td>\n",
       "      <td>Snack Foods</td>\n",
       "      <td>141.3154</td>\n",
       "      <td>OUT046</td>\n",
       "      <td>1997</td>\n",
       "      <td>Small</td>\n",
       "      <td>Tier 1</td>\n",
       "      <td>Supermarket Type1</td>\n",
       "      <td>NaN</td>\n",
       "      <td>Test</td>\n",
       "    </tr>\n",
       "    <tr>\n",
       "      <th>14200</th>\n",
       "      <td>FDD47</td>\n",
       "      <td>7.60</td>\n",
       "      <td>Regular</td>\n",
       "      <td>0.142991</td>\n",
       "      <td>Starchy Foods</td>\n",
       "      <td>169.1448</td>\n",
       "      <td>OUT018</td>\n",
       "      <td>2009</td>\n",
       "      <td>Medium</td>\n",
       "      <td>Tier 3</td>\n",
       "      <td>Supermarket Type2</td>\n",
       "      <td>NaN</td>\n",
       "      <td>Test</td>\n",
       "    </tr>\n",
       "    <tr>\n",
       "      <th>14201</th>\n",
       "      <td>NCO17</td>\n",
       "      <td>10.00</td>\n",
       "      <td>Low Fat</td>\n",
       "      <td>0.073529</td>\n",
       "      <td>Health and Hygiene</td>\n",
       "      <td>118.7440</td>\n",
       "      <td>OUT045</td>\n",
       "      <td>2002</td>\n",
       "      <td>NaN</td>\n",
       "      <td>Tier 2</td>\n",
       "      <td>Supermarket Type1</td>\n",
       "      <td>NaN</td>\n",
       "      <td>Test</td>\n",
       "    </tr>\n",
       "    <tr>\n",
       "      <th>14202</th>\n",
       "      <td>FDJ26</td>\n",
       "      <td>15.30</td>\n",
       "      <td>Regular</td>\n",
       "      <td>0.000000</td>\n",
       "      <td>Canned</td>\n",
       "      <td>214.6218</td>\n",
       "      <td>OUT017</td>\n",
       "      <td>2007</td>\n",
       "      <td>NaN</td>\n",
       "      <td>Tier 2</td>\n",
       "      <td>Supermarket Type1</td>\n",
       "      <td>NaN</td>\n",
       "      <td>Test</td>\n",
       "    </tr>\n",
       "    <tr>\n",
       "      <th>14203</th>\n",
       "      <td>FDU37</td>\n",
       "      <td>9.50</td>\n",
       "      <td>Regular</td>\n",
       "      <td>0.104720</td>\n",
       "      <td>Canned</td>\n",
       "      <td>79.7960</td>\n",
       "      <td>OUT045</td>\n",
       "      <td>2002</td>\n",
       "      <td>NaN</td>\n",
       "      <td>Tier 2</td>\n",
       "      <td>Supermarket Type1</td>\n",
       "      <td>NaN</td>\n",
       "      <td>Test</td>\n",
       "    </tr>\n",
       "  </tbody>\n",
       "</table>\n",
       "</div>"
      ],
      "text/plain": [
       "      Item_Identifier  Item_Weight Item_Fat_Content  Item_Visibility  \\\n",
       "14194           FDA01        15.00              reg         0.054463   \n",
       "14195           NCH42         6.86          Low Fat         0.036594   \n",
       "14196           FDF46         7.07          Low Fat         0.094053   \n",
       "14197           DRL35        15.70          Low Fat         0.030704   \n",
       "14198           FDW46        13.00          Regular         0.070411   \n",
       "14199           FDB58        10.50          Regular         0.013496   \n",
       "14200           FDD47         7.60          Regular         0.142991   \n",
       "14201           NCO17        10.00          Low Fat         0.073529   \n",
       "14202           FDJ26        15.30          Regular         0.000000   \n",
       "14203           FDU37         9.50          Regular         0.104720   \n",
       "\n",
       "                Item_Type  Item_MRP Outlet_Identifier  \\\n",
       "14194              Canned   59.5904            OUT049   \n",
       "14195           Household  231.1010            OUT049   \n",
       "14196         Snack Foods  116.0834            OUT018   \n",
       "14197         Hard Drinks   43.2770            OUT046   \n",
       "14198         Snack Foods   63.4484            OUT049   \n",
       "14199         Snack Foods  141.3154            OUT046   \n",
       "14200       Starchy Foods  169.1448            OUT018   \n",
       "14201  Health and Hygiene  118.7440            OUT045   \n",
       "14202              Canned  214.6218            OUT017   \n",
       "14203              Canned   79.7960            OUT045   \n",
       "\n",
       "       Outlet_Establishment_Year Outlet_Size Outlet_Location_Type  \\\n",
       "14194                       1999      Medium               Tier 1   \n",
       "14195                       1999      Medium               Tier 1   \n",
       "14196                       2009      Medium               Tier 3   \n",
       "14197                       1997       Small               Tier 1   \n",
       "14198                       1999      Medium               Tier 1   \n",
       "14199                       1997       Small               Tier 1   \n",
       "14200                       2009      Medium               Tier 3   \n",
       "14201                       2002         NaN               Tier 2   \n",
       "14202                       2007         NaN               Tier 2   \n",
       "14203                       2002         NaN               Tier 2   \n",
       "\n",
       "             Outlet_Type  Item_Outlet_Sales Train_Test  \n",
       "14194  Supermarket Type1                NaN       Test  \n",
       "14195  Supermarket Type1                NaN       Test  \n",
       "14196  Supermarket Type2                NaN       Test  \n",
       "14197  Supermarket Type1                NaN       Test  \n",
       "14198  Supermarket Type1                NaN       Test  \n",
       "14199  Supermarket Type1                NaN       Test  \n",
       "14200  Supermarket Type2                NaN       Test  \n",
       "14201  Supermarket Type1                NaN       Test  \n",
       "14202  Supermarket Type1                NaN       Test  \n",
       "14203  Supermarket Type1                NaN       Test  "
      ]
     },
     "execution_count": 4,
     "metadata": {},
     "output_type": "execute_result"
    }
   ],
   "source": [
    "# Concat both data\n",
    "df = pd.concat([df_train,df_test],ignore_index=True)\n",
    "df.tail(10)"
   ]
  },
  {
   "cell_type": "markdown",
   "id": "87fef4c8",
   "metadata": {},
   "source": [
    "# Correlation "
   ]
  },
  {
   "cell_type": "markdown",
   "id": "31b7e176",
   "metadata": {},
   "source": [
    "1. Corr() method"
   ]
  },
  {
   "cell_type": "code",
   "execution_count": 5,
   "id": "ef3f4927",
   "metadata": {},
   "outputs": [
    {
     "data": {
      "text/html": [
       "<div>\n",
       "<style scoped>\n",
       "    .dataframe tbody tr th:only-of-type {\n",
       "        vertical-align: middle;\n",
       "    }\n",
       "\n",
       "    .dataframe tbody tr th {\n",
       "        vertical-align: top;\n",
       "    }\n",
       "\n",
       "    .dataframe thead th {\n",
       "        text-align: right;\n",
       "    }\n",
       "</style>\n",
       "<table border=\"1\" class=\"dataframe\">\n",
       "  <thead>\n",
       "    <tr style=\"text-align: right;\">\n",
       "      <th></th>\n",
       "      <th>Item_Weight</th>\n",
       "      <th>Item_Visibility</th>\n",
       "      <th>Item_MRP</th>\n",
       "      <th>Outlet_Establishment_Year</th>\n",
       "      <th>Item_Outlet_Sales</th>\n",
       "    </tr>\n",
       "  </thead>\n",
       "  <tbody>\n",
       "    <tr>\n",
       "      <th>Item_Weight</th>\n",
       "      <td>1.000000</td>\n",
       "      <td>-0.015901</td>\n",
       "      <td>0.036236</td>\n",
       "      <td>0.000645</td>\n",
       "      <td>0.014123</td>\n",
       "    </tr>\n",
       "    <tr>\n",
       "      <th>Item_Visibility</th>\n",
       "      <td>-0.015901</td>\n",
       "      <td>1.000000</td>\n",
       "      <td>-0.006351</td>\n",
       "      <td>-0.083678</td>\n",
       "      <td>-0.128625</td>\n",
       "    </tr>\n",
       "    <tr>\n",
       "      <th>Item_MRP</th>\n",
       "      <td>0.036236</td>\n",
       "      <td>-0.006351</td>\n",
       "      <td>1.000000</td>\n",
       "      <td>0.000141</td>\n",
       "      <td>0.567574</td>\n",
       "    </tr>\n",
       "    <tr>\n",
       "      <th>Outlet_Establishment_Year</th>\n",
       "      <td>0.000645</td>\n",
       "      <td>-0.083678</td>\n",
       "      <td>0.000141</td>\n",
       "      <td>1.000000</td>\n",
       "      <td>-0.049135</td>\n",
       "    </tr>\n",
       "    <tr>\n",
       "      <th>Item_Outlet_Sales</th>\n",
       "      <td>0.014123</td>\n",
       "      <td>-0.128625</td>\n",
       "      <td>0.567574</td>\n",
       "      <td>-0.049135</td>\n",
       "      <td>1.000000</td>\n",
       "    </tr>\n",
       "  </tbody>\n",
       "</table>\n",
       "</div>"
      ],
      "text/plain": [
       "                           Item_Weight  Item_Visibility  Item_MRP  \\\n",
       "Item_Weight                   1.000000        -0.015901  0.036236   \n",
       "Item_Visibility              -0.015901         1.000000 -0.006351   \n",
       "Item_MRP                      0.036236        -0.006351  1.000000   \n",
       "Outlet_Establishment_Year     0.000645        -0.083678  0.000141   \n",
       "Item_Outlet_Sales             0.014123        -0.128625  0.567574   \n",
       "\n",
       "                           Outlet_Establishment_Year  Item_Outlet_Sales  \n",
       "Item_Weight                                 0.000645           0.014123  \n",
       "Item_Visibility                            -0.083678          -0.128625  \n",
       "Item_MRP                                    0.000141           0.567574  \n",
       "Outlet_Establishment_Year                   1.000000          -0.049135  \n",
       "Item_Outlet_Sales                          -0.049135           1.000000  "
      ]
     },
     "execution_count": 5,
     "metadata": {},
     "output_type": "execute_result"
    }
   ],
   "source": [
    "df.corr()"
   ]
  },
  {
   "cell_type": "code",
   "execution_count": 6,
   "id": "a80ff4a9",
   "metadata": {},
   "outputs": [
    {
     "data": {
      "text/plain": [
       "Item_Outlet_Sales            1.000000\n",
       "Item_MRP                     0.567574\n",
       "Item_Weight                  0.014123\n",
       "Outlet_Establishment_Year   -0.049135\n",
       "Item_Visibility             -0.128625\n",
       "Name: Item_Outlet_Sales, dtype: float64"
      ]
     },
     "execution_count": 6,
     "metadata": {},
     "output_type": "execute_result"
    }
   ],
   "source": [
    "df_corr_metric = df.corr()\n",
    "df_corr_metric['Item_Outlet_Sales'].sort_values(ascending=False)"
   ]
  },
  {
   "cell_type": "markdown",
   "id": "1674d43c",
   "metadata": {},
   "source": [
    "2. Heatmap"
   ]
  },
  {
   "cell_type": "code",
   "execution_count": 7,
   "id": "7f99c51c",
   "metadata": {},
   "outputs": [
    {
     "data": {
      "image/png": "[encoded data removed]",
      "text/plain": [
       "<Figure size 720x720 with 2 Axes>"
      ]
     },
     "metadata": {
      "needs_background": "light"
     },
     "output_type": "display_data"
    }
   ],
   "source": [
    "plt.figure(figsize=(10,10))\n",
    "sns.heatmap(df_corr_metric,annot=True)\n",
    "plt.show()"
   ]
  },
  {
   "cell_type": "markdown",
   "id": "e8ff150c",
   "metadata": {},
   "source": [
    "1. we clearly seeing that Item_MRP is corelated with target. that  is very importent feature.\n",
    "2. Very low co- relation among features."
   ]
  },
  {
   "cell_type": "markdown",
   "id": "a13f55a5",
   "metadata": {},
   "source": [
    "# Skewness"
   ]
  },
  {
   "cell_type": "code",
   "execution_count": 8,
   "id": "7873094c",
   "metadata": {},
   "outputs": [
    {
     "data": {
      "text/plain": [
       "Item_Weight                  0.101309\n",
       "Item_Visibility              1.195175\n",
       "Item_MRP                     0.130728\n",
       "Outlet_Establishment_Year   -0.396465\n",
       "Item_Outlet_Sales            1.177531\n",
       "dtype: float64"
      ]
     },
     "execution_count": 8,
     "metadata": {},
     "output_type": "execute_result"
    }
   ],
   "source": [
    "df.skew()"
   ]
  },
  {
   "cell_type": "markdown",
   "id": "d311fc64",
   "metadata": {},
   "source": [
    "1. Dataset has some objective data. so we cannot use z-score method.\n",
    "2. we are using np.sqrt method for remove skewness."
   ]
  },
  {
   "cell_type": "code",
   "execution_count": 9,
   "id": "88088da2",
   "metadata": {},
   "outputs": [
    {
     "data": {
      "text/plain": [
       "Item_Weight                  0.101309\n",
       "Item_Visibility             -0.096758\n",
       "Item_MRP                     0.130728\n",
       "Outlet_Establishment_Year   -0.396465\n",
       "Item_Outlet_Sales            0.234676\n",
       "dtype: float64"
      ]
     },
     "execution_count": 9,
     "metadata": {},
     "output_type": "execute_result"
    }
   ],
   "source": [
    "for index in df.skew().index:\n",
    "    if df.skew().loc[index]>0.5:\n",
    "        df[index] = np.sqrt(df[index])\n",
    "df.skew()"
   ]
  },
  {
   "cell_type": "markdown",
   "id": "3dc12320",
   "metadata": {},
   "source": [
    "Skewness has been gone."
   ]
  },
  {
   "cell_type": "markdown",
   "id": "9d9c46d5",
   "metadata": {},
   "source": [
    "# Chacking data type"
   ]
  },
  {
   "cell_type": "code",
   "execution_count": 10,
   "id": "94aa213b",
   "metadata": {},
   "outputs": [
    {
     "data": {
      "text/html": [
       "<div>\n",
       "<style scoped>\n",
       "    .dataframe tbody tr th:only-of-type {\n",
       "        vertical-align: middle;\n",
       "    }\n",
       "\n",
       "    .dataframe tbody tr th {\n",
       "        vertical-align: top;\n",
       "    }\n",
       "\n",
       "    .dataframe thead th {\n",
       "        text-align: right;\n",
       "    }\n",
       "</style>\n",
       "<table border=\"1\" class=\"dataframe\">\n",
       "  <thead>\n",
       "    <tr style=\"text-align: right;\">\n",
       "      <th></th>\n",
       "      <th>Item_Weight</th>\n",
       "      <th>Item_Visibility</th>\n",
       "      <th>Item_MRP</th>\n",
       "      <th>Outlet_Establishment_Year</th>\n",
       "      <th>Item_Outlet_Sales</th>\n",
       "    </tr>\n",
       "  </thead>\n",
       "  <tbody>\n",
       "    <tr>\n",
       "      <th>count</th>\n",
       "      <td>11765.000000</td>\n",
       "      <td>14204.000000</td>\n",
       "      <td>14204.000000</td>\n",
       "      <td>14204.000000</td>\n",
       "      <td>8523.000000</td>\n",
       "    </tr>\n",
       "    <tr>\n",
       "      <th>mean</th>\n",
       "      <td>12.792854</td>\n",
       "      <td>0.233456</td>\n",
       "      <td>141.004977</td>\n",
       "      <td>1997.830681</td>\n",
       "      <td>42.944777</td>\n",
       "    </tr>\n",
       "    <tr>\n",
       "      <th>std</th>\n",
       "      <td>4.652502</td>\n",
       "      <td>0.107013</td>\n",
       "      <td>62.086938</td>\n",
       "      <td>8.371664</td>\n",
       "      <td>18.359591</td>\n",
       "    </tr>\n",
       "    <tr>\n",
       "      <th>min</th>\n",
       "      <td>4.555000</td>\n",
       "      <td>0.000000</td>\n",
       "      <td>31.290000</td>\n",
       "      <td>1985.000000</td>\n",
       "      <td>5.769749</td>\n",
       "    </tr>\n",
       "    <tr>\n",
       "      <th>25%</th>\n",
       "      <td>8.710000</td>\n",
       "      <td>0.164425</td>\n",
       "      <td>94.012000</td>\n",
       "      <td>1987.000000</td>\n",
       "      <td>28.883339</td>\n",
       "    </tr>\n",
       "    <tr>\n",
       "      <th>50%</th>\n",
       "      <td>12.600000</td>\n",
       "      <td>0.232423</td>\n",
       "      <td>142.247000</td>\n",
       "      <td>1999.000000</td>\n",
       "      <td>42.359544</td>\n",
       "    </tr>\n",
       "    <tr>\n",
       "      <th>75%</th>\n",
       "      <td>16.750000</td>\n",
       "      <td>0.306655</td>\n",
       "      <td>185.855600</td>\n",
       "      <td>2004.000000</td>\n",
       "      <td>55.689284</td>\n",
       "    </tr>\n",
       "    <tr>\n",
       "      <th>max</th>\n",
       "      <td>21.350000</td>\n",
       "      <td>0.573054</td>\n",
       "      <td>266.888400</td>\n",
       "      <td>2009.000000</td>\n",
       "      <td>114.398273</td>\n",
       "    </tr>\n",
       "  </tbody>\n",
       "</table>\n",
       "</div>"
      ],
      "text/plain": [
       "        Item_Weight  Item_Visibility      Item_MRP  Outlet_Establishment_Year  \\\n",
       "count  11765.000000     14204.000000  14204.000000               14204.000000   \n",
       "mean      12.792854         0.233456    141.004977                1997.830681   \n",
       "std        4.652502         0.107013     62.086938                   8.371664   \n",
       "min        4.555000         0.000000     31.290000                1985.000000   \n",
       "25%        8.710000         0.164425     94.012000                1987.000000   \n",
       "50%       12.600000         0.232423    142.247000                1999.000000   \n",
       "75%       16.750000         0.306655    185.855600                2004.000000   \n",
       "max       21.350000         0.573054    266.888400                2009.000000   \n",
       "\n",
       "       Item_Outlet_Sales  \n",
       "count        8523.000000  \n",
       "mean           42.944777  \n",
       "std            18.359591  \n",
       "min             5.769749  \n",
       "25%            28.883339  \n",
       "50%            42.359544  \n",
       "75%            55.689284  \n",
       "max           114.398273  "
      ]
     },
     "execution_count": 10,
     "metadata": {},
     "output_type": "execute_result"
    }
   ],
   "source": [
    "#data information\n",
    "df.describe()"
   ]
  },
  {
   "cell_type": "code",
   "execution_count": 11,
   "id": "da8646ee",
   "metadata": {},
   "outputs": [
    {
     "data": {
      "text/plain": [
       "Item_Identifier                 0\n",
       "Item_Weight                  2439\n",
       "Item_Fat_Content                0\n",
       "Item_Visibility                 0\n",
       "Item_Type                       0\n",
       "Item_MRP                        0\n",
       "Outlet_Identifier               0\n",
       "Outlet_Establishment_Year       0\n",
       "Outlet_Size                  4016\n",
       "Outlet_Location_Type            0\n",
       "Outlet_Type                     0\n",
       "Item_Outlet_Sales            5681\n",
       "Train_Test                      0\n",
       "dtype: int64"
      ]
     },
     "execution_count": 11,
     "metadata": {},
     "output_type": "execute_result"
    }
   ],
   "source": [
    "#chacking null values\n",
    "df.isna().sum()"
   ]
  },
  {
   "cell_type": "code",
   "execution_count": 12,
   "id": "d7f849e6",
   "metadata": {},
   "outputs": [],
   "source": [
    "#fill item weight with mean of data\n",
    "df['Item_Weight'] = df['Item_Weight'].fillna(df['Item_Weight'].mean())"
   ]
  },
  {
   "cell_type": "code",
   "execution_count": 13,
   "id": "4f0c63f3",
   "metadata": {},
   "outputs": [
    {
     "data": {
      "text/plain": [
       "count      10188\n",
       "unique         3\n",
       "top       Medium\n",
       "freq        4655\n",
       "Name: Outlet_Size, dtype: object"
      ]
     },
     "execution_count": 13,
     "metadata": {},
     "output_type": "execute_result"
    }
   ],
   "source": [
    "df['Outlet_Size'].describe()"
   ]
  },
  {
   "cell_type": "code",
   "execution_count": 14,
   "id": "66123d87",
   "metadata": {},
   "outputs": [],
   "source": [
    "#fill Outlet size with medium because Mode of this column is Medium\n",
    "df['Outlet_Size'] = df['Outlet_Size'].fillna(\"Medium\")"
   ]
  },
  {
   "cell_type": "markdown",
   "id": "7c420c60",
   "metadata": {},
   "source": [
    "# As we know that target column also has null values "
   ]
  },
  {
   "cell_type": "markdown",
   "id": "6b5284df",
   "metadata": {},
   "source": [
    "1. Use Itrative Imputer Technic for fill na"
   ]
  },
  {
   "cell_type": "code",
   "execution_count": 15,
   "id": "7f0cc496",
   "metadata": {},
   "outputs": [],
   "source": [
    "from sklearn.experimental import enable_iterative_imputer\n",
    "from sklearn.impute import IterativeImputer\n",
    "it_impute = IterativeImputer()"
   ]
  },
  {
   "cell_type": "code",
   "execution_count": 16,
   "id": "763f5cf6",
   "metadata": {},
   "outputs": [],
   "source": [
    "new_df = it_impute.fit_transform(df[['Item_MRP','Item_Outlet_Sales']])"
   ]
  },
  {
   "cell_type": "code",
   "execution_count": 17,
   "id": "18480173",
   "metadata": {},
   "outputs": [
    {
     "data": {
      "text/html": [
       "<div>\n",
       "<style scoped>\n",
       "    .dataframe tbody tr th:only-of-type {\n",
       "        vertical-align: middle;\n",
       "    }\n",
       "\n",
       "    .dataframe tbody tr th {\n",
       "        vertical-align: top;\n",
       "    }\n",
       "\n",
       "    .dataframe thead th {\n",
       "        text-align: right;\n",
       "    }\n",
       "</style>\n",
       "<table border=\"1\" class=\"dataframe\">\n",
       "  <thead>\n",
       "    <tr style=\"text-align: right;\">\n",
       "      <th></th>\n",
       "      <th>Item_MRP</th>\n",
       "      <th>Item_Outlet_Sales</th>\n",
       "    </tr>\n",
       "  </thead>\n",
       "  <tbody>\n",
       "    <tr>\n",
       "      <th>0</th>\n",
       "      <td>249.8092</td>\n",
       "      <td>61.115775</td>\n",
       "    </tr>\n",
       "    <tr>\n",
       "      <th>1</th>\n",
       "      <td>48.2692</td>\n",
       "      <td>21.057607</td>\n",
       "    </tr>\n",
       "    <tr>\n",
       "      <th>2</th>\n",
       "      <td>141.6180</td>\n",
       "      <td>45.795961</td>\n",
       "    </tr>\n",
       "    <tr>\n",
       "      <th>3</th>\n",
       "      <td>182.0950</td>\n",
       "      <td>27.062520</td>\n",
       "    </tr>\n",
       "    <tr>\n",
       "      <th>4</th>\n",
       "      <td>53.8614</td>\n",
       "      <td>31.538947</td>\n",
       "    </tr>\n",
       "    <tr>\n",
       "      <th>5</th>\n",
       "      <td>51.4008</td>\n",
       "      <td>23.592558</td>\n",
       "    </tr>\n",
       "    <tr>\n",
       "      <th>6</th>\n",
       "      <td>57.6588</td>\n",
       "      <td>18.535177</td>\n",
       "    </tr>\n",
       "    <tr>\n",
       "      <th>7</th>\n",
       "      <td>107.7622</td>\n",
       "      <td>63.425260</td>\n",
       "    </tr>\n",
       "    <tr>\n",
       "      <th>8</th>\n",
       "      <td>96.9726</td>\n",
       "      <td>32.811562</td>\n",
       "    </tr>\n",
       "    <tr>\n",
       "      <th>9</th>\n",
       "      <td>187.8214</td>\n",
       "      <td>68.633337</td>\n",
       "    </tr>\n",
       "  </tbody>\n",
       "</table>\n",
       "</div>"
      ],
      "text/plain": [
       "   Item_MRP  Item_Outlet_Sales\n",
       "0  249.8092          61.115775\n",
       "1   48.2692          21.057607\n",
       "2  141.6180          45.795961\n",
       "3  182.0950          27.062520\n",
       "4   53.8614          31.538947\n",
       "5   51.4008          23.592558\n",
       "6   57.6588          18.535177\n",
       "7  107.7622          63.425260\n",
       "8   96.9726          32.811562\n",
       "9  187.8214          68.633337"
      ]
     },
     "execution_count": 17,
     "metadata": {},
     "output_type": "execute_result"
    }
   ],
   "source": [
    "new_df = pd.DataFrame(new_df)\n",
    "new_df.columns = ['Item_MRP','Item_Outlet_Sales']\n",
    "new_df.head(10)"
   ]
  },
  {
   "cell_type": "code",
   "execution_count": 18,
   "id": "b693ece2",
   "metadata": {},
   "outputs": [],
   "source": [
    "df[['Item_MRP','Item_Outlet_Sales']]=new_df[['Item_MRP','Item_Outlet_Sales']]"
   ]
  },
  {
   "cell_type": "code",
   "execution_count": 19,
   "id": "e728fe0a",
   "metadata": {},
   "outputs": [
    {
     "name": "stdout",
     "output_type": "stream",
     "text": [
      "Now Information of data is : Item_Identifier              0\n",
      "Item_Weight                  0\n",
      "Item_Fat_Content             0\n",
      "Item_Visibility              0\n",
      "Item_Type                    0\n",
      "Item_MRP                     0\n",
      "Outlet_Identifier            0\n",
      "Outlet_Establishment_Year    0\n",
      "Outlet_Size                  0\n",
      "Outlet_Location_Type         0\n",
      "Outlet_Type                  0\n",
      "Item_Outlet_Sales            0\n",
      "Train_Test                   0\n",
      "dtype: int64\n"
     ]
    }
   ],
   "source": [
    "#Now data has no null values\n",
    "print(\"Now Information of data is :\",df.isna().sum())"
   ]
  },
  {
   "cell_type": "code",
   "execution_count": 20,
   "id": "90a83f30",
   "metadata": {},
   "outputs": [
    {
     "data": {
      "text/html": [
       "<div>\n",
       "<style scoped>\n",
       "    .dataframe tbody tr th:only-of-type {\n",
       "        vertical-align: middle;\n",
       "    }\n",
       "\n",
       "    .dataframe tbody tr th {\n",
       "        vertical-align: top;\n",
       "    }\n",
       "\n",
       "    .dataframe thead th {\n",
       "        text-align: right;\n",
       "    }\n",
       "</style>\n",
       "<table border=\"1\" class=\"dataframe\">\n",
       "  <thead>\n",
       "    <tr style=\"text-align: right;\">\n",
       "      <th></th>\n",
       "      <th>Item_Weight</th>\n",
       "      <th>Item_Visibility</th>\n",
       "      <th>Item_MRP</th>\n",
       "      <th>Outlet_Establishment_Year</th>\n",
       "      <th>Item_Outlet_Sales</th>\n",
       "    </tr>\n",
       "  </thead>\n",
       "  <tbody>\n",
       "    <tr>\n",
       "      <th>count</th>\n",
       "      <td>14204.000000</td>\n",
       "      <td>14204.000000</td>\n",
       "      <td>14204.000000</td>\n",
       "      <td>14204.000000</td>\n",
       "      <td>14204.000000</td>\n",
       "    </tr>\n",
       "    <tr>\n",
       "      <th>mean</th>\n",
       "      <td>12.792854</td>\n",
       "      <td>0.233456</td>\n",
       "      <td>141.004977</td>\n",
       "      <td>1997.830681</td>\n",
       "      <td>42.946802</td>\n",
       "    </tr>\n",
       "    <tr>\n",
       "      <th>std</th>\n",
       "      <td>4.234226</td>\n",
       "      <td>0.107013</td>\n",
       "      <td>62.086938</td>\n",
       "      <td>8.371664</td>\n",
       "      <td>15.632787</td>\n",
       "    </tr>\n",
       "    <tr>\n",
       "      <th>min</th>\n",
       "      <td>4.555000</td>\n",
       "      <td>0.000000</td>\n",
       "      <td>31.290000</td>\n",
       "      <td>1985.000000</td>\n",
       "      <td>5.769749</td>\n",
       "    </tr>\n",
       "    <tr>\n",
       "      <th>25%</th>\n",
       "      <td>9.300000</td>\n",
       "      <td>0.164425</td>\n",
       "      <td>94.012000</td>\n",
       "      <td>1987.000000</td>\n",
       "      <td>32.248715</td>\n",
       "    </tr>\n",
       "    <tr>\n",
       "      <th>50%</th>\n",
       "      <td>12.792854</td>\n",
       "      <td>0.232423</td>\n",
       "      <td>142.247000</td>\n",
       "      <td>1999.000000</td>\n",
       "      <td>42.680544</td>\n",
       "    </tr>\n",
       "    <tr>\n",
       "      <th>75%</th>\n",
       "      <td>16.000000</td>\n",
       "      <td>0.306655</td>\n",
       "      <td>185.855600</td>\n",
       "      <td>2004.000000</td>\n",
       "      <td>52.828658</td>\n",
       "    </tr>\n",
       "    <tr>\n",
       "      <th>max</th>\n",
       "      <td>21.350000</td>\n",
       "      <td>0.573054</td>\n",
       "      <td>266.888400</td>\n",
       "      <td>2009.000000</td>\n",
       "      <td>114.398273</td>\n",
       "    </tr>\n",
       "  </tbody>\n",
       "</table>\n",
       "</div>"
      ],
      "text/plain": [
       "        Item_Weight  Item_Visibility      Item_MRP  Outlet_Establishment_Year  \\\n",
       "count  14204.000000     14204.000000  14204.000000               14204.000000   \n",
       "mean      12.792854         0.233456    141.004977                1997.830681   \n",
       "std        4.234226         0.107013     62.086938                   8.371664   \n",
       "min        4.555000         0.000000     31.290000                1985.000000   \n",
       "25%        9.300000         0.164425     94.012000                1987.000000   \n",
       "50%       12.792854         0.232423    142.247000                1999.000000   \n",
       "75%       16.000000         0.306655    185.855600                2004.000000   \n",
       "max       21.350000         0.573054    266.888400                2009.000000   \n",
       "\n",
       "       Item_Outlet_Sales  \n",
       "count       14204.000000  \n",
       "mean           42.946802  \n",
       "std            15.632787  \n",
       "min             5.769749  \n",
       "25%            32.248715  \n",
       "50%            42.680544  \n",
       "75%            52.828658  \n",
       "max           114.398273  "
      ]
     },
     "execution_count": 20,
     "metadata": {},
     "output_type": "execute_result"
    }
   ],
   "source": [
    "#again chacking information about data\n",
    "df.describe()"
   ]
  },
  {
   "cell_type": "markdown",
   "id": "0ffa0fa3",
   "metadata": {},
   "source": [
    "1. Now we can see that data is mix type so now deal with that"
   ]
  },
  {
   "cell_type": "code",
   "execution_count": 21,
   "id": "7dfe6a1b",
   "metadata": {},
   "outputs": [],
   "source": [
    "#Item_Identifier, outlet_identifier and outlet_year are not importent so drop it\n",
    "df = df.drop(columns=['Item_Identifier','Outlet_Identifier','Outlet_Establishment_Year'])"
   ]
  },
  {
   "cell_type": "markdown",
   "id": "5a5ff0c6",
   "metadata": {},
   "source": [
    "1. first chack all objective data.\n",
    "2. If any of them is not importent then drop that."
   ]
  },
  {
   "cell_type": "code",
   "execution_count": 22,
   "id": "8af86162",
   "metadata": {},
   "outputs": [
    {
     "data": {
      "text/plain": [
       "Item_Weight             float64\n",
       "Item_Fat_Content         object\n",
       "Item_Visibility         float64\n",
       "Item_Type                object\n",
       "Item_MRP                float64\n",
       "Outlet_Size              object\n",
       "Outlet_Location_Type     object\n",
       "Outlet_Type              object\n",
       "Item_Outlet_Sales       float64\n",
       "Train_Test               object\n",
       "dtype: object"
      ]
     },
     "execution_count": 22,
     "metadata": {},
     "output_type": "execute_result"
    }
   ],
   "source": [
    "df.dtypes"
   ]
  },
  {
   "cell_type": "code",
   "execution_count": 23,
   "id": "3bb6ebae",
   "metadata": {},
   "outputs": [
    {
     "data": {
      "text/plain": [
       "Low Fat    8485\n",
       "Regular    4824\n",
       "LF          522\n",
       "reg         195\n",
       "low fat     178\n",
       "Name: Item_Fat_Content, dtype: int64"
      ]
     },
     "execution_count": 23,
     "metadata": {},
     "output_type": "execute_result"
    }
   ],
   "source": [
    "#chacking all data\n",
    "df['Item_Fat_Content'].value_counts()"
   ]
  },
  {
   "cell_type": "code",
   "execution_count": 24,
   "id": "369e5149",
   "metadata": {},
   "outputs": [],
   "source": [
    "df['Item_Fat_Content'] = df['Item_Fat_Content'].replace(\"LF\",\"low fat\")\n",
    "df['Item_Fat_Content'] =df['Item_Fat_Content'].replace(\"Low Fat\",\"low fat\")\n",
    "df['Item_Fat_Content'] =df['Item_Fat_Content'].replace('reg','Regular')"
   ]
  },
  {
   "cell_type": "code",
   "execution_count": 25,
   "id": "90bffdc2",
   "metadata": {},
   "outputs": [
    {
     "data": {
      "text/plain": [
       "low fat    9185\n",
       "Regular    5019\n",
       "Name: Item_Fat_Content, dtype: int64"
      ]
     },
     "execution_count": 25,
     "metadata": {},
     "output_type": "execute_result"
    }
   ],
   "source": [
    "df['Item_Fat_Content'].value_counts()"
   ]
  },
  {
   "cell_type": "code",
   "execution_count": 26,
   "id": "44ba1c97",
   "metadata": {},
   "outputs": [
    {
     "name": "stdout",
     "output_type": "stream",
     "text": [
      "low fat    9185\n",
      "Regular    5019\n",
      "Name: Item_Fat_Content, dtype: int64\n"
     ]
    },
    {
     "data": {
      "image/png": "[encoded data removed]",
      "text/plain": [
       "<Figure size 432x288 with 1 Axes>"
      ]
     },
     "metadata": {
      "needs_background": "light"
     },
     "output_type": "display_data"
    }
   ],
   "source": [
    "#chack value counts by using count plot\n",
    "#Item_fat_content\n",
    "ax = sns.countplot(x=\"Item_Fat_Content\",data=df)\n",
    "print(df['Item_Fat_Content'].value_counts())"
   ]
  },
  {
   "cell_type": "code",
   "execution_count": 27,
   "id": "0e9c9a26",
   "metadata": {},
   "outputs": [
    {
     "name": "stdout",
     "output_type": "stream",
     "text": [
      "Fruits and Vegetables    2013\n",
      "Snack Foods              1989\n",
      "Household                1548\n",
      "Frozen Foods             1426\n",
      "Dairy                    1136\n",
      "Baking Goods             1086\n",
      "Canned                   1084\n",
      "Health and Hygiene        858\n",
      "Meat                      736\n",
      "Soft Drinks               726\n",
      "Breads                    416\n",
      "Hard Drinks               362\n",
      "Others                    280\n",
      "Starchy Foods             269\n",
      "Breakfast                 186\n",
      "Seafood                    89\n",
      "Name: Item_Type, dtype: int64\n"
     ]
    },
    {
     "data": {
      "image/png": "[encoded data removed]",
      "text/plain": [
       "<Figure size 1440x360 with 1 Axes>"
      ]
     },
     "metadata": {
      "needs_background": "light"
     },
     "output_type": "display_data"
    }
   ],
   "source": [
    "#Item type\n",
    "plt.figure(figsize=(20,5),clear=True)\n",
    "ax = sns.countplot(x=\"Item_Type\",data=df)\n",
    "print(df['Item_Type'].value_counts())\n",
    "plt.tight_layout()"
   ]
  },
  {
   "cell_type": "code",
   "execution_count": 28,
   "id": "3f6a6b87",
   "metadata": {},
   "outputs": [
    {
     "name": "stdout",
     "output_type": "stream",
     "text": [
      "Medium    8671\n",
      "Small     3980\n",
      "High      1553\n",
      "Name: Outlet_Size, dtype: int64\n"
     ]
    },
    {
     "data": {
      "image/png": "[encoded data removed]",
      "text/plain": [
       "<Figure size 1440x360 with 1 Axes>"
      ]
     },
     "metadata": {
      "needs_background": "light"
     },
     "output_type": "display_data"
    }
   ],
   "source": [
    "#Outlet size\n",
    "plt.figure(figsize=(20,5),clear=True)\n",
    "ax = sns.countplot(x=\"Outlet_Size\",data=df)\n",
    "print(df['Outlet_Size'].value_counts())\n",
    "plt.tight_layout()"
   ]
  },
  {
   "cell_type": "code",
   "execution_count": 29,
   "id": "8d0321f3",
   "metadata": {},
   "outputs": [
    {
     "name": "stdout",
     "output_type": "stream",
     "text": [
      "Tier 3    5583\n",
      "Tier 2    4641\n",
      "Tier 1    3980\n",
      "Name: Outlet_Location_Type, dtype: int64\n"
     ]
    },
    {
     "data": {
      "image/png": "[encoded data removed]",
      "text/plain": [
       "<Figure size 1440x360 with 1 Axes>"
      ]
     },
     "metadata": {
      "needs_background": "light"
     },
     "output_type": "display_data"
    }
   ],
   "source": [
    "#Outlet location\n",
    "plt.figure(figsize=(20,5),clear=True)\n",
    "ax = sns.countplot(x=\"Outlet_Location_Type\",data=df)\n",
    "print(df['Outlet_Location_Type'].value_counts())\n",
    "plt.tight_layout()"
   ]
  },
  {
   "cell_type": "code",
   "execution_count": 30,
   "id": "1e1531ed",
   "metadata": {},
   "outputs": [
    {
     "name": "stdout",
     "output_type": "stream",
     "text": [
      "Supermarket Type1    9294\n",
      "Grocery Store        1805\n",
      "Supermarket Type3    1559\n",
      "Supermarket Type2    1546\n",
      "Name: Outlet_Type, dtype: int64\n"
     ]
    },
    {
     "data": {
      "image/png": "[encoded data removed]",
      "text/plain": [
       "<Figure size 1440x360 with 1 Axes>"
      ]
     },
     "metadata": {
      "needs_background": "light"
     },
     "output_type": "display_data"
    }
   ],
   "source": [
    "plt.figure(figsize=(20,5),clear=True)\n",
    "ax = sns.countplot(x=\"Outlet_Type\",data=df)\n",
    "print(df['Outlet_Type'].value_counts())\n",
    "plt.tight_layout()"
   ]
  },
  {
   "cell_type": "markdown",
   "id": "178167ad",
   "metadata": {},
   "source": [
    "# Saprate object data for converting into float "
   ]
  },
  {
   "cell_type": "code",
   "execution_count": 31,
   "id": "7ca2ec75",
   "metadata": {},
   "outputs": [
    {
     "name": "stdout",
     "output_type": "stream",
     "text": [
      "<class 'pandas.core.frame.DataFrame'>\n",
      "RangeIndex: 14204 entries, 0 to 14203\n",
      "Data columns (total 10 columns):\n",
      " #   Column                Non-Null Count  Dtype  \n",
      "---  ------                --------------  -----  \n",
      " 0   Item_Weight           14204 non-null  float64\n",
      " 1   Item_Fat_Content      14204 non-null  object \n",
      " 2   Item_Visibility       14204 non-null  float64\n",
      " 3   Item_Type             14204 non-null  object \n",
      " 4   Item_MRP              14204 non-null  float64\n",
      " 5   Outlet_Size           14204 non-null  object \n",
      " 6   Outlet_Location_Type  14204 non-null  object \n",
      " 7   Outlet_Type           14204 non-null  object \n",
      " 8   Item_Outlet_Sales     14204 non-null  float64\n",
      " 9   Train_Test            14204 non-null  object \n",
      "dtypes: float64(4), object(6)\n",
      "memory usage: 1.1+ MB\n"
     ]
    }
   ],
   "source": [
    "df.info()"
   ]
  },
  {
   "cell_type": "code",
   "execution_count": 32,
   "id": "1735fc53",
   "metadata": {},
   "outputs": [
    {
     "data": {
      "text/html": [
       "<div>\n",
       "<style scoped>\n",
       "    .dataframe tbody tr th:only-of-type {\n",
       "        vertical-align: middle;\n",
       "    }\n",
       "\n",
       "    .dataframe tbody tr th {\n",
       "        vertical-align: top;\n",
       "    }\n",
       "\n",
       "    .dataframe thead th {\n",
       "        text-align: right;\n",
       "    }\n",
       "</style>\n",
       "<table border=\"1\" class=\"dataframe\">\n",
       "  <thead>\n",
       "    <tr style=\"text-align: right;\">\n",
       "      <th></th>\n",
       "      <th>Item_Weight</th>\n",
       "      <th>Item_Visibility</th>\n",
       "      <th>Item_MRP</th>\n",
       "      <th>Item_Outlet_Sales</th>\n",
       "      <th>Train_Test</th>\n",
       "      <th>Item_Fat_Content_Regular</th>\n",
       "      <th>Item_Fat_Content_low fat</th>\n",
       "      <th>Item_Type_Baking Goods</th>\n",
       "      <th>Item_Type_Breads</th>\n",
       "      <th>Item_Type_Breakfast</th>\n",
       "      <th>...</th>\n",
       "      <th>Outlet_Size_High</th>\n",
       "      <th>Outlet_Size_Medium</th>\n",
       "      <th>Outlet_Size_Small</th>\n",
       "      <th>Outlet_Location_Type_Tier 1</th>\n",
       "      <th>Outlet_Location_Type_Tier 2</th>\n",
       "      <th>Outlet_Location_Type_Tier 3</th>\n",
       "      <th>Outlet_Type_Grocery Store</th>\n",
       "      <th>Outlet_Type_Supermarket Type1</th>\n",
       "      <th>Outlet_Type_Supermarket Type2</th>\n",
       "      <th>Outlet_Type_Supermarket Type3</th>\n",
       "    </tr>\n",
       "  </thead>\n",
       "  <tbody>\n",
       "    <tr>\n",
       "      <th>14194</th>\n",
       "      <td>15.00</td>\n",
       "      <td>0.233373</td>\n",
       "      <td>59.5904</td>\n",
       "      <td>29.426552</td>\n",
       "      <td>Test</td>\n",
       "      <td>1</td>\n",
       "      <td>0</td>\n",
       "      <td>0</td>\n",
       "      <td>0</td>\n",
       "      <td>0</td>\n",
       "      <td>...</td>\n",
       "      <td>0</td>\n",
       "      <td>1</td>\n",
       "      <td>0</td>\n",
       "      <td>1</td>\n",
       "      <td>0</td>\n",
       "      <td>0</td>\n",
       "      <td>0</td>\n",
       "      <td>1</td>\n",
       "      <td>0</td>\n",
       "      <td>0</td>\n",
       "    </tr>\n",
       "    <tr>\n",
       "      <th>14195</th>\n",
       "      <td>6.86</td>\n",
       "      <td>0.191296</td>\n",
       "      <td>231.1010</td>\n",
       "      <td>57.908752</td>\n",
       "      <td>Test</td>\n",
       "      <td>0</td>\n",
       "      <td>1</td>\n",
       "      <td>0</td>\n",
       "      <td>0</td>\n",
       "      <td>0</td>\n",
       "      <td>...</td>\n",
       "      <td>0</td>\n",
       "      <td>1</td>\n",
       "      <td>0</td>\n",
       "      <td>1</td>\n",
       "      <td>0</td>\n",
       "      <td>0</td>\n",
       "      <td>0</td>\n",
       "      <td>1</td>\n",
       "      <td>0</td>\n",
       "      <td>0</td>\n",
       "    </tr>\n",
       "    <tr>\n",
       "      <th>14196</th>\n",
       "      <td>7.07</td>\n",
       "      <td>0.306680</td>\n",
       "      <td>116.0834</td>\n",
       "      <td>38.808158</td>\n",
       "      <td>Test</td>\n",
       "      <td>0</td>\n",
       "      <td>1</td>\n",
       "      <td>0</td>\n",
       "      <td>0</td>\n",
       "      <td>0</td>\n",
       "      <td>...</td>\n",
       "      <td>0</td>\n",
       "      <td>1</td>\n",
       "      <td>0</td>\n",
       "      <td>0</td>\n",
       "      <td>0</td>\n",
       "      <td>1</td>\n",
       "      <td>0</td>\n",
       "      <td>0</td>\n",
       "      <td>1</td>\n",
       "      <td>0</td>\n",
       "    </tr>\n",
       "    <tr>\n",
       "      <th>14197</th>\n",
       "      <td>15.70</td>\n",
       "      <td>0.175225</td>\n",
       "      <td>43.2770</td>\n",
       "      <td>26.717439</td>\n",
       "      <td>Test</td>\n",
       "      <td>0</td>\n",
       "      <td>1</td>\n",
       "      <td>0</td>\n",
       "      <td>0</td>\n",
       "      <td>0</td>\n",
       "      <td>...</td>\n",
       "      <td>0</td>\n",
       "      <td>0</td>\n",
       "      <td>1</td>\n",
       "      <td>1</td>\n",
       "      <td>0</td>\n",
       "      <td>0</td>\n",
       "      <td>0</td>\n",
       "      <td>1</td>\n",
       "      <td>0</td>\n",
       "      <td>0</td>\n",
       "    </tr>\n",
       "    <tr>\n",
       "      <th>14198</th>\n",
       "      <td>13.00</td>\n",
       "      <td>0.265351</td>\n",
       "      <td>63.4484</td>\n",
       "      <td>30.067237</td>\n",
       "      <td>Test</td>\n",
       "      <td>1</td>\n",
       "      <td>0</td>\n",
       "      <td>0</td>\n",
       "      <td>0</td>\n",
       "      <td>0</td>\n",
       "      <td>...</td>\n",
       "      <td>0</td>\n",
       "      <td>1</td>\n",
       "      <td>0</td>\n",
       "      <td>1</td>\n",
       "      <td>0</td>\n",
       "      <td>0</td>\n",
       "      <td>0</td>\n",
       "      <td>1</td>\n",
       "      <td>0</td>\n",
       "      <td>0</td>\n",
       "    </tr>\n",
       "    <tr>\n",
       "      <th>14199</th>\n",
       "      <td>10.50</td>\n",
       "      <td>0.116174</td>\n",
       "      <td>141.3154</td>\n",
       "      <td>42.998353</td>\n",
       "      <td>Test</td>\n",
       "      <td>1</td>\n",
       "      <td>0</td>\n",
       "      <td>0</td>\n",
       "      <td>0</td>\n",
       "      <td>0</td>\n",
       "      <td>...</td>\n",
       "      <td>0</td>\n",
       "      <td>0</td>\n",
       "      <td>1</td>\n",
       "      <td>1</td>\n",
       "      <td>0</td>\n",
       "      <td>0</td>\n",
       "      <td>0</td>\n",
       "      <td>1</td>\n",
       "      <td>0</td>\n",
       "      <td>0</td>\n",
       "    </tr>\n",
       "    <tr>\n",
       "      <th>14200</th>\n",
       "      <td>7.60</td>\n",
       "      <td>0.378141</td>\n",
       "      <td>169.1448</td>\n",
       "      <td>47.619890</td>\n",
       "      <td>Test</td>\n",
       "      <td>1</td>\n",
       "      <td>0</td>\n",
       "      <td>0</td>\n",
       "      <td>0</td>\n",
       "      <td>0</td>\n",
       "      <td>...</td>\n",
       "      <td>0</td>\n",
       "      <td>1</td>\n",
       "      <td>0</td>\n",
       "      <td>0</td>\n",
       "      <td>0</td>\n",
       "      <td>1</td>\n",
       "      <td>0</td>\n",
       "      <td>0</td>\n",
       "      <td>1</td>\n",
       "      <td>0</td>\n",
       "    </tr>\n",
       "    <tr>\n",
       "      <th>14201</th>\n",
       "      <td>10.00</td>\n",
       "      <td>0.271162</td>\n",
       "      <td>118.7440</td>\n",
       "      <td>39.249995</td>\n",
       "      <td>Test</td>\n",
       "      <td>0</td>\n",
       "      <td>1</td>\n",
       "      <td>0</td>\n",
       "      <td>0</td>\n",
       "      <td>0</td>\n",
       "      <td>...</td>\n",
       "      <td>0</td>\n",
       "      <td>1</td>\n",
       "      <td>0</td>\n",
       "      <td>0</td>\n",
       "      <td>1</td>\n",
       "      <td>0</td>\n",
       "      <td>0</td>\n",
       "      <td>1</td>\n",
       "      <td>0</td>\n",
       "      <td>0</td>\n",
       "    </tr>\n",
       "    <tr>\n",
       "      <th>14202</th>\n",
       "      <td>15.30</td>\n",
       "      <td>0.000000</td>\n",
       "      <td>214.6218</td>\n",
       "      <td>55.172105</td>\n",
       "      <td>Test</td>\n",
       "      <td>1</td>\n",
       "      <td>0</td>\n",
       "      <td>0</td>\n",
       "      <td>0</td>\n",
       "      <td>0</td>\n",
       "      <td>...</td>\n",
       "      <td>0</td>\n",
       "      <td>1</td>\n",
       "      <td>0</td>\n",
       "      <td>0</td>\n",
       "      <td>1</td>\n",
       "      <td>0</td>\n",
       "      <td>0</td>\n",
       "      <td>1</td>\n",
       "      <td>0</td>\n",
       "      <td>0</td>\n",
       "    </tr>\n",
       "    <tr>\n",
       "      <th>14203</th>\n",
       "      <td>9.50</td>\n",
       "      <td>0.323605</td>\n",
       "      <td>79.7960</td>\n",
       "      <td>32.782029</td>\n",
       "      <td>Test</td>\n",
       "      <td>1</td>\n",
       "      <td>0</td>\n",
       "      <td>0</td>\n",
       "      <td>0</td>\n",
       "      <td>0</td>\n",
       "      <td>...</td>\n",
       "      <td>0</td>\n",
       "      <td>1</td>\n",
       "      <td>0</td>\n",
       "      <td>0</td>\n",
       "      <td>1</td>\n",
       "      <td>0</td>\n",
       "      <td>0</td>\n",
       "      <td>1</td>\n",
       "      <td>0</td>\n",
       "      <td>0</td>\n",
       "    </tr>\n",
       "  </tbody>\n",
       "</table>\n",
       "<p>10 rows × 33 columns</p>\n",
       "</div>"
      ],
      "text/plain": [
       "       Item_Weight  Item_Visibility  Item_MRP  Item_Outlet_Sales Train_Test  \\\n",
       "14194        15.00         0.233373   59.5904          29.426552       Test   \n",
       "14195         6.86         0.191296  231.1010          57.908752       Test   \n",
       "14196         7.07         0.306680  116.0834          38.808158       Test   \n",
       "14197        15.70         0.175225   43.2770          26.717439       Test   \n",
       "14198        13.00         0.265351   63.4484          30.067237       Test   \n",
       "14199        10.50         0.116174  141.3154          42.998353       Test   \n",
       "14200         7.60         0.378141  169.1448          47.619890       Test   \n",
       "14201        10.00         0.271162  118.7440          39.249995       Test   \n",
       "14202        15.30         0.000000  214.6218          55.172105       Test   \n",
       "14203         9.50         0.323605   79.7960          32.782029       Test   \n",
       "\n",
       "       Item_Fat_Content_Regular  Item_Fat_Content_low fat  \\\n",
       "14194                         1                         0   \n",
       "14195                         0                         1   \n",
       "14196                         0                         1   \n",
       "14197                         0                         1   \n",
       "14198                         1                         0   \n",
       "14199                         1                         0   \n",
       "14200                         1                         0   \n",
       "14201                         0                         1   \n",
       "14202                         1                         0   \n",
       "14203                         1                         0   \n",
       "\n",
       "       Item_Type_Baking Goods  Item_Type_Breads  Item_Type_Breakfast  ...  \\\n",
       "14194                       0                 0                    0  ...   \n",
       "14195                       0                 0                    0  ...   \n",
       "14196                       0                 0                    0  ...   \n",
       "14197                       0                 0                    0  ...   \n",
       "14198                       0                 0                    0  ...   \n",
       "14199                       0                 0                    0  ...   \n",
       "14200                       0                 0                    0  ...   \n",
       "14201                       0                 0                    0  ...   \n",
       "14202                       0                 0                    0  ...   \n",
       "14203                       0                 0                    0  ...   \n",
       "\n",
       "       Outlet_Size_High  Outlet_Size_Medium  Outlet_Size_Small  \\\n",
       "14194                 0                   1                  0   \n",
       "14195                 0                   1                  0   \n",
       "14196                 0                   1                  0   \n",
       "14197                 0                   0                  1   \n",
       "14198                 0                   1                  0   \n",
       "14199                 0                   0                  1   \n",
       "14200                 0                   1                  0   \n",
       "14201                 0                   1                  0   \n",
       "14202                 0                   1                  0   \n",
       "14203                 0                   1                  0   \n",
       "\n",
       "       Outlet_Location_Type_Tier 1  Outlet_Location_Type_Tier 2  \\\n",
       "14194                            1                            0   \n",
       "14195                            1                            0   \n",
       "14196                            0                            0   \n",
       "14197                            1                            0   \n",
       "14198                            1                            0   \n",
       "14199                            1                            0   \n",
       "14200                            0                            0   \n",
       "14201                            0                            1   \n",
       "14202                            0                            1   \n",
       "14203                            0                            1   \n",
       "\n",
       "       Outlet_Location_Type_Tier 3  Outlet_Type_Grocery Store  \\\n",
       "14194                            0                          0   \n",
       "14195                            0                          0   \n",
       "14196                            1                          0   \n",
       "14197                            0                          0   \n",
       "14198                            0                          0   \n",
       "14199                            0                          0   \n",
       "14200                            1                          0   \n",
       "14201                            0                          0   \n",
       "14202                            0                          0   \n",
       "14203                            0                          0   \n",
       "\n",
       "       Outlet_Type_Supermarket Type1  Outlet_Type_Supermarket Type2  \\\n",
       "14194                              1                              0   \n",
       "14195                              1                              0   \n",
       "14196                              0                              1   \n",
       "14197                              1                              0   \n",
       "14198                              1                              0   \n",
       "14199                              1                              0   \n",
       "14200                              0                              1   \n",
       "14201                              1                              0   \n",
       "14202                              1                              0   \n",
       "14203                              1                              0   \n",
       "\n",
       "       Outlet_Type_Supermarket Type3  \n",
       "14194                              0  \n",
       "14195                              0  \n",
       "14196                              0  \n",
       "14197                              0  \n",
       "14198                              0  \n",
       "14199                              0  \n",
       "14200                              0  \n",
       "14201                              0  \n",
       "14202                              0  \n",
       "14203                              0  \n",
       "\n",
       "[10 rows x 33 columns]"
      ]
     },
     "execution_count": 32,
     "metadata": {},
     "output_type": "execute_result"
    }
   ],
   "source": [
    "df_objective = ['Item_Fat_Content','Item_Type','Outlet_Size','Outlet_Location_Type','Outlet_Type']\n",
    "df = pd.get_dummies(data=df,columns=df_objective)\n",
    "df.tail(10)"
   ]
  },
  {
   "cell_type": "markdown",
   "id": "9cd4a6d7",
   "metadata": {},
   "source": [
    "Saparate data in train and test"
   ]
  },
  {
   "cell_type": "code",
   "execution_count": 33,
   "id": "21a2f0d0",
   "metadata": {},
   "outputs": [],
   "source": [
    "#train and test data split\n",
    "df_train = df.loc[df['Train_Test']=='Train']\n",
    "df_test = df.loc[df['Train_Test']=='Test']"
   ]
  },
  {
   "cell_type": "code",
   "execution_count": 34,
   "id": "d54ba246",
   "metadata": {},
   "outputs": [
    {
     "name": "stdout",
     "output_type": "stream",
     "text": [
      "The shape of train data is : (8523, 33)\n",
      "The shape of test data is : (5681, 33)\n"
     ]
    }
   ],
   "source": [
    "print(\"The shape of train data is :\", df_train.shape)\n",
    "print(\"The shape of test data is :\", df_test.shape)"
   ]
  },
  {
   "cell_type": "code",
   "execution_count": 35,
   "id": "aaac3cf7",
   "metadata": {},
   "outputs": [],
   "source": [
    "#train data split into feature and target\n",
    "df_train_feature = df_train.drop(columns=['Item_Outlet_Sales','Train_Test'])\n",
    "df_train_target = df_train['Item_Outlet_Sales']"
   ]
  },
  {
   "cell_type": "code",
   "execution_count": 36,
   "id": "1eaed1ac",
   "metadata": {},
   "outputs": [
    {
     "name": "stdout",
     "output_type": "stream",
     "text": [
      "<class 'pandas.core.frame.DataFrame'>\n",
      "Int64Index: 8523 entries, 0 to 8522\n",
      "Data columns (total 31 columns):\n",
      " #   Column                           Non-Null Count  Dtype  \n",
      "---  ------                           --------------  -----  \n",
      " 0   Item_Weight                      8523 non-null   float64\n",
      " 1   Item_Visibility                  8523 non-null   float64\n",
      " 2   Item_MRP                         8523 non-null   float64\n",
      " 3   Item_Fat_Content_Regular         8523 non-null   uint8  \n",
      " 4   Item_Fat_Content_low fat         8523 non-null   uint8  \n",
      " 5   Item_Type_Baking Goods           8523 non-null   uint8  \n",
      " 6   Item_Type_Breads                 8523 non-null   uint8  \n",
      " 7   Item_Type_Breakfast              8523 non-null   uint8  \n",
      " 8   Item_Type_Canned                 8523 non-null   uint8  \n",
      " 9   Item_Type_Dairy                  8523 non-null   uint8  \n",
      " 10  Item_Type_Frozen Foods           8523 non-null   uint8  \n",
      " 11  Item_Type_Fruits and Vegetables  8523 non-null   uint8  \n",
      " 12  Item_Type_Hard Drinks            8523 non-null   uint8  \n",
      " 13  Item_Type_Health and Hygiene     8523 non-null   uint8  \n",
      " 14  Item_Type_Household              8523 non-null   uint8  \n",
      " 15  Item_Type_Meat                   8523 non-null   uint8  \n",
      " 16  Item_Type_Others                 8523 non-null   uint8  \n",
      " 17  Item_Type_Seafood                8523 non-null   uint8  \n",
      " 18  Item_Type_Snack Foods            8523 non-null   uint8  \n",
      " 19  Item_Type_Soft Drinks            8523 non-null   uint8  \n",
      " 20  Item_Type_Starchy Foods          8523 non-null   uint8  \n",
      " 21  Outlet_Size_High                 8523 non-null   uint8  \n",
      " 22  Outlet_Size_Medium               8523 non-null   uint8  \n",
      " 23  Outlet_Size_Small                8523 non-null   uint8  \n",
      " 24  Outlet_Location_Type_Tier 1      8523 non-null   uint8  \n",
      " 25  Outlet_Location_Type_Tier 2      8523 non-null   uint8  \n",
      " 26  Outlet_Location_Type_Tier 3      8523 non-null   uint8  \n",
      " 27  Outlet_Type_Grocery Store        8523 non-null   uint8  \n",
      " 28  Outlet_Type_Supermarket Type1    8523 non-null   uint8  \n",
      " 29  Outlet_Type_Supermarket Type2    8523 non-null   uint8  \n",
      " 30  Outlet_Type_Supermarket Type3    8523 non-null   uint8  \n",
      "dtypes: float64(3), uint8(28)\n",
      "memory usage: 499.4 KB\n"
     ]
    }
   ],
   "source": [
    "df_train_feature.info()"
   ]
  },
  {
   "cell_type": "code",
   "execution_count": 37,
   "id": "71f75aa8",
   "metadata": {},
   "outputs": [
    {
     "data": {
      "text/html": [
       "<div>\n",
       "<style scoped>\n",
       "    .dataframe tbody tr th:only-of-type {\n",
       "        vertical-align: middle;\n",
       "    }\n",
       "\n",
       "    .dataframe tbody tr th {\n",
       "        vertical-align: top;\n",
       "    }\n",
       "\n",
       "    .dataframe thead th {\n",
       "        text-align: right;\n",
       "    }\n",
       "</style>\n",
       "<table border=\"1\" class=\"dataframe\">\n",
       "  <thead>\n",
       "    <tr style=\"text-align: right;\">\n",
       "      <th></th>\n",
       "      <th>Item_Weight</th>\n",
       "      <th>Item_Visibility</th>\n",
       "      <th>Item_MRP</th>\n",
       "      <th>Item_Fat_Content_Regular</th>\n",
       "      <th>Item_Fat_Content_low fat</th>\n",
       "      <th>Item_Type_Baking Goods</th>\n",
       "      <th>Item_Type_Breads</th>\n",
       "      <th>Item_Type_Breakfast</th>\n",
       "      <th>Item_Type_Canned</th>\n",
       "      <th>Item_Type_Dairy</th>\n",
       "      <th>...</th>\n",
       "      <th>Outlet_Size_High</th>\n",
       "      <th>Outlet_Size_Medium</th>\n",
       "      <th>Outlet_Size_Small</th>\n",
       "      <th>Outlet_Location_Type_Tier 1</th>\n",
       "      <th>Outlet_Location_Type_Tier 2</th>\n",
       "      <th>Outlet_Location_Type_Tier 3</th>\n",
       "      <th>Outlet_Type_Grocery Store</th>\n",
       "      <th>Outlet_Type_Supermarket Type1</th>\n",
       "      <th>Outlet_Type_Supermarket Type2</th>\n",
       "      <th>Outlet_Type_Supermarket Type3</th>\n",
       "    </tr>\n",
       "  </thead>\n",
       "  <tbody>\n",
       "    <tr>\n",
       "      <th>count</th>\n",
       "      <td>8523.000000</td>\n",
       "      <td>8523.000000</td>\n",
       "      <td>8523.000000</td>\n",
       "      <td>8523.000000</td>\n",
       "      <td>8523.000000</td>\n",
       "      <td>8523.000000</td>\n",
       "      <td>8523.000000</td>\n",
       "      <td>8523.000000</td>\n",
       "      <td>8523.000000</td>\n",
       "      <td>8523.000000</td>\n",
       "      <td>...</td>\n",
       "      <td>8523.000000</td>\n",
       "      <td>8523.000000</td>\n",
       "      <td>8523.000000</td>\n",
       "      <td>8523.000000</td>\n",
       "      <td>8523.000000</td>\n",
       "      <td>8523.000000</td>\n",
       "      <td>8523.000000</td>\n",
       "      <td>8523.000000</td>\n",
       "      <td>8523.000000</td>\n",
       "      <td>8523.000000</td>\n",
       "    </tr>\n",
       "    <tr>\n",
       "      <th>mean</th>\n",
       "      <td>12.846524</td>\n",
       "      <td>0.233709</td>\n",
       "      <td>140.992782</td>\n",
       "      <td>0.352693</td>\n",
       "      <td>0.647307</td>\n",
       "      <td>0.076030</td>\n",
       "      <td>0.029450</td>\n",
       "      <td>0.012906</td>\n",
       "      <td>0.076147</td>\n",
       "      <td>0.080019</td>\n",
       "      <td>...</td>\n",
       "      <td>0.109351</td>\n",
       "      <td>0.610466</td>\n",
       "      <td>0.280183</td>\n",
       "      <td>0.280183</td>\n",
       "      <td>0.326763</td>\n",
       "      <td>0.393054</td>\n",
       "      <td>0.127068</td>\n",
       "      <td>0.654347</td>\n",
       "      <td>0.108882</td>\n",
       "      <td>0.109703</td>\n",
       "    </tr>\n",
       "    <tr>\n",
       "      <th>std</th>\n",
       "      <td>4.226194</td>\n",
       "      <td>0.107301</td>\n",
       "      <td>62.275067</td>\n",
       "      <td>0.477836</td>\n",
       "      <td>0.477836</td>\n",
       "      <td>0.265061</td>\n",
       "      <td>0.169073</td>\n",
       "      <td>0.112877</td>\n",
       "      <td>0.265249</td>\n",
       "      <td>0.271338</td>\n",
       "      <td>...</td>\n",
       "      <td>0.312098</td>\n",
       "      <td>0.487673</td>\n",
       "      <td>0.449115</td>\n",
       "      <td>0.449115</td>\n",
       "      <td>0.469057</td>\n",
       "      <td>0.488457</td>\n",
       "      <td>0.333069</td>\n",
       "      <td>0.475609</td>\n",
       "      <td>0.311509</td>\n",
       "      <td>0.312538</td>\n",
       "    </tr>\n",
       "    <tr>\n",
       "      <th>min</th>\n",
       "      <td>4.555000</td>\n",
       "      <td>0.000000</td>\n",
       "      <td>31.290000</td>\n",
       "      <td>0.000000</td>\n",
       "      <td>0.000000</td>\n",
       "      <td>0.000000</td>\n",
       "      <td>0.000000</td>\n",
       "      <td>0.000000</td>\n",
       "      <td>0.000000</td>\n",
       "      <td>0.000000</td>\n",
       "      <td>...</td>\n",
       "      <td>0.000000</td>\n",
       "      <td>0.000000</td>\n",
       "      <td>0.000000</td>\n",
       "      <td>0.000000</td>\n",
       "      <td>0.000000</td>\n",
       "      <td>0.000000</td>\n",
       "      <td>0.000000</td>\n",
       "      <td>0.000000</td>\n",
       "      <td>0.000000</td>\n",
       "      <td>0.000000</td>\n",
       "    </tr>\n",
       "    <tr>\n",
       "      <th>25%</th>\n",
       "      <td>9.310000</td>\n",
       "      <td>0.164285</td>\n",
       "      <td>93.826500</td>\n",
       "      <td>0.000000</td>\n",
       "      <td>0.000000</td>\n",
       "      <td>0.000000</td>\n",
       "      <td>0.000000</td>\n",
       "      <td>0.000000</td>\n",
       "      <td>0.000000</td>\n",
       "      <td>0.000000</td>\n",
       "      <td>...</td>\n",
       "      <td>0.000000</td>\n",
       "      <td>0.000000</td>\n",
       "      <td>0.000000</td>\n",
       "      <td>0.000000</td>\n",
       "      <td>0.000000</td>\n",
       "      <td>0.000000</td>\n",
       "      <td>0.000000</td>\n",
       "      <td>0.000000</td>\n",
       "      <td>0.000000</td>\n",
       "      <td>0.000000</td>\n",
       "    </tr>\n",
       "    <tr>\n",
       "      <th>50%</th>\n",
       "      <td>12.792854</td>\n",
       "      <td>0.232230</td>\n",
       "      <td>143.012800</td>\n",
       "      <td>0.000000</td>\n",
       "      <td>1.000000</td>\n",
       "      <td>0.000000</td>\n",
       "      <td>0.000000</td>\n",
       "      <td>0.000000</td>\n",
       "      <td>0.000000</td>\n",
       "      <td>0.000000</td>\n",
       "      <td>...</td>\n",
       "      <td>0.000000</td>\n",
       "      <td>1.000000</td>\n",
       "      <td>0.000000</td>\n",
       "      <td>0.000000</td>\n",
       "      <td>0.000000</td>\n",
       "      <td>0.000000</td>\n",
       "      <td>0.000000</td>\n",
       "      <td>1.000000</td>\n",
       "      <td>0.000000</td>\n",
       "      <td>0.000000</td>\n",
       "    </tr>\n",
       "    <tr>\n",
       "      <th>75%</th>\n",
       "      <td>16.000000</td>\n",
       "      <td>0.307547</td>\n",
       "      <td>185.643700</td>\n",
       "      <td>1.000000</td>\n",
       "      <td>1.000000</td>\n",
       "      <td>0.000000</td>\n",
       "      <td>0.000000</td>\n",
       "      <td>0.000000</td>\n",
       "      <td>0.000000</td>\n",
       "      <td>0.000000</td>\n",
       "      <td>...</td>\n",
       "      <td>0.000000</td>\n",
       "      <td>1.000000</td>\n",
       "      <td>1.000000</td>\n",
       "      <td>1.000000</td>\n",
       "      <td>1.000000</td>\n",
       "      <td>1.000000</td>\n",
       "      <td>0.000000</td>\n",
       "      <td>1.000000</td>\n",
       "      <td>0.000000</td>\n",
       "      <td>0.000000</td>\n",
       "    </tr>\n",
       "    <tr>\n",
       "      <th>max</th>\n",
       "      <td>21.350000</td>\n",
       "      <td>0.573054</td>\n",
       "      <td>266.888400</td>\n",
       "      <td>1.000000</td>\n",
       "      <td>1.000000</td>\n",
       "      <td>1.000000</td>\n",
       "      <td>1.000000</td>\n",
       "      <td>1.000000</td>\n",
       "      <td>1.000000</td>\n",
       "      <td>1.000000</td>\n",
       "      <td>...</td>\n",
       "      <td>1.000000</td>\n",
       "      <td>1.000000</td>\n",
       "      <td>1.000000</td>\n",
       "      <td>1.000000</td>\n",
       "      <td>1.000000</td>\n",
       "      <td>1.000000</td>\n",
       "      <td>1.000000</td>\n",
       "      <td>1.000000</td>\n",
       "      <td>1.000000</td>\n",
       "      <td>1.000000</td>\n",
       "    </tr>\n",
       "  </tbody>\n",
       "</table>\n",
       "<p>8 rows × 31 columns</p>\n",
       "</div>"
      ],
      "text/plain": [
       "       Item_Weight  Item_Visibility     Item_MRP  Item_Fat_Content_Regular  \\\n",
       "count  8523.000000      8523.000000  8523.000000               8523.000000   \n",
       "mean     12.846524         0.233709   140.992782                  0.352693   \n",
       "std       4.226194         0.107301    62.275067                  0.477836   \n",
       "min       4.555000         0.000000    31.290000                  0.000000   \n",
       "25%       9.310000         0.164285    93.826500                  0.000000   \n",
       "50%      12.792854         0.232230   143.012800                  0.000000   \n",
       "75%      16.000000         0.307547   185.643700                  1.000000   \n",
       "max      21.350000         0.573054   266.888400                  1.000000   \n",
       "\n",
       "       Item_Fat_Content_low fat  Item_Type_Baking Goods  Item_Type_Breads  \\\n",
       "count               8523.000000             8523.000000       8523.000000   \n",
       "mean                   0.647307                0.076030          0.029450   \n",
       "std                    0.477836                0.265061          0.169073   \n",
       "min                    0.000000                0.000000          0.000000   \n",
       "25%                    0.000000                0.000000          0.000000   \n",
       "50%                    1.000000                0.000000          0.000000   \n",
       "75%                    1.000000                0.000000          0.000000   \n",
       "max                    1.000000                1.000000          1.000000   \n",
       "\n",
       "       Item_Type_Breakfast  Item_Type_Canned  Item_Type_Dairy  ...  \\\n",
       "count          8523.000000       8523.000000      8523.000000  ...   \n",
       "mean              0.012906          0.076147         0.080019  ...   \n",
       "std               0.112877          0.265249         0.271338  ...   \n",
       "min               0.000000          0.000000         0.000000  ...   \n",
       "25%               0.000000          0.000000         0.000000  ...   \n",
       "50%               0.000000          0.000000         0.000000  ...   \n",
       "75%               0.000000          0.000000         0.000000  ...   \n",
       "max               1.000000          1.000000         1.000000  ...   \n",
       "\n",
       "       Outlet_Size_High  Outlet_Size_Medium  Outlet_Size_Small  \\\n",
       "count       8523.000000         8523.000000        8523.000000   \n",
       "mean           0.109351            0.610466           0.280183   \n",
       "std            0.312098            0.487673           0.449115   \n",
       "min            0.000000            0.000000           0.000000   \n",
       "25%            0.000000            0.000000           0.000000   \n",
       "50%            0.000000            1.000000           0.000000   \n",
       "75%            0.000000            1.000000           1.000000   \n",
       "max            1.000000            1.000000           1.000000   \n",
       "\n",
       "       Outlet_Location_Type_Tier 1  Outlet_Location_Type_Tier 2  \\\n",
       "count                  8523.000000                  8523.000000   \n",
       "mean                      0.280183                     0.326763   \n",
       "std                       0.449115                     0.469057   \n",
       "min                       0.000000                     0.000000   \n",
       "25%                       0.000000                     0.000000   \n",
       "50%                       0.000000                     0.000000   \n",
       "75%                       1.000000                     1.000000   \n",
       "max                       1.000000                     1.000000   \n",
       "\n",
       "       Outlet_Location_Type_Tier 3  Outlet_Type_Grocery Store  \\\n",
       "count                  8523.000000                8523.000000   \n",
       "mean                      0.393054                   0.127068   \n",
       "std                       0.488457                   0.333069   \n",
       "min                       0.000000                   0.000000   \n",
       "25%                       0.000000                   0.000000   \n",
       "50%                       0.000000                   0.000000   \n",
       "75%                       1.000000                   0.000000   \n",
       "max                       1.000000                   1.000000   \n",
       "\n",
       "       Outlet_Type_Supermarket Type1  Outlet_Type_Supermarket Type2  \\\n",
       "count                    8523.000000                    8523.000000   \n",
       "mean                        0.654347                       0.108882   \n",
       "std                         0.475609                       0.311509   \n",
       "min                         0.000000                       0.000000   \n",
       "25%                         0.000000                       0.000000   \n",
       "50%                         1.000000                       0.000000   \n",
       "75%                         1.000000                       0.000000   \n",
       "max                         1.000000                       1.000000   \n",
       "\n",
       "       Outlet_Type_Supermarket Type3  \n",
       "count                    8523.000000  \n",
       "mean                        0.109703  \n",
       "std                         0.312538  \n",
       "min                         0.000000  \n",
       "25%                         0.000000  \n",
       "50%                         0.000000  \n",
       "75%                         0.000000  \n",
       "max                         1.000000  \n",
       "\n",
       "[8 rows x 31 columns]"
      ]
     },
     "execution_count": 37,
     "metadata": {},
     "output_type": "execute_result"
    }
   ],
   "source": [
    "df_train_feature.describe()"
   ]
  },
  {
   "cell_type": "code",
   "execution_count": 38,
   "id": "4de12b3c",
   "metadata": {},
   "outputs": [
    {
     "data": {
      "text/plain": [
       "count    8523.000000\n",
       "mean       42.944777\n",
       "std        18.359591\n",
       "min         5.769749\n",
       "25%        28.883339\n",
       "50%        42.359544\n",
       "75%        55.689284\n",
       "max       114.398273\n",
       "Name: Item_Outlet_Sales, dtype: float64"
      ]
     },
     "execution_count": 38,
     "metadata": {},
     "output_type": "execute_result"
    }
   ],
   "source": [
    "df_train_target.describe()"
   ]
  },
  {
   "cell_type": "markdown",
   "id": "fdd90dc4",
   "metadata": {},
   "source": [
    "# Use PCA for feature selection"
   ]
  },
  {
   "cell_type": "code",
   "execution_count": 39,
   "id": "5000ebe6",
   "metadata": {},
   "outputs": [],
   "source": [
    "#first need to Scaled data\n",
    "from sklearn.preprocessing import StandardScaler\n",
    "from sklearn.decomposition import PCA\n",
    "from sklearn.metrics import explained_variance_score\n",
    "scelar = StandardScaler()\n",
    "df_train_feature_scaled =scelar.fit_transform(df_train_feature)\n",
    "df_train_feature_scaled\n",
    "pca = PCA()"
   ]
  },
  {
   "cell_type": "markdown",
   "id": "b2adecd5",
   "metadata": {},
   "source": [
    "For finding best compnent use scree plot"
   ]
  },
  {
   "cell_type": "code",
   "execution_count": 40,
   "id": "194d3d80",
   "metadata": {},
   "outputs": [
    {
     "name": "stdout",
     "output_type": "stream",
     "text": [
      "The number of component which explaning 95% of varience : 23\n"
     ]
    },
    {
     "data": {
      "image/png": "[encoded data removed]",
      "text/plain": [
       "<Figure size 432x288 with 1 Axes>"
      ]
     },
     "metadata": {
      "needs_background": "light"
     },
     "output_type": "display_data"
    }
   ],
   "source": [
    "test_pca = pca.fit(df_train_feature_scaled)\n",
    "plt.figure()\n",
    "var_cummn = np.cumsum(test_pca.explained_variance_ratio_)*100\n",
    "k  = np.argmax(var_cummn>95)\n",
    "print(\"The number of component which explaning 95% of varience :\", k)\n",
    "plt.plot(var_cummn)\n",
    "plt.xlabel(\"Principal Component\")\n",
    "plt.ylabel(\"Varience Coverd\")\n",
    "plt.title(\"PCA\")\n",
    "plt.show()"
   ]
  },
  {
   "cell_type": "code",
   "execution_count": 41,
   "id": "8b41cb46",
   "metadata": {},
   "outputs": [
    {
     "data": {
      "text/plain": [
       "PCA(n_components=23)"
      ]
     },
     "execution_count": 41,
     "metadata": {},
     "output_type": "execute_result"
    }
   ],
   "source": [
    "#build pca modal\n",
    "pca = PCA(n_components=23)\n",
    "feature_df = pca.fit(df_train_feature_scaled)\n",
    "feature_df"
   ]
  },
  {
   "cell_type": "code",
   "execution_count": 42,
   "id": "e8a181a6",
   "metadata": {},
   "outputs": [],
   "source": [
    "#final feature\n",
    "feature = pca.transform(df_train_feature_scaled)"
   ]
  },
  {
   "cell_type": "code",
   "execution_count": 43,
   "id": "74439319",
   "metadata": {},
   "outputs": [
    {
     "data": {
      "text/plain": [
       "(8523, 23)"
      ]
     },
     "execution_count": 43,
     "metadata": {},
     "output_type": "execute_result"
    }
   ],
   "source": [
    "feature.shape"
   ]
  },
  {
   "cell_type": "markdown",
   "id": "82415cae",
   "metadata": {},
   "source": [
    "# best random state"
   ]
  },
  {
   "cell_type": "code",
   "execution_count": 44,
   "id": "b03149ab",
   "metadata": {},
   "outputs": [],
   "source": [
    "from sklearn.model_selection import train_test_split,cross_val_score\n",
    "from sklearn.metrics import r2_score,mean_absolute_error,mean_squared_error\n",
    "# Let's find the best random state\n",
    "\n",
    "def random_state(reg):\n",
    "    max_r2 = 0\n",
    "    max_state = 0\n",
    "    for i in range(1,301):\n",
    "        x_train,x_test,y_train,y_test = train_test_split(feature,df_train_target, test_size = 0.25, random_state = i)\n",
    "        reg.fit(x_train, y_train)\n",
    "        y_pred = reg.predict(x_test)\n",
    "        r2_Score = r2_score(y_test, y_pred)\n",
    "        if r2_Score>max_r2:\n",
    "            max_r2 = r2_Score\n",
    "            max_state = i\n",
    "    print(\"Best R2_Score corresponding to \",max_state, \"is \",max_r2)"
   ]
  },
  {
   "cell_type": "markdown",
   "id": "4edb51b3",
   "metadata": {},
   "source": [
    "#  LinearRegression"
   ]
  },
  {
   "cell_type": "code",
   "execution_count": 45,
   "id": "04a76c51",
   "metadata": {},
   "outputs": [
    {
     "name": "stdout",
     "output_type": "stream",
     "text": [
      "Best R2_Score corresponding to  297 is  0.605461283769074\n"
     ]
    }
   ],
   "source": [
    "from sklearn.linear_model import LinearRegression\n",
    "lr = LinearRegression()\n",
    "random_state(lr)"
   ]
  },
  {
   "cell_type": "markdown",
   "id": "42b575ba",
   "metadata": {},
   "source": [
    "# Build Modal "
   ]
  },
  {
   "cell_type": "code",
   "execution_count": 46,
   "id": "d4fec74f",
   "metadata": {},
   "outputs": [],
   "source": [
    "def Modal(function):\n",
    "    x_train,x_test,y_train,y_test = train_test_split(feature,df_train_target,train_size=0.75,random_state=297)\n",
    "    function.fit(x_train,y_train)\n",
    "    y_pre = function.predict(x_test)\n",
    "    print(\"Score of test data is :\",r2_score(y_test,y_pre))\n",
    "    print(\"Mean absolute error is :\",mean_absolute_error(y_test,y_pre))\n",
    "    print(\"Mean squared error is :\",mean_squared_error(y_test,y_pre))\n",
    "    \n",
    "def Cross_value_score(function):\n",
    "    score = cross_val_score(function,feature,df_train_feature,cv=5,scoring='r2')\n",
    "    print(\"Cross value score is :\",score.mean())\n",
    "    \n",
    "\n",
    "    \n",
    "    "
   ]
  },
  {
   "cell_type": "code",
   "execution_count": 47,
   "id": "3d68bde4",
   "metadata": {},
   "outputs": [
    {
     "name": "stdout",
     "output_type": "stream",
     "text": [
      "Score of test data is : 0.605461283769074\n",
      "Mean absolute error is : 9.248551361887744\n",
      "Mean squared error is : 140.51050464779811\n",
      "Cross value score is : 0.9473450176232234\n"
     ]
    }
   ],
   "source": [
    "Modal(lr)\n",
    "Cross_value_score(lr)"
   ]
  },
  {
   "cell_type": "markdown",
   "id": "4f540509",
   "metadata": {},
   "source": [
    "# Random Forest"
   ]
  },
  {
   "cell_type": "code",
   "execution_count": 48,
   "id": "7d6b0f08",
   "metadata": {},
   "outputs": [
    {
     "name": "stdout",
     "output_type": "stream",
     "text": [
      "Score of test data is : 0.6572887938673959\n",
      "Mean absolute error is : 8.553123896741264\n",
      "Mean squared error is : 122.05272268884917\n"
     ]
    }
   ],
   "source": [
    "from sklearn.ensemble import RandomForestRegressor\n",
    "rand_forest = RandomForestRegressor()\n",
    "Modal(rand_forest)\n",
    "#Cross_value_score(rand_forest)"
   ]
  },
  {
   "cell_type": "code",
   "execution_count": 49,
   "id": "17be9711",
   "metadata": {},
   "outputs": [],
   "source": [
    "score = cross_val_score(rand_forest,feature,df_train_target,cv=2,scoring='r2').mean()"
   ]
  },
  {
   "cell_type": "code",
   "execution_count": 50,
   "id": "d02c108f",
   "metadata": {},
   "outputs": [
    {
     "data": {
      "text/plain": [
       "0.6093410782510894"
      ]
     },
     "execution_count": 50,
     "metadata": {},
     "output_type": "execute_result"
    }
   ],
   "source": [
    "score"
   ]
  },
  {
   "cell_type": "markdown",
   "id": "2dcdb330",
   "metadata": {},
   "source": [
    "# Dession Tree"
   ]
  },
  {
   "cell_type": "code",
   "execution_count": 51,
   "id": "862189d3",
   "metadata": {},
   "outputs": [
    {
     "name": "stdout",
     "output_type": "stream",
     "text": [
      "Score of test data is : 0.3671294138041199\n",
      "Mean absolute error is : 11.640631568417092\n",
      "Mean squared error is : 225.3897064720072\n"
     ]
    }
   ],
   "source": [
    "from sklearn.tree import DecisionTreeRegressor\n",
    "d_tree = DecisionTreeRegressor()\n",
    "Modal(d_tree)"
   ]
  },
  {
   "cell_type": "code",
   "execution_count": 52,
   "id": "bbb254cf",
   "metadata": {},
   "outputs": [
    {
     "name": "stdout",
     "output_type": "stream",
     "text": [
      "Cross value score is : 0.34078414573182175\n"
     ]
    }
   ],
   "source": [
    "Cross_value_score(d_tree)"
   ]
  },
  {
   "cell_type": "markdown",
   "id": "753ce01d",
   "metadata": {},
   "source": [
    "# Knn Regression"
   ]
  },
  {
   "cell_type": "code",
   "execution_count": 53,
   "id": "3df6c2ab",
   "metadata": {},
   "outputs": [
    {
     "name": "stdout",
     "output_type": "stream",
     "text": [
      "Score of test data is : 0.5961214812014022\n",
      "Mean absolute error is : 9.327543781090913\n",
      "Mean squared error is : 143.8367697723753\n",
      "Cross value score is : 0.9791390126773111\n"
     ]
    }
   ],
   "source": [
    "from sklearn.neighbors import KNeighborsRegressor\n",
    "knn_reg = KNeighborsRegressor()\n",
    "Modal(knn_reg)\n",
    "Cross_value_score(knn_reg)"
   ]
  },
  {
   "cell_type": "markdown",
   "id": "6dcf898a",
   "metadata": {},
   "source": [
    "# AddaBoost Regression"
   ]
  },
  {
   "cell_type": "code",
   "execution_count": 54,
   "id": "98594c5e",
   "metadata": {},
   "outputs": [
    {
     "name": "stdout",
     "output_type": "stream",
     "text": [
      "Score of test data is : 0.5543988921636277\n",
      "Mean absolute error is : 10.264110049434437\n",
      "Mean squared error is : 158.69579830299747\n",
      "Cross value score is : nan\n"
     ]
    }
   ],
   "source": [
    "from sklearn.ensemble import AdaBoostRegressor\n",
    "ada_boost_reg = AdaBoostRegressor()\n",
    "Modal(ada_boost_reg)\n",
    "Cross_value_score(ada_boost_reg)"
   ]
  },
  {
   "cell_type": "markdown",
   "id": "2573def3",
   "metadata": {},
   "source": [
    "# Gradient Boosting Regression"
   ]
  },
  {
   "cell_type": "code",
   "execution_count": 55,
   "id": "7e55abf0",
   "metadata": {},
   "outputs": [
    {
     "name": "stdout",
     "output_type": "stream",
     "text": [
      "Score of test data is : 0.6847148356047257\n",
      "Mean absolute error is : 8.148993860034432\n",
      "Mean squared error is : 112.28524789748242\n",
      "Cross value score is : nan\n"
     ]
    }
   ],
   "source": [
    "from sklearn.ensemble import GradientBoostingRegressor\n",
    "grand_boost_reg = GradientBoostingRegressor()\n",
    "Modal(grand_boost_reg)\n",
    "Cross_value_score(grand_boost_reg)"
   ]
  },
  {
   "cell_type": "markdown",
   "id": "93d40d32",
   "metadata": {},
   "source": [
    "# XGB Regression"
   ]
  },
  {
   "cell_type": "code",
   "execution_count": 56,
   "id": "4f498422",
   "metadata": {},
   "outputs": [
    {
     "name": "stdout",
     "output_type": "stream",
     "text": [
      "Score of test data is : 0.6377838643896679\n",
      "Mean absolute error is : 8.729834703180815\n",
      "Mean squared error is : 128.99918287459977\n"
     ]
    }
   ],
   "source": [
    "from xgboost import XGBRegressor\n",
    "xgb_reg= XGBRegressor()\n",
    "Modal(xgb_reg)"
   ]
  },
  {
   "cell_type": "markdown",
   "id": "f8ae6fd4",
   "metadata": {},
   "source": [
    "# SVM Regression"
   ]
  },
  {
   "cell_type": "code",
   "execution_count": 57,
   "id": "c375a1fd",
   "metadata": {},
   "outputs": [
    {
     "name": "stdout",
     "output_type": "stream",
     "text": [
      "Score of test data is : 0.6338398002544505\n",
      "Mean absolute error is : 8.868531641154899\n",
      "Mean squared error is : 130.40381673993207\n",
      "Cross value score is : nan\n"
     ]
    }
   ],
   "source": [
    "from sklearn.svm import SVR\n",
    "svr_reg = SVR()\n",
    "Modal(svr_reg)\n",
    "Cross_value_score(svr_reg)"
   ]
  },
  {
   "cell_type": "markdown",
   "id": "4abdcf6f",
   "metadata": {},
   "source": [
    "# Gradient Boosting Regression gives good score."
   ]
  },
  {
   "cell_type": "markdown",
   "id": "6ae1ad87",
   "metadata": {},
   "source": [
    "1. final Modal is Gradient boosting regression.\n"
   ]
  },
  {
   "cell_type": "markdown",
   "id": "851851c6",
   "metadata": {},
   "source": [
    "# Hyper perameter tunning"
   ]
  },
  {
   "cell_type": "markdown",
   "id": "acabaec9",
   "metadata": {},
   "source": [
    "1. Grid search cv"
   ]
  },
  {
   "cell_type": "code",
   "execution_count": 63,
   "id": "885f5ba6",
   "metadata": {},
   "outputs": [],
   "source": [
    "x_train,x_test,y_train,y_test =train_test_split(feature,df_train_target,random_state=257,test_size=0.25)\n",
    "from sklearn.model_selection import GridSearchCV\n",
    "GradientBoostingRegressor()\n",
    "param_grid = {\"min_samples_leaf\" : [1,2], \"min_samples_split\": [2,3,4],\n",
    "             \"n_estimators\" : [100], \"criterion\" : [\"friedman_mse\"]}"
   ]
  },
  {
   "cell_type": "code",
   "execution_count": 64,
   "id": "f5771ce8",
   "metadata": {},
   "outputs": [],
   "source": [
    "grid_cv = GridSearchCV(grand_boost_reg,param_grid=param_grid)"
   ]
  },
  {
   "cell_type": "code",
   "execution_count": 65,
   "id": "b5f33ae7",
   "metadata": {},
   "outputs": [
    {
     "data": {
      "text/plain": [
       "GridSearchCV(estimator=GradientBoostingRegressor(),\n",
       "             param_grid={'criterion': ['friedman_mse'],\n",
       "                         'min_samples_leaf': [1, 2],\n",
       "                         'min_samples_split': [2, 3, 4],\n",
       "                         'n_estimators': [100]})"
      ]
     },
     "execution_count": 65,
     "metadata": {},
     "output_type": "execute_result"
    }
   ],
   "source": [
    "grid_cv.fit(x_train,y_train)"
   ]
  },
  {
   "cell_type": "code",
   "execution_count": 66,
   "id": "ad9c7b0a",
   "metadata": {},
   "outputs": [
    {
     "data": {
      "text/plain": [
       "{'criterion': 'friedman_mse',\n",
       " 'min_samples_leaf': 1,\n",
       " 'min_samples_split': 2,\n",
       " 'n_estimators': 100}"
      ]
     },
     "execution_count": 66,
     "metadata": {},
     "output_type": "execute_result"
    }
   ],
   "source": [
    "grid_cv.best_params_"
   ]
  },
  {
   "cell_type": "code",
   "execution_count": 67,
   "id": "5eb4827d",
   "metadata": {},
   "outputs": [],
   "source": [
    "#now again build modal with some parameters \n",
    "gradiant_boost_grid_cv = GradientBoostingRegressor(criterion='friedman_mse',min_samples_leaf=1,min_samples_split=2,n_estimators=100)"
   ]
  },
  {
   "cell_type": "code",
   "execution_count": 68,
   "id": "78092f46",
   "metadata": {},
   "outputs": [
    {
     "name": "stdout",
     "output_type": "stream",
     "text": [
      "Score of test data is : 0.6849128088884802\n",
      "Mean absolute error is : 8.145530617912925\n",
      "Mean squared error is : 112.21474194999807\n",
      "Cross value score is : nan\n"
     ]
    }
   ],
   "source": [
    "Modal(gradiant_boost_grid_cv)\n",
    "Cross_value_score(gradiant_boost_grid_cv)"
   ]
  },
  {
   "cell_type": "markdown",
   "id": "41f3ed45",
   "metadata": {},
   "source": [
    "# Now test modal "
   ]
  },
  {
   "cell_type": "code",
   "execution_count": 69,
   "id": "c4ff15a5",
   "metadata": {},
   "outputs": [
    {
     "data": {
      "text/html": [
       "<div>\n",
       "<style scoped>\n",
       "    .dataframe tbody tr th:only-of-type {\n",
       "        vertical-align: middle;\n",
       "    }\n",
       "\n",
       "    .dataframe tbody tr th {\n",
       "        vertical-align: top;\n",
       "    }\n",
       "\n",
       "    .dataframe thead th {\n",
       "        text-align: right;\n",
       "    }\n",
       "</style>\n",
       "<table border=\"1\" class=\"dataframe\">\n",
       "  <thead>\n",
       "    <tr style=\"text-align: right;\">\n",
       "      <th></th>\n",
       "      <th>Item_Weight</th>\n",
       "      <th>Item_Visibility</th>\n",
       "      <th>Item_MRP</th>\n",
       "      <th>Item_Outlet_Sales</th>\n",
       "      <th>Train_Test</th>\n",
       "      <th>Item_Fat_Content_Regular</th>\n",
       "      <th>Item_Fat_Content_low fat</th>\n",
       "      <th>Item_Type_Baking Goods</th>\n",
       "      <th>Item_Type_Breads</th>\n",
       "      <th>Item_Type_Breakfast</th>\n",
       "      <th>...</th>\n",
       "      <th>Outlet_Size_High</th>\n",
       "      <th>Outlet_Size_Medium</th>\n",
       "      <th>Outlet_Size_Small</th>\n",
       "      <th>Outlet_Location_Type_Tier 1</th>\n",
       "      <th>Outlet_Location_Type_Tier 2</th>\n",
       "      <th>Outlet_Location_Type_Tier 3</th>\n",
       "      <th>Outlet_Type_Grocery Store</th>\n",
       "      <th>Outlet_Type_Supermarket Type1</th>\n",
       "      <th>Outlet_Type_Supermarket Type2</th>\n",
       "      <th>Outlet_Type_Supermarket Type3</th>\n",
       "    </tr>\n",
       "  </thead>\n",
       "  <tbody>\n",
       "    <tr>\n",
       "      <th>8523</th>\n",
       "      <td>20.750000</td>\n",
       "      <td>0.086976</td>\n",
       "      <td>107.8622</td>\n",
       "      <td>37.442890</td>\n",
       "      <td>Test</td>\n",
       "      <td>0</td>\n",
       "      <td>1</td>\n",
       "      <td>0</td>\n",
       "      <td>0</td>\n",
       "      <td>0</td>\n",
       "      <td>...</td>\n",
       "      <td>0</td>\n",
       "      <td>1</td>\n",
       "      <td>0</td>\n",
       "      <td>1</td>\n",
       "      <td>0</td>\n",
       "      <td>0</td>\n",
       "      <td>0</td>\n",
       "      <td>1</td>\n",
       "      <td>0</td>\n",
       "      <td>0</td>\n",
       "    </tr>\n",
       "    <tr>\n",
       "      <th>8524</th>\n",
       "      <td>8.300000</td>\n",
       "      <td>0.196030</td>\n",
       "      <td>87.3198</td>\n",
       "      <td>34.031482</td>\n",
       "      <td>Test</td>\n",
       "      <td>1</td>\n",
       "      <td>0</td>\n",
       "      <td>0</td>\n",
       "      <td>0</td>\n",
       "      <td>0</td>\n",
       "      <td>...</td>\n",
       "      <td>0</td>\n",
       "      <td>1</td>\n",
       "      <td>0</td>\n",
       "      <td>0</td>\n",
       "      <td>1</td>\n",
       "      <td>0</td>\n",
       "      <td>0</td>\n",
       "      <td>1</td>\n",
       "      <td>0</td>\n",
       "      <td>0</td>\n",
       "    </tr>\n",
       "    <tr>\n",
       "      <th>8525</th>\n",
       "      <td>14.600000</td>\n",
       "      <td>0.315555</td>\n",
       "      <td>241.7538</td>\n",
       "      <td>59.677827</td>\n",
       "      <td>Test</td>\n",
       "      <td>0</td>\n",
       "      <td>1</td>\n",
       "      <td>0</td>\n",
       "      <td>0</td>\n",
       "      <td>0</td>\n",
       "      <td>...</td>\n",
       "      <td>0</td>\n",
       "      <td>1</td>\n",
       "      <td>0</td>\n",
       "      <td>0</td>\n",
       "      <td>0</td>\n",
       "      <td>1</td>\n",
       "      <td>1</td>\n",
       "      <td>0</td>\n",
       "      <td>0</td>\n",
       "      <td>0</td>\n",
       "    </tr>\n",
       "    <tr>\n",
       "      <th>8526</th>\n",
       "      <td>7.315000</td>\n",
       "      <td>0.124050</td>\n",
       "      <td>155.0340</td>\n",
       "      <td>45.276556</td>\n",
       "      <td>Test</td>\n",
       "      <td>0</td>\n",
       "      <td>1</td>\n",
       "      <td>0</td>\n",
       "      <td>0</td>\n",
       "      <td>0</td>\n",
       "      <td>...</td>\n",
       "      <td>0</td>\n",
       "      <td>1</td>\n",
       "      <td>0</td>\n",
       "      <td>0</td>\n",
       "      <td>1</td>\n",
       "      <td>0</td>\n",
       "      <td>0</td>\n",
       "      <td>1</td>\n",
       "      <td>0</td>\n",
       "      <td>0</td>\n",
       "    </tr>\n",
       "    <tr>\n",
       "      <th>8527</th>\n",
       "      <td>12.792854</td>\n",
       "      <td>0.344383</td>\n",
       "      <td>234.2300</td>\n",
       "      <td>58.428375</td>\n",
       "      <td>Test</td>\n",
       "      <td>1</td>\n",
       "      <td>0</td>\n",
       "      <td>0</td>\n",
       "      <td>0</td>\n",
       "      <td>0</td>\n",
       "      <td>...</td>\n",
       "      <td>0</td>\n",
       "      <td>1</td>\n",
       "      <td>0</td>\n",
       "      <td>0</td>\n",
       "      <td>0</td>\n",
       "      <td>1</td>\n",
       "      <td>0</td>\n",
       "      <td>0</td>\n",
       "      <td>0</td>\n",
       "      <td>1</td>\n",
       "    </tr>\n",
       "  </tbody>\n",
       "</table>\n",
       "<p>5 rows × 33 columns</p>\n",
       "</div>"
      ],
      "text/plain": [
       "      Item_Weight  Item_Visibility  Item_MRP  Item_Outlet_Sales Train_Test  \\\n",
       "8523    20.750000         0.086976  107.8622          37.442890       Test   \n",
       "8524     8.300000         0.196030   87.3198          34.031482       Test   \n",
       "8525    14.600000         0.315555  241.7538          59.677827       Test   \n",
       "8526     7.315000         0.124050  155.0340          45.276556       Test   \n",
       "8527    12.792854         0.344383  234.2300          58.428375       Test   \n",
       "\n",
       "      Item_Fat_Content_Regular  Item_Fat_Content_low fat  \\\n",
       "8523                         0                         1   \n",
       "8524                         1                         0   \n",
       "8525                         0                         1   \n",
       "8526                         0                         1   \n",
       "8527                         1                         0   \n",
       "\n",
       "      Item_Type_Baking Goods  Item_Type_Breads  Item_Type_Breakfast  ...  \\\n",
       "8523                       0                 0                    0  ...   \n",
       "8524                       0                 0                    0  ...   \n",
       "8525                       0                 0                    0  ...   \n",
       "8526                       0                 0                    0  ...   \n",
       "8527                       0                 0                    0  ...   \n",
       "\n",
       "      Outlet_Size_High  Outlet_Size_Medium  Outlet_Size_Small  \\\n",
       "8523                 0                   1                  0   \n",
       "8524                 0                   1                  0   \n",
       "8525                 0                   1                  0   \n",
       "8526                 0                   1                  0   \n",
       "8527                 0                   1                  0   \n",
       "\n",
       "      Outlet_Location_Type_Tier 1  Outlet_Location_Type_Tier 2  \\\n",
       "8523                            1                            0   \n",
       "8524                            0                            1   \n",
       "8525                            0                            0   \n",
       "8526                            0                            1   \n",
       "8527                            0                            0   \n",
       "\n",
       "      Outlet_Location_Type_Tier 3  Outlet_Type_Grocery Store  \\\n",
       "8523                            0                          0   \n",
       "8524                            0                          0   \n",
       "8525                            1                          1   \n",
       "8526                            0                          0   \n",
       "8527                            1                          0   \n",
       "\n",
       "      Outlet_Type_Supermarket Type1  Outlet_Type_Supermarket Type2  \\\n",
       "8523                              1                              0   \n",
       "8524                              1                              0   \n",
       "8525                              0                              0   \n",
       "8526                              1                              0   \n",
       "8527                              0                              0   \n",
       "\n",
       "      Outlet_Type_Supermarket Type3  \n",
       "8523                              0  \n",
       "8524                              0  \n",
       "8525                              0  \n",
       "8526                              0  \n",
       "8527                              1  \n",
       "\n",
       "[5 rows x 33 columns]"
      ]
     },
     "execution_count": 69,
     "metadata": {},
     "output_type": "execute_result"
    }
   ],
   "source": [
    "df_test.head()"
   ]
  },
  {
   "cell_type": "code",
   "execution_count": 70,
   "id": "88244d64",
   "metadata": {},
   "outputs": [],
   "source": [
    "df_test_for_chacking = df_test['Item_Outlet_Sales']\n",
    "df_test= df_test.drop(columns=['Train_Test','Item_Outlet_Sales'])"
   ]
  },
  {
   "cell_type": "code",
   "execution_count": 71,
   "id": "a35affdb",
   "metadata": {},
   "outputs": [
    {
     "data": {
      "text/plain": [
       "(5681, 31)"
      ]
     },
     "execution_count": 71,
     "metadata": {},
     "output_type": "execute_result"
    }
   ],
   "source": [
    "df_test.shape"
   ]
  },
  {
   "cell_type": "code",
   "execution_count": 72,
   "id": "888d37fb",
   "metadata": {},
   "outputs": [
    {
     "data": {
      "text/plain": [
       "(8523, 31)"
      ]
     },
     "execution_count": 72,
     "metadata": {},
     "output_type": "execute_result"
    }
   ],
   "source": [
    "df_train_feature.shape"
   ]
  },
  {
   "cell_type": "code",
   "execution_count": 73,
   "id": "4c234a0d",
   "metadata": {},
   "outputs": [],
   "source": [
    "test_scaled = scelar.fit_transform(df_test)\n"
   ]
  },
  {
   "cell_type": "code",
   "execution_count": 74,
   "id": "9e3f5cc4",
   "metadata": {},
   "outputs": [],
   "source": [
    "test_pca = pca.fit(test_scaled)"
   ]
  },
  {
   "cell_type": "code",
   "execution_count": 75,
   "id": "8350df60",
   "metadata": {},
   "outputs": [],
   "source": [
    "test_pca=pca.transform(test_scaled)"
   ]
  },
  {
   "cell_type": "code",
   "execution_count": 76,
   "id": "b0082f9f",
   "metadata": {},
   "outputs": [
    {
     "data": {
      "text/plain": [
       "array([[-0.76019703, -0.93899287, -0.22594549, ...,  0.25595025,\n",
       "         0.95275686, -2.14334167],\n",
       "       [-0.60260719,  1.76637772, -2.13060386, ...,  1.25970472,\n",
       "        -0.661177  ,  0.04560893],\n",
       "       [ 2.01975275, -1.60723353,  1.52003621, ..., -1.8796445 ,\n",
       "        -2.08279946,  0.28864235],\n",
       "       ...,\n",
       "       [-0.69863384, -1.71508608, -1.71103845, ..., -0.07090701,\n",
       "        -0.91061277,  0.11183424],\n",
       "       [-0.66261946,  1.78778498, -2.4018774 , ..., -1.37891032,\n",
       "         0.31532348,  0.72439897],\n",
       "       [-0.61139672,  2.10907804, -1.80397991, ...,  0.56818987,\n",
       "        -0.22154365, -0.16613973]])"
      ]
     },
     "execution_count": 76,
     "metadata": {},
     "output_type": "execute_result"
    }
   ],
   "source": [
    "test_pca"
   ]
  },
  {
   "cell_type": "code",
   "execution_count": 77,
   "id": "5339deb6",
   "metadata": {},
   "outputs": [
    {
     "data": {
      "text/plain": [
       "array([62.01055181, 49.55432832, 11.81377037, ..., 29.03609906,\n",
       "       37.80677532, 41.593205  ])"
      ]
     },
     "execution_count": 77,
     "metadata": {},
     "output_type": "execute_result"
    }
   ],
   "source": [
    "sell_predict = gradiant_boost_grid_cv.predict(test_pca)\n",
    "sell_predict"
   ]
  },
  {
   "cell_type": "markdown",
   "id": "33f9b47e",
   "metadata": {},
   "source": [
    "# Save Modal\n"
   ]
  },
  {
   "cell_type": "code",
   "execution_count": 79,
   "id": "3832d895",
   "metadata": {},
   "outputs": [],
   "source": [
    "import pickle\n",
    "file_name = 'big_mart_sell.pkl'\n",
    "pickle.dump(gradiant_boost_grid_cv,open(file_name,'wb'))"
   ]
  },
  {
   "cell_type": "code",
   "execution_count": null,
   "id": "5854a770",
   "metadata": {},
   "outputs": [],
   "source": []
  }
 ],
 "metadata": {
  "kernelspec": {
   "display_name": "Python 3 (ipykernel)",
   "language": "python",
   "name": "python3"
  },
  "language_info": {
   "codemirror_mode": {
    "name": "ipython",
    "version": 3
   },
   "file_extension": ".py",
   "mimetype": "text/x-python",
   "name": "python",
   "nbconvert_exporter": "python",
   "pygments_lexer": "ipython3",
   "version": "3.9.7"
  }
 },
 "nbformat": 4,
 "nbformat_minor": 5
}
