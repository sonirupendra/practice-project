{
 "cells": [
  {
   "cell_type": "markdown",
   "id": "0ecdf585",
   "metadata": {},
   "source": [
    "# Problam Statement"
   ]
  },
  {
   "cell_type": "markdown",
   "id": "a16da2b4",
   "metadata": {},
   "source": [
    "This dataset includes details of applicants who have applied for loan. The dataset includes details like credit history, loan amount, their income, dependents etc. \n",
    "\n",
    "### Independent Variables:\n",
    "\n",
    "- Loan_ID\n",
    "\n",
    "- Gender\n",
    "\n",
    "- Married\n",
    "\n",
    "- Dependents\n",
    "\n",
    "- Education\n",
    "\n",
    "- Self_Employed\n",
    "\n",
    "- ApplicantIncome\n",
    "\n",
    "- CoapplicantIncome\n",
    "\n",
    "- Loan_Amount\n",
    "\n",
    "- Loan_Amount_Term\n",
    "\n",
    "- Credit History\n",
    "\n",
    "- Property_Area\n",
    "\n",
    "Dependent Variable (Target Variable):\n",
    "\n",
    "- Loan_Status\n",
    "\n",
    "You have to build a model that can predict whether the loan of the applicant will be approved or not on the basis of the details provided in the dataset. "
   ]
  },
  {
   "cell_type": "code",
   "execution_count": 701,
   "id": "3dfd3e22",
   "metadata": {},
   "outputs": [],
   "source": [
    "# Import Libreries\n",
    "\n",
    "import pandas as pd\n",
    "import numpy as np\n",
    "import matplotlib.pyplot as plt\n",
    "import seaborn as sns\n",
    "import warnings\n",
    "warnings.filterwarnings('ignore')"
   ]
  },
  {
   "cell_type": "code",
   "execution_count": 702,
   "id": "5882bbfc",
   "metadata": {},
   "outputs": [
    {
     "data": {
      "text/html": [
       "<div>\n",
       "<style scoped>\n",
       "    .dataframe tbody tr th:only-of-type {\n",
       "        vertical-align: middle;\n",
       "    }\n",
       "\n",
       "    .dataframe tbody tr th {\n",
       "        vertical-align: top;\n",
       "    }\n",
       "\n",
       "    .dataframe thead th {\n",
       "        text-align: right;\n",
       "    }\n",
       "</style>\n",
       "<table border=\"1\" class=\"dataframe\">\n",
       "  <thead>\n",
       "    <tr style=\"text-align: right;\">\n",
       "      <th></th>\n",
       "      <th>Loan_ID</th>\n",
       "      <th>Gender</th>\n",
       "      <th>Married</th>\n",
       "      <th>Dependents</th>\n",
       "      <th>Education</th>\n",
       "      <th>Self_Employed</th>\n",
       "      <th>ApplicantIncome</th>\n",
       "      <th>CoapplicantIncome</th>\n",
       "      <th>LoanAmount</th>\n",
       "      <th>Loan_Amount_Term</th>\n",
       "      <th>Credit_History</th>\n",
       "      <th>Property_Area</th>\n",
       "      <th>Loan_Status</th>\n",
       "    </tr>\n",
       "  </thead>\n",
       "  <tbody>\n",
       "    <tr>\n",
       "      <th>0</th>\n",
       "      <td>LP001002</td>\n",
       "      <td>Male</td>\n",
       "      <td>No</td>\n",
       "      <td>0</td>\n",
       "      <td>Graduate</td>\n",
       "      <td>No</td>\n",
       "      <td>5849</td>\n",
       "      <td>0.0</td>\n",
       "      <td>NaN</td>\n",
       "      <td>360.0</td>\n",
       "      <td>1.0</td>\n",
       "      <td>Urban</td>\n",
       "      <td>Y</td>\n",
       "    </tr>\n",
       "    <tr>\n",
       "      <th>1</th>\n",
       "      <td>LP001003</td>\n",
       "      <td>Male</td>\n",
       "      <td>Yes</td>\n",
       "      <td>1</td>\n",
       "      <td>Graduate</td>\n",
       "      <td>No</td>\n",
       "      <td>4583</td>\n",
       "      <td>1508.0</td>\n",
       "      <td>128.0</td>\n",
       "      <td>360.0</td>\n",
       "      <td>1.0</td>\n",
       "      <td>Rural</td>\n",
       "      <td>N</td>\n",
       "    </tr>\n",
       "    <tr>\n",
       "      <th>2</th>\n",
       "      <td>LP001005</td>\n",
       "      <td>Male</td>\n",
       "      <td>Yes</td>\n",
       "      <td>0</td>\n",
       "      <td>Graduate</td>\n",
       "      <td>Yes</td>\n",
       "      <td>3000</td>\n",
       "      <td>0.0</td>\n",
       "      <td>66.0</td>\n",
       "      <td>360.0</td>\n",
       "      <td>1.0</td>\n",
       "      <td>Urban</td>\n",
       "      <td>Y</td>\n",
       "    </tr>\n",
       "    <tr>\n",
       "      <th>3</th>\n",
       "      <td>LP001006</td>\n",
       "      <td>Male</td>\n",
       "      <td>Yes</td>\n",
       "      <td>0</td>\n",
       "      <td>Not Graduate</td>\n",
       "      <td>No</td>\n",
       "      <td>2583</td>\n",
       "      <td>2358.0</td>\n",
       "      <td>120.0</td>\n",
       "      <td>360.0</td>\n",
       "      <td>1.0</td>\n",
       "      <td>Urban</td>\n",
       "      <td>Y</td>\n",
       "    </tr>\n",
       "    <tr>\n",
       "      <th>4</th>\n",
       "      <td>LP001008</td>\n",
       "      <td>Male</td>\n",
       "      <td>No</td>\n",
       "      <td>0</td>\n",
       "      <td>Graduate</td>\n",
       "      <td>No</td>\n",
       "      <td>6000</td>\n",
       "      <td>0.0</td>\n",
       "      <td>141.0</td>\n",
       "      <td>360.0</td>\n",
       "      <td>1.0</td>\n",
       "      <td>Urban</td>\n",
       "      <td>Y</td>\n",
       "    </tr>\n",
       "    <tr>\n",
       "      <th>5</th>\n",
       "      <td>LP001011</td>\n",
       "      <td>Male</td>\n",
       "      <td>Yes</td>\n",
       "      <td>2</td>\n",
       "      <td>Graduate</td>\n",
       "      <td>Yes</td>\n",
       "      <td>5417</td>\n",
       "      <td>4196.0</td>\n",
       "      <td>267.0</td>\n",
       "      <td>360.0</td>\n",
       "      <td>1.0</td>\n",
       "      <td>Urban</td>\n",
       "      <td>Y</td>\n",
       "    </tr>\n",
       "    <tr>\n",
       "      <th>6</th>\n",
       "      <td>LP001013</td>\n",
       "      <td>Male</td>\n",
       "      <td>Yes</td>\n",
       "      <td>0</td>\n",
       "      <td>Not Graduate</td>\n",
       "      <td>No</td>\n",
       "      <td>2333</td>\n",
       "      <td>1516.0</td>\n",
       "      <td>95.0</td>\n",
       "      <td>360.0</td>\n",
       "      <td>1.0</td>\n",
       "      <td>Urban</td>\n",
       "      <td>Y</td>\n",
       "    </tr>\n",
       "    <tr>\n",
       "      <th>7</th>\n",
       "      <td>LP001014</td>\n",
       "      <td>Male</td>\n",
       "      <td>Yes</td>\n",
       "      <td>3+</td>\n",
       "      <td>Graduate</td>\n",
       "      <td>No</td>\n",
       "      <td>3036</td>\n",
       "      <td>2504.0</td>\n",
       "      <td>158.0</td>\n",
       "      <td>360.0</td>\n",
       "      <td>0.0</td>\n",
       "      <td>Semiurban</td>\n",
       "      <td>N</td>\n",
       "    </tr>\n",
       "    <tr>\n",
       "      <th>8</th>\n",
       "      <td>LP001018</td>\n",
       "      <td>Male</td>\n",
       "      <td>Yes</td>\n",
       "      <td>2</td>\n",
       "      <td>Graduate</td>\n",
       "      <td>No</td>\n",
       "      <td>4006</td>\n",
       "      <td>1526.0</td>\n",
       "      <td>168.0</td>\n",
       "      <td>360.0</td>\n",
       "      <td>1.0</td>\n",
       "      <td>Urban</td>\n",
       "      <td>Y</td>\n",
       "    </tr>\n",
       "    <tr>\n",
       "      <th>9</th>\n",
       "      <td>LP001020</td>\n",
       "      <td>Male</td>\n",
       "      <td>Yes</td>\n",
       "      <td>1</td>\n",
       "      <td>Graduate</td>\n",
       "      <td>No</td>\n",
       "      <td>12841</td>\n",
       "      <td>10968.0</td>\n",
       "      <td>349.0</td>\n",
       "      <td>360.0</td>\n",
       "      <td>1.0</td>\n",
       "      <td>Semiurban</td>\n",
       "      <td>N</td>\n",
       "    </tr>\n",
       "  </tbody>\n",
       "</table>\n",
       "</div>"
      ],
      "text/plain": [
       "    Loan_ID Gender Married Dependents     Education Self_Employed  \\\n",
       "0  LP001002   Male      No          0      Graduate            No   \n",
       "1  LP001003   Male     Yes          1      Graduate            No   \n",
       "2  LP001005   Male     Yes          0      Graduate           Yes   \n",
       "3  LP001006   Male     Yes          0  Not Graduate            No   \n",
       "4  LP001008   Male      No          0      Graduate            No   \n",
       "5  LP001011   Male     Yes          2      Graduate           Yes   \n",
       "6  LP001013   Male     Yes          0  Not Graduate            No   \n",
       "7  LP001014   Male     Yes         3+      Graduate            No   \n",
       "8  LP001018   Male     Yes          2      Graduate            No   \n",
       "9  LP001020   Male     Yes          1      Graduate            No   \n",
       "\n",
       "   ApplicantIncome  CoapplicantIncome  LoanAmount  Loan_Amount_Term  \\\n",
       "0             5849                0.0         NaN             360.0   \n",
       "1             4583             1508.0       128.0             360.0   \n",
       "2             3000                0.0        66.0             360.0   \n",
       "3             2583             2358.0       120.0             360.0   \n",
       "4             6000                0.0       141.0             360.0   \n",
       "5             5417             4196.0       267.0             360.0   \n",
       "6             2333             1516.0        95.0             360.0   \n",
       "7             3036             2504.0       158.0             360.0   \n",
       "8             4006             1526.0       168.0             360.0   \n",
       "9            12841            10968.0       349.0             360.0   \n",
       "\n",
       "   Credit_History Property_Area Loan_Status  \n",
       "0             1.0         Urban           Y  \n",
       "1             1.0         Rural           N  \n",
       "2             1.0         Urban           Y  \n",
       "3             1.0         Urban           Y  \n",
       "4             1.0         Urban           Y  \n",
       "5             1.0         Urban           Y  \n",
       "6             1.0         Urban           Y  \n",
       "7             0.0     Semiurban           N  \n",
       "8             1.0         Urban           Y  \n",
       "9             1.0     Semiurban           N  "
      ]
     },
     "execution_count": 702,
     "metadata": {},
     "output_type": "execute_result"
    }
   ],
   "source": [
    "#load dataset of loan \n",
    "\n",
    "\n",
    "loan_df = pd.read_csv('loan_prediction.csv')\n",
    "\n",
    "loan_df.head(10)"
   ]
  },
  {
   "cell_type": "code",
   "execution_count": 703,
   "id": "1d68456e",
   "metadata": {},
   "outputs": [
    {
     "name": "stdout",
     "output_type": "stream",
     "text": [
      "<class 'pandas.core.frame.DataFrame'>\n",
      "RangeIndex: 614 entries, 0 to 613\n",
      "Data columns (total 13 columns):\n",
      " #   Column             Non-Null Count  Dtype  \n",
      "---  ------             --------------  -----  \n",
      " 0   Loan_ID            614 non-null    object \n",
      " 1   Gender             601 non-null    object \n",
      " 2   Married            611 non-null    object \n",
      " 3   Dependents         599 non-null    object \n",
      " 4   Education          614 non-null    object \n",
      " 5   Self_Employed      582 non-null    object \n",
      " 6   ApplicantIncome    614 non-null    int64  \n",
      " 7   CoapplicantIncome  614 non-null    float64\n",
      " 8   LoanAmount         592 non-null    float64\n",
      " 9   Loan_Amount_Term   600 non-null    float64\n",
      " 10  Credit_History     564 non-null    float64\n",
      " 11  Property_Area      614 non-null    object \n",
      " 12  Loan_Status        614 non-null    object \n",
      "dtypes: float64(4), int64(1), object(8)\n",
      "memory usage: 62.5+ KB\n"
     ]
    }
   ],
   "source": [
    "#all information about dataset\n",
    "\n",
    "loan_df.info()"
   ]
  },
  {
   "cell_type": "code",
   "execution_count": 704,
   "id": "76453aa8",
   "metadata": {},
   "outputs": [
    {
     "data": {
      "text/html": [
       "<div>\n",
       "<style scoped>\n",
       "    .dataframe tbody tr th:only-of-type {\n",
       "        vertical-align: middle;\n",
       "    }\n",
       "\n",
       "    .dataframe tbody tr th {\n",
       "        vertical-align: top;\n",
       "    }\n",
       "\n",
       "    .dataframe thead th {\n",
       "        text-align: right;\n",
       "    }\n",
       "</style>\n",
       "<table border=\"1\" class=\"dataframe\">\n",
       "  <thead>\n",
       "    <tr style=\"text-align: right;\">\n",
       "      <th></th>\n",
       "      <th>ApplicantIncome</th>\n",
       "      <th>CoapplicantIncome</th>\n",
       "      <th>LoanAmount</th>\n",
       "      <th>Loan_Amount_Term</th>\n",
       "      <th>Credit_History</th>\n",
       "    </tr>\n",
       "  </thead>\n",
       "  <tbody>\n",
       "    <tr>\n",
       "      <th>count</th>\n",
       "      <td>614.000000</td>\n",
       "      <td>614.000000</td>\n",
       "      <td>592.000000</td>\n",
       "      <td>600.00000</td>\n",
       "      <td>564.000000</td>\n",
       "    </tr>\n",
       "    <tr>\n",
       "      <th>mean</th>\n",
       "      <td>5403.459283</td>\n",
       "      <td>1621.245798</td>\n",
       "      <td>146.412162</td>\n",
       "      <td>342.00000</td>\n",
       "      <td>0.842199</td>\n",
       "    </tr>\n",
       "    <tr>\n",
       "      <th>std</th>\n",
       "      <td>6109.041673</td>\n",
       "      <td>2926.248369</td>\n",
       "      <td>85.587325</td>\n",
       "      <td>65.12041</td>\n",
       "      <td>0.364878</td>\n",
       "    </tr>\n",
       "    <tr>\n",
       "      <th>min</th>\n",
       "      <td>150.000000</td>\n",
       "      <td>0.000000</td>\n",
       "      <td>9.000000</td>\n",
       "      <td>12.00000</td>\n",
       "      <td>0.000000</td>\n",
       "    </tr>\n",
       "    <tr>\n",
       "      <th>25%</th>\n",
       "      <td>2877.500000</td>\n",
       "      <td>0.000000</td>\n",
       "      <td>100.000000</td>\n",
       "      <td>360.00000</td>\n",
       "      <td>1.000000</td>\n",
       "    </tr>\n",
       "    <tr>\n",
       "      <th>50%</th>\n",
       "      <td>3812.500000</td>\n",
       "      <td>1188.500000</td>\n",
       "      <td>128.000000</td>\n",
       "      <td>360.00000</td>\n",
       "      <td>1.000000</td>\n",
       "    </tr>\n",
       "    <tr>\n",
       "      <th>75%</th>\n",
       "      <td>5795.000000</td>\n",
       "      <td>2297.250000</td>\n",
       "      <td>168.000000</td>\n",
       "      <td>360.00000</td>\n",
       "      <td>1.000000</td>\n",
       "    </tr>\n",
       "    <tr>\n",
       "      <th>max</th>\n",
       "      <td>81000.000000</td>\n",
       "      <td>41667.000000</td>\n",
       "      <td>700.000000</td>\n",
       "      <td>480.00000</td>\n",
       "      <td>1.000000</td>\n",
       "    </tr>\n",
       "  </tbody>\n",
       "</table>\n",
       "</div>"
      ],
      "text/plain": [
       "       ApplicantIncome  CoapplicantIncome  LoanAmount  Loan_Amount_Term  \\\n",
       "count       614.000000         614.000000  592.000000         600.00000   \n",
       "mean       5403.459283        1621.245798  146.412162         342.00000   \n",
       "std        6109.041673        2926.248369   85.587325          65.12041   \n",
       "min         150.000000           0.000000    9.000000          12.00000   \n",
       "25%        2877.500000           0.000000  100.000000         360.00000   \n",
       "50%        3812.500000        1188.500000  128.000000         360.00000   \n",
       "75%        5795.000000        2297.250000  168.000000         360.00000   \n",
       "max       81000.000000       41667.000000  700.000000         480.00000   \n",
       "\n",
       "       Credit_History  \n",
       "count      564.000000  \n",
       "mean         0.842199  \n",
       "std          0.364878  \n",
       "min          0.000000  \n",
       "25%          1.000000  \n",
       "50%          1.000000  \n",
       "75%          1.000000  \n",
       "max          1.000000  "
      ]
     },
     "execution_count": 704,
     "metadata": {},
     "output_type": "execute_result"
    }
   ],
   "source": [
    "# Describe about data.\n",
    "\n",
    "loan_df.describe()"
   ]
  },
  {
   "cell_type": "code",
   "execution_count": 705,
   "id": "a9ad536a",
   "metadata": {},
   "outputs": [
    {
     "data": {
      "text/plain": [
       "Loan_ID               0\n",
       "Gender               13\n",
       "Married               3\n",
       "Dependents           15\n",
       "Education             0\n",
       "Self_Employed        32\n",
       "ApplicantIncome       0\n",
       "CoapplicantIncome     0\n",
       "LoanAmount           22\n",
       "Loan_Amount_Term     14\n",
       "Credit_History       50\n",
       "Property_Area         0\n",
       "Loan_Status           0\n",
       "dtype: int64"
      ]
     },
     "execution_count": 705,
     "metadata": {},
     "output_type": "execute_result"
    }
   ],
   "source": [
    "# In this data set we are seeing that some of null values are present.\n",
    "\n",
    "#let's chack null values.\n",
    "\n",
    "\n",
    "loan_df.isna().sum()"
   ]
  },
  {
   "cell_type": "markdown",
   "id": "e1ba1262",
   "metadata": {},
   "source": [
    "### Some of the columns have null values. first chack all information about columns then fill null values."
   ]
  },
  {
   "cell_type": "code",
   "execution_count": 706,
   "id": "3b3b5ae0",
   "metadata": {},
   "outputs": [],
   "source": [
    "# Loan_ID is not the importent feature . have to drop it.\n",
    "\n",
    "loan_df = loan_df.drop(columns=['Loan_ID'])"
   ]
  },
  {
   "cell_type": "code",
   "execution_count": 707,
   "id": "40f6c4d8",
   "metadata": {},
   "outputs": [
    {
     "data": {
      "image/png": "[encoded data removed]",
      "text/plain": [
       "<Figure size 576x360 with 1 Axes>"
      ]
     },
     "metadata": {},
     "output_type": "display_data"
    },
    {
     "name": "stdout",
     "output_type": "stream",
     "text": [
      "['Male' 'Female' nan]\n"
     ]
    }
   ],
   "source": [
    "# now chaking about Gander.\n",
    "\n",
    "plt.figure(figsize=(8,5),facecolor='white')\n",
    "sns.countplot(data=loan_df,x=\"Gender\",hue='Loan_Status')\n",
    "plt.show()\n",
    "\n",
    "\n",
    "print(loan_df['Gender'].unique())"
   ]
  },
  {
   "cell_type": "code",
   "execution_count": 708,
   "id": "c7086ab9",
   "metadata": {},
   "outputs": [],
   "source": [
    "# Fill null values in Gander column.\n",
    "\n",
    "\n",
    "loan_df['Gender'] = loan_df['Gender'].fillna(loan_df['Gender'].mode()[0])\n",
    "\n"
   ]
  },
  {
   "cell_type": "code",
   "execution_count": 709,
   "id": "2dba5eb6",
   "metadata": {},
   "outputs": [
    {
     "data": {
      "text/plain": [
       "array(['Male', 'Female'], dtype=object)"
      ]
     },
     "execution_count": 709,
     "metadata": {},
     "output_type": "execute_result"
    }
   ],
   "source": [
    "loan_df['Gender'].unique()"
   ]
  },
  {
   "cell_type": "code",
   "execution_count": 710,
   "id": "e547f627",
   "metadata": {},
   "outputs": [
    {
     "data": {
      "image/png": "[encoded data removed]",
      "text/plain": [
       "<Figure size 576x360 with 1 Axes>"
      ]
     },
     "metadata": {},
     "output_type": "display_data"
    },
    {
     "name": "stdout",
     "output_type": "stream",
     "text": [
      "This column has null values: \n",
      "  3\n"
     ]
    }
   ],
   "source": [
    "#Married column\n",
    "\n",
    "plt.figure(figsize=(8,5),facecolor='white')\n",
    "sns.countplot(data=loan_df,x='Married',hue='Loan_Status')\n",
    "plt.show()\n",
    "\n",
    "\n",
    "\n",
    "print(\"This column has null values: \\n \",loan_df['Married'].isna().sum())"
   ]
  },
  {
   "cell_type": "code",
   "execution_count": 711,
   "id": "416e19db",
   "metadata": {},
   "outputs": [],
   "source": [
    "#Fill null values \n",
    "\n",
    "\n",
    "loan_df['Married'] = loan_df['Married'].fillna(loan_df['Married'].mode()[0])"
   ]
  },
  {
   "cell_type": "code",
   "execution_count": 712,
   "id": "c2ec4e40",
   "metadata": {},
   "outputs": [
    {
     "data": {
      "image/png": "[encoded data removed]",
      "text/plain": [
       "<Figure size 576x360 with 1 Axes>"
      ]
     },
     "metadata": {},
     "output_type": "display_data"
    },
    {
     "name": "stdout",
     "output_type": "stream",
     "text": [
      "This column has null values: \n",
      "  15\n"
     ]
    }
   ],
   "source": [
    "#Dependent column\n",
    "\n",
    "plt.figure(figsize=(8,5),facecolor='white')\n",
    "sns.countplot(data=loan_df,x='Dependents',hue='Loan_Status')\n",
    "plt.show()\n",
    "\n",
    "\n",
    "\n",
    "print(\"This column has null values: \\n \",loan_df['Dependents'].isna().sum())"
   ]
  },
  {
   "cell_type": "code",
   "execution_count": 713,
   "id": "872b831a",
   "metadata": {},
   "outputs": [],
   "source": [
    "#Fill null values \n",
    "\n",
    "\n",
    "loan_df['Dependents'] = loan_df['Dependents'].fillna(loan_df['Dependents'].mode()[0])"
   ]
  },
  {
   "cell_type": "code",
   "execution_count": 714,
   "id": "447b62a0",
   "metadata": {},
   "outputs": [],
   "source": [
    "#after fill the null we have to convert this column into numeric because  it has numeric values.\n",
    "\n",
    "#First we have to replace '3+' to 4 .\n",
    "\n",
    "#i cancider that 3+ means 4.\n",
    "\n",
    "loan_df['Dependents'] = loan_df['Dependents'].replace({'3+':4})\n"
   ]
  },
  {
   "cell_type": "code",
   "execution_count": 715,
   "id": "c8d4d37a",
   "metadata": {},
   "outputs": [],
   "source": [
    "# now convert onjective to numerical \n",
    "\n",
    "\n",
    "dependent = pd.to_numeric(loan_df['Dependents'])\n"
   ]
  },
  {
   "cell_type": "code",
   "execution_count": 716,
   "id": "7ea19dfb",
   "metadata": {},
   "outputs": [],
   "source": [
    "# lets Drop old column\n",
    "\n",
    "loan_df = loan_df.drop(columns=['Dependents'])"
   ]
  },
  {
   "cell_type": "code",
   "execution_count": 717,
   "id": "2a45b781",
   "metadata": {},
   "outputs": [
    {
     "name": "stdout",
     "output_type": "stream",
     "text": [
      "<class 'pandas.core.frame.DataFrame'>\n",
      "RangeIndex: 614 entries, 0 to 613\n",
      "Data columns (total 12 columns):\n",
      " #   Column             Non-Null Count  Dtype  \n",
      "---  ------             --------------  -----  \n",
      " 0   Gender             614 non-null    object \n",
      " 1   Married            614 non-null    object \n",
      " 2   Education          614 non-null    object \n",
      " 3   Self_Employed      582 non-null    object \n",
      " 4   ApplicantIncome    614 non-null    int64  \n",
      " 5   CoapplicantIncome  614 non-null    float64\n",
      " 6   LoanAmount         592 non-null    float64\n",
      " 7   Loan_Amount_Term   600 non-null    float64\n",
      " 8   Credit_History     564 non-null    float64\n",
      " 9   Property_Area      614 non-null    object \n",
      " 10  Loan_Status        614 non-null    object \n",
      " 11  Dependents         614 non-null    int64  \n",
      "dtypes: float64(4), int64(2), object(6)\n",
      "memory usage: 57.7+ KB\n"
     ]
    }
   ],
   "source": [
    "#join numerical column\n",
    "\n",
    "\n",
    "loan_df = loan_df.join(dependent)\n",
    "\n",
    "loan_df.info()"
   ]
  },
  {
   "cell_type": "code",
   "execution_count": 718,
   "id": "b8f75b86",
   "metadata": {},
   "outputs": [
    {
     "data": {
      "image/png": "[encoded data removed]",
      "text/plain": [
       "<Figure size 576x360 with 1 Axes>"
      ]
     },
     "metadata": {},
     "output_type": "display_data"
    },
    {
     "name": "stdout",
     "output_type": "stream",
     "text": [
      "This column has null values: \n",
      "  0\n"
     ]
    }
   ],
   "source": [
    "#Education column\n",
    "\n",
    "plt.figure(figsize=(8,5),facecolor='white')\n",
    "sns.countplot(data=loan_df,x='Education',hue='Loan_Status')\n",
    "plt.show()\n",
    "\n",
    "\n",
    "\n",
    "print(\"This column has null values: \\n \",loan_df['Education'].isna().sum())"
   ]
  },
  {
   "cell_type": "code",
   "execution_count": 719,
   "id": "c7b1e4ec",
   "metadata": {},
   "outputs": [
    {
     "data": {
      "text/plain": [
       "array(['Graduate', 'Not Graduate'], dtype=object)"
      ]
     },
     "execution_count": 719,
     "metadata": {},
     "output_type": "execute_result"
    }
   ],
   "source": [
    "loan_df['Education'].unique()"
   ]
  },
  {
   "cell_type": "code",
   "execution_count": 720,
   "id": "31c65223",
   "metadata": {},
   "outputs": [
    {
     "data": {
      "image/png": "[encoded data removed]",
      "text/plain": [
       "<Figure size 576x360 with 1 Axes>"
      ]
     },
     "metadata": {},
     "output_type": "display_data"
    },
    {
     "name": "stdout",
     "output_type": "stream",
     "text": [
      "This column has null values: \n",
      "  32\n"
     ]
    }
   ],
   "source": [
    "#Self Employed column\n",
    "\n",
    "plt.figure(figsize=(8,5),facecolor='white')\n",
    "sns.countplot(data=loan_df,x='Self_Employed',hue='Loan_Status')\n",
    "plt.show()\n",
    "\n",
    "\n",
    "\n",
    "print(\"This column has null values: \\n \",loan_df['Self_Employed'].isna().sum())"
   ]
  },
  {
   "cell_type": "code",
   "execution_count": 721,
   "id": "1e403f5f",
   "metadata": {},
   "outputs": [],
   "source": [
    "#fill null values \n",
    "\n",
    "loan_df['Self_Employed'] = loan_df['Self_Employed'].fillna(loan_df['Self_Employed'].mode()[0])"
   ]
  },
  {
   "cell_type": "code",
   "execution_count": 722,
   "id": "57d3367b",
   "metadata": {},
   "outputs": [
    {
     "data": {
      "text/plain": [
       "Gender                0\n",
       "Married               0\n",
       "Education             0\n",
       "Self_Employed         0\n",
       "ApplicantIncome       0\n",
       "CoapplicantIncome     0\n",
       "LoanAmount           22\n",
       "Loan_Amount_Term     14\n",
       "Credit_History       50\n",
       "Property_Area         0\n",
       "Loan_Status           0\n",
       "Dependents            0\n",
       "dtype: int64"
      ]
     },
     "execution_count": 722,
     "metadata": {},
     "output_type": "execute_result"
    }
   ],
   "source": [
    "loan_df.isna().sum()"
   ]
  },
  {
   "cell_type": "code",
   "execution_count": 723,
   "id": "58af61e1",
   "metadata": {},
   "outputs": [
    {
     "data": {
      "text/plain": [
       "array([360., 120., 240.,  nan, 180.,  60., 300., 480.,  36.,  84.,  12.])"
      ]
     },
     "execution_count": 723,
     "metadata": {},
     "output_type": "execute_result"
    }
   ],
   "source": [
    "loan_df['Loan_Amount_Term'].unique()"
   ]
  },
  {
   "cell_type": "code",
   "execution_count": 724,
   "id": "381c028e",
   "metadata": {},
   "outputs": [
    {
     "data": {
      "text/html": [
       "<div>\n",
       "<style scoped>\n",
       "    .dataframe tbody tr th:only-of-type {\n",
       "        vertical-align: middle;\n",
       "    }\n",
       "\n",
       "    .dataframe tbody tr th {\n",
       "        vertical-align: top;\n",
       "    }\n",
       "\n",
       "    .dataframe thead th {\n",
       "        text-align: right;\n",
       "    }\n",
       "</style>\n",
       "<table border=\"1\" class=\"dataframe\">\n",
       "  <thead>\n",
       "    <tr style=\"text-align: right;\">\n",
       "      <th></th>\n",
       "      <th>Gender</th>\n",
       "      <th>Married</th>\n",
       "      <th>Education</th>\n",
       "      <th>Self_Employed</th>\n",
       "      <th>ApplicantIncome</th>\n",
       "      <th>CoapplicantIncome</th>\n",
       "      <th>LoanAmount</th>\n",
       "      <th>Loan_Amount_Term</th>\n",
       "      <th>Credit_History</th>\n",
       "      <th>Property_Area</th>\n",
       "      <th>Loan_Status</th>\n",
       "      <th>Dependents</th>\n",
       "    </tr>\n",
       "  </thead>\n",
       "  <tbody>\n",
       "    <tr>\n",
       "      <th>0</th>\n",
       "      <td>Male</td>\n",
       "      <td>No</td>\n",
       "      <td>Graduate</td>\n",
       "      <td>No</td>\n",
       "      <td>5849</td>\n",
       "      <td>0.0</td>\n",
       "      <td>NaN</td>\n",
       "      <td>360.0</td>\n",
       "      <td>1.0</td>\n",
       "      <td>Urban</td>\n",
       "      <td>Y</td>\n",
       "      <td>0</td>\n",
       "    </tr>\n",
       "    <tr>\n",
       "      <th>1</th>\n",
       "      <td>Male</td>\n",
       "      <td>Yes</td>\n",
       "      <td>Graduate</td>\n",
       "      <td>No</td>\n",
       "      <td>4583</td>\n",
       "      <td>1508.0</td>\n",
       "      <td>128.0</td>\n",
       "      <td>360.0</td>\n",
       "      <td>1.0</td>\n",
       "      <td>Rural</td>\n",
       "      <td>N</td>\n",
       "      <td>1</td>\n",
       "    </tr>\n",
       "    <tr>\n",
       "      <th>2</th>\n",
       "      <td>Male</td>\n",
       "      <td>Yes</td>\n",
       "      <td>Graduate</td>\n",
       "      <td>Yes</td>\n",
       "      <td>3000</td>\n",
       "      <td>0.0</td>\n",
       "      <td>66.0</td>\n",
       "      <td>360.0</td>\n",
       "      <td>1.0</td>\n",
       "      <td>Urban</td>\n",
       "      <td>Y</td>\n",
       "      <td>0</td>\n",
       "    </tr>\n",
       "    <tr>\n",
       "      <th>3</th>\n",
       "      <td>Male</td>\n",
       "      <td>Yes</td>\n",
       "      <td>Not Graduate</td>\n",
       "      <td>No</td>\n",
       "      <td>2583</td>\n",
       "      <td>2358.0</td>\n",
       "      <td>120.0</td>\n",
       "      <td>360.0</td>\n",
       "      <td>1.0</td>\n",
       "      <td>Urban</td>\n",
       "      <td>Y</td>\n",
       "      <td>0</td>\n",
       "    </tr>\n",
       "    <tr>\n",
       "      <th>4</th>\n",
       "      <td>Male</td>\n",
       "      <td>No</td>\n",
       "      <td>Graduate</td>\n",
       "      <td>No</td>\n",
       "      <td>6000</td>\n",
       "      <td>0.0</td>\n",
       "      <td>141.0</td>\n",
       "      <td>360.0</td>\n",
       "      <td>1.0</td>\n",
       "      <td>Urban</td>\n",
       "      <td>Y</td>\n",
       "      <td>0</td>\n",
       "    </tr>\n",
       "  </tbody>\n",
       "</table>\n",
       "</div>"
      ],
      "text/plain": [
       "  Gender Married     Education Self_Employed  ApplicantIncome  \\\n",
       "0   Male      No      Graduate            No             5849   \n",
       "1   Male     Yes      Graduate            No             4583   \n",
       "2   Male     Yes      Graduate           Yes             3000   \n",
       "3   Male     Yes  Not Graduate            No             2583   \n",
       "4   Male      No      Graduate            No             6000   \n",
       "\n",
       "   CoapplicantIncome  LoanAmount  Loan_Amount_Term  Credit_History  \\\n",
       "0                0.0         NaN             360.0             1.0   \n",
       "1             1508.0       128.0             360.0             1.0   \n",
       "2                0.0        66.0             360.0             1.0   \n",
       "3             2358.0       120.0             360.0             1.0   \n",
       "4                0.0       141.0             360.0             1.0   \n",
       "\n",
       "  Property_Area Loan_Status  Dependents  \n",
       "0         Urban           Y           0  \n",
       "1         Rural           N           1  \n",
       "2         Urban           Y           0  \n",
       "3         Urban           Y           0  \n",
       "4         Urban           Y           0  "
      ]
     },
     "execution_count": 724,
     "metadata": {},
     "output_type": "execute_result"
    }
   ],
   "source": [
    "loan_df.head()"
   ]
  },
  {
   "cell_type": "code",
   "execution_count": 725,
   "id": "8c67a3ee",
   "metadata": {},
   "outputs": [],
   "source": [
    "# fill null in these columns.\n",
    "\n",
    "\n",
    "loan_df['LoanAmount'] =  loan_df['LoanAmount'].fillna(loan_df['LoanAmount'].mean())\n",
    "\n",
    "loan_df['Loan_Amount_Term'] = loan_df['Loan_Amount_Term'].fillna(loan_df['Loan_Amount_Term'].mode()[0])"
   ]
  },
  {
   "cell_type": "code",
   "execution_count": 726,
   "id": "8b93f280",
   "metadata": {},
   "outputs": [
    {
     "data": {
      "image/png": "[encoded data removed]",
      "text/plain": [
       "<Figure size 576x360 with 1 Axes>"
      ]
     },
     "metadata": {},
     "output_type": "display_data"
    },
    {
     "name": "stdout",
     "output_type": "stream",
     "text": [
      "This column has null values: \n",
      "  50\n"
     ]
    }
   ],
   "source": [
    "##Self Employed column\n",
    "\n",
    "plt.figure(figsize=(8,5),facecolor='white')\n",
    "sns.countplot(data=loan_df,x='Credit_History',hue='Loan_Status')\n",
    "plt.show()\n",
    "\n",
    "\n",
    "\n",
    "print(\"This column has null values: \\n \",loan_df['Credit_History'].isna().sum())"
   ]
  },
  {
   "cell_type": "code",
   "execution_count": 727,
   "id": "24952bf6",
   "metadata": {},
   "outputs": [],
   "source": [
    "#fill null values in this column\n",
    "\n",
    "loan_df['Credit_History'] = loan_df['Credit_History'].fillna(loan_df['Credit_History'].mode()[0])"
   ]
  },
  {
   "cell_type": "code",
   "execution_count": 728,
   "id": "b46054b7",
   "metadata": {},
   "outputs": [
    {
     "data": {
      "text/plain": [
       "Gender               0\n",
       "Married              0\n",
       "Education            0\n",
       "Self_Employed        0\n",
       "ApplicantIncome      0\n",
       "CoapplicantIncome    0\n",
       "LoanAmount           0\n",
       "Loan_Amount_Term     0\n",
       "Credit_History       0\n",
       "Property_Area        0\n",
       "Loan_Status          0\n",
       "Dependents           0\n",
       "dtype: int64"
      ]
     },
     "execution_count": 728,
     "metadata": {},
     "output_type": "execute_result"
    }
   ],
   "source": [
    "#Now chacking null again\n",
    "\n",
    "loan_df.isna().sum()"
   ]
  },
  {
   "cell_type": "code",
   "execution_count": 729,
   "id": "118f18d3",
   "metadata": {},
   "outputs": [
    {
     "data": {
      "image/png": "[encoded data removed]",
      "text/plain": [
       "<Figure size 576x360 with 1 Axes>"
      ]
     },
     "metadata": {},
     "output_type": "display_data"
    },
    {
     "name": "stdout",
     "output_type": "stream",
     "text": [
      "This column has null values: \n",
      "  0\n"
     ]
    }
   ],
   "source": [
    "#let's convert target value objective to numerical\n",
    "\n",
    "plt.figure(figsize=(8,5),facecolor='white')\n",
    "sns.countplot(data=loan_df,x='Loan_Status')\n",
    "plt.show()\n",
    "\n",
    "\n",
    "\n",
    "print(\"This column has null values: \\n \",loan_df['Loan_Status'].isna().sum())"
   ]
  },
  {
   "cell_type": "code",
   "execution_count": 730,
   "id": "fecddcea",
   "metadata": {},
   "outputs": [],
   "source": [
    "loan_df['Loan_Status'] = loan_df['Loan_Status'].replace({'Y':1,\"N\":0})"
   ]
  },
  {
   "cell_type": "markdown",
   "id": "4d2a2462",
   "metadata": {},
   "source": [
    "#### Null values have been filed."
   ]
  },
  {
   "cell_type": "code",
   "execution_count": 731,
   "id": "554be035",
   "metadata": {},
   "outputs": [
    {
     "name": "stdout",
     "output_type": "stream",
     "text": [
      "Gender = 0\n",
      "Married = 0\n",
      "Education = 0\n",
      "Self_Employed = 0\n",
      "ApplicantIncome = 0\n",
      "CoapplicantIncome = 273\n",
      "LoanAmount = 0\n",
      "Loan_Amount_Term = 0\n",
      "Credit_History = 89\n",
      "Property_Area = 0\n",
      "Loan_Status = 192\n",
      "Dependents = 360\n"
     ]
    }
   ],
   "source": [
    "# Let's check the \"0\" value counts if any...\n",
    "\n",
    "for column in loan_df:\n",
    "    print(column+\" = \"+str(loan_df[loan_df[column]==0].shape[0]))"
   ]
  },
  {
   "cell_type": "code",
   "execution_count": 732,
   "id": "8b00c2d9",
   "metadata": {},
   "outputs": [
    {
     "data": {
      "text/plain": [
       "Loan_Status          1.000000\n",
       "Credit_History       0.540556\n",
       "Dependents           0.002474\n",
       "ApplicantIncome     -0.004710\n",
       "Loan_Amount_Term    -0.022549\n",
       "LoanAmount          -0.036416\n",
       "CoapplicantIncome   -0.059187\n",
       "dtype: float64"
      ]
     },
     "execution_count": 732,
     "metadata": {},
     "output_type": "execute_result"
    }
   ],
   "source": [
    "# we can see that CoapplicationIncome has high valumn of zero.\n",
    "\n",
    "#let's chack is this column ins importent for target column\n",
    "\n",
    "loan_df.corrwith(loan_df.Loan_Status).sort_values(ascending=False)\n"
   ]
  },
  {
   "cell_type": "code",
   "execution_count": 733,
   "id": "289a34cb",
   "metadata": {},
   "outputs": [],
   "source": [
    "#clearly seeing that Coapplication column is very low correlative with target column. so we have to drop  it.\n",
    "\n",
    "\n",
    "loan_df = loan_df.drop(columns=['CoapplicantIncome'])"
   ]
  },
  {
   "cell_type": "code",
   "execution_count": 734,
   "id": "9e6988f7",
   "metadata": {},
   "outputs": [
    {
     "data": {
      "text/html": [
       "<div>\n",
       "<style scoped>\n",
       "    .dataframe tbody tr th:only-of-type {\n",
       "        vertical-align: middle;\n",
       "    }\n",
       "\n",
       "    .dataframe tbody tr th {\n",
       "        vertical-align: top;\n",
       "    }\n",
       "\n",
       "    .dataframe thead th {\n",
       "        text-align: right;\n",
       "    }\n",
       "</style>\n",
       "<table border=\"1\" class=\"dataframe\">\n",
       "  <thead>\n",
       "    <tr style=\"text-align: right;\">\n",
       "      <th></th>\n",
       "      <th>Gender</th>\n",
       "      <th>Married</th>\n",
       "      <th>Education</th>\n",
       "      <th>Self_Employed</th>\n",
       "      <th>ApplicantIncome</th>\n",
       "      <th>LoanAmount</th>\n",
       "      <th>Loan_Amount_Term</th>\n",
       "      <th>Credit_History</th>\n",
       "      <th>Property_Area</th>\n",
       "      <th>Loan_Status</th>\n",
       "      <th>Dependents</th>\n",
       "    </tr>\n",
       "  </thead>\n",
       "  <tbody>\n",
       "    <tr>\n",
       "      <th>0</th>\n",
       "      <td>Male</td>\n",
       "      <td>No</td>\n",
       "      <td>Graduate</td>\n",
       "      <td>No</td>\n",
       "      <td>5849</td>\n",
       "      <td>146.412162</td>\n",
       "      <td>360.0</td>\n",
       "      <td>1.0</td>\n",
       "      <td>Urban</td>\n",
       "      <td>1</td>\n",
       "      <td>0</td>\n",
       "    </tr>\n",
       "    <tr>\n",
       "      <th>1</th>\n",
       "      <td>Male</td>\n",
       "      <td>Yes</td>\n",
       "      <td>Graduate</td>\n",
       "      <td>No</td>\n",
       "      <td>4583</td>\n",
       "      <td>128.000000</td>\n",
       "      <td>360.0</td>\n",
       "      <td>1.0</td>\n",
       "      <td>Rural</td>\n",
       "      <td>0</td>\n",
       "      <td>1</td>\n",
       "    </tr>\n",
       "    <tr>\n",
       "      <th>2</th>\n",
       "      <td>Male</td>\n",
       "      <td>Yes</td>\n",
       "      <td>Graduate</td>\n",
       "      <td>Yes</td>\n",
       "      <td>3000</td>\n",
       "      <td>66.000000</td>\n",
       "      <td>360.0</td>\n",
       "      <td>1.0</td>\n",
       "      <td>Urban</td>\n",
       "      <td>1</td>\n",
       "      <td>0</td>\n",
       "    </tr>\n",
       "    <tr>\n",
       "      <th>3</th>\n",
       "      <td>Male</td>\n",
       "      <td>Yes</td>\n",
       "      <td>Not Graduate</td>\n",
       "      <td>No</td>\n",
       "      <td>2583</td>\n",
       "      <td>120.000000</td>\n",
       "      <td>360.0</td>\n",
       "      <td>1.0</td>\n",
       "      <td>Urban</td>\n",
       "      <td>1</td>\n",
       "      <td>0</td>\n",
       "    </tr>\n",
       "    <tr>\n",
       "      <th>4</th>\n",
       "      <td>Male</td>\n",
       "      <td>No</td>\n",
       "      <td>Graduate</td>\n",
       "      <td>No</td>\n",
       "      <td>6000</td>\n",
       "      <td>141.000000</td>\n",
       "      <td>360.0</td>\n",
       "      <td>1.0</td>\n",
       "      <td>Urban</td>\n",
       "      <td>1</td>\n",
       "      <td>0</td>\n",
       "    </tr>\n",
       "  </tbody>\n",
       "</table>\n",
       "</div>"
      ],
      "text/plain": [
       "  Gender Married     Education Self_Employed  ApplicantIncome  LoanAmount  \\\n",
       "0   Male      No      Graduate            No             5849  146.412162   \n",
       "1   Male     Yes      Graduate            No             4583  128.000000   \n",
       "2   Male     Yes      Graduate           Yes             3000   66.000000   \n",
       "3   Male     Yes  Not Graduate            No             2583  120.000000   \n",
       "4   Male      No      Graduate            No             6000  141.000000   \n",
       "\n",
       "   Loan_Amount_Term  Credit_History Property_Area  Loan_Status  Dependents  \n",
       "0             360.0             1.0         Urban            1           0  \n",
       "1             360.0             1.0         Rural            0           1  \n",
       "2             360.0             1.0         Urban            1           0  \n",
       "3             360.0             1.0         Urban            1           0  \n",
       "4             360.0             1.0         Urban            1           0  "
      ]
     },
     "execution_count": 734,
     "metadata": {},
     "output_type": "execute_result"
    }
   ],
   "source": [
    "loan_df.head()"
   ]
  },
  {
   "cell_type": "markdown",
   "id": "21afb6f1",
   "metadata": {},
   "source": [
    "## Chacking Correlation "
   ]
  },
  {
   "cell_type": "code",
   "execution_count": 735,
   "id": "281e08d3",
   "metadata": {},
   "outputs": [
    {
     "data": {
      "image/png": "[encoded data removed]",
      "text/plain": [
       "<Figure size 936x576 with 2 Axes>"
      ]
     },
     "metadata": {
      "needs_background": "light"
     },
     "output_type": "display_data"
    }
   ],
   "source": [
    "#using heatmap\n",
    "\n",
    "plt.figure(figsize=(13,8))\n",
    "sns.heatmap(loan_df.corr(),annot=True)\n",
    "plt.show()"
   ]
  },
  {
   "cell_type": "markdown",
   "id": "13fe1c4b",
   "metadata": {},
   "source": [
    "# Data distribution"
   ]
  },
  {
   "cell_type": "markdown",
   "id": "73a440b1",
   "metadata": {},
   "source": [
    "## First saparate data into continues, catagorical and target."
   ]
  },
  {
   "cell_type": "code",
   "execution_count": 736,
   "id": "341180fa",
   "metadata": {},
   "outputs": [],
   "source": [
    "feature_continues =loan_df[['ApplicantIncome','LoanAmount']].copy()\n",
    "\n",
    "feature_catagorical = loan_df.drop(columns=['ApplicantIncome','LoanAmount','Loan_Status'])\n",
    "\n",
    "target = loan_df['Loan_Status']"
   ]
  },
  {
   "cell_type": "code",
   "execution_count": 737,
   "id": "779a031a",
   "metadata": {},
   "outputs": [
    {
     "data": {
      "image/png": "[encoded data removed]",
      "text/plain": [
       "<Figure size 720x360 with 2 Axes>"
      ]
     },
     "metadata": {},
     "output_type": "display_data"
    }
   ],
   "source": [
    "#Data distribution (distplot)\n",
    "\n",
    "plt.figure(figsize=(10,5),facecolor='white')\n",
    "plot=1\n",
    "for column in feature_continues:\n",
    "    if plot<=4:\n",
    "        plt.subplot(2,2,plot)\n",
    "        sns.distplot(feature_continues[column])\n",
    "    plot+=1\n",
    "plt.tight_layout()"
   ]
  },
  {
   "cell_type": "code",
   "execution_count": 738,
   "id": "d4a00131",
   "metadata": {},
   "outputs": [
    {
     "data": {
      "text/plain": [
       "ApplicantIncome    6.539513\n",
       "LoanAmount         2.726601\n",
       "dtype: float64"
      ]
     },
     "execution_count": 738,
     "metadata": {},
     "output_type": "execute_result"
    }
   ],
   "source": [
    "# chaking skewness\n",
    "\n",
    "feature_continues.skew()"
   ]
  },
  {
   "cell_type": "code",
   "execution_count": 739,
   "id": "325e9cd9",
   "metadata": {},
   "outputs": [],
   "source": [
    "# skewness is present hear so we have to use power tranformation\n",
    "\n",
    "from sklearn.preprocessing import PowerTransformer\n",
    "\n",
    "power_transfer = PowerTransformer()"
   ]
  },
  {
   "cell_type": "code",
   "execution_count": 740,
   "id": "95e912dd",
   "metadata": {},
   "outputs": [
    {
     "data": {
      "text/plain": [
       "ApplicantIncome   -0.092946\n",
       "LoanAmount         0.024376\n",
       "dtype: float64"
      ]
     },
     "execution_count": 740,
     "metadata": {},
     "output_type": "execute_result"
    }
   ],
   "source": [
    "new_continues_feature = power_transfer.fit_transform(feature_continues)\n",
    "\n",
    "feature_continues = feature_continues.drop(columns=['ApplicantIncome','LoanAmount'])\n",
    "\n",
    "feature_continues = pd.DataFrame(new_continues_feature,columns=['ApplicantIncome','LoanAmount'])\n",
    "\n",
    "feature_continues.skew()"
   ]
  },
  {
   "cell_type": "code",
   "execution_count": 741,
   "id": "4de001b3",
   "metadata": {},
   "outputs": [
    {
     "data": {
      "image/png": "[encoded data removed]",
      "text/plain": [
       "<Figure size 720x360 with 2 Axes>"
      ]
     },
     "metadata": {},
     "output_type": "display_data"
    }
   ],
   "source": [
    "#Data distribution (distplot)\n",
    "\n",
    "plt.figure(figsize=(10,5),facecolor='white')\n",
    "plot=1\n",
    "for column in feature_continues:\n",
    "    if plot<=4:\n",
    "        plt.subplot(2,2,plot)\n",
    "        sns.distplot(feature_continues[column])\n",
    "    plot+=1\n",
    "plt.tight_layout()"
   ]
  },
  {
   "cell_type": "markdown",
   "id": "0ddfb107",
   "metadata": {},
   "source": [
    "### Skewness has been gone."
   ]
  },
  {
   "cell_type": "code",
   "execution_count": 742,
   "id": "a3cf1e44",
   "metadata": {},
   "outputs": [
    {
     "data": {
      "image/png": "[encoded data removed]",
      "text/plain": [
       "<Figure size 720x360 with 2 Axes>"
      ]
     },
     "metadata": {},
     "output_type": "display_data"
    }
   ],
   "source": [
    "#chacking outliers\n",
    "\n",
    "plt.figure(figsize=(10,5),facecolor='white')\n",
    "plot=1\n",
    "for column in feature_continues:\n",
    "    if plot<=4:\n",
    "        plt.subplot(2,2,plot)\n",
    "        sns.boxplot(feature_continues[column])\n",
    "        plt.xlabel(column)\n",
    "    plot+=1\n",
    "plt.tight_layout()\n"
   ]
  },
  {
   "cell_type": "code",
   "execution_count": 743,
   "id": "0d7c9746",
   "metadata": {},
   "outputs": [
    {
     "name": "stdout",
     "output_type": "stream",
     "text": [
      "(array([ 14,  94, 130, 133, 155, 155, 171, 171, 185, 188, 216, 333, 369,\n",
      "       409, 443, 468, 500, 555, 561, 568, 600], dtype=int64), array([1, 1, 1, 1, 0, 1, 0, 1, 0, 0, 0, 0, 1, 0, 0, 0, 0, 1, 1, 1, 0],\n",
      "      dtype=int64))\n"
     ]
    }
   ],
   "source": [
    "#Outliers are present so we have to use some of technic for remove outliers.\n",
    "\n",
    "# using z-socre method\n",
    "\n",
    "from scipy.stats import zscore\n",
    "\n",
    "z =np.abs(zscore(feature_continues))\n",
    "\n",
    "threshold = 3\n",
    "\n",
    "print(np.where(z>3))\n",
    "\n",
    "\n"
   ]
  },
  {
   "cell_type": "code",
   "execution_count": 744,
   "id": "a868220e",
   "metadata": {},
   "outputs": [],
   "source": [
    "# drop that index from all orignal data\n",
    "\n",
    "feature_continues = feature_continues.drop(index=[ 14,  94, 130, 133, 155, 155, 171, 171, 185, 188, 216, 333, 369,409, 443, 468, 500, 555, 561, 568, 600])\n",
    "feature_catagorical  = feature_catagorical.drop(index=[14,  94, 130, 133, 155, 155, 171, 171, 185, 188, 216, 333, 369,409, 443, 468, 500, 555, 561, 568, 600])\n",
    "target = target.drop(index=[14,  94, 130, 133, 155, 155, 171, 171, 185, 188, 216, 333, 369,409, 443, 468, 500, 555, 561, 568, 600])"
   ]
  },
  {
   "cell_type": "markdown",
   "id": "33c9b2b8",
   "metadata": {},
   "source": [
    "### Now data looks good.\n"
   ]
  },
  {
   "cell_type": "code",
   "execution_count": 745,
   "id": "d9b7fe9c",
   "metadata": {},
   "outputs": [
    {
     "data": {
      "text/html": [
       "<div>\n",
       "<style scoped>\n",
       "    .dataframe tbody tr th:only-of-type {\n",
       "        vertical-align: middle;\n",
       "    }\n",
       "\n",
       "    .dataframe tbody tr th {\n",
       "        vertical-align: top;\n",
       "    }\n",
       "\n",
       "    .dataframe thead th {\n",
       "        text-align: right;\n",
       "    }\n",
       "</style>\n",
       "<table border=\"1\" class=\"dataframe\">\n",
       "  <thead>\n",
       "    <tr style=\"text-align: right;\">\n",
       "      <th></th>\n",
       "      <th>ApplicantIncome</th>\n",
       "      <th>LoanAmount</th>\n",
       "      <th>Gender</th>\n",
       "      <th>Married</th>\n",
       "      <th>Education</th>\n",
       "      <th>Self_Employed</th>\n",
       "      <th>Loan_Amount_Term</th>\n",
       "      <th>Credit_History</th>\n",
       "      <th>Property_Area</th>\n",
       "      <th>Dependents</th>\n",
       "    </tr>\n",
       "  </thead>\n",
       "  <tbody>\n",
       "    <tr>\n",
       "      <th>0</th>\n",
       "      <td>0.544331</td>\n",
       "      <td>0.235387</td>\n",
       "      <td>Male</td>\n",
       "      <td>No</td>\n",
       "      <td>Graduate</td>\n",
       "      <td>No</td>\n",
       "      <td>360.0</td>\n",
       "      <td>1.0</td>\n",
       "      <td>Urban</td>\n",
       "      <td>0</td>\n",
       "    </tr>\n",
       "    <tr>\n",
       "      <th>1</th>\n",
       "      <td>0.170974</td>\n",
       "      <td>-0.037659</td>\n",
       "      <td>Male</td>\n",
       "      <td>Yes</td>\n",
       "      <td>Graduate</td>\n",
       "      <td>No</td>\n",
       "      <td>360.0</td>\n",
       "      <td>1.0</td>\n",
       "      <td>Rural</td>\n",
       "      <td>1</td>\n",
       "    </tr>\n",
       "    <tr>\n",
       "      <th>2</th>\n",
       "      <td>-0.499955</td>\n",
       "      <td>-1.346305</td>\n",
       "      <td>Male</td>\n",
       "      <td>Yes</td>\n",
       "      <td>Graduate</td>\n",
       "      <td>Yes</td>\n",
       "      <td>360.0</td>\n",
       "      <td>1.0</td>\n",
       "      <td>Urban</td>\n",
       "      <td>0</td>\n",
       "    </tr>\n",
       "    <tr>\n",
       "      <th>3</th>\n",
       "      <td>-0.743873</td>\n",
       "      <td>-0.167886</td>\n",
       "      <td>Male</td>\n",
       "      <td>Yes</td>\n",
       "      <td>Not Graduate</td>\n",
       "      <td>No</td>\n",
       "      <td>360.0</td>\n",
       "      <td>1.0</td>\n",
       "      <td>Urban</td>\n",
       "      <td>0</td>\n",
       "    </tr>\n",
       "    <tr>\n",
       "      <th>4</th>\n",
       "      <td>0.582817</td>\n",
       "      <td>0.158610</td>\n",
       "      <td>Male</td>\n",
       "      <td>No</td>\n",
       "      <td>Graduate</td>\n",
       "      <td>No</td>\n",
       "      <td>360.0</td>\n",
       "      <td>1.0</td>\n",
       "      <td>Urban</td>\n",
       "      <td>0</td>\n",
       "    </tr>\n",
       "  </tbody>\n",
       "</table>\n",
       "</div>"
      ],
      "text/plain": [
       "   ApplicantIncome  LoanAmount Gender Married     Education Self_Employed  \\\n",
       "0         0.544331    0.235387   Male      No      Graduate            No   \n",
       "1         0.170974   -0.037659   Male     Yes      Graduate            No   \n",
       "2        -0.499955   -1.346305   Male     Yes      Graduate           Yes   \n",
       "3        -0.743873   -0.167886   Male     Yes  Not Graduate            No   \n",
       "4         0.582817    0.158610   Male      No      Graduate            No   \n",
       "\n",
       "   Loan_Amount_Term  Credit_History Property_Area  Dependents  \n",
       "0             360.0             1.0         Urban           0  \n",
       "1             360.0             1.0         Rural           1  \n",
       "2             360.0             1.0         Urban           0  \n",
       "3             360.0             1.0         Urban           0  \n",
       "4             360.0             1.0         Urban           0  "
      ]
     },
     "execution_count": 745,
     "metadata": {},
     "output_type": "execute_result"
    }
   ],
   "source": [
    "final_feature = feature_continues.join([feature_catagorical])\n",
    "final_feature.head()"
   ]
  },
  {
   "cell_type": "code",
   "execution_count": 746,
   "id": "b7606e06",
   "metadata": {},
   "outputs": [
    {
     "name": "stdout",
     "output_type": "stream",
     "text": [
      "Shape of features df is:\n",
      " (595, 10)\n",
      "shape of Target df is:\n",
      " (595,)\n"
     ]
    }
   ],
   "source": [
    "#shape of both df\n",
    "\n",
    "\n",
    "print(\"Shape of features df is:\\n\",final_feature.shape)\n",
    "\n",
    "print(\"shape of Target df is:\\n\",target.shape)"
   ]
  },
  {
   "cell_type": "code",
   "execution_count": 747,
   "id": "de921f97",
   "metadata": {},
   "outputs": [
    {
     "name": "stdout",
     "output_type": "stream",
     "text": [
      "<class 'pandas.core.frame.DataFrame'>\n",
      "Int64Index: 595 entries, 0 to 613\n",
      "Data columns (total 10 columns):\n",
      " #   Column            Non-Null Count  Dtype  \n",
      "---  ------            --------------  -----  \n",
      " 0   ApplicantIncome   595 non-null    float64\n",
      " 1   LoanAmount        595 non-null    float64\n",
      " 2   Gender            595 non-null    object \n",
      " 3   Married           595 non-null    object \n",
      " 4   Education         595 non-null    object \n",
      " 5   Self_Employed     595 non-null    object \n",
      " 6   Loan_Amount_Term  595 non-null    float64\n",
      " 7   Credit_History    595 non-null    float64\n",
      " 8   Property_Area     595 non-null    object \n",
      " 9   Dependents        595 non-null    int64  \n",
      "dtypes: float64(4), int64(1), object(5)\n",
      "memory usage: 67.3+ KB\n"
     ]
    }
   ],
   "source": [
    "final_feature.info()"
   ]
  },
  {
   "cell_type": "code",
   "execution_count": 748,
   "id": "e55eb780",
   "metadata": {},
   "outputs": [
    {
     "data": {
      "image/png": "[encoded data removed]",
      "text/plain": [
       "<Figure size 576x360 with 1 Axes>"
      ]
     },
     "metadata": {
      "needs_background": "light"
     },
     "output_type": "display_data"
    }
   ],
   "source": [
    "#count plot for gander\n",
    "\n",
    "plt.figure(figsize=(8,5))\n",
    "sns.countplot(final_feature['Gender'])\n",
    "plt.show()"
   ]
  },
  {
   "cell_type": "code",
   "execution_count": 749,
   "id": "5a19c717",
   "metadata": {},
   "outputs": [],
   "source": [
    "# convert Male = 0 and Female = 1\n",
    "\n",
    "final_feature['Gender'] = final_feature['Gender'].replace({\"Male\":0,\"Female\":1})"
   ]
  },
  {
   "cell_type": "code",
   "execution_count": 750,
   "id": "b124a754",
   "metadata": {},
   "outputs": [
    {
     "data": {
      "text/plain": [
       "0    488\n",
       "1    107\n",
       "Name: Gender, dtype: int64"
      ]
     },
     "execution_count": 750,
     "metadata": {},
     "output_type": "execute_result"
    }
   ],
   "source": [
    "#counting and chacking values\n",
    "\n",
    "final_feature['Gender'].value_counts()"
   ]
  },
  {
   "cell_type": "code",
   "execution_count": 751,
   "id": "0a55da67",
   "metadata": {},
   "outputs": [
    {
     "name": "stdout",
     "output_type": "stream",
     "text": [
      "<class 'pandas.core.frame.DataFrame'>\n",
      "Int64Index: 595 entries, 0 to 613\n",
      "Data columns (total 10 columns):\n",
      " #   Column            Non-Null Count  Dtype  \n",
      "---  ------            --------------  -----  \n",
      " 0   ApplicantIncome   595 non-null    float64\n",
      " 1   LoanAmount        595 non-null    float64\n",
      " 2   Gender            595 non-null    int64  \n",
      " 3   Married           595 non-null    object \n",
      " 4   Education         595 non-null    object \n",
      " 5   Self_Employed     595 non-null    object \n",
      " 6   Loan_Amount_Term  595 non-null    float64\n",
      " 7   Credit_History    595 non-null    float64\n",
      " 8   Property_Area     595 non-null    object \n",
      " 9   Dependents        595 non-null    int64  \n",
      "dtypes: float64(4), int64(2), object(4)\n",
      "memory usage: 67.3+ KB\n"
     ]
    }
   ],
   "source": [
    "final_feature.info()"
   ]
  },
  {
   "cell_type": "code",
   "execution_count": 752,
   "id": "fe51b741",
   "metadata": {},
   "outputs": [
    {
     "data": {
      "image/png": "[encoded data removed]",
      "text/plain": [
       "<Figure size 576x360 with 1 Axes>"
      ]
     },
     "metadata": {
      "needs_background": "light"
     },
     "output_type": "display_data"
    }
   ],
   "source": [
    "#count plot for married\n",
    "\n",
    "plt.figure(figsize=(8,5))\n",
    "sns.countplot(final_feature['Married'])\n",
    "plt.show()"
   ]
  },
  {
   "cell_type": "code",
   "execution_count": 753,
   "id": "db46ad3c",
   "metadata": {},
   "outputs": [
    {
     "data": {
      "text/plain": [
       "1    388\n",
       "0    207\n",
       "Name: Married, dtype: int64"
      ]
     },
     "execution_count": 753,
     "metadata": {},
     "output_type": "execute_result"
    }
   ],
   "source": [
    "#convert No = 0, Yes = 1\n",
    "\n",
    "final_feature['Married'] = final_feature['Married'].replace({\"No\":0,\"Yes\":1})\n",
    "\n",
    "final_feature['Married'].value_counts()"
   ]
  },
  {
   "cell_type": "code",
   "execution_count": 754,
   "id": "317d82b4",
   "metadata": {},
   "outputs": [
    {
     "name": "stdout",
     "output_type": "stream",
     "text": [
      "<class 'pandas.core.frame.DataFrame'>\n",
      "Int64Index: 595 entries, 0 to 613\n",
      "Data columns (total 10 columns):\n",
      " #   Column            Non-Null Count  Dtype  \n",
      "---  ------            --------------  -----  \n",
      " 0   ApplicantIncome   595 non-null    float64\n",
      " 1   LoanAmount        595 non-null    float64\n",
      " 2   Gender            595 non-null    int64  \n",
      " 3   Married           595 non-null    int64  \n",
      " 4   Education         595 non-null    object \n",
      " 5   Self_Employed     595 non-null    object \n",
      " 6   Loan_Amount_Term  595 non-null    float64\n",
      " 7   Credit_History    595 non-null    float64\n",
      " 8   Property_Area     595 non-null    object \n",
      " 9   Dependents        595 non-null    int64  \n",
      "dtypes: float64(4), int64(3), object(3)\n",
      "memory usage: 67.3+ KB\n"
     ]
    }
   ],
   "source": [
    "final_feature.info()"
   ]
  },
  {
   "cell_type": "code",
   "execution_count": 755,
   "id": "48f8cdb9",
   "metadata": {},
   "outputs": [
    {
     "data": {
      "image/png": "[encoded data removed]",
      "text/plain": [
       "<Figure size 576x360 with 1 Axes>"
      ]
     },
     "metadata": {
      "needs_background": "light"
     },
     "output_type": "display_data"
    }
   ],
   "source": [
    "#count plot for Education\n",
    "\n",
    "plt.figure(figsize=(8,5))\n",
    "sns.countplot(final_feature['Education'])\n",
    "plt.show()"
   ]
  },
  {
   "cell_type": "code",
   "execution_count": 756,
   "id": "9c3b8729",
   "metadata": {},
   "outputs": [
    {
     "data": {
      "text/plain": [
       "1    463\n",
       "0    132\n",
       "Name: Education, dtype: int64"
      ]
     },
     "execution_count": 756,
     "metadata": {},
     "output_type": "execute_result"
    }
   ],
   "source": [
    "#convert Graduate = 1 and Not Graduate = 0\n",
    "\n",
    "final_feature['Education'] = final_feature['Education'].replace({\"Graduate\":1,\"Not Graduate\":0})\n",
    "\n",
    "final_feature['Education'].value_counts()"
   ]
  },
  {
   "cell_type": "code",
   "execution_count": 757,
   "id": "6357cc92",
   "metadata": {},
   "outputs": [
    {
     "name": "stdout",
     "output_type": "stream",
     "text": [
      "<class 'pandas.core.frame.DataFrame'>\n",
      "Int64Index: 595 entries, 0 to 613\n",
      "Data columns (total 10 columns):\n",
      " #   Column            Non-Null Count  Dtype  \n",
      "---  ------            --------------  -----  \n",
      " 0   ApplicantIncome   595 non-null    float64\n",
      " 1   LoanAmount        595 non-null    float64\n",
      " 2   Gender            595 non-null    int64  \n",
      " 3   Married           595 non-null    int64  \n",
      " 4   Education         595 non-null    int64  \n",
      " 5   Self_Employed     595 non-null    object \n",
      " 6   Loan_Amount_Term  595 non-null    float64\n",
      " 7   Credit_History    595 non-null    float64\n",
      " 8   Property_Area     595 non-null    object \n",
      " 9   Dependents        595 non-null    int64  \n",
      "dtypes: float64(4), int64(4), object(2)\n",
      "memory usage: 67.3+ KB\n"
     ]
    }
   ],
   "source": [
    "final_feature.info()"
   ]
  },
  {
   "cell_type": "code",
   "execution_count": 758,
   "id": "c51cc257",
   "metadata": {},
   "outputs": [
    {
     "data": {
      "image/png": "[encoded data removed]",
      "text/plain": [
       "<Figure size 576x360 with 1 Axes>"
      ]
     },
     "metadata": {
      "needs_background": "light"
     },
     "output_type": "display_data"
    }
   ],
   "source": [
    "#count plot for Self_Employed\n",
    "\n",
    "plt.figure(figsize=(8,5))\n",
    "sns.countplot(final_feature['Self_Employed'])\n",
    "plt.show()"
   ]
  },
  {
   "cell_type": "code",
   "execution_count": 759,
   "id": "5b78779f",
   "metadata": {},
   "outputs": [
    {
     "data": {
      "text/plain": [
       "0    518\n",
       "1     77\n",
       "Name: Self_Employed, dtype: int64"
      ]
     },
     "execution_count": 759,
     "metadata": {},
     "output_type": "execute_result"
    }
   ],
   "source": [
    "#convert No=0,Yes = 1\n",
    "\n",
    "final_feature['Self_Employed'] = final_feature['Self_Employed'].replace({\"No\":0,\"Yes\":1})\n",
    "\n",
    "final_feature['Self_Employed'].value_counts()"
   ]
  },
  {
   "cell_type": "code",
   "execution_count": 760,
   "id": "a025486a",
   "metadata": {},
   "outputs": [
    {
     "name": "stdout",
     "output_type": "stream",
     "text": [
      "<class 'pandas.core.frame.DataFrame'>\n",
      "Int64Index: 595 entries, 0 to 613\n",
      "Data columns (total 10 columns):\n",
      " #   Column            Non-Null Count  Dtype  \n",
      "---  ------            --------------  -----  \n",
      " 0   ApplicantIncome   595 non-null    float64\n",
      " 1   LoanAmount        595 non-null    float64\n",
      " 2   Gender            595 non-null    int64  \n",
      " 3   Married           595 non-null    int64  \n",
      " 4   Education         595 non-null    int64  \n",
      " 5   Self_Employed     595 non-null    int64  \n",
      " 6   Loan_Amount_Term  595 non-null    float64\n",
      " 7   Credit_History    595 non-null    float64\n",
      " 8   Property_Area     595 non-null    object \n",
      " 9   Dependents        595 non-null    int64  \n",
      "dtypes: float64(4), int64(5), object(1)\n",
      "memory usage: 67.3+ KB\n"
     ]
    }
   ],
   "source": [
    "final_feature.info()"
   ]
  },
  {
   "cell_type": "code",
   "execution_count": 761,
   "id": "f3de8ac9",
   "metadata": {},
   "outputs": [
    {
     "data": {
      "image/png": "[encoded data removed]",
      "text/plain": [
       "<Figure size 576x360 with 1 Axes>"
      ]
     },
     "metadata": {
      "needs_background": "light"
     },
     "output_type": "display_data"
    }
   ],
   "source": [
    "#count plot for Property Area\n",
    "\n",
    "plt.figure(figsize=(8,5))\n",
    "sns.countplot(final_feature['Property_Area'])\n",
    "plt.show()"
   ]
  },
  {
   "cell_type": "code",
   "execution_count": 762,
   "id": "3cc01a86",
   "metadata": {},
   "outputs": [],
   "source": [
    "feature_dumm = final_feature['Property_Area']"
   ]
  },
  {
   "cell_type": "code",
   "execution_count": 763,
   "id": "0b61f2eb",
   "metadata": {},
   "outputs": [
    {
     "data": {
      "text/html": [
       "<div>\n",
       "<style scoped>\n",
       "    .dataframe tbody tr th:only-of-type {\n",
       "        vertical-align: middle;\n",
       "    }\n",
       "\n",
       "    .dataframe tbody tr th {\n",
       "        vertical-align: top;\n",
       "    }\n",
       "\n",
       "    .dataframe thead th {\n",
       "        text-align: right;\n",
       "    }\n",
       "</style>\n",
       "<table border=\"1\" class=\"dataframe\">\n",
       "  <thead>\n",
       "    <tr style=\"text-align: right;\">\n",
       "      <th></th>\n",
       "      <th>ApplicantIncome</th>\n",
       "      <th>LoanAmount</th>\n",
       "      <th>Gender</th>\n",
       "      <th>Married</th>\n",
       "      <th>Education</th>\n",
       "      <th>Self_Employed</th>\n",
       "      <th>Loan_Amount_Term</th>\n",
       "      <th>Credit_History</th>\n",
       "      <th>Dependents</th>\n",
       "      <th>Rural</th>\n",
       "      <th>Semiurban</th>\n",
       "      <th>Urban</th>\n",
       "    </tr>\n",
       "  </thead>\n",
       "  <tbody>\n",
       "    <tr>\n",
       "      <th>0</th>\n",
       "      <td>0.544331</td>\n",
       "      <td>0.235387</td>\n",
       "      <td>0</td>\n",
       "      <td>0</td>\n",
       "      <td>1</td>\n",
       "      <td>0</td>\n",
       "      <td>360.0</td>\n",
       "      <td>1.0</td>\n",
       "      <td>0</td>\n",
       "      <td>0</td>\n",
       "      <td>0</td>\n",
       "      <td>1</td>\n",
       "    </tr>\n",
       "    <tr>\n",
       "      <th>1</th>\n",
       "      <td>0.170974</td>\n",
       "      <td>-0.037659</td>\n",
       "      <td>0</td>\n",
       "      <td>1</td>\n",
       "      <td>1</td>\n",
       "      <td>0</td>\n",
       "      <td>360.0</td>\n",
       "      <td>1.0</td>\n",
       "      <td>1</td>\n",
       "      <td>1</td>\n",
       "      <td>0</td>\n",
       "      <td>0</td>\n",
       "    </tr>\n",
       "    <tr>\n",
       "      <th>2</th>\n",
       "      <td>-0.499955</td>\n",
       "      <td>-1.346305</td>\n",
       "      <td>0</td>\n",
       "      <td>1</td>\n",
       "      <td>1</td>\n",
       "      <td>1</td>\n",
       "      <td>360.0</td>\n",
       "      <td>1.0</td>\n",
       "      <td>0</td>\n",
       "      <td>0</td>\n",
       "      <td>0</td>\n",
       "      <td>1</td>\n",
       "    </tr>\n",
       "    <tr>\n",
       "      <th>3</th>\n",
       "      <td>-0.743873</td>\n",
       "      <td>-0.167886</td>\n",
       "      <td>0</td>\n",
       "      <td>1</td>\n",
       "      <td>0</td>\n",
       "      <td>0</td>\n",
       "      <td>360.0</td>\n",
       "      <td>1.0</td>\n",
       "      <td>0</td>\n",
       "      <td>0</td>\n",
       "      <td>0</td>\n",
       "      <td>1</td>\n",
       "    </tr>\n",
       "    <tr>\n",
       "      <th>4</th>\n",
       "      <td>0.582817</td>\n",
       "      <td>0.158610</td>\n",
       "      <td>0</td>\n",
       "      <td>0</td>\n",
       "      <td>1</td>\n",
       "      <td>0</td>\n",
       "      <td>360.0</td>\n",
       "      <td>1.0</td>\n",
       "      <td>0</td>\n",
       "      <td>0</td>\n",
       "      <td>0</td>\n",
       "      <td>1</td>\n",
       "    </tr>\n",
       "  </tbody>\n",
       "</table>\n",
       "</div>"
      ],
      "text/plain": [
       "   ApplicantIncome  LoanAmount  Gender  Married  Education  Self_Employed  \\\n",
       "0         0.544331    0.235387       0        0          1              0   \n",
       "1         0.170974   -0.037659       0        1          1              0   \n",
       "2        -0.499955   -1.346305       0        1          1              1   \n",
       "3        -0.743873   -0.167886       0        1          0              0   \n",
       "4         0.582817    0.158610       0        0          1              0   \n",
       "\n",
       "   Loan_Amount_Term  Credit_History  Dependents  Rural  Semiurban  Urban  \n",
       "0             360.0             1.0           0      0          0      1  \n",
       "1             360.0             1.0           1      1          0      0  \n",
       "2             360.0             1.0           0      0          0      1  \n",
       "3             360.0             1.0           0      0          0      1  \n",
       "4             360.0             1.0           0      0          0      1  "
      ]
     },
     "execution_count": 763,
     "metadata": {},
     "output_type": "execute_result"
    }
   ],
   "source": [
    "#get_dummies for convert objective to numerical\n",
    "\n",
    "feature_dumm = final_feature['Property_Area']\n",
    "\n",
    "feature_dumm = pd.get_dummies(feature_dumm)\n",
    "\n",
    "final_feature = final_feature.drop(columns=['Property_Area'])\n",
    "\n",
    "final_feature = final_feature.join(feature_dumm)\n",
    "\n",
    "final_feature.head()"
   ]
  },
  {
   "cell_type": "code",
   "execution_count": 764,
   "id": "0d8480d9",
   "metadata": {},
   "outputs": [
    {
     "name": "stdout",
     "output_type": "stream",
     "text": [
      "<class 'pandas.core.frame.DataFrame'>\n",
      "Int64Index: 595 entries, 0 to 613\n",
      "Data columns (total 12 columns):\n",
      " #   Column            Non-Null Count  Dtype  \n",
      "---  ------            --------------  -----  \n",
      " 0   ApplicantIncome   595 non-null    float64\n",
      " 1   LoanAmount        595 non-null    float64\n",
      " 2   Gender            595 non-null    int64  \n",
      " 3   Married           595 non-null    int64  \n",
      " 4   Education         595 non-null    int64  \n",
      " 5   Self_Employed     595 non-null    int64  \n",
      " 6   Loan_Amount_Term  595 non-null    float64\n",
      " 7   Credit_History    595 non-null    float64\n",
      " 8   Dependents        595 non-null    int64  \n",
      " 9   Rural             595 non-null    uint8  \n",
      " 10  Semiurban         595 non-null    uint8  \n",
      " 11  Urban             595 non-null    uint8  \n",
      "dtypes: float64(4), int64(5), uint8(3)\n",
      "memory usage: 64.4 KB\n"
     ]
    }
   ],
   "source": [
    "final_feature.info()"
   ]
  },
  {
   "cell_type": "code",
   "execution_count": 765,
   "id": "935482c2",
   "metadata": {},
   "outputs": [
    {
     "data": {
      "text/plain": [
       "1    408\n",
       "0    187\n",
       "Name: Loan_Status, dtype: int64"
      ]
     },
     "execution_count": 765,
     "metadata": {},
     "output_type": "execute_result"
    }
   ],
   "source": [
    "# now deal with target values\n",
    "\n",
    "target.value_counts()"
   ]
  },
  {
   "cell_type": "code",
   "execution_count": 766,
   "id": "f0b37402",
   "metadata": {},
   "outputs": [
    {
     "data": {
      "text/plain": [
       "<AxesSubplot:xlabel='Loan_Status', ylabel='count'>"
      ]
     },
     "execution_count": 766,
     "metadata": {},
     "output_type": "execute_result"
    },
    {
     "data": {
      "image/png": "[encoded data removed]",
      "text/plain": [
       "<Figure size 432x288 with 1 Axes>"
      ]
     },
     "metadata": {
      "needs_background": "light"
     },
     "output_type": "display_data"
    }
   ],
   "source": [
    "# This is imbalanced data set so we have to balace this data.\n",
    "\n",
    "from imblearn.over_sampling import SMOTE\n",
    "\n",
    "\n",
    "\n",
    "smt = SMOTE()\n",
    "final_feature, target = smt.fit_resample(final_feature, target)\n",
    "\n",
    "\n",
    "\n",
    "sns.countplot(target)"
   ]
  },
  {
   "cell_type": "code",
   "execution_count": 767,
   "id": "22c0db96",
   "metadata": {},
   "outputs": [
    {
     "name": "stdout",
     "output_type": "stream",
     "text": [
      "<class 'pandas.core.frame.DataFrame'>\n",
      "RangeIndex: 816 entries, 0 to 815\n",
      "Data columns (total 12 columns):\n",
      " #   Column            Non-Null Count  Dtype  \n",
      "---  ------            --------------  -----  \n",
      " 0   ApplicantIncome   816 non-null    float64\n",
      " 1   LoanAmount        816 non-null    float64\n",
      " 2   Gender            816 non-null    int64  \n",
      " 3   Married           816 non-null    int64  \n",
      " 4   Education         816 non-null    int64  \n",
      " 5   Self_Employed     816 non-null    int64  \n",
      " 6   Loan_Amount_Term  816 non-null    float64\n",
      " 7   Credit_History    816 non-null    float64\n",
      " 8   Dependents        816 non-null    int64  \n",
      " 9   Rural             816 non-null    uint8  \n",
      " 10  Semiurban         816 non-null    uint8  \n",
      " 11  Urban             816 non-null    uint8  \n",
      "dtypes: float64(4), int64(5), uint8(3)\n",
      "memory usage: 59.9 KB\n"
     ]
    }
   ],
   "source": [
    "final_feature.info()"
   ]
  },
  {
   "cell_type": "code",
   "execution_count": 768,
   "id": "5875a0e1",
   "metadata": {},
   "outputs": [
    {
     "data": {
      "text/plain": [
       "1    408\n",
       "0    408\n",
       "Name: Loan_Status, dtype: int64"
      ]
     },
     "execution_count": 768,
     "metadata": {},
     "output_type": "execute_result"
    }
   ],
   "source": [
    "#chack count\n",
    "\n",
    "\n",
    "target.value_counts()"
   ]
  },
  {
   "cell_type": "code",
   "execution_count": 769,
   "id": "d45e7b20",
   "metadata": {},
   "outputs": [
    {
     "data": {
      "text/plain": [
       "(816, 12)"
      ]
     },
     "execution_count": 769,
     "metadata": {},
     "output_type": "execute_result"
    }
   ],
   "source": [
    "#chack feature shap\n",
    "\n",
    "\n",
    "final_feature.shape"
   ]
  },
  {
   "cell_type": "code",
   "execution_count": 770,
   "id": "2e76c546",
   "metadata": {},
   "outputs": [
    {
     "data": {
      "text/plain": [
       "(816,)"
      ]
     },
     "execution_count": 770,
     "metadata": {},
     "output_type": "execute_result"
    }
   ],
   "source": [
    "#chack target shap\n",
    "\n",
    "target.shape"
   ]
  },
  {
   "cell_type": "markdown",
   "id": "52984efb",
   "metadata": {},
   "source": [
    "# Scaling data set"
   ]
  },
  {
   "cell_type": "code",
   "execution_count": 771,
   "id": "2ba1ef5b",
   "metadata": {},
   "outputs": [],
   "source": [
    "from sklearn.preprocessing import StandardScaler\n",
    "std = StandardScaler()"
   ]
  },
  {
   "cell_type": "code",
   "execution_count": 772,
   "id": "481b2ce9",
   "metadata": {},
   "outputs": [
    {
     "data": {
      "text/plain": [
       "array([[ 0.68844829,  0.27422259, -0.45508306, ..., -0.63598352,\n",
       "        -0.71687841,  1.41812204],\n",
       "       [ 0.23357137, -0.04174483, -0.45508306, ...,  1.57236778,\n",
       "        -0.71687841, -0.70515793],\n",
       "       [-0.58384926, -1.55610742, -0.45508306, ..., -0.63598352,\n",
       "        -0.71687841,  1.41812204],\n",
       "       ...,\n",
       "       [ 0.72328153,  1.60060801, -0.45508306, ..., -0.63598352,\n",
       "        -0.71687841,  1.41812204],\n",
       "       [-0.37552363,  0.63584397, -0.45508306, ...,  1.57236778,\n",
       "        -0.71687841, -0.70515793],\n",
       "       [ 0.48040005,  0.88680803, -0.45508306, ...,  1.57236778,\n",
       "        -0.71687841, -0.70515793]])"
      ]
     },
     "execution_count": 772,
     "metadata": {},
     "output_type": "execute_result"
    }
   ],
   "source": [
    "final_feature_scaled = std.fit_transform(final_feature)\n",
    "\n",
    "final_feature_scaled"
   ]
  },
  {
   "cell_type": "code",
   "execution_count": null,
   "id": "106ed34c",
   "metadata": {},
   "outputs": [],
   "source": []
  },
  {
   "cell_type": "code",
   "execution_count": 773,
   "id": "1c7f287a",
   "metadata": {},
   "outputs": [],
   "source": [
    "from sklearn.metrics import accuracy_score,classification_report,confusion_matrix,plot_roc_curve,roc_auc_score\n",
    "from sklearn.model_selection import train_test_split,GridSearchCV,cross_val_score"
   ]
  },
  {
   "cell_type": "code",
   "execution_count": 774,
   "id": "36085043",
   "metadata": {},
   "outputs": [],
   "source": [
    "def model(mod):\n",
    "    max_auc = 0\n",
    "    max_state = 0\n",
    "    for i in range(1,201):\n",
    "        x_train,x_test,y_train,y_test = train_test_split(final_feature_scaled,target,test_size = 0.25, random_state =i)\n",
    "        mod.fit(x_train,y_train)\n",
    "        y_pred = mod.predict(x_test)\n",
    "        auc_scor = accuracy_score(y_test,y_pred)\n",
    "        if auc_scor>max_auc:\n",
    "            max_auc=auc_scor\n",
    "            max_state=i\n",
    "    print(\"Best Accuracy Score corresponding to \",max_state,\"is \",auc_scor)\n",
    "    print(\"Classifiation Report-->\\n\\n\",classification_report(y_test,y_pred))\n"
   ]
  },
  {
   "cell_type": "code",
   "execution_count": 791,
   "id": "0489ccc6",
   "metadata": {},
   "outputs": [],
   "source": [
    "def Modal_all(mob):\n",
    "    x_train,x_test,y_train,y_test = train_test_split(final_feature_scaled,target,random_state=80,test_size=0.25)\n",
    "    mob.fit(x_train,y_train)\n",
    "    y_pre = mob.predict(x_test)\n",
    "    \n",
    "    print(\"Accuracy score of this modal is :\\n\\n\",accuracy_score(y_test,y_pre)*100)\n",
    "    \n",
    "    print(\"Confusion matrix of this modal is :\\n\\n\",confusion_matrix(y_test,y_pre))\n",
    "    \n",
    "    print(\"Classification report of this modal is :\\n\\n\",classification_report(y_test,y_pre))\n",
    "    \n",
    "    print(\"roc_auc_score :\\n\\n\",roc_auc_score(y_test,y_pre)*100)\n",
    "    \n",
    "    print(\"Cross_values_score :\\n\\n \",cross_val_score(mob,final_feature_scaled,target,cv=3).mean()*100)"
   ]
  },
  {
   "cell_type": "markdown",
   "id": "57dea8f1",
   "metadata": {},
   "source": [
    "# LogisticRegression"
   ]
  },
  {
   "cell_type": "code",
   "execution_count": 792,
   "id": "cb65591f",
   "metadata": {},
   "outputs": [
    {
     "name": "stdout",
     "output_type": "stream",
     "text": [
      "Best Accuracy Score corresponding to  146 is  0.7156862745098039\n",
      "Classifiation Report-->\n",
      "\n",
      "               precision    recall  f1-score   support\n",
      "\n",
      "           0       0.85      0.59      0.70       113\n",
      "           1       0.63      0.87      0.73        91\n",
      "\n",
      "    accuracy                           0.72       204\n",
      "   macro avg       0.74      0.73      0.71       204\n",
      "weighted avg       0.75      0.72      0.71       204\n",
      "\n"
     ]
    }
   ],
   "source": [
    "from sklearn.linear_model import LogisticRegression\n",
    "log_reg = LogisticRegression()\n",
    "model(log_reg)"
   ]
  },
  {
   "cell_type": "markdown",
   "id": "bf2cd33f",
   "metadata": {},
   "source": [
    "# RandomForestClassifier"
   ]
  },
  {
   "cell_type": "code",
   "execution_count": 793,
   "id": "572623c0",
   "metadata": {},
   "outputs": [
    {
     "name": "stdout",
     "output_type": "stream",
     "text": [
      "Accuracy score of this modal is :\n",
      "\n",
      " 82.35294117647058\n",
      "Confusion matrix of this modal is :\n",
      "\n",
      " [[82 21]\n",
      " [15 86]]\n",
      "Classification report of this modal is :\n",
      "\n",
      "               precision    recall  f1-score   support\n",
      "\n",
      "           0       0.85      0.80      0.82       103\n",
      "           1       0.80      0.85      0.83       101\n",
      "\n",
      "    accuracy                           0.82       204\n",
      "   macro avg       0.82      0.82      0.82       204\n",
      "weighted avg       0.82      0.82      0.82       204\n",
      "\n",
      "roc_auc_score :\n",
      "\n",
      " 82.38008266846101\n",
      "Cross_values_score :\n",
      "\n",
      "  78.55392156862744\n"
     ]
    }
   ],
   "source": [
    "from sklearn.ensemble import RandomForestClassifier\n",
    "rand_class = RandomForestClassifier()\n",
    "Modal_all(rand_class)"
   ]
  },
  {
   "cell_type": "markdown",
   "id": "b0724670",
   "metadata": {},
   "source": [
    "# AdaBoostClassifier"
   ]
  },
  {
   "cell_type": "code",
   "execution_count": 778,
   "id": "69bafdd8",
   "metadata": {},
   "outputs": [
    {
     "name": "stdout",
     "output_type": "stream",
     "text": [
      "Accuracy score of this modal is :\n",
      "\n",
      " 77.45098039215686\n",
      "Confusion matrix of this modal is :\n",
      "\n",
      " [[75 26]\n",
      " [20 83]]\n",
      "Classification report of this modal is :\n",
      "\n",
      "               precision    recall  f1-score   support\n",
      "\n",
      "           0       0.79      0.74      0.77       101\n",
      "           1       0.76      0.81      0.78       103\n",
      "\n",
      "    accuracy                           0.77       204\n",
      "   macro avg       0.78      0.77      0.77       204\n",
      "weighted avg       0.78      0.77      0.77       204\n",
      "\n",
      "roc_auc_score :\n",
      "\n",
      " 77.41997500720946\n",
      "Cross_values_score :\n",
      "\n",
      "  72.67156862745098\n"
     ]
    }
   ],
   "source": [
    "from sklearn.ensemble import AdaBoostClassifier\n",
    "ada_class = AdaBoostClassifier()\n",
    "Modal_all(ada_class)"
   ]
  },
  {
   "cell_type": "markdown",
   "id": "13e49f20",
   "metadata": {},
   "source": [
    "# BaggingClassifier"
   ]
  },
  {
   "cell_type": "code",
   "execution_count": 779,
   "id": "09dd7f90",
   "metadata": {},
   "outputs": [
    {
     "name": "stdout",
     "output_type": "stream",
     "text": [
      "Accuracy score of this modal is :\n",
      "\n",
      " 78.43137254901961\n",
      "Confusion matrix of this modal is :\n",
      "\n",
      " [[85 16]\n",
      " [28 75]]\n",
      "Classification report of this modal is :\n",
      "\n",
      "               precision    recall  f1-score   support\n",
      "\n",
      "           0       0.75      0.84      0.79       101\n",
      "           1       0.82      0.73      0.77       103\n",
      "\n",
      "    accuracy                           0.78       204\n",
      "   macro avg       0.79      0.78      0.78       204\n",
      "weighted avg       0.79      0.78      0.78       204\n",
      "\n",
      "roc_auc_score :\n",
      "\n",
      " 78.48697491108335\n",
      "Cross_values_score :\n",
      "\n",
      "  73.8970588235294\n"
     ]
    }
   ],
   "source": [
    "from sklearn.ensemble import BaggingClassifier\n",
    "beg_class = BaggingClassifier()\n",
    "Modal_all(beg_class)"
   ]
  },
  {
   "cell_type": "markdown",
   "id": "7667899c",
   "metadata": {},
   "source": [
    "# GradientBoostingClassifier"
   ]
  },
  {
   "cell_type": "code",
   "execution_count": 780,
   "id": "425b22ce",
   "metadata": {},
   "outputs": [
    {
     "name": "stdout",
     "output_type": "stream",
     "text": [
      "Accuracy score of this modal is :\n",
      "\n",
      " 77.45098039215686\n",
      "Confusion matrix of this modal is :\n",
      "\n",
      " [[72 29]\n",
      " [17 86]]\n",
      "Classification report of this modal is :\n",
      "\n",
      "               precision    recall  f1-score   support\n",
      "\n",
      "           0       0.81      0.71      0.76       101\n",
      "           1       0.75      0.83      0.79       103\n",
      "\n",
      "    accuracy                           0.77       204\n",
      "   macro avg       0.78      0.77      0.77       204\n",
      "weighted avg       0.78      0.77      0.77       204\n",
      "\n",
      "roc_auc_score :\n",
      "\n",
      " 77.39113717196962\n",
      "Cross_values_score :\n",
      "\n",
      "  73.40686274509804\n"
     ]
    }
   ],
   "source": [
    "from sklearn.ensemble import GradientBoostingClassifier\n",
    "gbd_class = GradientBoostingClassifier()\n",
    "Modal_all(gbd_class)"
   ]
  },
  {
   "cell_type": "markdown",
   "id": "09703f91",
   "metadata": {},
   "source": [
    "# DecisionTreeClassifier"
   ]
  },
  {
   "cell_type": "code",
   "execution_count": 781,
   "id": "092d6f4f",
   "metadata": {},
   "outputs": [
    {
     "name": "stdout",
     "output_type": "stream",
     "text": [
      "Accuracy score of this modal is :\n",
      "\n",
      " 73.52941176470588\n",
      "Confusion matrix of this modal is :\n",
      "\n",
      " [[77 24]\n",
      " [30 73]]\n",
      "Classification report of this modal is :\n",
      "\n",
      "               precision    recall  f1-score   support\n",
      "\n",
      "           0       0.72      0.76      0.74       101\n",
      "           1       0.75      0.71      0.73       103\n",
      "\n",
      "    accuracy                           0.74       204\n",
      "   macro avg       0.74      0.74      0.74       204\n",
      "weighted avg       0.74      0.74      0.74       204\n",
      "\n",
      "roc_auc_score :\n",
      "\n",
      " 73.55570508507162\n",
      "Cross_values_score :\n",
      "\n",
      "  73.0392156862745\n"
     ]
    }
   ],
   "source": [
    "from sklearn.tree import DecisionTreeClassifier\n",
    "d_tree = DecisionTreeClassifier()\n",
    "Modal_all(d_tree)"
   ]
  },
  {
   "cell_type": "markdown",
   "id": "9d45a2ad",
   "metadata": {},
   "source": [
    "# KNeighborsClassifier"
   ]
  },
  {
   "cell_type": "code",
   "execution_count": 782,
   "id": "6d49268e",
   "metadata": {},
   "outputs": [
    {
     "name": "stdout",
     "output_type": "stream",
     "text": [
      "Accuracy score of this modal is :\n",
      "\n",
      " 72.54901960784314\n",
      "Confusion matrix of this modal is :\n",
      "\n",
      " [[75 26]\n",
      " [30 73]]\n",
      "Classification report of this modal is :\n",
      "\n",
      "               precision    recall  f1-score   support\n",
      "\n",
      "           0       0.71      0.74      0.73       101\n",
      "           1       0.74      0.71      0.72       103\n",
      "\n",
      "    accuracy                           0.73       204\n",
      "   macro avg       0.73      0.73      0.73       204\n",
      "weighted avg       0.73      0.73      0.73       204\n",
      "\n",
      "roc_auc_score :\n",
      "\n",
      " 72.56560607517063\n",
      "Cross_values_score :\n",
      "\n",
      "  71.20098039215685\n"
     ]
    }
   ],
   "source": [
    "from sklearn.neighbors import KNeighborsClassifier\n",
    "knn_class = KNeighborsClassifier()\n",
    "Modal_all(knn_class)"
   ]
  },
  {
   "cell_type": "markdown",
   "id": "5119172d",
   "metadata": {},
   "source": [
    "# XGBClassifier"
   ]
  },
  {
   "cell_type": "code",
   "execution_count": 783,
   "id": "382656ae",
   "metadata": {},
   "outputs": [
    {
     "name": "stdout",
     "output_type": "stream",
     "text": [
      "[22:51:43] WARNING: ..\\src\\learner.cc:1115: Starting in XGBoost 1.3.0, the default evaluation metric used with the objective 'binary:logistic' was changed from 'error' to 'logloss'. Explicitly set eval_metric if you'd like to restore the old behavior.\n",
      "Accuracy score of this modal is :\n",
      "\n",
      " 76.9607843137255\n",
      "Confusion matrix of this modal is :\n",
      "\n",
      " [[81 20]\n",
      " [27 76]]\n",
      "Classification report of this modal is :\n",
      "\n",
      "               precision    recall  f1-score   support\n",
      "\n",
      "           0       0.75      0.80      0.78       101\n",
      "           1       0.79      0.74      0.76       103\n",
      "\n",
      "    accuracy                           0.77       204\n",
      "   macro avg       0.77      0.77      0.77       204\n",
      "weighted avg       0.77      0.77      0.77       204\n",
      "\n",
      "roc_auc_score :\n",
      "\n",
      " 76.99221378448526\n",
      "[22:51:43] WARNING: ..\\src\\learner.cc:1115: Starting in XGBoost 1.3.0, the default evaluation metric used with the objective 'binary:logistic' was changed from 'error' to 'logloss'. Explicitly set eval_metric if you'd like to restore the old behavior.\n",
      "[22:51:43] WARNING: ..\\src\\learner.cc:1115: Starting in XGBoost 1.3.0, the default evaluation metric used with the objective 'binary:logistic' was changed from 'error' to 'logloss'. Explicitly set eval_metric if you'd like to restore the old behavior.\n",
      "[22:51:43] WARNING: ..\\src\\learner.cc:1115: Starting in XGBoost 1.3.0, the default evaluation metric used with the objective 'binary:logistic' was changed from 'error' to 'logloss'. Explicitly set eval_metric if you'd like to restore the old behavior.\n",
      "Cross_values_score :\n",
      "\n",
      "  74.63235294117648\n"
     ]
    }
   ],
   "source": [
    "from xgboost import XGBClassifier\n",
    "xgb = XGBClassifier()\n",
    "Modal_all(xgb)"
   ]
  },
  {
   "cell_type": "markdown",
   "id": "71291a17",
   "metadata": {},
   "source": [
    "# SVC "
   ]
  },
  {
   "cell_type": "code",
   "execution_count": 784,
   "id": "a224d959",
   "metadata": {},
   "outputs": [
    {
     "name": "stdout",
     "output_type": "stream",
     "text": [
      "Accuracy score of this modal is :\n",
      "\n",
      " 75.98039215686273\n",
      "Confusion matrix of this modal is :\n",
      "\n",
      " [[76 25]\n",
      " [24 79]]\n",
      "Classification report of this modal is :\n",
      "\n",
      "               precision    recall  f1-score   support\n",
      "\n",
      "           0       0.76      0.75      0.76       101\n",
      "           1       0.76      0.77      0.76       103\n",
      "\n",
      "    accuracy                           0.76       204\n",
      "   macro avg       0.76      0.76      0.76       204\n",
      "weighted avg       0.76      0.76      0.76       204\n",
      "\n",
      "roc_auc_score :\n",
      "\n",
      " 75.97327693934443\n",
      "Cross_values_score :\n",
      "\n",
      "  70.22058823529413\n"
     ]
    }
   ],
   "source": [
    "from sklearn.svm import SVC\n",
    "svc = SVC()\n",
    "Modal_all(svc)"
   ]
  },
  {
   "cell_type": "markdown",
   "id": "e015357a",
   "metadata": {},
   "source": [
    "### Final Modal is Random Forest classifies\n",
    "\n",
    "#### Let's do Hyperperameter tunning\n",
    " "
   ]
  },
  {
   "cell_type": "code",
   "execution_count": 789,
   "id": "e54d0faa",
   "metadata": {},
   "outputs": [
    {
     "data": {
      "text/plain": [
       "{'criterion': 'gini',\n",
       " 'min_samples_leaf': 1,\n",
       " 'min_samples_split': 2,\n",
       " 'n_estimators': 100}"
      ]
     },
     "execution_count": 789,
     "metadata": {},
     "output_type": "execute_result"
    }
   ],
   "source": [
    "from sklearn.model_selection import GridSearchCV\n",
    "\n",
    "param_grid = {\"n_estimators\" : [100,200], \"criterion\" : [\"gini\", \"entropy\"],\n",
    "             \"min_samples_split\" : [2,3], \"min_samples_leaf\" : [1,2]}\n",
    "\n",
    "grid_search = GridSearchCV(rand_class, param_grid)\n",
    "grid_search.fit(x_train, y_train)\n",
    "grid_search.best_params_"
   ]
  },
  {
   "cell_type": "code",
   "execution_count": 798,
   "id": "fce41f40",
   "metadata": {},
   "outputs": [
    {
     "name": "stdout",
     "output_type": "stream",
     "text": [
      "0.7682926829268293\n"
     ]
    },
    {
     "data": {
      "text/html": [
       "<div>\n",
       "<style scoped>\n",
       "    .dataframe tbody tr th:only-of-type {\n",
       "        vertical-align: middle;\n",
       "    }\n",
       "\n",
       "    .dataframe tbody tr th {\n",
       "        vertical-align: top;\n",
       "    }\n",
       "\n",
       "    .dataframe thead th {\n",
       "        text-align: right;\n",
       "    }\n",
       "</style>\n",
       "<table border=\"1\" class=\"dataframe\">\n",
       "  <thead>\n",
       "    <tr style=\"text-align: right;\">\n",
       "      <th></th>\n",
       "      <th>Y_true</th>\n",
       "      <th>Y_Pre</th>\n",
       "    </tr>\n",
       "  </thead>\n",
       "  <tbody>\n",
       "    <tr>\n",
       "      <th>212</th>\n",
       "      <td>1</td>\n",
       "      <td>1</td>\n",
       "    </tr>\n",
       "    <tr>\n",
       "      <th>392</th>\n",
       "      <td>1</td>\n",
       "      <td>1</td>\n",
       "    </tr>\n",
       "    <tr>\n",
       "      <th>735</th>\n",
       "      <td>0</td>\n",
       "      <td>0</td>\n",
       "    </tr>\n",
       "    <tr>\n",
       "      <th>393</th>\n",
       "      <td>0</td>\n",
       "      <td>1</td>\n",
       "    </tr>\n",
       "    <tr>\n",
       "      <th>475</th>\n",
       "      <td>0</td>\n",
       "      <td>1</td>\n",
       "    </tr>\n",
       "    <tr>\n",
       "      <th>350</th>\n",
       "      <td>0</td>\n",
       "      <td>1</td>\n",
       "    </tr>\n",
       "    <tr>\n",
       "      <th>342</th>\n",
       "      <td>1</td>\n",
       "      <td>1</td>\n",
       "    </tr>\n",
       "    <tr>\n",
       "      <th>224</th>\n",
       "      <td>1</td>\n",
       "      <td>0</td>\n",
       "    </tr>\n",
       "    <tr>\n",
       "      <th>432</th>\n",
       "      <td>1</td>\n",
       "      <td>1</td>\n",
       "    </tr>\n",
       "    <tr>\n",
       "      <th>375</th>\n",
       "      <td>1</td>\n",
       "      <td>1</td>\n",
       "    </tr>\n",
       "  </tbody>\n",
       "</table>\n",
       "</div>"
      ],
      "text/plain": [
       "     Y_true  Y_Pre\n",
       "212       1      1\n",
       "392       1      1\n",
       "735       0      0\n",
       "393       0      1\n",
       "475       0      1\n",
       "350       0      1\n",
       "342       1      1\n",
       "224       1      0\n",
       "432       1      1\n",
       "375       1      1"
      ]
     },
     "execution_count": 798,
     "metadata": {},
     "output_type": "execute_result"
    }
   ],
   "source": [
    "#old modal gives good accuracy.\n",
    "x_train,x_test,y_train,y_test = train_test_split(final_feature_scaled,target,test_size=0.20,random_state=150)\n",
    "rand_class.fit(x_train,y_train)\n",
    "y_pre = rand_class.predict(x_test)\n",
    "print(accuracy_score(y_test,y_pre))\n",
    "\n",
    "result = pd.DataFrame({\"Y_true\":y_test,\"Y_Pre\":y_pre})\n",
    "result.head(10)"
   ]
  },
  {
   "cell_type": "code",
   "execution_count": 796,
   "id": "dd7d2a6e",
   "metadata": {},
   "outputs": [
    {
     "data": {
      "image/png": "[encoded data removed]",
      "text/plain": [
       "<Figure size 432x288 with 1 Axes>"
      ]
     },
     "metadata": {
      "needs_background": "light"
     },
     "output_type": "display_data"
    }
   ],
   "source": [
    "disp = plot_roc_curve(log_reg, x_test, y_test)\n",
    "plot_roc_curve(d_tree, x_test, y_test, ax=disp.ax_)\n",
    "plot_roc_curve(knn_class, x_test, y_test, ax=disp.ax_)\n",
    "plot_roc_curve(rand_class, x_test, y_test, ax=disp.ax_)\n",
    "plot_roc_curve(ada_class,x_test,y_test,ax=disp.ax_)\n",
    "plot_roc_curve(beg_class,x_test,y_test,ax=disp.ax_)\n",
    "\n",
    "plt.legend(prop={\"size\" : 10}, loc=\"lower right\")\n",
    "plt.show()"
   ]
  },
  {
   "cell_type": "markdown",
   "id": "fc9624cc",
   "metadata": {},
   "source": [
    "# Saving Modal"
   ]
  },
  {
   "cell_type": "code",
   "execution_count": 799,
   "id": "eccac152",
   "metadata": {},
   "outputs": [
    {
     "data": {
      "text/plain": [
       "['loan_applicatin.pkl']"
      ]
     },
     "execution_count": 799,
     "metadata": {},
     "output_type": "execute_result"
    }
   ],
   "source": [
    "import joblib\n",
    "joblib.dump(rand_class,'loan_applicatin.pkl')"
   ]
  },
  {
   "cell_type": "code",
   "execution_count": null,
   "id": "e0406ff7",
   "metadata": {},
   "outputs": [],
   "source": []
  }
 ],
 "metadata": {
  "kernelspec": {
   "display_name": "Python 3 (ipykernel)",
   "language": "python",
   "name": "python3"
  },
  "language_info": {
   "codemirror_mode": {
    "name": "ipython",
    "version": 3
   },
   "file_extension": ".py",
   "mimetype": "text/x-python",
   "name": "python",
   "nbconvert_exporter": "python",
   "pygments_lexer": "ipython3",
   "version": "3.9.7"
  }
 },
 "nbformat": 4,
 "nbformat_minor": 5
}
