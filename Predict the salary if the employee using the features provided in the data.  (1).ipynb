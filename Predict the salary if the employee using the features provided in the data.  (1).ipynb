{
 "cells": [
  {
   "cell_type": "markdown",
   "id": "3d159032",
   "metadata": {},
   "source": [
    "# Predict the salary if the employee using the features provided in the data. "
   ]
  },
  {
   "cell_type": "code",
   "execution_count": 111,
   "id": "eb73bd43",
   "metadata": {},
   "outputs": [],
   "source": [
    "#importent libraries\n",
    "import pandas as pd\n",
    "import numpy as np\n",
    "import matplotlib.pyplot as plt\n",
    "import seaborn as sns"
   ]
  },
  {
   "cell_type": "code",
   "execution_count": 112,
   "id": "88c77c00",
   "metadata": {},
   "outputs": [
    {
     "data": {
      "text/html": [
       "<div>\n",
       "<style scoped>\n",
       "    .dataframe tbody tr th:only-of-type {\n",
       "        vertical-align: middle;\n",
       "    }\n",
       "\n",
       "    .dataframe tbody tr th {\n",
       "        vertical-align: top;\n",
       "    }\n",
       "\n",
       "    .dataframe thead th {\n",
       "        text-align: right;\n",
       "    }\n",
       "</style>\n",
       "<table border=\"1\" class=\"dataframe\">\n",
       "  <thead>\n",
       "    <tr style=\"text-align: right;\">\n",
       "      <th></th>\n",
       "      <th>rank</th>\n",
       "      <th>discipline</th>\n",
       "      <th>yrs.since.phd</th>\n",
       "      <th>yrs.service</th>\n",
       "      <th>sex</th>\n",
       "      <th>salary</th>\n",
       "    </tr>\n",
       "  </thead>\n",
       "  <tbody>\n",
       "    <tr>\n",
       "      <th>0</th>\n",
       "      <td>Prof</td>\n",
       "      <td>B</td>\n",
       "      <td>19</td>\n",
       "      <td>18</td>\n",
       "      <td>Male</td>\n",
       "      <td>139750</td>\n",
       "    </tr>\n",
       "    <tr>\n",
       "      <th>1</th>\n",
       "      <td>Prof</td>\n",
       "      <td>B</td>\n",
       "      <td>20</td>\n",
       "      <td>16</td>\n",
       "      <td>Male</td>\n",
       "      <td>173200</td>\n",
       "    </tr>\n",
       "    <tr>\n",
       "      <th>2</th>\n",
       "      <td>AsstProf</td>\n",
       "      <td>B</td>\n",
       "      <td>4</td>\n",
       "      <td>3</td>\n",
       "      <td>Male</td>\n",
       "      <td>79750</td>\n",
       "    </tr>\n",
       "    <tr>\n",
       "      <th>3</th>\n",
       "      <td>Prof</td>\n",
       "      <td>B</td>\n",
       "      <td>45</td>\n",
       "      <td>39</td>\n",
       "      <td>Male</td>\n",
       "      <td>115000</td>\n",
       "    </tr>\n",
       "    <tr>\n",
       "      <th>4</th>\n",
       "      <td>Prof</td>\n",
       "      <td>B</td>\n",
       "      <td>40</td>\n",
       "      <td>41</td>\n",
       "      <td>Male</td>\n",
       "      <td>141500</td>\n",
       "    </tr>\n",
       "  </tbody>\n",
       "</table>\n",
       "</div>"
      ],
      "text/plain": [
       "       rank discipline  yrs.since.phd  yrs.service   sex  salary\n",
       "0      Prof          B             19           18  Male  139750\n",
       "1      Prof          B             20           16  Male  173200\n",
       "2  AsstProf          B              4            3  Male   79750\n",
       "3      Prof          B             45           39  Male  115000\n",
       "4      Prof          B             40           41  Male  141500"
      ]
     },
     "execution_count": 112,
     "metadata": {},
     "output_type": "execute_result"
    }
   ],
   "source": [
    "#read data\n",
    "df = pd.read_csv('Salaries.csv')\n",
    "df.head()"
   ]
  },
  {
   "cell_type": "markdown",
   "id": "04c59151",
   "metadata": {},
   "source": [
    "# In this dataset clearly see - salay is output and all other are features."
   ]
  },
  {
   "cell_type": "code",
   "execution_count": 113,
   "id": "aca029bb",
   "metadata": {},
   "outputs": [
    {
     "data": {
      "text/html": [
       "<div>\n",
       "<style scoped>\n",
       "    .dataframe tbody tr th:only-of-type {\n",
       "        vertical-align: middle;\n",
       "    }\n",
       "\n",
       "    .dataframe tbody tr th {\n",
       "        vertical-align: top;\n",
       "    }\n",
       "\n",
       "    .dataframe thead th {\n",
       "        text-align: right;\n",
       "    }\n",
       "</style>\n",
       "<table border=\"1\" class=\"dataframe\">\n",
       "  <thead>\n",
       "    <tr style=\"text-align: right;\">\n",
       "      <th></th>\n",
       "      <th>yrs.since.phd</th>\n",
       "      <th>yrs.service</th>\n",
       "      <th>salary</th>\n",
       "    </tr>\n",
       "  </thead>\n",
       "  <tbody>\n",
       "    <tr>\n",
       "      <th>count</th>\n",
       "      <td>397.000000</td>\n",
       "      <td>397.000000</td>\n",
       "      <td>397.000000</td>\n",
       "    </tr>\n",
       "    <tr>\n",
       "      <th>mean</th>\n",
       "      <td>22.314861</td>\n",
       "      <td>17.614610</td>\n",
       "      <td>113706.458438</td>\n",
       "    </tr>\n",
       "    <tr>\n",
       "      <th>std</th>\n",
       "      <td>12.887003</td>\n",
       "      <td>13.006024</td>\n",
       "      <td>30289.038695</td>\n",
       "    </tr>\n",
       "    <tr>\n",
       "      <th>min</th>\n",
       "      <td>1.000000</td>\n",
       "      <td>0.000000</td>\n",
       "      <td>57800.000000</td>\n",
       "    </tr>\n",
       "    <tr>\n",
       "      <th>25%</th>\n",
       "      <td>12.000000</td>\n",
       "      <td>7.000000</td>\n",
       "      <td>91000.000000</td>\n",
       "    </tr>\n",
       "    <tr>\n",
       "      <th>50%</th>\n",
       "      <td>21.000000</td>\n",
       "      <td>16.000000</td>\n",
       "      <td>107300.000000</td>\n",
       "    </tr>\n",
       "    <tr>\n",
       "      <th>75%</th>\n",
       "      <td>32.000000</td>\n",
       "      <td>27.000000</td>\n",
       "      <td>134185.000000</td>\n",
       "    </tr>\n",
       "    <tr>\n",
       "      <th>max</th>\n",
       "      <td>56.000000</td>\n",
       "      <td>60.000000</td>\n",
       "      <td>231545.000000</td>\n",
       "    </tr>\n",
       "  </tbody>\n",
       "</table>\n",
       "</div>"
      ],
      "text/plain": [
       "       yrs.since.phd  yrs.service         salary\n",
       "count     397.000000   397.000000     397.000000\n",
       "mean       22.314861    17.614610  113706.458438\n",
       "std        12.887003    13.006024   30289.038695\n",
       "min         1.000000     0.000000   57800.000000\n",
       "25%        12.000000     7.000000   91000.000000\n",
       "50%        21.000000    16.000000  107300.000000\n",
       "75%        32.000000    27.000000  134185.000000\n",
       "max        56.000000    60.000000  231545.000000"
      ]
     },
     "execution_count": 113,
     "metadata": {},
     "output_type": "execute_result"
    }
   ],
   "source": [
    "#data discribe and chack is there any null value present or not\n",
    "df.describe()"
   ]
  },
  {
   "cell_type": "markdown",
   "id": "48517408",
   "metadata": {},
   "source": [
    "# Null values are not present in this dataset. but we can say that discipline and sex column is not importent for modal."
   ]
  },
  {
   "cell_type": "code",
   "execution_count": 114,
   "id": "d470a570",
   "metadata": {},
   "outputs": [],
   "source": [
    "#droping "
   ]
  },
  {
   "cell_type": "code",
   "execution_count": 115,
   "id": "6d472610",
   "metadata": {},
   "outputs": [],
   "source": [
    "df = df.drop(columns=['sex','discipline','rank'])"
   ]
  },
  {
   "cell_type": "code",
   "execution_count": 116,
   "id": "29f0056d",
   "metadata": {},
   "outputs": [
    {
     "data": {
      "text/plain": [
       "yrs.since.phd    0\n",
       "yrs.service      0\n",
       "salary           0\n",
       "dtype: int64"
      ]
     },
     "execution_count": 116,
     "metadata": {},
     "output_type": "execute_result"
    }
   ],
   "source": [
    "df.isnull().sum()"
   ]
  },
  {
   "cell_type": "markdown",
   "id": "4e03e3ab",
   "metadata": {},
   "source": [
    "# chack null value by using heatmap"
   ]
  },
  {
   "cell_type": "code",
   "execution_count": 117,
   "id": "cd068cab",
   "metadata": {},
   "outputs": [
    {
     "data": {
      "image/png": "[encoded data removed]",
      "text/plain": [
       "<Figure size 432x288 with 2 Axes>"
      ]
     },
     "metadata": {
      "needs_background": "light"
     },
     "output_type": "display_data"
    }
   ],
   "source": [
    "sns.heatmap(df.isnull())\n",
    "plt.title('Null Value')\n",
    "plt.show()"
   ]
  },
  {
   "cell_type": "markdown",
   "id": "c99954bc",
   "metadata": {},
   "source": [
    "# Correlations"
   ]
  },
  {
   "cell_type": "code",
   "execution_count": 118,
   "id": "bacb6ba0",
   "metadata": {},
   "outputs": [
    {
     "data": {
      "image/png": "[encoded data removed]",
      "text/plain": [
       "<Figure size 576x576 with 2 Axes>"
      ]
     },
     "metadata": {},
     "output_type": "display_data"
    }
   ],
   "source": [
    "#heatmap\n",
    "plt.figure(figsize=(8,8),facecolor='white')\n",
    "sns.heatmap(df.corr(),annot=True)\n",
    "plt.title('Correlation')\n",
    "plt.show()"
   ]
  },
  {
   "cell_type": "markdown",
   "id": "25f08a3d",
   "metadata": {},
   "source": [
    "# year of service and year since phd in high co-related with each other so drop one of them"
   ]
  },
  {
   "cell_type": "code",
   "execution_count": 119,
   "id": "9db7be39",
   "metadata": {},
   "outputs": [],
   "source": [
    "df = df.drop(columns=['yrs.since.phd'])"
   ]
  },
  {
   "cell_type": "code",
   "execution_count": 120,
   "id": "7837330b",
   "metadata": {},
   "outputs": [
    {
     "data": {
      "text/html": [
       "<div>\n",
       "<style scoped>\n",
       "    .dataframe tbody tr th:only-of-type {\n",
       "        vertical-align: middle;\n",
       "    }\n",
       "\n",
       "    .dataframe tbody tr th {\n",
       "        vertical-align: top;\n",
       "    }\n",
       "\n",
       "    .dataframe thead th {\n",
       "        text-align: right;\n",
       "    }\n",
       "</style>\n",
       "<table border=\"1\" class=\"dataframe\">\n",
       "  <thead>\n",
       "    <tr style=\"text-align: right;\">\n",
       "      <th></th>\n",
       "      <th>yrs.service</th>\n",
       "      <th>salary</th>\n",
       "    </tr>\n",
       "  </thead>\n",
       "  <tbody>\n",
       "    <tr>\n",
       "      <th>count</th>\n",
       "      <td>397.000000</td>\n",
       "      <td>397.000000</td>\n",
       "    </tr>\n",
       "    <tr>\n",
       "      <th>mean</th>\n",
       "      <td>17.614610</td>\n",
       "      <td>113706.458438</td>\n",
       "    </tr>\n",
       "    <tr>\n",
       "      <th>std</th>\n",
       "      <td>13.006024</td>\n",
       "      <td>30289.038695</td>\n",
       "    </tr>\n",
       "    <tr>\n",
       "      <th>min</th>\n",
       "      <td>0.000000</td>\n",
       "      <td>57800.000000</td>\n",
       "    </tr>\n",
       "    <tr>\n",
       "      <th>25%</th>\n",
       "      <td>7.000000</td>\n",
       "      <td>91000.000000</td>\n",
       "    </tr>\n",
       "    <tr>\n",
       "      <th>50%</th>\n",
       "      <td>16.000000</td>\n",
       "      <td>107300.000000</td>\n",
       "    </tr>\n",
       "    <tr>\n",
       "      <th>75%</th>\n",
       "      <td>27.000000</td>\n",
       "      <td>134185.000000</td>\n",
       "    </tr>\n",
       "    <tr>\n",
       "      <th>max</th>\n",
       "      <td>60.000000</td>\n",
       "      <td>231545.000000</td>\n",
       "    </tr>\n",
       "  </tbody>\n",
       "</table>\n",
       "</div>"
      ],
      "text/plain": [
       "       yrs.service         salary\n",
       "count   397.000000     397.000000\n",
       "mean     17.614610  113706.458438\n",
       "std      13.006024   30289.038695\n",
       "min       0.000000   57800.000000\n",
       "25%       7.000000   91000.000000\n",
       "50%      16.000000  107300.000000\n",
       "75%      27.000000  134185.000000\n",
       "max      60.000000  231545.000000"
      ]
     },
     "execution_count": 120,
     "metadata": {},
     "output_type": "execute_result"
    }
   ],
   "source": [
    "df.describe()"
   ]
  },
  {
   "cell_type": "markdown",
   "id": "276d192b",
   "metadata": {},
   "source": [
    "# As we are seeing max = 60 which is not possible and also min = 0 which is also not possible so drop some of data "
   ]
  },
  {
   "cell_type": "code",
   "execution_count": 121,
   "id": "b48c0069",
   "metadata": {},
   "outputs": [],
   "source": [
    "df['yrs.service'] = df['yrs.service'].replace(0,df['yrs.service'].mean())"
   ]
  },
  {
   "cell_type": "code",
   "execution_count": 122,
   "id": "f2e77017",
   "metadata": {},
   "outputs": [
    {
     "data": {
      "text/plain": [
       "60.0"
      ]
     },
     "execution_count": 122,
     "metadata": {},
     "output_type": "execute_result"
    }
   ],
   "source": [
    "max_ = df['yrs.service'].max(axis=0)\n",
    "max_"
   ]
  },
  {
   "cell_type": "code",
   "execution_count": 123,
   "id": "f217aaa5",
   "metadata": {},
   "outputs": [
    {
     "name": "stdout",
     "output_type": "stream",
     "text": [
      "[array([  4,   7,  71, 125, 131, 194, 261, 266, 268, 276, 279, 282, 283,\n",
      "       285, 298, 304, 317, 330, 350, 364, 383], dtype=int64)]\n"
     ]
    },
    {
     "data": {
      "text/plain": [
       "list"
      ]
     },
     "execution_count": 123,
     "metadata": {},
     "output_type": "execute_result"
    }
   ],
   "source": [
    "range_year =np.where(df['yrs.service']>40)\n",
    "range_year =list(range_year)\n",
    "print(range_year)\n",
    "type(range_year)"
   ]
  },
  {
   "cell_type": "code",
   "execution_count": 124,
   "id": "379a7a84",
   "metadata": {},
   "outputs": [
    {
     "name": "stderr",
     "output_type": "stream",
     "text": [
      "C:\\Users\\rupen\\anaconda3\\lib\\site-packages\\pandas\\core\\indexes\\base.py:4616: FutureWarning: Using a non-tuple sequence for multidimensional indexing is deprecated; use `arr[tuple(seq)]` instead of `arr[seq]`. In the future this will be interpreted as an array index, `arr[np.array(seq)]`, which will result either in an error or a different result.\n",
      "  result = getitem(key)\n"
     ]
    }
   ],
   "source": [
    "df = df.drop(df.index[range_year])"
   ]
  },
  {
   "cell_type": "code",
   "execution_count": 125,
   "id": "f1811c18",
   "metadata": {},
   "outputs": [],
   "source": [
    "df=df.dropna()"
   ]
  },
  {
   "cell_type": "code",
   "execution_count": 126,
   "id": "3f9035ea",
   "metadata": {},
   "outputs": [
    {
     "data": {
      "text/html": [
       "<div>\n",
       "<style scoped>\n",
       "    .dataframe tbody tr th:only-of-type {\n",
       "        vertical-align: middle;\n",
       "    }\n",
       "\n",
       "    .dataframe tbody tr th {\n",
       "        vertical-align: top;\n",
       "    }\n",
       "\n",
       "    .dataframe thead th {\n",
       "        text-align: right;\n",
       "    }\n",
       "</style>\n",
       "<table border=\"1\" class=\"dataframe\">\n",
       "  <thead>\n",
       "    <tr style=\"text-align: right;\">\n",
       "      <th></th>\n",
       "      <th>yrs.service</th>\n",
       "      <th>salary</th>\n",
       "    </tr>\n",
       "  </thead>\n",
       "  <tbody>\n",
       "    <tr>\n",
       "      <th>count</th>\n",
       "      <td>376.000000</td>\n",
       "      <td>376.000000</td>\n",
       "    </tr>\n",
       "    <tr>\n",
       "      <th>mean</th>\n",
       "      <td>16.488725</td>\n",
       "      <td>113410.409574</td>\n",
       "    </tr>\n",
       "    <tr>\n",
       "      <th>std</th>\n",
       "      <td>10.891571</td>\n",
       "      <td>29420.346137</td>\n",
       "    </tr>\n",
       "    <tr>\n",
       "      <th>min</th>\n",
       "      <td>1.000000</td>\n",
       "      <td>62884.000000</td>\n",
       "    </tr>\n",
       "    <tr>\n",
       "      <th>25%</th>\n",
       "      <td>7.000000</td>\n",
       "      <td>91281.750000</td>\n",
       "    </tr>\n",
       "    <tr>\n",
       "      <th>50%</th>\n",
       "      <td>16.000000</td>\n",
       "      <td>107304.500000</td>\n",
       "    </tr>\n",
       "    <tr>\n",
       "      <th>75%</th>\n",
       "      <td>24.250000</td>\n",
       "      <td>133337.750000</td>\n",
       "    </tr>\n",
       "    <tr>\n",
       "      <th>max</th>\n",
       "      <td>40.000000</td>\n",
       "      <td>231545.000000</td>\n",
       "    </tr>\n",
       "  </tbody>\n",
       "</table>\n",
       "</div>"
      ],
      "text/plain": [
       "       yrs.service         salary\n",
       "count   376.000000     376.000000\n",
       "mean     16.488725  113410.409574\n",
       "std      10.891571   29420.346137\n",
       "min       1.000000   62884.000000\n",
       "25%       7.000000   91281.750000\n",
       "50%      16.000000  107304.500000\n",
       "75%      24.250000  133337.750000\n",
       "max      40.000000  231545.000000"
      ]
     },
     "execution_count": 126,
     "metadata": {},
     "output_type": "execute_result"
    }
   ],
   "source": [
    "df.describe()"
   ]
  },
  {
   "cell_type": "markdown",
   "id": "9fb3c923",
   "metadata": {},
   "source": [
    "# data distributions"
   ]
  },
  {
   "cell_type": "code",
   "execution_count": 127,
   "id": "df588a84",
   "metadata": {},
   "outputs": [
    {
     "name": "stderr",
     "output_type": "stream",
     "text": [
      "C:\\Users\\rupen\\anaconda3\\lib\\site-packages\\seaborn\\distributions.py:2619: FutureWarning: `distplot` is a deprecated function and will be removed in a future version. Please adapt your code to use either `displot` (a figure-level function with similar flexibility) or `histplot` (an axes-level function for histograms).\n",
      "  warnings.warn(msg, FutureWarning)\n",
      "C:\\Users\\rupen\\anaconda3\\lib\\site-packages\\seaborn\\distributions.py:2619: FutureWarning: `distplot` is a deprecated function and will be removed in a future version. Please adapt your code to use either `displot` (a figure-level function with similar flexibility) or `histplot` (an axes-level function for histograms).\n",
      "  warnings.warn(msg, FutureWarning)\n"
     ]
    },
    {
     "data": {
      "image/png": "[encoded data removed]",
      "text/plain": [
       "<Figure size 648x648 with 2 Axes>"
      ]
     },
     "metadata": {},
     "output_type": "display_data"
    }
   ],
   "source": [
    "plt.figure(figsize=(9,9),facecolor='white')\n",
    "plot = 1\n",
    "for column in df:\n",
    "    if plot<=2:\n",
    "        plt.subplot(1,2,plot)\n",
    "        sns.distplot(df[column])\n",
    "        plt.title(\"Data Distribution\")\n",
    "        plt.xlabel(column)\n",
    "    plot+=1\n",
    "plt.show()\n",
    "        "
   ]
  },
  {
   "cell_type": "markdown",
   "id": "544aac9e",
   "metadata": {},
   "source": [
    "# As we seen some skweness so need to chack skweness of data"
   ]
  },
  {
   "cell_type": "code",
   "execution_count": 128,
   "id": "b3c4f3e4",
   "metadata": {},
   "outputs": [],
   "source": [
    "# split data into feature and lebal"
   ]
  },
  {
   "cell_type": "code",
   "execution_count": 129,
   "id": "f883f2a5",
   "metadata": {},
   "outputs": [],
   "source": [
    "df.rename(columns={'yrs.service':'year'},inplace=True)"
   ]
  },
  {
   "cell_type": "code",
   "execution_count": 130,
   "id": "85356269",
   "metadata": {},
   "outputs": [],
   "source": [
    "q1 = df.quantile(0.25)\n",
    "q3 = df.quantile(0.75)\n",
    "iqr = q3-q1"
   ]
  },
  {
   "cell_type": "code",
   "execution_count": 131,
   "id": "7186c091",
   "metadata": {},
   "outputs": [
    {
     "name": "stdout",
     "output_type": "stream",
     "text": [
      "50.125\n",
      "(array([], dtype=int64),)\n"
     ]
    },
    {
     "data": {
      "text/html": [
       "<div>\n",
       "<style scoped>\n",
       "    .dataframe tbody tr th:only-of-type {\n",
       "        vertical-align: middle;\n",
       "    }\n",
       "\n",
       "    .dataframe tbody tr th {\n",
       "        vertical-align: top;\n",
       "    }\n",
       "\n",
       "    .dataframe thead th {\n",
       "        text-align: right;\n",
       "    }\n",
       "</style>\n",
       "<table border=\"1\" class=\"dataframe\">\n",
       "  <thead>\n",
       "    <tr style=\"text-align: right;\">\n",
       "      <th></th>\n",
       "      <th>index</th>\n",
       "      <th>year</th>\n",
       "      <th>salary</th>\n",
       "    </tr>\n",
       "  </thead>\n",
       "  <tbody>\n",
       "    <tr>\n",
       "      <th>0</th>\n",
       "      <td>0</td>\n",
       "      <td>18.0</td>\n",
       "      <td>139750</td>\n",
       "    </tr>\n",
       "    <tr>\n",
       "      <th>1</th>\n",
       "      <td>1</td>\n",
       "      <td>16.0</td>\n",
       "      <td>173200</td>\n",
       "    </tr>\n",
       "    <tr>\n",
       "      <th>2</th>\n",
       "      <td>2</td>\n",
       "      <td>3.0</td>\n",
       "      <td>79750</td>\n",
       "    </tr>\n",
       "    <tr>\n",
       "      <th>3</th>\n",
       "      <td>3</td>\n",
       "      <td>39.0</td>\n",
       "      <td>115000</td>\n",
       "    </tr>\n",
       "    <tr>\n",
       "      <th>4</th>\n",
       "      <td>5</td>\n",
       "      <td>6.0</td>\n",
       "      <td>97000</td>\n",
       "    </tr>\n",
       "    <tr>\n",
       "      <th>...</th>\n",
       "      <td>...</td>\n",
       "      <td>...</td>\n",
       "      <td>...</td>\n",
       "    </tr>\n",
       "    <tr>\n",
       "      <th>371</th>\n",
       "      <td>392</td>\n",
       "      <td>30.0</td>\n",
       "      <td>103106</td>\n",
       "    </tr>\n",
       "    <tr>\n",
       "      <th>372</th>\n",
       "      <td>393</td>\n",
       "      <td>19.0</td>\n",
       "      <td>150564</td>\n",
       "    </tr>\n",
       "    <tr>\n",
       "      <th>373</th>\n",
       "      <td>394</td>\n",
       "      <td>25.0</td>\n",
       "      <td>101738</td>\n",
       "    </tr>\n",
       "    <tr>\n",
       "      <th>374</th>\n",
       "      <td>395</td>\n",
       "      <td>15.0</td>\n",
       "      <td>95329</td>\n",
       "    </tr>\n",
       "    <tr>\n",
       "      <th>375</th>\n",
       "      <td>396</td>\n",
       "      <td>4.0</td>\n",
       "      <td>81035</td>\n",
       "    </tr>\n",
       "  </tbody>\n",
       "</table>\n",
       "<p>376 rows × 3 columns</p>\n",
       "</div>"
      ],
      "text/plain": [
       "     index  year  salary\n",
       "0        0  18.0  139750\n",
       "1        1  16.0  173200\n",
       "2        2   3.0   79750\n",
       "3        3  39.0  115000\n",
       "4        5   6.0   97000\n",
       "..     ...   ...     ...\n",
       "371    392  30.0  103106\n",
       "372    393  19.0  150564\n",
       "373    394  25.0  101738\n",
       "374    395  15.0   95329\n",
       "375    396   4.0   81035\n",
       "\n",
       "[376 rows x 3 columns]"
      ]
     },
     "execution_count": 131,
     "metadata": {},
     "output_type": "execute_result"
    }
   ],
   "source": [
    "high = q3.year + (iqr.year*1.50)\n",
    "print(high)\n",
    "index = np.where(df[\"year\"]>high)\n",
    "print(index)\n",
    "df = df.drop(df.index[index])\n",
    "df.reset_index()"
   ]
  },
  {
   "cell_type": "code",
   "execution_count": 132,
   "id": "9dce5dff",
   "metadata": {},
   "outputs": [
    {
     "data": {
      "text/html": [
       "<div>\n",
       "<style scoped>\n",
       "    .dataframe tbody tr th:only-of-type {\n",
       "        vertical-align: middle;\n",
       "    }\n",
       "\n",
       "    .dataframe tbody tr th {\n",
       "        vertical-align: top;\n",
       "    }\n",
       "\n",
       "    .dataframe thead th {\n",
       "        text-align: right;\n",
       "    }\n",
       "</style>\n",
       "<table border=\"1\" class=\"dataframe\">\n",
       "  <thead>\n",
       "    <tr style=\"text-align: right;\">\n",
       "      <th></th>\n",
       "      <th>year</th>\n",
       "      <th>salary</th>\n",
       "    </tr>\n",
       "  </thead>\n",
       "  <tbody>\n",
       "    <tr>\n",
       "      <th>count</th>\n",
       "      <td>376.000000</td>\n",
       "      <td>376.000000</td>\n",
       "    </tr>\n",
       "    <tr>\n",
       "      <th>mean</th>\n",
       "      <td>16.488725</td>\n",
       "      <td>113410.409574</td>\n",
       "    </tr>\n",
       "    <tr>\n",
       "      <th>std</th>\n",
       "      <td>10.891571</td>\n",
       "      <td>29420.346137</td>\n",
       "    </tr>\n",
       "    <tr>\n",
       "      <th>min</th>\n",
       "      <td>1.000000</td>\n",
       "      <td>62884.000000</td>\n",
       "    </tr>\n",
       "    <tr>\n",
       "      <th>25%</th>\n",
       "      <td>7.000000</td>\n",
       "      <td>91281.750000</td>\n",
       "    </tr>\n",
       "    <tr>\n",
       "      <th>50%</th>\n",
       "      <td>16.000000</td>\n",
       "      <td>107304.500000</td>\n",
       "    </tr>\n",
       "    <tr>\n",
       "      <th>75%</th>\n",
       "      <td>24.250000</td>\n",
       "      <td>133337.750000</td>\n",
       "    </tr>\n",
       "    <tr>\n",
       "      <th>max</th>\n",
       "      <td>40.000000</td>\n",
       "      <td>231545.000000</td>\n",
       "    </tr>\n",
       "  </tbody>\n",
       "</table>\n",
       "</div>"
      ],
      "text/plain": [
       "             year         salary\n",
       "count  376.000000     376.000000\n",
       "mean    16.488725  113410.409574\n",
       "std     10.891571   29420.346137\n",
       "min      1.000000   62884.000000\n",
       "25%      7.000000   91281.750000\n",
       "50%     16.000000  107304.500000\n",
       "75%     24.250000  133337.750000\n",
       "max     40.000000  231545.000000"
      ]
     },
     "execution_count": 132,
     "metadata": {},
     "output_type": "execute_result"
    }
   ],
   "source": [
    "df.describe()"
   ]
  },
  {
   "cell_type": "markdown",
   "id": "494f4819",
   "metadata": {},
   "source": [
    "# Chack outliers"
   ]
  },
  {
   "cell_type": "code",
   "execution_count": 134,
   "id": "80765ddc",
   "metadata": {},
   "outputs": [
    {
     "name": "stderr",
     "output_type": "stream",
     "text": [
      "C:\\Users\\rupen\\anaconda3\\lib\\site-packages\\seaborn\\_decorators.py:36: FutureWarning: Pass the following variable as a keyword arg: x. From version 0.12, the only valid positional argument will be `data`, and passing other arguments without an explicit keyword will result in an error or misinterpretation.\n",
      "  warnings.warn(\n",
      "C:\\Users\\rupen\\anaconda3\\lib\\site-packages\\seaborn\\_decorators.py:36: FutureWarning: Pass the following variable as a keyword arg: x. From version 0.12, the only valid positional argument will be `data`, and passing other arguments without an explicit keyword will result in an error or misinterpretation.\n",
      "  warnings.warn(\n"
     ]
    },
    {
     "data": {
      "image/png": "[encoded data removed]",
      "text/plain": [
       "<Figure size 720x720 with 2 Axes>"
      ]
     },
     "metadata": {},
     "output_type": "display_data"
    }
   ],
   "source": [
    "plt.figure(figsize=(10,10),facecolor='white')\n",
    "plot = 1\n",
    "for column in df:\n",
    "    if plot<=9:\n",
    "        plt.subplot(3,3,plot)\n",
    "        sns.boxplot(df[column])\n",
    "        plt.xlabel(column)\n",
    "        plt.title(\"Box Plot\")\n",
    "    plot+=1\n",
    "plt.tight_layout()"
   ]
  },
  {
   "cell_type": "markdown",
   "id": "870b1a31",
   "metadata": {},
   "source": [
    "# Some outlier is present in salary column so need to drop of them"
   ]
  },
  {
   "cell_type": "code",
   "execution_count": 137,
   "id": "38962193",
   "metadata": {},
   "outputs": [
    {
     "name": "stdout",
     "output_type": "stream",
     "text": [
      "196421.75\n",
      "(array([ 41, 243], dtype=int64),)\n"
     ]
    },
    {
     "data": {
      "text/html": [
       "<div>\n",
       "<style scoped>\n",
       "    .dataframe tbody tr th:only-of-type {\n",
       "        vertical-align: middle;\n",
       "    }\n",
       "\n",
       "    .dataframe tbody tr th {\n",
       "        vertical-align: top;\n",
       "    }\n",
       "\n",
       "    .dataframe thead th {\n",
       "        text-align: right;\n",
       "    }\n",
       "</style>\n",
       "<table border=\"1\" class=\"dataframe\">\n",
       "  <thead>\n",
       "    <tr style=\"text-align: right;\">\n",
       "      <th></th>\n",
       "      <th>index</th>\n",
       "      <th>year</th>\n",
       "      <th>salary</th>\n",
       "    </tr>\n",
       "  </thead>\n",
       "  <tbody>\n",
       "    <tr>\n",
       "      <th>0</th>\n",
       "      <td>0</td>\n",
       "      <td>18.0</td>\n",
       "      <td>139750</td>\n",
       "    </tr>\n",
       "    <tr>\n",
       "      <th>1</th>\n",
       "      <td>1</td>\n",
       "      <td>16.0</td>\n",
       "      <td>173200</td>\n",
       "    </tr>\n",
       "    <tr>\n",
       "      <th>2</th>\n",
       "      <td>2</td>\n",
       "      <td>3.0</td>\n",
       "      <td>79750</td>\n",
       "    </tr>\n",
       "    <tr>\n",
       "      <th>3</th>\n",
       "      <td>3</td>\n",
       "      <td>39.0</td>\n",
       "      <td>115000</td>\n",
       "    </tr>\n",
       "    <tr>\n",
       "      <th>4</th>\n",
       "      <td>5</td>\n",
       "      <td>6.0</td>\n",
       "      <td>97000</td>\n",
       "    </tr>\n",
       "    <tr>\n",
       "      <th>...</th>\n",
       "      <td>...</td>\n",
       "      <td>...</td>\n",
       "      <td>...</td>\n",
       "    </tr>\n",
       "    <tr>\n",
       "      <th>369</th>\n",
       "      <td>392</td>\n",
       "      <td>30.0</td>\n",
       "      <td>103106</td>\n",
       "    </tr>\n",
       "    <tr>\n",
       "      <th>370</th>\n",
       "      <td>393</td>\n",
       "      <td>19.0</td>\n",
       "      <td>150564</td>\n",
       "    </tr>\n",
       "    <tr>\n",
       "      <th>371</th>\n",
       "      <td>394</td>\n",
       "      <td>25.0</td>\n",
       "      <td>101738</td>\n",
       "    </tr>\n",
       "    <tr>\n",
       "      <th>372</th>\n",
       "      <td>395</td>\n",
       "      <td>15.0</td>\n",
       "      <td>95329</td>\n",
       "    </tr>\n",
       "    <tr>\n",
       "      <th>373</th>\n",
       "      <td>396</td>\n",
       "      <td>4.0</td>\n",
       "      <td>81035</td>\n",
       "    </tr>\n",
       "  </tbody>\n",
       "</table>\n",
       "<p>374 rows × 3 columns</p>\n",
       "</div>"
      ],
      "text/plain": [
       "     index  year  salary\n",
       "0        0  18.0  139750\n",
       "1        1  16.0  173200\n",
       "2        2   3.0   79750\n",
       "3        3  39.0  115000\n",
       "4        5   6.0   97000\n",
       "..     ...   ...     ...\n",
       "369    392  30.0  103106\n",
       "370    393  19.0  150564\n",
       "371    394  25.0  101738\n",
       "372    395  15.0   95329\n",
       "373    396   4.0   81035\n",
       "\n",
       "[374 rows x 3 columns]"
      ]
     },
     "execution_count": 137,
     "metadata": {},
     "output_type": "execute_result"
    }
   ],
   "source": [
    "high = q3.salary + (iqr.salary*1.50)\n",
    "print(high)\n",
    "index = np.where(df['salary']>high)\n",
    "print(index)\n",
    "df = df.drop(df.index[index])\n",
    "df.reset_index()"
   ]
  },
  {
   "cell_type": "code",
   "execution_count": 138,
   "id": "d15e1e1e",
   "metadata": {},
   "outputs": [
    {
     "data": {
      "text/html": [
       "<div>\n",
       "<style scoped>\n",
       "    .dataframe tbody tr th:only-of-type {\n",
       "        vertical-align: middle;\n",
       "    }\n",
       "\n",
       "    .dataframe tbody tr th {\n",
       "        vertical-align: top;\n",
       "    }\n",
       "\n",
       "    .dataframe thead th {\n",
       "        text-align: right;\n",
       "    }\n",
       "</style>\n",
       "<table border=\"1\" class=\"dataframe\">\n",
       "  <thead>\n",
       "    <tr style=\"text-align: right;\">\n",
       "      <th></th>\n",
       "      <th>year</th>\n",
       "      <th>salary</th>\n",
       "    </tr>\n",
       "  </thead>\n",
       "  <tbody>\n",
       "    <tr>\n",
       "      <th>count</th>\n",
       "      <td>374.000000</td>\n",
       "      <td>374.000000</td>\n",
       "    </tr>\n",
       "    <tr>\n",
       "      <th>mean</th>\n",
       "      <td>16.456579</td>\n",
       "      <td>112852.323529</td>\n",
       "    </tr>\n",
       "    <tr>\n",
       "      <th>std</th>\n",
       "      <td>10.852621</td>\n",
       "      <td>28468.742379</td>\n",
       "    </tr>\n",
       "    <tr>\n",
       "      <th>min</th>\n",
       "      <td>1.000000</td>\n",
       "      <td>62884.000000</td>\n",
       "    </tr>\n",
       "    <tr>\n",
       "      <th>25%</th>\n",
       "      <td>7.000000</td>\n",
       "      <td>91245.250000</td>\n",
       "    </tr>\n",
       "    <tr>\n",
       "      <th>50%</th>\n",
       "      <td>16.000000</td>\n",
       "      <td>107225.000000</td>\n",
       "    </tr>\n",
       "    <tr>\n",
       "      <th>75%</th>\n",
       "      <td>24.000000</td>\n",
       "      <td>132684.000000</td>\n",
       "    </tr>\n",
       "    <tr>\n",
       "      <th>max</th>\n",
       "      <td>40.000000</td>\n",
       "      <td>194800.000000</td>\n",
       "    </tr>\n",
       "  </tbody>\n",
       "</table>\n",
       "</div>"
      ],
      "text/plain": [
       "             year         salary\n",
       "count  374.000000     374.000000\n",
       "mean    16.456579  112852.323529\n",
       "std     10.852621   28468.742379\n",
       "min      1.000000   62884.000000\n",
       "25%      7.000000   91245.250000\n",
       "50%     16.000000  107225.000000\n",
       "75%     24.000000  132684.000000\n",
       "max     40.000000  194800.000000"
      ]
     },
     "execution_count": 138,
     "metadata": {},
     "output_type": "execute_result"
    }
   ],
   "source": [
    "df.describe()"
   ]
  },
  {
   "cell_type": "markdown",
   "id": "625ee94c",
   "metadata": {},
   "source": [
    "# Train_test_split_data"
   ]
  },
  {
   "cell_type": "code",
   "execution_count": 207,
   "id": "3799957c",
   "metadata": {},
   "outputs": [],
   "source": [
    "x = df.drop(columns=['salary'])\n",
    "y = df['salary']"
   ]
  },
  {
   "cell_type": "code",
   "execution_count": 208,
   "id": "2b72f389",
   "metadata": {},
   "outputs": [],
   "source": [
    "from sklearn.preprocessing import StandardScaler\n",
    "ss = StandardScaler()"
   ]
  },
  {
   "cell_type": "code",
   "execution_count": 209,
   "id": "eedd7320",
   "metadata": {},
   "outputs": [],
   "source": [
    "x_new = ss.fit_transform(x)"
   ]
  },
  {
   "cell_type": "code",
   "execution_count": 210,
   "id": "e976646a",
   "metadata": {},
   "outputs": [
    {
     "data": {
      "text/plain": [
       "array([[ 0.1424069 ],\n",
       "       [-0.04212725],\n",
       "       [-1.24159919],\n",
       "       [ 2.08001543],\n",
       "       [-0.96479798],\n",
       "       [ 0.60374226],\n",
       "       [ 0.32694104],\n",
       "       [ 0.1424069 ],\n",
       "       [-0.78026383],\n",
       "       [-1.33386627],\n",
       "       [-1.42613334],\n",
       "       [ 0.10684805],\n",
       "       [ 0.1424069 ],\n",
       "       [-1.24159919],\n",
       "       [ 0.32694104],\n",
       "       [ 1.61868007],\n",
       "       [ 0.60374226],\n",
       "       [ 1.80321421],\n",
       "       [ 0.88054348],\n",
       "       [ 1.34187885],\n",
       "       [ 1.24961177],\n",
       "       [ 0.23467397],\n",
       "       [-0.78026383],\n",
       "       [-0.78026383],\n",
       "       [ 0.60374226],\n",
       "       [-1.24159919],\n",
       "       [ 0.10684805],\n",
       "       [-0.78026383],\n",
       "       [-1.14933212],\n",
       "       [-1.33386627],\n",
       "       [-0.68799676],\n",
       "       [-1.33386627],\n",
       "       [-1.33386627],\n",
       "       [ 0.10684805],\n",
       "       [ 0.41920812],\n",
       "       [-1.14933212],\n",
       "       [ 1.34187885],\n",
       "       [-0.68799676],\n",
       "       [-1.33386627],\n",
       "       [ 0.60374226],\n",
       "       [ 0.97281055],\n",
       "       [ 0.23467397],\n",
       "       [-0.13439432],\n",
       "       [ 1.06507763],\n",
       "       [ 0.23467397],\n",
       "       [ 0.78827641],\n",
       "       [-1.42613334],\n",
       "       [ 1.06507763],\n",
       "       [-0.50346261],\n",
       "       [-1.24159919],\n",
       "       [-0.68799676],\n",
       "       [-0.50346261],\n",
       "       [-1.05706505],\n",
       "       [ 0.41920812],\n",
       "       [-0.78026383],\n",
       "       [-0.68799676],\n",
       "       [-1.24159919],\n",
       "       [-0.78026383],\n",
       "       [-1.33386627],\n",
       "       [ 1.34187885],\n",
       "       [-0.50346261],\n",
       "       [-1.24159919],\n",
       "       [-0.78026383],\n",
       "       [-0.41119554],\n",
       "       [ 1.34187885],\n",
       "       [ 0.05013983],\n",
       "       [ 1.80321421],\n",
       "       [-1.33386627],\n",
       "       [ 0.23467397],\n",
       "       [ 1.61868007],\n",
       "       [ 0.60374226],\n",
       "       [-1.24159919],\n",
       "       [-1.24159919],\n",
       "       [ 0.23467397],\n",
       "       [-1.42613334],\n",
       "       [-1.33386627],\n",
       "       [ 1.06507763],\n",
       "       [-0.04212725],\n",
       "       [ 0.32694104],\n",
       "       [-1.33386627],\n",
       "       [ 0.1424069 ],\n",
       "       [-0.22666139],\n",
       "       [ 1.89548128],\n",
       "       [-1.33386627],\n",
       "       [ 0.78827641],\n",
       "       [-0.8725309 ],\n",
       "       [-1.05706505],\n",
       "       [-0.8725309 ],\n",
       "       [-0.8725309 ],\n",
       "       [ 1.98774836],\n",
       "       [ 0.32694104],\n",
       "       [ 0.10684805],\n",
       "       [-0.41119554],\n",
       "       [-0.8725309 ],\n",
       "       [-0.22666139],\n",
       "       [ 0.88054348],\n",
       "       [ 0.78827641],\n",
       "       [ 0.60374226],\n",
       "       [-1.05706505],\n",
       "       [-0.22666139],\n",
       "       [-0.59572968],\n",
       "       [ 1.06507763],\n",
       "       [-0.78026383],\n",
       "       [-0.78026383],\n",
       "       [-0.78026383],\n",
       "       [ 1.34187885],\n",
       "       [-0.04212725],\n",
       "       [-0.04212725],\n",
       "       [-1.42613334],\n",
       "       [ 1.89548128],\n",
       "       [ 0.10684805],\n",
       "       [-0.68799676],\n",
       "       [ 1.1573447 ],\n",
       "       [ 1.80321421],\n",
       "       [-1.42613334],\n",
       "       [-1.24159919],\n",
       "       [-0.22666139],\n",
       "       [ 1.43414592],\n",
       "       [ 0.51147519],\n",
       "       [ 0.51147519],\n",
       "       [ 0.51147519],\n",
       "       [ 0.88054348],\n",
       "       [ 0.10684805],\n",
       "       [ 1.24961177],\n",
       "       [-1.33386627],\n",
       "       [-0.68799676],\n",
       "       [-0.78026383],\n",
       "       [-1.42613334],\n",
       "       [ 0.78827641],\n",
       "       [ 0.1424069 ],\n",
       "       [-0.22666139],\n",
       "       [-0.22666139],\n",
       "       [-0.8725309 ],\n",
       "       [ 0.1424069 ],\n",
       "       [-0.78026383],\n",
       "       [-0.59572968],\n",
       "       [-0.50346261],\n",
       "       [-1.24159919],\n",
       "       [ 0.97281055],\n",
       "       [ 1.06507763],\n",
       "       [-1.14933212],\n",
       "       [ 0.97281055],\n",
       "       [ 0.88054348],\n",
       "       [-1.24159919],\n",
       "       [-0.41119554],\n",
       "       [-1.14933212],\n",
       "       [-0.68799676],\n",
       "       [-0.59572968],\n",
       "       [ 0.10684805],\n",
       "       [ 0.41920812],\n",
       "       [ 0.1424069 ],\n",
       "       [ 0.10684805],\n",
       "       [-0.96479798],\n",
       "       [-0.04212725],\n",
       "       [-1.33386627],\n",
       "       [ 0.23467397],\n",
       "       [-0.8725309 ],\n",
       "       [-1.24159919],\n",
       "       [ 0.10684805],\n",
       "       [-0.78026383],\n",
       "       [-0.04212725],\n",
       "       [ 0.23467397],\n",
       "       [-0.96479798],\n",
       "       [ 0.1424069 ],\n",
       "       [-1.05706505],\n",
       "       [ 0.23467397],\n",
       "       [ 0.69600934],\n",
       "       [ 0.32694104],\n",
       "       [-0.96479798],\n",
       "       [ 0.78827641],\n",
       "       [-0.8725309 ],\n",
       "       [-0.68799676],\n",
       "       [-0.22666139],\n",
       "       [-1.24159919],\n",
       "       [-0.50346261],\n",
       "       [-1.05706505],\n",
       "       [-0.78026383],\n",
       "       [ 0.51147519],\n",
       "       [ 0.60374226],\n",
       "       [ 1.24961177],\n",
       "       [-0.59572968],\n",
       "       [-0.59572968],\n",
       "       [ 1.06507763],\n",
       "       [ 0.23467397],\n",
       "       [-0.68799676],\n",
       "       [ 0.51147519],\n",
       "       [ 0.1424069 ],\n",
       "       [ 0.23467397],\n",
       "       [-0.8725309 ],\n",
       "       [-1.14933212],\n",
       "       [-1.14933212],\n",
       "       [ 1.52641299],\n",
       "       [ 0.51147519],\n",
       "       [-1.14933212],\n",
       "       [ 2.1722825 ],\n",
       "       [ 0.05013983],\n",
       "       [ 0.05013983],\n",
       "       [-1.05706505],\n",
       "       [-1.33386627],\n",
       "       [ 1.52641299],\n",
       "       [ 0.1424069 ],\n",
       "       [-1.33386627],\n",
       "       [ 0.32694104],\n",
       "       [-1.24159919],\n",
       "       [ 2.08001543],\n",
       "       [-0.8725309 ],\n",
       "       [ 0.23467397],\n",
       "       [-1.42613334],\n",
       "       [-0.50346261],\n",
       "       [-0.50346261],\n",
       "       [ 0.51147519],\n",
       "       [-0.8725309 ],\n",
       "       [-0.50346261],\n",
       "       [ 0.41920812],\n",
       "       [-0.59572968],\n",
       "       [-0.96479798],\n",
       "       [ 0.32694104],\n",
       "       [ 1.71094714],\n",
       "       [ 0.32694104],\n",
       "       [-1.42613334],\n",
       "       [-0.8725309 ],\n",
       "       [-0.50346261],\n",
       "       [ 1.98774836],\n",
       "       [ 0.97281055],\n",
       "       [ 0.69600934],\n",
       "       [ 0.23467397],\n",
       "       [ 0.23467397],\n",
       "       [-1.24159919],\n",
       "       [ 0.05013983],\n",
       "       [ 0.78827641],\n",
       "       [-0.96479798],\n",
       "       [ 2.1722825 ],\n",
       "       [-0.96479798],\n",
       "       [-1.24159919],\n",
       "       [ 1.24961177],\n",
       "       [ 1.89548128],\n",
       "       [ 0.60374226],\n",
       "       [ 0.60374226],\n",
       "       [-0.50346261],\n",
       "       [ 0.60374226],\n",
       "       [ 0.1424069 ],\n",
       "       [ 0.60374226],\n",
       "       [ 2.08001543],\n",
       "       [-0.78026383],\n",
       "       [-0.41119554],\n",
       "       [-1.33386627],\n",
       "       [-0.8725309 ],\n",
       "       [-0.78026383],\n",
       "       [ 0.51147519],\n",
       "       [ 0.60374226],\n",
       "       [-1.24159919],\n",
       "       [ 1.24961177],\n",
       "       [ 1.52641299],\n",
       "       [ 0.88054348],\n",
       "       [ 1.34187885],\n",
       "       [ 1.71094714],\n",
       "       [ 1.24961177],\n",
       "       [-0.59572968],\n",
       "       [-0.8725309 ],\n",
       "       [ 2.1722825 ],\n",
       "       [ 0.1424069 ],\n",
       "       [-1.42613334],\n",
       "       [-1.14933212],\n",
       "       [-1.24159919],\n",
       "       [-0.96479798],\n",
       "       [ 0.97281055],\n",
       "       [ 0.1424069 ],\n",
       "       [ 1.98774836],\n",
       "       [ 0.97281055],\n",
       "       [-0.96479798],\n",
       "       [ 0.97281055],\n",
       "       [ 0.10684805],\n",
       "       [ 0.97281055],\n",
       "       [-1.05706505],\n",
       "       [-0.8725309 ],\n",
       "       [ 1.06507763],\n",
       "       [-0.68799676],\n",
       "       [-1.42613334],\n",
       "       [-0.8725309 ],\n",
       "       [ 1.80321421],\n",
       "       [ 0.1424069 ],\n",
       "       [-0.50346261],\n",
       "       [ 2.08001543],\n",
       "       [ 1.80321421],\n",
       "       [-0.04212725],\n",
       "       [-0.31892847],\n",
       "       [-1.14933212],\n",
       "       [ 1.34187885],\n",
       "       [-1.14933212],\n",
       "       [ 1.06507763],\n",
       "       [ 0.10684805],\n",
       "       [-0.13439432],\n",
       "       [-0.8725309 ],\n",
       "       [-0.68799676],\n",
       "       [ 0.23467397],\n",
       "       [ 1.71094714],\n",
       "       [-0.96479798],\n",
       "       [-1.24159919],\n",
       "       [-0.68799676],\n",
       "       [-0.04212725],\n",
       "       [-0.13439432],\n",
       "       [ 0.60374226],\n",
       "       [-0.68799676],\n",
       "       [-0.50346261],\n",
       "       [-0.13439432],\n",
       "       [ 1.34187885],\n",
       "       [-1.14933212],\n",
       "       [-0.13439432],\n",
       "       [ 1.89548128],\n",
       "       [-0.59572968],\n",
       "       [ 0.60374226],\n",
       "       [-0.68799676],\n",
       "       [-0.59572968],\n",
       "       [ 0.23467397],\n",
       "       [-0.96479798],\n",
       "       [ 1.98774836],\n",
       "       [ 0.60374226],\n",
       "       [-0.41119554],\n",
       "       [ 0.78827641],\n",
       "       [-0.13439432],\n",
       "       [-0.50346261],\n",
       "       [ 0.05013983],\n",
       "       [ 1.98774836],\n",
       "       [ 1.34187885],\n",
       "       [ 1.71094714],\n",
       "       [-0.59572968],\n",
       "       [ 0.97281055],\n",
       "       [ 1.52641299],\n",
       "       [-1.24159919],\n",
       "       [ 1.06507763],\n",
       "       [ 1.98774836],\n",
       "       [ 0.97281055],\n",
       "       [ 0.32694104],\n",
       "       [-1.42613334],\n",
       "       [ 0.41920812],\n",
       "       [ 2.1722825 ],\n",
       "       [ 1.71094714],\n",
       "       [-0.22666139],\n",
       "       [-1.14933212],\n",
       "       [-0.50346261],\n",
       "       [-0.13439432],\n",
       "       [ 1.24961177],\n",
       "       [ 0.05013983],\n",
       "       [ 2.1722825 ],\n",
       "       [-0.59572968],\n",
       "       [-1.42613334],\n",
       "       [ 1.24961177],\n",
       "       [ 1.34187885],\n",
       "       [-0.78026383],\n",
       "       [ 0.32694104],\n",
       "       [-0.8725309 ],\n",
       "       [ 0.88054348],\n",
       "       [ 0.23467397],\n",
       "       [ 0.88054348],\n",
       "       [-1.42613334],\n",
       "       [-1.24159919],\n",
       "       [ 1.98774836],\n",
       "       [-0.78026383],\n",
       "       [-1.24159919],\n",
       "       [ 0.60374226],\n",
       "       [-1.05706505],\n",
       "       [ 0.41920812],\n",
       "       [-0.68799676],\n",
       "       [ 0.97281055],\n",
       "       [-0.13439432],\n",
       "       [ 1.80321421],\n",
       "       [ 0.1424069 ],\n",
       "       [ 0.23467397],\n",
       "       [ 0.23467397],\n",
       "       [ 1.24961177],\n",
       "       [ 0.23467397],\n",
       "       [ 0.78827641],\n",
       "       [-0.13439432],\n",
       "       [-1.14933212]])"
      ]
     },
     "execution_count": 210,
     "metadata": {},
     "output_type": "execute_result"
    }
   ],
   "source": [
    "x_new"
   ]
  },
  {
   "cell_type": "code",
   "execution_count": 211,
   "id": "cc69ecc4",
   "metadata": {},
   "outputs": [],
   "source": [
    "x_train,x_test,y_train,y_test = train_test_split(x_new,y,random_state=20,test_size=0.25)"
   ]
  },
  {
   "cell_type": "code",
   "execution_count": 212,
   "id": "140b606f",
   "metadata": {},
   "outputs": [
    {
     "data": {
      "text/plain": [
       "(280, 1)"
      ]
     },
     "execution_count": 212,
     "metadata": {},
     "output_type": "execute_result"
    }
   ],
   "source": [
    "x_train.shape"
   ]
  },
  {
   "cell_type": "code",
   "execution_count": 213,
   "id": "1e11671c",
   "metadata": {},
   "outputs": [
    {
     "data": {
      "text/plain": [
       "(280,)"
      ]
     },
     "execution_count": 213,
     "metadata": {},
     "output_type": "execute_result"
    }
   ],
   "source": [
    "y_train.shape"
   ]
  },
  {
   "cell_type": "code",
   "execution_count": 214,
   "id": "fce00b35",
   "metadata": {},
   "outputs": [
    {
     "data": {
      "text/plain": [
       "(94, 1)"
      ]
     },
     "execution_count": 214,
     "metadata": {},
     "output_type": "execute_result"
    }
   ],
   "source": [
    "x_test.shape"
   ]
  },
  {
   "cell_type": "code",
   "execution_count": 199,
   "id": "bbc57bab",
   "metadata": {},
   "outputs": [
    {
     "data": {
      "text/plain": [
       "(94,)"
      ]
     },
     "execution_count": 199,
     "metadata": {},
     "output_type": "execute_result"
    }
   ],
   "source": [
    "y_test.shape"
   ]
  },
  {
   "cell_type": "markdown",
   "id": "d7e4be65",
   "metadata": {},
   "source": [
    "# Make a modal"
   ]
  },
  {
   "cell_type": "code",
   "execution_count": 221,
   "id": "d8516d08",
   "metadata": {},
   "outputs": [],
   "source": [
    "from sklearn.linear_model import LinearRegression"
   ]
  },
  {
   "cell_type": "code",
   "execution_count": 222,
   "id": "ff3c337a",
   "metadata": {},
   "outputs": [],
   "source": [
    "lr = LinearRegression()"
   ]
  },
  {
   "cell_type": "code",
   "execution_count": 223,
   "id": "6eba95a4",
   "metadata": {},
   "outputs": [
    {
     "data": {
      "text/plain": [
       "LinearRegression()"
      ]
     },
     "execution_count": 223,
     "metadata": {},
     "output_type": "execute_result"
    }
   ],
   "source": [
    "lr.fit(x_train,y_train)"
   ]
  },
  {
   "cell_type": "code",
   "execution_count": 225,
   "id": "6b6c6e0a",
   "metadata": {},
   "outputs": [],
   "source": [
    "y_pre = lr.predict(x_test)"
   ]
  },
  {
   "cell_type": "code",
   "execution_count": 227,
   "id": "dfe78cda",
   "metadata": {},
   "outputs": [
    {
     "name": "stdout",
     "output_type": "stream",
     "text": [
      "0.10926173955829999\n"
     ]
    }
   ],
   "source": [
    "print(r2_score(y_test,y_pre))"
   ]
  },
  {
   "cell_type": "code",
   "execution_count": 228,
   "id": "dadce630",
   "metadata": {},
   "outputs": [
    {
     "data": {
      "text/html": [
       "<div>\n",
       "<style scoped>\n",
       "    .dataframe tbody tr th:only-of-type {\n",
       "        vertical-align: middle;\n",
       "    }\n",
       "\n",
       "    .dataframe tbody tr th {\n",
       "        vertical-align: top;\n",
       "    }\n",
       "\n",
       "    .dataframe thead th {\n",
       "        text-align: right;\n",
       "    }\n",
       "</style>\n",
       "<table border=\"1\" class=\"dataframe\">\n",
       "  <thead>\n",
       "    <tr style=\"text-align: right;\">\n",
       "      <th></th>\n",
       "      <th>Actual</th>\n",
       "      <th>Predict</th>\n",
       "    </tr>\n",
       "  </thead>\n",
       "  <tbody>\n",
       "    <tr>\n",
       "      <th>187</th>\n",
       "      <td>107500</td>\n",
       "      <td>106114.760285</td>\n",
       "    </tr>\n",
       "    <tr>\n",
       "      <th>94</th>\n",
       "      <td>123683</td>\n",
       "      <td>115884.615986</td>\n",
       "    </tr>\n",
       "    <tr>\n",
       "      <th>305</th>\n",
       "      <td>111350</td>\n",
       "      <td>126631.457258</td>\n",
       "    </tr>\n",
       "    <tr>\n",
       "      <th>121</th>\n",
       "      <td>124309</td>\n",
       "      <td>127608.442828</td>\n",
       "    </tr>\n",
       "    <tr>\n",
       "      <th>114</th>\n",
       "      <td>105000</td>\n",
       "      <td>113554.123959</td>\n",
       "    </tr>\n",
       "    <tr>\n",
       "      <th>251</th>\n",
       "      <td>102000</td>\n",
       "      <td>104160.789144</td>\n",
       "    </tr>\n",
       "    <tr>\n",
       "      <th>178</th>\n",
       "      <td>147349</td>\n",
       "      <td>110022.702565</td>\n",
       "    </tr>\n",
       "    <tr>\n",
       "      <th>59</th>\n",
       "      <td>75044</td>\n",
       "      <td>99275.861294</td>\n",
       "    </tr>\n",
       "    <tr>\n",
       "      <th>93</th>\n",
       "      <td>166024</td>\n",
       "      <td>133470.356249</td>\n",
       "    </tr>\n",
       "    <tr>\n",
       "      <th>119</th>\n",
       "      <td>73500</td>\n",
       "      <td>99275.861294</td>\n",
       "    </tr>\n",
       "  </tbody>\n",
       "</table>\n",
       "</div>"
      ],
      "text/plain": [
       "     Actual        Predict\n",
       "187  107500  106114.760285\n",
       "94   123683  115884.615986\n",
       "305  111350  126631.457258\n",
       "121  124309  127608.442828\n",
       "114  105000  113554.123959\n",
       "251  102000  104160.789144\n",
       "178  147349  110022.702565\n",
       "59    75044   99275.861294\n",
       "93   166024  133470.356249\n",
       "119   73500   99275.861294"
      ]
     },
     "execution_count": 228,
     "metadata": {},
     "output_type": "execute_result"
    }
   ],
   "source": [
    "data = pd.DataFrame({\"Actual\":y_test,\"Predict\":y_pre})\n",
    "data.head(10)"
   ]
  }
 ],
 "metadata": {
  "kernelspec": {
   "display_name": "Python 3 (ipykernel)",
   "language": "python",
   "name": "python3"
  },
  "language_info": {
   "codemirror_mode": {
    "name": "ipython",
    "version": 3
   },
   "file_extension": ".py",
   "mimetype": "text/x-python",
   "name": "python",
   "nbconvert_exporter": "python",
   "pygments_lexer": "ipython3",
   "version": "3.9.7"
  }
 },
 "nbformat": 4,
 "nbformat_minor": 5
}
